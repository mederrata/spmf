{
 "cells": [
  {
   "cell_type": "code",
   "execution_count": 1,
   "metadata": {},
   "outputs": [
    {
     "name": "stdout",
     "output_type": "stream",
     "text": [
      "Populating the interactive namespace from numpy and matplotlib\n"
     ]
    }
   ],
   "source": [
    "%pylab inline\n",
    "import sys\n",
    "\n",
    "import numpy as np\n",
    "import tensorflow as tf\n",
    "import tensorflow_probability as tfp\n",
    "\n",
    "\n",
    "import matplotlib.pyplot as plt\n",
    "\n",
    "sys.path.append('../')\n",
    "from mederrata_spmf import SparsePoissonLinearFactorization\n"
   ]
  },
  {
   "cell_type": "markdown",
   "metadata": {},
   "source": [
    "# Generate a count matrix of random noise\n",
    "\n",
    "We want our factor model to tell us that this is just noise"
   ]
  },
  {
   "cell_type": "code",
   "execution_count": 2,
   "metadata": {},
   "outputs": [],
   "source": [
    "N = 50000\n",
    "# Test taking in from tf.dataset, don't pre-batch\n",
    "data = tf.data.Dataset.from_tensor_slices(\n",
    "    {\n",
    "        'data': np.random.poisson(3.0, size=(N, 20)),\n",
    "        'indices': np.arange(N),\n",
    "        'normalization': np.ones(N)\n",
    "    })\n",
    "\n",
    "data = data.batch(1000)\n"
   ]
  },
  {
   "cell_type": "markdown",
   "metadata": {},
   "source": [
    "Currently, the input data has to be in this format, as a tensorflow BatchDataset object with the given key/values."
   ]
  },
  {
   "cell_type": "markdown",
   "metadata": {},
   "source": [
    "# Set up the inference object"
   ]
  },
  {
   "cell_type": "code",
   "execution_count": 3,
   "metadata": {},
   "outputs": [
    {
     "name": "stdout",
     "output_type": "stream",
     "text": [
      "Feature dim: 20 -> Latent dim 5\n"
     ]
    }
   ],
   "source": [
    "# strategy = tf.distribute.MirroredStrategy()\n",
    "strategy = None\n",
    "factor = SparsePoissonLinearFactorization(\n",
    "    data, latent_dim=5, auxiliary_horseshoe=True, strategy=strategy,\n",
    "    dtype=tf.float64)\n",
    "# Test to make sure sampling works\n"
   ]
  },
  {
   "cell_type": "markdown",
   "metadata": {},
   "source": [
    "## Test out the prior distributions"
   ]
  },
  {
   "cell_type": "code",
   "execution_count": 4,
   "metadata": {},
   "outputs": [],
   "source": [
    "## \n",
    "sample = factor.joint_prior.sample()\n",
    "# Compute the joint log probability of the sample\n",
    "probs = factor.joint_prior.log_prob(sample)\n",
    "sample_surrogate = factor.surrogate_distribution.sample(77)\n",
    "probs_parts = factor.unormalized_log_prob_parts(\n",
    "    **sample_surrogate, data=next(iter(data)))\n",
    "prob = factor.unormalized_log_prob(\n",
    "    **sample_surrogate,  data=next(iter(data)))\n",
    "\n"
   ]
  },
  {
   "cell_type": "markdown",
   "metadata": {},
   "source": [
    "# Inference"
   ]
  },
  {
   "cell_type": "code",
   "execution_count": 5,
   "metadata": {},
   "outputs": [
    {
     "name": "stderr",
     "output_type": "stream",
     "text": [
      "WARNING: Logging before flag parsing goes to stderr.\n",
      "W0515 10:40:43.810310 4542135744 deprecation.py:506] From /usr/local/lib/python3.7/site-packages/tensorflow_core/python/ops/resource_variable_ops.py:1786: calling BaseResourceVariable.__init__ (from tensorflow.python.ops.resource_variable_ops) with constraint is deprecated and will be removed in a future version.\n",
      "Instructions for updating:\n",
      "If using Keras pass *_constraint arguments to layers.\n"
     ]
    },
    {
     "name": "stdout",
     "output_type": "stream",
     "text": [
      "Initial loss: 111.96435768663092\n",
      "Epoch 1: average-batch loss: 43.120191026105246 last batch loss: 36.58952006428015\n",
      "Saved a checkpoint: ./.tf_ckpts/chkpt-1\n",
      "Epoch 2: average-batch loss: 35.93311702173478 last batch loss: 35.402746237288056\n",
      "Saved a checkpoint: ./.tf_ckpts/chkpt-2\n",
      "Epoch 3: average-batch loss: 35.09302647148133 last batch loss: 34.7978280072611\n",
      "Saved a checkpoint: ./.tf_ckpts/chkpt-3\n",
      "Epoch 4: average-batch loss: 34.71109778273464 last batch loss: 34.518217574941914\n",
      "Saved a checkpoint: ./.tf_ckpts/chkpt-4\n",
      "Epoch 5: average-batch loss: 34.43827305653817 last batch loss: 34.275562127851344\n",
      "Saved a checkpoint: ./.tf_ckpts/chkpt-5\n",
      "Epoch 6: average-batch loss: 34.18393317984185 last batch loss: 34.080722386211114\n",
      "Saved a checkpoint: ./.tf_ckpts/chkpt-6\n",
      "Epoch 7: average-batch loss: 34.03348935558909 last batch loss: 34.00763003114165\n",
      "Saved a checkpoint: ./.tf_ckpts/chkpt-7\n",
      "Epoch 8: average-batch loss: 33.94323343937578 last batch loss: 33.89395443719289\n",
      "Saved a checkpoint: ./.tf_ckpts/chkpt-8\n",
      "Epoch 9: average-batch loss: 33.882556922773574 last batch loss: 33.82617260790908\n",
      "Saved a checkpoint: ./.tf_ckpts/chkpt-9\n",
      "Epoch 10: average-batch loss: 33.84414071228512 last batch loss: 33.80860869216627\n",
      "Saved a checkpoint: ./.tf_ckpts/chkpt-10\n",
      "Epoch 11: average-batch loss: 33.807876986230966 last batch loss: 33.748077070958765\n",
      "Saved a checkpoint: ./.tf_ckpts/chkpt-11\n",
      "Epoch 12: average-batch loss: 33.77450634810041 last batch loss: 33.759397636954965\n",
      "Saved a checkpoint: ./.tf_ckpts/chkpt-12\n",
      "Epoch 13: average-batch loss: 33.74696738393905 last batch loss: 33.7501981344408\n",
      "Saved a checkpoint: ./.tf_ckpts/chkpt-13\n",
      "Epoch 14: average-batch loss: 33.72488202858606 last batch loss: 33.73398011179524\n",
      "Saved a checkpoint: ./.tf_ckpts/chkpt-14\n",
      "Epoch 15: average-batch loss: 33.70157662354622 last batch loss: 33.67863660614106\n",
      "Saved a checkpoint: ./.tf_ckpts/chkpt-15\n",
      "Epoch 16: average-batch loss: 33.68529260579491 last batch loss: 33.665908308201665\n",
      "Saved a checkpoint: ./.tf_ckpts/chkpt-16\n",
      "Epoch 17: average-batch loss: 33.66503800520001 last batch loss: 33.65481306926512\n",
      "Saved a checkpoint: ./.tf_ckpts/chkpt-17\n",
      "Epoch 18: average-batch loss: 33.64736888603217 last batch loss: 33.65052136819251\n",
      "Saved a checkpoint: ./.tf_ckpts/chkpt-18\n",
      "Epoch 19: average-batch loss: 33.63066325518042 last batch loss: 33.6237287126881\n",
      "Saved a checkpoint: ./.tf_ckpts/chkpt-19\n",
      "Epoch 20: average-batch loss: 33.61242012977055 last batch loss: 33.566822690549046\n",
      "Saved a checkpoint: ./.tf_ckpts/chkpt-20\n",
      "Epoch 21: average-batch loss: 33.59858143094903 last batch loss: 33.57264379057756\n",
      "Saved a checkpoint: ./.tf_ckpts/chkpt-21\n",
      "Epoch 22: average-batch loss: 33.58623399618231 last batch loss: 33.55162468845192\n",
      "Saved a checkpoint: ./.tf_ckpts/chkpt-22\n",
      "Epoch 23: average-batch loss: 33.57159424819433 last batch loss: 33.527710797675404\n",
      "Saved a checkpoint: ./.tf_ckpts/chkpt-23\n",
      "Epoch 24: average-batch loss: 33.558710570603566 last batch loss: 33.523703120718324\n",
      "Saved a checkpoint: ./.tf_ckpts/chkpt-24\n",
      "Epoch 25: average-batch loss: 33.54665538863275 last batch loss: 33.51801364121869\n",
      "Saved a checkpoint: ./.tf_ckpts/chkpt-25\n",
      "Epoch 26: average-batch loss: 33.53942653375695 last batch loss: 33.521817069974134\n",
      "Saved a checkpoint: ./.tf_ckpts/chkpt-26\n",
      "Epoch 27: average-batch loss: 33.52537315837629 last batch loss: 33.483932817475434\n",
      "Saved a checkpoint: ./.tf_ckpts/chkpt-27\n",
      "Epoch 28: average-batch loss: 33.516972485269946 last batch loss: 33.458386187530984\n",
      "Saved a checkpoint: ./.tf_ckpts/chkpt-28\n",
      "Epoch 29: average-batch loss: 33.502841725074774 last batch loss: 33.47811085844087\n",
      "Saved a checkpoint: ./.tf_ckpts/chkpt-29\n",
      "Epoch 30: average-batch loss: 33.49366655000589 last batch loss: 33.4771776945581\n",
      "Saved a checkpoint: ./.tf_ckpts/chkpt-30\n",
      "Epoch 31: average-batch loss: 33.486789291542145 last batch loss: 33.456487235724786\n",
      "Saved a checkpoint: ./.tf_ckpts/chkpt-31\n",
      "Epoch 32: average-batch loss: 33.47716394194058 last batch loss: 33.4825355901852\n",
      "Saved a checkpoint: ./.tf_ckpts/chkpt-32\n",
      "Epoch 33: average-batch loss: 33.47241907495401 last batch loss: 33.4466548451135\n",
      "Saved a checkpoint: ./.tf_ckpts/chkpt-33\n",
      "Epoch 34: average-batch loss: 33.464696945053085 last batch loss: 33.45256534949229\n",
      "Saved a checkpoint: ./.tf_ckpts/chkpt-34\n",
      "Epoch 35: average-batch loss: 33.45585386106309 last batch loss: 33.4239506698573\n",
      "Saved a checkpoint: ./.tf_ckpts/chkpt-35\n",
      "Epoch 36: average-batch loss: 33.45211176779472 last batch loss: 33.43261480176839\n",
      "Saved a checkpoint: ./.tf_ckpts/chkpt-36\n",
      "Epoch 37: average-batch loss: 33.447254366007925 last batch loss: 33.41423784199387\n",
      "Saved a checkpoint: ./.tf_ckpts/chkpt-37\n",
      "Epoch 38: average-batch loss: 33.4521866895105 last batch loss: 33.44042810632215\n",
      "We are in a loss plateau learning rate: 0.025 loss: 33.690853465618\n",
      "Restoring from a checkpoint - loss: 33.701492772019485\n",
      "Epoch 39: average-batch loss: 33.44617479509525 last batch loss: 33.476037436148296\n",
      "Saved a checkpoint: ./.tf_ckpts/chkpt-38\n",
      "Epoch 40: average-batch loss: 33.43534231548566 last batch loss: 33.415690725312295\n",
      "Saved a checkpoint: ./.tf_ckpts/chkpt-39\n",
      "Epoch 41: average-batch loss: 33.42881345546983 last batch loss: 33.396911245900654\n",
      "Saved a checkpoint: ./.tf_ckpts/chkpt-40\n",
      "Epoch 42: average-batch loss: 33.4240513954552 last batch loss: 33.40035297336076\n",
      "Saved a checkpoint: ./.tf_ckpts/chkpt-41\n",
      "Epoch 43: average-batch loss: 33.4178833650217 last batch loss: 33.40676457853298\n",
      "Saved a checkpoint: ./.tf_ckpts/chkpt-42\n",
      "Epoch 44: average-batch loss: 33.41420649674706 last batch loss: 33.415823890204834\n",
      "Saved a checkpoint: ./.tf_ckpts/chkpt-43\n",
      "Epoch 45: average-batch loss: 33.41881675714258 last batch loss: 33.38990248399396\n",
      "We are in a loss plateau learning rate: 0.00625 loss: 33.66229188123429\n",
      "Restoring from a checkpoint - loss: 33.65592658212333\n",
      "Epoch 46: average-batch loss: 33.409034641383535 last batch loss: 33.40244269404509\n",
      "Saved a checkpoint: ./.tf_ckpts/chkpt-44\n",
      "Epoch 47: average-batch loss: 33.40321074206269 last batch loss: 33.40162049452374\n",
      "Saved a checkpoint: ./.tf_ckpts/chkpt-45\n",
      "Epoch 48: average-batch loss: 33.403725975335405 last batch loss: 33.37039077361686\n",
      "Epoch 49: average-batch loss: 33.39829140630225 last batch loss: 33.383266876707616\n",
      "Saved a checkpoint: ./.tf_ckpts/chkpt-46\n",
      "Epoch 50: average-batch loss: 33.39337911970619 last batch loss: 33.356421334034515\n",
      "Saved a checkpoint: ./.tf_ckpts/chkpt-47\n",
      "Epoch 51: average-batch loss: 33.38938986337455 last batch loss: 33.36055182730777\n",
      "Saved a checkpoint: ./.tf_ckpts/chkpt-48\n",
      "Epoch 52: average-batch loss: 33.390381285647386 last batch loss: 33.35656325803434\n",
      "Epoch 53: average-batch loss: 33.385849884962894 last batch loss: 33.39306941471107\n",
      "Saved a checkpoint: ./.tf_ckpts/chkpt-49\n",
      "Epoch 54: average-batch loss: 33.38003077078572 last batch loss: 33.34137810967318\n",
      "Saved a checkpoint: ./.tf_ckpts/chkpt-50\n",
      "Epoch 55: average-batch loss: 33.38590714406757 last batch loss: 33.36408990439448\n",
      "We are in a loss plateau learning rate: 0.0015625 loss: 33.642313613927065\n",
      "Restoring from a checkpoint - loss: 33.6228320550282\n",
      "Epoch 56: average-batch loss: 33.3817754417171 last batch loss: 33.357411512930135\n",
      "Epoch 57: average-batch loss: 33.38064346677261 last batch loss: 33.36224376392839\n",
      "Epoch 58: average-batch loss: 33.37353272471805 last batch loss: 33.33865496178435\n",
      "Saved a checkpoint: ./.tf_ckpts/chkpt-51\n",
      "Epoch 59: average-batch loss: 33.36983009322631 last batch loss: 33.35161779394973\n",
      "Saved a checkpoint: ./.tf_ckpts/chkpt-52\n",
      "Epoch 60: average-batch loss: 33.37424844470179 last batch loss: 33.3594575001802\n",
      "We are in a loss plateau learning rate: 0.000390625 loss: 33.61385111015245\n",
      "Restoring from a checkpoint - loss: 33.615258449208696\n",
      "Epoch 61: average-batch loss: 33.37200267389714 last batch loss: 33.36740962635611\n",
      "Epoch 62: average-batch loss: 33.373177916833114 last batch loss: 33.3389439833332\n",
      "Epoch 63: average-batch loss: 33.369281284118735 last batch loss: 33.33569793913512\n",
      "Saved a checkpoint: ./.tf_ckpts/chkpt-53\n",
      "Epoch 64: average-batch loss: 33.368298236847515 last batch loss: 33.33136660685138\n",
      "Saved a checkpoint: ./.tf_ckpts/chkpt-54\n",
      "Epoch 65: average-batch loss: 33.365787867563455 last batch loss: 33.33747013233367\n",
      "Saved a checkpoint: ./.tf_ckpts/chkpt-55\n"
     ]
    },
    {
     "name": "stdout",
     "output_type": "stream",
     "text": [
      "Epoch 66: average-batch loss: 33.36632895556181 last batch loss: 33.34262665874449\n",
      "Epoch 67: average-batch loss: 33.364117973544495 last batch loss: 33.34327205728802\n",
      "Saved a checkpoint: ./.tf_ckpts/chkpt-56\n",
      "Epoch 68: average-batch loss: 33.36366106040221 last batch loss: 33.333005470061806\n",
      "Saved a checkpoint: ./.tf_ckpts/chkpt-57\n",
      "Epoch 69: average-batch loss: 33.360134110529984 last batch loss: 33.34986310704229\n",
      "Saved a checkpoint: ./.tf_ckpts/chkpt-58\n",
      "Epoch 70: average-batch loss: 33.35841459892867 last batch loss: 33.34265637502846\n",
      "Saved a checkpoint: ./.tf_ckpts/chkpt-59\n",
      "Epoch 71: average-batch loss: 33.36206054764833 last batch loss: 33.33655712065018\n",
      "We are in a loss plateau learning rate: 9.765625e-05 loss: 33.62776098044804\n",
      "Restoring from a checkpoint - loss: 33.63097215793381\n",
      "Epoch 72: average-batch loss: 33.36143837999945 last batch loss: 33.341884187152196\n",
      "Epoch 73: average-batch loss: 33.36238836483071 last batch loss: 33.325657265122224\n",
      "Epoch 74: average-batch loss: 33.36400739399434 last batch loss: 33.34360215779983\n",
      "Epoch 75: average-batch loss: 33.36010657315573 last batch loss: 33.34174111819273\n",
      "Epoch 76: average-batch loss: 33.35638401032185 last batch loss: 33.33161312311584\n",
      "Saved a checkpoint: ./.tf_ckpts/chkpt-60\n",
      "Epoch 77: average-batch loss: 33.359060458133094 last batch loss: 33.3363786410895\n",
      "Epoch 78: average-batch loss: 33.36205793628602 last batch loss: 33.33395980275997\n",
      "We are in a loss plateau learning rate: 2.44140625e-05 loss: 33.615067367840545\n",
      "Restoring from a checkpoint - loss: 33.60195047736801\n",
      "Epoch 79: average-batch loss: 33.35850798607061 last batch loss: 33.3220263229259\n",
      "Epoch 80: average-batch loss: 33.35692757554456 last batch loss: 33.332285041194744\n",
      "Epoch 81: average-batch loss: 33.35442926736481 last batch loss: 33.322583130578906\n",
      "Saved a checkpoint: ./.tf_ckpts/chkpt-61\n",
      "Epoch 82: average-batch loss: 33.355290106629845 last batch loss: 33.32938194650189\n",
      "Epoch 83: average-batch loss: 33.35545268105182 last batch loss: 33.32565155562065\n",
      "We are in a loss plateau learning rate: 6.103515625e-06 loss: 33.609654410567686\n",
      "Restoring from a checkpoint - loss: 33.618808069633246\n",
      "Epoch 84: average-batch loss: 33.35562609152317 last batch loss: 33.38260201717277\n",
      "Epoch 85: average-batch loss: 33.35498429924341 last batch loss: 33.335667651287324\n",
      "Epoch 86: average-batch loss: 33.35469103797788 last batch loss: 33.342333004636316\n",
      "Epoch 87: average-batch loss: 33.35710269459801 last batch loss: 33.329583873677066\n",
      "Epoch 88: average-batch loss: 33.356215244744796 last batch loss: 33.332958661099426\n",
      "Epoch 89: average-batch loss: 33.358898285413964 last batch loss: 33.341392593669156\n",
      "We are in a loss plateau learning rate: 1.52587890625e-06 loss: 33.62172256817782\n",
      "Restoring from a checkpoint - loss: 33.62315769132829\n",
      "Epoch 90: average-batch loss: 33.36760904790188 last batch loss: 33.330305040214036\n",
      "Epoch 91: average-batch loss: 33.36435789080454 last batch loss: 33.32655530092708\n",
      "Epoch 92: average-batch loss: 33.358050650140584 last batch loss: 33.340023145762565\n",
      "Epoch 93: average-batch loss: 33.36103386370101 last batch loss: 33.34075816150773\n",
      "Epoch 94: average-batch loss: 33.35805569844304 last batch loss: 33.33773607072864\n",
      "Epoch 95: average-batch loss: 33.35389138137843 last batch loss: 33.33975821517129\n",
      "Saved a checkpoint: ./.tf_ckpts/chkpt-62\n",
      "Epoch 96: average-batch loss: 33.35447772762441 last batch loss: 33.33891084711223\n",
      "Epoch 97: average-batch loss: 33.354729567892576 last batch loss: 33.32568400199074\n",
      "We are in a loss plateau learning rate: 3.814697265625e-07 loss: 33.59693052981001\n",
      "Restoring from a checkpoint - loss: 33.59088591178348\n",
      "Epoch 98: average-batch loss: 33.35135530264036 last batch loss: 33.32535225676744\n",
      "Saved a checkpoint: ./.tf_ckpts/chkpt-63\n",
      "Epoch 99: average-batch loss: 33.35203439223176 last batch loss: 33.33407035762358\n",
      "Terminating because we are out of iterations\n"
     ]
    }
   ],
   "source": [
    "losses = factor.calibrate_advi(\n",
    "    num_epochs=100, rel_tol=1e-4, learning_rate=.1)\n",
    "\n"
   ]
  },
  {
   "cell_type": "markdown",
   "metadata": {},
   "source": [
    "# Compute the WAIC"
   ]
  },
  {
   "cell_type": "code",
   "execution_count": 6,
   "metadata": {},
   "outputs": [
    {
     "name": "stdout",
     "output_type": "stream",
     "text": [
      "{'waic': <tf.Tensor: shape=(), dtype=float64, numpy=1733394.733054672>, 'se': <tf.Tensor: shape=(), dtype=float64, numpy=8381.718243464487>, 'lppd': <tf.Tensor: shape=(), dtype=float64, numpy=-82641.16707466086>, 'pwaic': <tf.Tensor: shape=(), dtype=float64, numpy=784056.1994526751>}\n"
     ]
    }
   ],
   "source": [
    "waic = factor.waic()\n",
    "print(waic)"
   ]
  },
  {
   "cell_type": "markdown",
   "metadata": {},
   "source": [
    "# Plot the factor encoding matrix"
   ]
  },
  {
   "cell_type": "code",
   "execution_count": 9,
   "metadata": {},
   "outputs": [
    {
     "data": {
      "image/png": "[encoded data removed]",
      "text/plain": [
       "<Figure size 432x288 with 2 Axes>"
      ]
     },
     "metadata": {
      "needs_background": "light"
     },
     "output_type": "display_data"
    }
   ],
   "source": [
    "plt.imshow(factor.encoding_matrix(), vmin=0)\n",
    "plt.colorbar()\n",
    "plt.show()\n"
   ]
  },
  {
   "cell_type": "markdown",
   "metadata": {},
   "source": [
    "The values in the factor encoding matrix as near zero. There is a gradient because the model induces a dimensional decay to remove symmetries - this encourages the leading dimensions to hold more of the signal."
   ]
  },
  {
   "cell_type": "markdown",
   "metadata": {},
   "source": [
    "# Plot the intercept matrix"
   ]
  },
  {
   "cell_type": "code",
   "execution_count": 17,
   "metadata": {},
   "outputs": [
    {
     "data": {
      "image/png": "[encoded data removed]",
      "text/plain": [
       "<Figure size 144x576 with 2 Axes>"
      ]
     },
     "metadata": {
      "needs_background": "light"
     },
     "output_type": "display_data"
    }
   ],
   "source": [
    "fig = plt.figure(figsize=(2,8))\n",
    "plt.imshow(factor.intercept_matrix().numpy().T, vmin=0)\n",
    "plt.colorbar()\n",
    "plt.show()\n"
   ]
  },
  {
   "cell_type": "markdown",
   "metadata": {},
   "source": [
    "Most of the signal loads into the intercept at a value near 3, which is what we want!"
   ]
  },
  {
   "cell_type": "code",
   "execution_count": null,
   "metadata": {},
   "outputs": [],
   "source": []
  }
 ],
 "metadata": {
  "kernelspec": {
   "display_name": "Python 3.7.5 64-bit",
   "language": "python",
   "name": "python37564bitf92b1a92eaa047aebe1f2ca9ebe04d21"
  },
  "language_info": {
   "codemirror_mode": {
    "name": "ipython",
    "version": 3
   },
   "file_extension": ".py",
   "mimetype": "text/x-python",
   "name": "python",
   "nbconvert_exporter": "python",
   "pygments_lexer": "ipython3",
   "version": "3.7.5"
  }
 },
 "nbformat": 4,
 "nbformat_minor": 2
}
