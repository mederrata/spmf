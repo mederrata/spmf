{
 "cells": [
  {
   "cell_type": "code",
   "execution_count": 1,
   "metadata": {},
   "outputs": [
    {
     "name": "stdout",
     "output_type": "stream",
     "text": [
      "Populating the interactive namespace from numpy and matplotlib\n"
     ]
    }
   ],
   "source": [
    "%pylab inline\n",
    "import sys\n",
    "\n",
    "import numpy as np\n",
    "import tensorflow as tf\n",
    "import tensorflow_probability as tfp\n",
    "import arviz as az\n",
    "\n",
    "import matplotlib.pyplot as plt\n",
    "from matplotlib import rcParams\n",
    "import matplotlib.font_manager as fm\n",
    "\n",
    "rcParams['font.family'] = 'sans-serif'\n",
    "\n",
    "sys.path.append('../')\n",
    "from mederrata_spmf import PoissonMatrixFactorization\n"
   ]
  },
  {
   "cell_type": "markdown",
   "metadata": {},
   "source": [
    "# Generate a count matrix of random noise\n",
    "\n",
    "We want our factor model to tell us that this is just noise"
   ]
  },
  {
   "cell_type": "code",
   "execution_count": 2,
   "metadata": {},
   "outputs": [],
   "source": [
    "N = 5000\n",
    "D = 20\n",
    "P = 3\n",
    "\n",
    "# Test taking in from tf.dataset, don't pre-batch\n",
    "data = tf.data.Dataset.from_tensor_slices(\n",
    "    {\n",
    "        'data': np.random.poisson(3.0, size=(N, D)),\n",
    "        'indices': np.arange(N),\n",
    "        'normalization': np.ones(N)\n",
    "    })\n",
    "\n",
    "data = data.batch(1000)\n"
   ]
  },
  {
   "cell_type": "markdown",
   "metadata": {},
   "source": [
    "Currently, the input data has to be in this format, as a tensorflow BatchDataset object with the given key/values."
   ]
  },
  {
   "cell_type": "markdown",
   "metadata": {},
   "source": [
    "# Set up the inference object"
   ]
  },
  {
   "cell_type": "code",
   "execution_count": 3,
   "metadata": {},
   "outputs": [
    {
     "name": "stdout",
     "output_type": "stream",
     "text": [
      "Feature dim: 20 -> Latent dim 3\n"
     ]
    }
   ],
   "source": [
    "# strategy = tf.distribute.MirroredStrategy()\n",
    "strategy = None\n",
    "factor = PoissonMatrixFactorization(\n",
    "    data, latent_dim=P, strategy=strategy,\n",
    "    # encoder_function=lambda x: x, decoder_function=lambda x: x,\n",
    "    dtype=tf.float64, u_tau_scale=0.01)\n",
    "# Test to make sure sampling works\n"
   ]
  },
  {
   "cell_type": "markdown",
   "metadata": {},
   "source": [
    "## Test out the prior distributions"
   ]
  },
  {
   "cell_type": "code",
   "execution_count": 4,
   "metadata": {},
   "outputs": [],
   "source": [
    "## \n",
    "sample = factor.joint_prior.sample(10)\n",
    "# Compute the joint log probability of the sample\n",
    "probs = factor.joint_prior.log_prob(sample)\n",
    "sample_surrogate = factor.surrogate_distribution.sample(77)\n",
    "probs_parts = factor.unormalized_log_prob_parts(\n",
    "    **sample_surrogate, data=next(iter(data)))\n",
    "prob = factor.unormalized_log_prob(\n",
    "    **sample_surrogate,  data=next(iter(data)))\n",
    "\n"
   ]
  },
  {
   "cell_type": "markdown",
   "metadata": {},
   "source": [
    "# Inference"
   ]
  },
  {
   "cell_type": "code",
   "execution_count": 5,
   "metadata": {},
   "outputs": [
    {
     "name": "stderr",
     "output_type": "stream",
     "text": [
      "WARNING: Logging before flag parsing goes to stderr.\n",
      "W0519 21:32:22.496069 4521491904 deprecation.py:506] From /usr/local/lib/python3.7/site-packages/tensorflow_core/python/ops/resource_variable_ops.py:1786: calling BaseResourceVariable.__init__ (from tensorflow.python.ops.resource_variable_ops) with constraint is deprecated and will be removed in a future version.\n",
      "Instructions for updating:\n",
      "If using Keras pass *_constraint arguments to layers.\n"
     ]
    },
    {
     "name": "stdout",
     "output_type": "stream",
     "text": [
      "Initial loss: 59.4260473744012\n",
      "Epoch 1: average-batch loss: 48.65175682786762 last batch loss: 40.102157333804094\n",
      "Saved a checkpoint: ./.tf_ckpts/chkpt-1\n",
      "Epoch 2: average-batch loss: 39.225355035849766 last batch loss: 36.2815262251382\n",
      "Saved a checkpoint: ./.tf_ckpts/chkpt-2\n",
      "Epoch 3: average-batch loss: 35.175552052117986 last batch loss: 34.57853743944902\n",
      "Saved a checkpoint: ./.tf_ckpts/chkpt-3\n",
      "Epoch 4: average-batch loss: 34.037301211699 last batch loss: 33.940561335908754\n",
      "Saved a checkpoint: ./.tf_ckpts/chkpt-4\n",
      "Epoch 5: average-batch loss: 33.94898566918947 last batch loss: 33.79904603492185\n",
      "Saved a checkpoint: ./.tf_ckpts/chkpt-5\n",
      "Epoch 6: average-batch loss: 33.953235649570196 last batch loss: 33.92129036190501\n",
      "Epoch 7: average-batch loss: 33.88408177763176 last batch loss: 33.753536542823845\n",
      "Saved a checkpoint: ./.tf_ckpts/chkpt-6\n",
      "Epoch 8: average-batch loss: 33.804088395417644 last batch loss: 33.64855687560819\n",
      "Saved a checkpoint: ./.tf_ckpts/chkpt-7\n",
      "Epoch 9: average-batch loss: 33.702597006741684 last batch loss: 33.58285321242548\n",
      "Saved a checkpoint: ./.tf_ckpts/chkpt-8\n",
      "Epoch 10: average-batch loss: 33.62904782516225 last batch loss: 33.54199487548965\n",
      "Saved a checkpoint: ./.tf_ckpts/chkpt-9\n",
      "Epoch 11: average-batch loss: 33.578537501504215 last batch loss: 33.5083228985013\n",
      "Saved a checkpoint: ./.tf_ckpts/chkpt-10\n",
      "Epoch 12: average-batch loss: 33.53111548090976 last batch loss: 33.42883123448708\n",
      "Saved a checkpoint: ./.tf_ckpts/chkpt-11\n",
      "Epoch 13: average-batch loss: 33.4990706859646 last batch loss: 33.38017564047948\n",
      "Saved a checkpoint: ./.tf_ckpts/chkpt-12\n",
      "Epoch 14: average-batch loss: 33.45448601214265 last batch loss: 33.35371400847077\n",
      "Saved a checkpoint: ./.tf_ckpts/chkpt-13\n",
      "Epoch 15: average-batch loss: 33.41418982254565 last batch loss: 33.32203107707271\n",
      "Saved a checkpoint: ./.tf_ckpts/chkpt-14\n",
      "Epoch 16: average-batch loss: 33.37191488019185 last batch loss: 33.29296763732443\n",
      "Saved a checkpoint: ./.tf_ckpts/chkpt-15\n",
      "Epoch 17: average-batch loss: 33.34062986642604 last batch loss: 33.26813583680369\n",
      "Saved a checkpoint: ./.tf_ckpts/chkpt-16\n",
      "Epoch 18: average-batch loss: 33.312002136052044 last batch loss: 33.210983401588\n",
      "Saved a checkpoint: ./.tf_ckpts/chkpt-17\n",
      "Epoch 19: average-batch loss: 33.297204137059225 last batch loss: 33.207753141313894\n",
      "Saved a checkpoint: ./.tf_ckpts/chkpt-18\n",
      "Epoch 20: average-batch loss: 33.266934544409196 last batch loss: 33.190830409781796\n",
      "Saved a checkpoint: ./.tf_ckpts/chkpt-19\n",
      "Epoch 21: average-batch loss: 33.24752135933581 last batch loss: 33.16628563537075\n",
      "Saved a checkpoint: ./.tf_ckpts/chkpt-20\n",
      "Epoch 22: average-batch loss: 33.243324680455416 last batch loss: 33.170718311000115\n",
      "Saved a checkpoint: ./.tf_ckpts/chkpt-21\n",
      "Epoch 23: average-batch loss: 33.233836750882155 last batch loss: 33.163388657406486\n",
      "Saved a checkpoint: ./.tf_ckpts/chkpt-22\n",
      "Epoch 24: average-batch loss: 33.225220548071334 last batch loss: 33.13942895630408\n",
      "Saved a checkpoint: ./.tf_ckpts/chkpt-23\n",
      "Epoch 25: average-batch loss: 33.22020238261506 last batch loss: 33.13333097232589\n",
      "Saved a checkpoint: ./.tf_ckpts/chkpt-24\n",
      "Epoch 26: average-batch loss: 33.20992511273225 last batch loss: 33.128232182787066\n",
      "Saved a checkpoint: ./.tf_ckpts/chkpt-25\n",
      "Epoch 27: average-batch loss: 33.2124473369494 last batch loss: 33.133430141044975\n",
      "Epoch 28: average-batch loss: 33.209252815569435 last batch loss: 33.131176406490226\n",
      "Saved a checkpoint: ./.tf_ckpts/chkpt-26\n",
      "Epoch 29: average-batch loss: 33.20273527141828 last batch loss: 33.122592911737506\n",
      "Saved a checkpoint: ./.tf_ckpts/chkpt-27\n",
      "Epoch 30: average-batch loss: 33.20946499660344 last batch loss: 33.12737588239959\n",
      "We are in a loss plateau learning rate: 0.025 loss: 33.268609238849066\n",
      "Restoring from a checkpoint - loss: 33.28394259510147\n",
      "Epoch 31: average-batch loss: 33.20212014394413 last batch loss: 33.13891500121216\n",
      "Saved a checkpoint: ./.tf_ckpts/chkpt-28\n",
      "Epoch 32: average-batch loss: 33.200828389418895 last batch loss: 33.12350547811896\n",
      "Saved a checkpoint: ./.tf_ckpts/chkpt-29\n",
      "Epoch 33: average-batch loss: 33.200137222883576 last batch loss: 33.12748919357297\n",
      "Saved a checkpoint: ./.tf_ckpts/chkpt-30\n",
      "Epoch 34: average-batch loss: 33.19585068438966 last batch loss: 33.118035905647\n",
      "Saved a checkpoint: ./.tf_ckpts/chkpt-31\n",
      "Epoch 35: average-batch loss: 33.188627155657606 last batch loss: 33.103850465189794\n",
      "Saved a checkpoint: ./.tf_ckpts/chkpt-32\n",
      "Epoch 36: average-batch loss: 33.19970588380338 last batch loss: 33.12816504098852\n",
      "We are in a loss plateau learning rate: 0.00625 loss: 33.2670137453218\n",
      "Restoring from a checkpoint - loss: 33.25704451395471\n",
      "Epoch 37: average-batch loss: 33.19245596268989 last batch loss: 33.11946366849757\n",
      "Epoch 38: average-batch loss: 33.18720037129414 last batch loss: 33.101334316690654\n",
      "Saved a checkpoint: ./.tf_ckpts/chkpt-33\n",
      "Epoch 39: average-batch loss: 33.19464869068132 last batch loss: 33.12062363187908\n",
      "Epoch 40: average-batch loss: 33.20219513657867 last batch loss: 33.1160558813649\n",
      "Epoch 41: average-batch loss: 33.18619260690358 last batch loss: 33.11251194329928\n",
      "Saved a checkpoint: ./.tf_ckpts/chkpt-34\n",
      "Epoch 42: average-batch loss: 33.19105962228163 last batch loss: 33.119682709720905\n",
      "Epoch 43: average-batch loss: 33.18765338826872 last batch loss: 33.10876883564568\n",
      "Epoch 44: average-batch loss: 33.178383374923136 last batch loss: 33.10529622914408\n",
      "Saved a checkpoint: ./.tf_ckpts/chkpt-35\n",
      "Epoch 45: average-batch loss: 33.193673982336 last batch loss: 33.12422368301727\n",
      "We are in a loss plateau learning rate: 0.0015625 loss: 33.257902340892834\n",
      "Restoring from a checkpoint - loss: 33.259444264292426\n",
      "Epoch 46: average-batch loss: 33.185672222457455 last batch loss: 33.118795476702594\n",
      "Epoch 47: average-batch loss: 33.18273753321135 last batch loss: 33.102850859791694\n",
      "Epoch 48: average-batch loss: 33.1837475175499 last batch loss: 33.11384329114568\n",
      "Epoch 49: average-batch loss: 33.18237495756415 last batch loss: 33.09219259011219\n",
      "Epoch 50: average-batch loss: 33.18252455511819 last batch loss: 33.102471314740484\n",
      "Epoch 51: average-batch loss: 33.174922730808404 last batch loss: 33.110032384446306\n",
      "Saved a checkpoint: ./.tf_ckpts/chkpt-36\n",
      "Epoch 52: average-batch loss: 33.192008299787055 last batch loss: 33.16593403799132\n",
      "We are in a loss plateau learning rate: 0.000390625 loss: 33.23488113772438\n",
      "Restoring from a checkpoint - loss: 33.23955694223094\n",
      "Epoch 53: average-batch loss: 33.169477738551834 last batch loss: 33.096189955012164\n",
      "Saved a checkpoint: ./.tf_ckpts/chkpt-37\n",
      "Epoch 54: average-batch loss: 33.17432553185964 last batch loss: 33.10326998615226\n",
      "Epoch 55: average-batch loss: 33.17103308284813 last batch loss: 33.09037391098707\n",
      "Epoch 56: average-batch loss: 33.17796906051186 last batch loss: 33.10377886566159\n",
      "Epoch 57: average-batch loss: 33.16815280017875 last batch loss: 33.08833949776996\n",
      "Saved a checkpoint: ./.tf_ckpts/chkpt-38\n",
      "Epoch 58: average-batch loss: 33.1691700454433 last batch loss: 33.09070872664636\n",
      "Epoch 59: average-batch loss: 33.1764331956288 last batch loss: 33.103015226588646\n",
      "We are in a loss plateau learning rate: 9.765625e-05 loss: 33.23936666240686\n",
      "Restoring from a checkpoint - loss: 33.240789502321405\n",
      "Epoch 60: average-batch loss: 33.165832187685105 last batch loss: 33.09532147039701\n",
      "Saved a checkpoint: ./.tf_ckpts/chkpt-39\n",
      "Epoch 61: average-batch loss: 33.16556799152799 last batch loss: 33.095624161570214\n",
      "Saved a checkpoint: ./.tf_ckpts/chkpt-40\n",
      "Epoch 62: average-batch loss: 33.16209982004991 last batch loss: 33.07304982257842\n",
      "Saved a checkpoint: ./.tf_ckpts/chkpt-41\n",
      "Epoch 63: average-batch loss: 33.163933299710024 last batch loss: 33.08581267051119\n",
      "Epoch 64: average-batch loss: 33.16271590573465 last batch loss: 33.07747510673049\n",
      "Epoch 65: average-batch loss: 33.16173637633382 last batch loss: 33.0838751406971\n",
      "Saved a checkpoint: ./.tf_ckpts/chkpt-42\n",
      "Epoch 66: average-batch loss: 33.15560882799879 last batch loss: 33.07771274478762\n",
      "Saved a checkpoint: ./.tf_ckpts/chkpt-43\n",
      "Epoch 67: average-batch loss: 33.15905976790607 last batch loss: 33.094791501790986\n",
      "Epoch 68: average-batch loss: 33.15318988737928 last batch loss: 33.07218633945303\n",
      "Saved a checkpoint: ./.tf_ckpts/chkpt-44\n",
      "Epoch 69: average-batch loss: 33.15691254221203 last batch loss: 33.08867232615987\n",
      "Epoch 70: average-batch loss: 33.15480050514575 last batch loss: 33.09501902494263\n"
     ]
    },
    {
     "name": "stdout",
     "output_type": "stream",
     "text": [
      "Epoch 71: average-batch loss: 33.15244469141545 last batch loss: 33.070587054726765\n",
      "Saved a checkpoint: ./.tf_ckpts/chkpt-45\n",
      "Epoch 72: average-batch loss: 33.15534910138964 last batch loss: 33.075701114388664\n",
      "We are in a loss plateau learning rate: 2.44140625e-05 loss: 33.2117313239504\n",
      "Restoring from a checkpoint - loss: 33.20995753246058\n",
      "Epoch 73: average-batch loss: 33.146646483973875 last batch loss: 33.08733738003511\n",
      "Saved a checkpoint: ./.tf_ckpts/chkpt-46\n",
      "Epoch 74: average-batch loss: 33.14152253641014 last batch loss: 33.064738824755885\n",
      "Saved a checkpoint: ./.tf_ckpts/chkpt-47\n",
      "Epoch 75: average-batch loss: 33.1364049407737 last batch loss: 33.0612161212027\n",
      "Saved a checkpoint: ./.tf_ckpts/chkpt-48\n",
      "Epoch 76: average-batch loss: 33.143418245774285 last batch loss: 33.06737296966008\n",
      "Epoch 77: average-batch loss: 33.14102036510117 last batch loss: 33.05427958596624\n",
      "Epoch 78: average-batch loss: 33.13811513441337 last batch loss: 33.06680906734582\n",
      "Epoch 79: average-batch loss: 33.13423873949594 last batch loss: 33.04557633306107\n",
      "Saved a checkpoint: ./.tf_ckpts/chkpt-49\n",
      "Epoch 80: average-batch loss: 33.12837169196555 last batch loss: 33.06048696416424\n",
      "Saved a checkpoint: ./.tf_ckpts/chkpt-50\n",
      "Epoch 81: average-batch loss: 33.12758318865888 last batch loss: 33.044854919386154\n",
      "Saved a checkpoint: ./.tf_ckpts/chkpt-51\n",
      "Epoch 82: average-batch loss: 33.128413538515666 last batch loss: 33.0596361591783\n",
      "We are in a loss plateau learning rate: 6.103515625e-06 loss: 33.20866558825192\n",
      "Restoring from a checkpoint - loss: 33.18735101496491\n",
      "Epoch 83: average-batch loss: 33.12515226398206 last batch loss: 33.048764570712606\n",
      "Saved a checkpoint: ./.tf_ckpts/chkpt-52\n",
      "Epoch 84: average-batch loss: 33.12880381360391 last batch loss: 33.05146747502497\n",
      "Epoch 85: average-batch loss: 33.12449839820412 last batch loss: 33.05503155668979\n",
      "Saved a checkpoint: ./.tf_ckpts/chkpt-53\n",
      "Epoch 86: average-batch loss: 33.12020813301173 last batch loss: 33.044907649806426\n",
      "Saved a checkpoint: ./.tf_ckpts/chkpt-54\n",
      "Epoch 87: average-batch loss: 33.112712480078734 last batch loss: 33.037798371808144\n",
      "Saved a checkpoint: ./.tf_ckpts/chkpt-55\n",
      "Epoch 88: average-batch loss: 33.116191260236086 last batch loss: 33.03763628713135\n",
      "Epoch 89: average-batch loss: 33.11854748927789 last batch loss: 33.02615818228003\n",
      "We are in a loss plateau learning rate: 1.52587890625e-06 loss: 33.176164387525205\n",
      "Restoring from a checkpoint - loss: 33.19747737557\n",
      "Epoch 90: average-batch loss: 33.118173272535465 last batch loss: 33.05595459591576\n",
      "Epoch 91: average-batch loss: 33.11853296348725 last batch loss: 33.05179360352828\n",
      "Epoch 92: average-batch loss: 33.118787283880884 last batch loss: 33.02547290837488\n",
      "Epoch 93: average-batch loss: 33.11695594930784 last batch loss: 33.04109328428297\n",
      "Epoch 94: average-batch loss: 33.099559460352744 last batch loss: 33.018354467710054\n",
      "Saved a checkpoint: ./.tf_ckpts/chkpt-56\n",
      "Epoch 95: average-batch loss: 33.10388740961119 last batch loss: 33.03699160231409\n",
      "Epoch 96: average-batch loss: 33.10205999052936 last batch loss: 33.02069774710438\n",
      "Epoch 97: average-batch loss: 33.10163479938164 last batch loss: 33.01800638736367\n",
      "Epoch 98: average-batch loss: 33.09513575838801 last batch loss: 33.020516855294396\n",
      "Saved a checkpoint: ./.tf_ckpts/chkpt-57\n",
      "Epoch 99: average-batch loss: 33.099259292542534 last batch loss: 33.025181675047236\n",
      "Epoch 100: average-batch loss: 33.10169539030984 last batch loss: 33.02903979691627\n",
      "We are in a loss plateau learning rate: 3.814697265625e-07 loss: 33.212207014285156\n",
      "Restoring from a checkpoint - loss: 33.19933992736421\n",
      "Epoch 101: average-batch loss: 33.11002753312009 last batch loss: 33.02150226646643\n",
      "Epoch 102: average-batch loss: 33.095303891888804 last batch loss: 33.02706879122313\n",
      "Epoch 103: average-batch loss: 33.09470221815916 last batch loss: 33.02797977469894\n",
      "Saved a checkpoint: ./.tf_ckpts/chkpt-58\n",
      "Epoch 104: average-batch loss: 33.08803785931679 last batch loss: 33.014454078929816\n",
      "Saved a checkpoint: ./.tf_ckpts/chkpt-59\n",
      "Epoch 105: average-batch loss: 33.08407109588268 last batch loss: 32.99808580929737\n",
      "Saved a checkpoint: ./.tf_ckpts/chkpt-60\n",
      "Epoch 106: average-batch loss: 33.09118458498083 last batch loss: 33.013851520005446\n",
      "We are in a loss plateau learning rate: 9.5367431640625e-08 loss: 33.152933961531794\n",
      "Restoring from a checkpoint - loss: 33.16486314681117\n",
      "Epoch 107: average-batch loss: 33.08376839974735 last batch loss: 33.01147681787942\n",
      "Saved a checkpoint: ./.tf_ckpts/chkpt-61\n",
      "Epoch 108: average-batch loss: 33.083824770990894 last batch loss: 33.008876202782396\n",
      "Epoch 109: average-batch loss: 33.08388467870416 last batch loss: 33.00916562768437\n",
      "Epoch 110: average-batch loss: 33.11714304632578 last batch loss: 33.02394246298796\n",
      "Epoch 111: average-batch loss: 33.0853250609593 last batch loss: 32.9968819124922\n",
      "Epoch 112: average-batch loss: 33.07393212412434 last batch loss: 32.985763715850304\n",
      "Saved a checkpoint: ./.tf_ckpts/chkpt-62\n",
      "Epoch 113: average-batch loss: 33.079601789070196 last batch loss: 33.00195831302625\n",
      "Epoch 114: average-batch loss: 33.07332796227835 last batch loss: 33.00013146907149\n",
      "Saved a checkpoint: ./.tf_ckpts/chkpt-63\n",
      "Epoch 115: average-batch loss: 33.07261452854691 last batch loss: 32.9934885327902\n",
      "Saved a checkpoint: ./.tf_ckpts/chkpt-64\n",
      "Epoch 116: average-batch loss: 33.0703302741535 last batch loss: 32.987420797323466\n",
      "Saved a checkpoint: ./.tf_ckpts/chkpt-65\n",
      "Epoch 117: average-batch loss: 33.07178815262534 last batch loss: 32.9950346632047\n",
      "Epoch 118: average-batch loss: 33.07386970441744 last batch loss: 33.031807849314674\n",
      "We are in a loss plateau learning rate: 2.384185791015625e-08 loss: 33.13477775267176\n",
      "Restoring from a checkpoint - loss: 33.15482943489179\n",
      "Epoch 119: average-batch loss: 33.0800553548507 last batch loss: 33.0030016384309\n",
      "Epoch 120: average-batch loss: 33.06510270691596 last batch loss: 32.98527472128617\n",
      "Saved a checkpoint: ./.tf_ckpts/chkpt-66\n",
      "Epoch 121: average-batch loss: 33.06499601892991 last batch loss: 32.982496449965154\n",
      "Saved a checkpoint: ./.tf_ckpts/chkpt-67\n",
      "Epoch 122: average-batch loss: 33.06705019635043 last batch loss: 33.00975641007285\n",
      "Epoch 123: average-batch loss: 33.06356302336873 last batch loss: 32.986244280454194\n",
      "Saved a checkpoint: ./.tf_ckpts/chkpt-68\n",
      "Epoch 124: average-batch loss: 33.061778641776776 last batch loss: 32.99668847206752\n",
      "Saved a checkpoint: ./.tf_ckpts/chkpt-69\n",
      "Epoch 125: average-batch loss: 33.05735594438395 last batch loss: 32.977834240418254\n",
      "Saved a checkpoint: ./.tf_ckpts/chkpt-70\n",
      "Epoch 126: average-batch loss: 33.06050884412245 last batch loss: 32.98779512242243\n",
      "Epoch 127: average-batch loss: 33.05418503722679 last batch loss: 32.994002715840686\n",
      "Saved a checkpoint: ./.tf_ckpts/chkpt-71\n",
      "Epoch 128: average-batch loss: 33.04974495701737 last batch loss: 32.973017772366276\n",
      "Saved a checkpoint: ./.tf_ckpts/chkpt-72\n",
      "Epoch 129: average-batch loss: 33.05057300113197 last batch loss: 32.97236931082671\n",
      "Epoch 130: average-batch loss: 33.052519277872115 last batch loss: 32.96911285660045\n",
      "We are in a loss plateau learning rate: 5.960464477539063e-09 loss: 33.106372485668395\n",
      "Restoring from a checkpoint - loss: 33.136358505482306\n",
      "Epoch 131: average-batch loss: 33.05328658486531 last batch loss: 32.970383899565284\n",
      "Epoch 132: average-batch loss: 33.04055765083217 last batch loss: 32.975206941974875\n",
      "Saved a checkpoint: ./.tf_ckpts/chkpt-73\n",
      "Epoch 133: average-batch loss: 33.050117434972016 last batch loss: 32.971892471438565\n",
      "Epoch 134: average-batch loss: 33.04077532304442 last batch loss: 32.95583431756897\n",
      "Epoch 135: average-batch loss: 33.04665990118524 last batch loss: 32.9656426789381\n",
      "Epoch 136: average-batch loss: 33.040074811685784 last batch loss: 32.95036856192666\n",
      "Saved a checkpoint: ./.tf_ckpts/chkpt-74\n",
      "Epoch 137: average-batch loss: 33.03857201531607 last batch loss: 32.96028799891516\n",
      "Saved a checkpoint: ./.tf_ckpts/chkpt-75\n",
      "Epoch 138: average-batch loss: 33.0375791677332 last batch loss: 32.963210958865176\n",
      "Saved a checkpoint: ./.tf_ckpts/chkpt-76\n",
      "Epoch 139: average-batch loss: 33.04099853892417 last batch loss: 32.972908406496686\n",
      "We are in a loss plateau learning rate: 1.4901161193847657e-09 loss: 33.09039423341201\n",
      "Restoring from a checkpoint - loss: 33.10508440334404\n",
      "Epoch 140: average-batch loss: 33.02976506016929 last batch loss: 32.950191040957215\n",
      "Saved a checkpoint: ./.tf_ckpts/chkpt-77\n"
     ]
    },
    {
     "name": "stdout",
     "output_type": "stream",
     "text": [
      "Epoch 141: average-batch loss: 33.03418936689657 last batch loss: 32.96500913458211\n",
      "Epoch 142: average-batch loss: 33.031814788396126 last batch loss: 32.949494963756315\n",
      "Epoch 143: average-batch loss: 33.02996484168752 last batch loss: 32.95306782230328\n",
      "Epoch 144: average-batch loss: 33.03120512978847 last batch loss: 32.953763056846554\n",
      "Epoch 145: average-batch loss: 33.03630444000845 last batch loss: 32.948776904304935\n",
      "We are in a loss plateau learning rate: 3.7252902984619143e-10 loss: 33.08332981883982\n",
      "Restoring from a checkpoint - loss: 33.101230456716166\n",
      "Epoch 146: average-batch loss: 33.027110646469396 last batch loss: 32.946301554838506\n",
      "Saved a checkpoint: ./.tf_ckpts/chkpt-78\n",
      "Epoch 147: average-batch loss: 33.03427906550165 last batch loss: 32.949407733626664\n",
      "Epoch 148: average-batch loss: 33.025954660175294 last batch loss: 32.956385628627096\n",
      "Saved a checkpoint: ./.tf_ckpts/chkpt-79\n",
      "Epoch 149: average-batch loss: 33.029754626546385 last batch loss: 32.94688930603011\n",
      "Epoch 150: average-batch loss: 33.02384341508985 last batch loss: 32.94945546828466\n",
      "Saved a checkpoint: ./.tf_ckpts/chkpt-80\n",
      "Epoch 151: average-batch loss: 33.0212337059046 last batch loss: 32.961239334910395\n",
      "Saved a checkpoint: ./.tf_ckpts/chkpt-81\n",
      "Epoch 152: average-batch loss: 33.02209205757852 last batch loss: 32.94235370238275\n",
      "Epoch 153: average-batch loss: 33.021379514578875 last batch loss: 32.95025261737337\n",
      "Epoch 154: average-batch loss: 33.01480372645804 last batch loss: 32.94929230886984\n",
      "Saved a checkpoint: ./.tf_ckpts/chkpt-82\n",
      "Epoch 155: average-batch loss: 33.01650331831161 last batch loss: 32.93744758243916\n",
      "Epoch 156: average-batch loss: 33.00980128463312 last batch loss: 32.926363432433426\n",
      "Saved a checkpoint: ./.tf_ckpts/chkpt-83\n",
      "Epoch 157: average-batch loss: 33.008272062247634 last batch loss: 32.937036537518495\n",
      "Saved a checkpoint: ./.tf_ckpts/chkpt-84\n",
      "Epoch 158: average-batch loss: 33.013002802987344 last batch loss: 32.963147141850044\n",
      "We are in a loss plateau learning rate: 9.313225746154786e-11 loss: 33.10054089478944\n",
      "Restoring from a checkpoint - loss: 33.08110361707669\n",
      "Epoch 159: average-batch loss: 33.02888547467917 last batch loss: 32.94924581606232\n",
      "Epoch 160: average-batch loss: 33.00960714887725 last batch loss: 32.928124172365315\n",
      "Epoch 161: average-batch loss: 33.00870284793797 last batch loss: 32.94100858175665\n",
      "Epoch 162: average-batch loss: 33.00730226812901 last batch loss: 32.94570477723294\n",
      "Saved a checkpoint: ./.tf_ckpts/chkpt-85\n",
      "Epoch 163: average-batch loss: 33.00114355034992 last batch loss: 32.92906231028351\n",
      "Saved a checkpoint: ./.tf_ckpts/chkpt-86\n",
      "Epoch 164: average-batch loss: 33.00679477554091 last batch loss: 32.93983930901779\n",
      "Epoch 165: average-batch loss: 32.99595215447171 last batch loss: 32.90350789692295\n",
      "Saved a checkpoint: ./.tf_ckpts/chkpt-87\n",
      "Epoch 166: average-batch loss: 33.00025942497479 last batch loss: 32.91848084346876\n",
      "Epoch 167: average-batch loss: 33.0000491441361 last batch loss: 32.92966215613292\n",
      "Epoch 168: average-batch loss: 33.00188802918494 last batch loss: 32.91287724831641\n",
      "We are in a loss plateau learning rate: 2.3283064365386964e-11 loss: 33.07120975591314\n",
      "Restoring from a checkpoint - loss: 33.07848961890556\n",
      "Epoch 169: average-batch loss: 32.99851917973592 last batch loss: 32.91737060229168\n",
      "Epoch 170: average-batch loss: 32.99268186202987 last batch loss: 32.91623486277921\n",
      "Saved a checkpoint: ./.tf_ckpts/chkpt-88\n",
      "Epoch 171: average-batch loss: 32.99034829438332 last batch loss: 32.890811289750914\n",
      "Saved a checkpoint: ./.tf_ckpts/chkpt-89\n",
      "Epoch 172: average-batch loss: 32.988298314611896 last batch loss: 32.90625140897067\n",
      "Saved a checkpoint: ./.tf_ckpts/chkpt-90\n",
      "Epoch 173: average-batch loss: 33.00114423044012 last batch loss: 32.91838255504836\n",
      "We are in a loss plateau learning rate: 5.820766091346741e-12 loss: 33.06805936028928\n",
      "Restoring from a checkpoint - loss: 33.072630757325214\n",
      "Epoch 174: average-batch loss: 32.995012610923155 last batch loss: 32.92253997552571\n",
      "Epoch 175: average-batch loss: 32.99660555623134 last batch loss: 32.92882621167429\n",
      "Epoch 176: average-batch loss: 32.994538720664096 last batch loss: 32.93038963918333\n",
      "Epoch 177: average-batch loss: 32.987111930751084 last batch loss: 32.91289226207425\n",
      "Saved a checkpoint: ./.tf_ckpts/chkpt-91\n",
      "Epoch 178: average-batch loss: 32.9922986800464 last batch loss: 32.91105128313436\n",
      "Epoch 179: average-batch loss: 32.987005510081595 last batch loss: 32.90292457347197\n",
      "Saved a checkpoint: ./.tf_ckpts/chkpt-92\n",
      "Epoch 180: average-batch loss: 32.987636438151185 last batch loss: 32.91736817173315\n",
      "Epoch 181: average-batch loss: 32.98199422758321 last batch loss: 32.9023267919863\n",
      "Saved a checkpoint: ./.tf_ckpts/chkpt-93\n",
      "Epoch 182: average-batch loss: 32.978688761500365 last batch loss: 32.896035612159174\n",
      "Saved a checkpoint: ./.tf_ckpts/chkpt-94\n",
      "Epoch 183: average-batch loss: 32.984583715995605 last batch loss: 32.894462857350476\n",
      "We are in a loss plateau learning rate: 1.4551915228366853e-12 loss: 33.04037459064837\n",
      "Restoring from a checkpoint - loss: 33.03393456937255\n",
      "Epoch 184: average-batch loss: 32.981012549308 last batch loss: 32.900858668588334\n",
      "Epoch 185: average-batch loss: 32.98461466928335 last batch loss: 32.897823071893185\n",
      "Epoch 186: average-batch loss: 32.974634785817265 last batch loss: 32.89634626707459\n",
      "Saved a checkpoint: ./.tf_ckpts/chkpt-95\n",
      "Epoch 187: average-batch loss: 32.98312372272526 last batch loss: 32.90332657348041\n",
      "Epoch 188: average-batch loss: 32.976928882523524 last batch loss: 32.894473212963234\n",
      "Epoch 189: average-batch loss: 32.98171969833258 last batch loss: 32.92324690471534\n",
      "Epoch 190: average-batch loss: 32.986540050239654 last batch loss: 32.90106409624772\n",
      "We are in a loss plateau learning rate: 3.637978807091713e-13 loss: 33.04728043929594\n",
      "Restoring from a checkpoint - loss: 33.04277048133484\n",
      "Epoch 191: average-batch loss: 32.9771824649293 last batch loss: 32.90204343004112\n",
      "Epoch 192: average-batch loss: 32.989405655488255 last batch loss: 32.9008157047061\n",
      "Epoch 193: average-batch loss: 32.978953171216105 last batch loss: 32.90173241144615\n",
      "Epoch 194: average-batch loss: 32.97755618074113 last batch loss: 32.90452459148965\n",
      "Epoch 195: average-batch loss: 32.973610427400786 last batch loss: 32.90277269124976\n",
      "Saved a checkpoint: ./.tf_ckpts/chkpt-96\n",
      "Epoch 196: average-batch loss: 32.97750493009596 last batch loss: 32.89939475268958\n",
      "Epoch 197: average-batch loss: 32.97209960126254 last batch loss: 32.89688145459196\n",
      "Saved a checkpoint: ./.tf_ckpts/chkpt-97\n",
      "Epoch 198: average-batch loss: 32.973695327571114 last batch loss: 32.92335107212149\n",
      "Epoch 199: average-batch loss: 32.97368759688867 last batch loss: 32.90692164501412\n",
      "Terminating because we are out of iterations\n"
     ]
    }
   ],
   "source": [
    "losses = factor.calibrate_advi(\n",
    "    num_epochs=200, rel_tol=1e-10, learning_rate=.1)\n",
    "\n"
   ]
  },
  {
   "cell_type": "markdown",
   "metadata": {},
   "source": [
    "# Compute the WAIC"
   ]
  },
  {
   "cell_type": "code",
   "execution_count": 6,
   "metadata": {},
   "outputs": [
    {
     "name": "stdout",
     "output_type": "stream",
     "text": [
      "{'waic': 347591.8830061442, 'se': 1422.6741959592628, 'lppd': -38935.274089092665, 'pwaic': 134860.66741397942}\n"
     ]
    }
   ],
   "source": [
    "waic = factor.waic()\n",
    "print(waic)"
   ]
  },
  {
   "cell_type": "markdown",
   "metadata": {},
   "source": [
    "# Plot the factor encoding matrix"
   ]
  },
  {
   "cell_type": "code",
   "execution_count": 7,
   "metadata": {},
   "outputs": [],
   "source": [
    "intercept_data = az.convert_to_inference_data(\n",
    "    {\n",
    "        r\"$w_d$\": tf.squeeze(\n",
    "            factor.surrogate_distribution.sample(1000)['w']*factor.norm_factor).numpy().T})"
   ]
  },
  {
   "cell_type": "code",
   "execution_count": 8,
   "metadata": {},
   "outputs": [
    {
     "data": {
      "image/png": "[encoded data removed]",
      "text/plain": [
       "<Figure size 720x288 with 2 Axes>"
      ]
     },
     "metadata": {
      "needs_background": "light"
     },
     "output_type": "display_data"
    }
   ],
   "source": [
    "fig, ax = plt.subplots(figsize=(10,4))\n",
    "\n",
    "plt.imshow(factor.encoding_matrix().numpy().T, vmin=0, cmap=\"Blues\")\n",
    "plt.xticks(np.arange(D))\n",
    "ax.set_xlabel(\"item\")\n",
    "ax.set_ylabel(\"dimension\")\n",
    "plt.tick_params(axis='both', which='major', labelsize=10, labelbottom = False, bottom=False, top = True, labeltop=True)\n",
    "plt.yticks(np.arange(P))\n",
    "plt.colorbar(orientation = \"horizontal\")\n",
    "plt.show()\n"
   ]
  },
  {
   "cell_type": "code",
   "execution_count": 9,
   "metadata": {},
   "outputs": [
    {
     "data": {
      "image/png": "[encoded data removed]",
      "text/plain": [
       "<Figure size 1008x576 with 3 Axes>"
      ]
     },
     "metadata": {
      "needs_background": "light"
     },
     "output_type": "display_data"
    }
   ],
   "source": [
    "fig, ax = plt.subplots(1,2, figsize=(14,8))\n",
    "\n",
    "pcm = ax[0].imshow(factor.encoding_matrix().numpy()[::-1,:], vmin=0, cmap=\"Blues\")\n",
    "ax[0].set_yticks(np.arange(D))\n",
    "ax[0].set_yticklabels(np.arange(D))\n",
    "ax[0].set_ylabel(\"item\")\n",
    "ax[0].set_xlabel(\"factor dimension\")\n",
    "ax[0].set_xticks(np.arange(P))\n",
    "ax[0].set_xticklabels(np.arange(P))\n",
    "\n",
    "fig.colorbar(pcm, ax=ax[0], orientation = \"vertical\")\n",
    "az.plot_forest(intercept_data, ax=ax[1])\n",
    "ax[1].set_xlabel(\"background rate\")\n",
    "ax[1].set_ylim((-0.014,.466))\n",
    "ax[1].set_title(\"65% and 95% CI\")\n",
    "ax[1].axvline(3.0, linestyle='dashed', color=\"black\")\n",
    "plt.savefig('noise_factorization_sepmf.pdf', bbox_inches='tight')\n",
    "plt.show()\n"
   ]
  },
  {
   "cell_type": "markdown",
   "metadata": {},
   "source": [
    "The values in the factor encoding matrix as near zero. There is a gradient because the model induces a dimensional decay to remove symmetries - this encourages the leading dimensions to hold more of the signal."
   ]
  },
  {
   "cell_type": "code",
   "execution_count": null,
   "metadata": {},
   "outputs": [],
   "source": []
  },
  {
   "cell_type": "code",
   "execution_count": null,
   "metadata": {},
   "outputs": [],
   "source": []
  },
  {
   "cell_type": "code",
   "execution_count": null,
   "metadata": {},
   "outputs": [],
   "source": []
  },
  {
   "cell_type": "code",
   "execution_count": null,
   "metadata": {},
   "outputs": [],
   "source": []
  }
 ],
 "metadata": {
  "kernelspec": {
   "display_name": "Python 3.7.5 64-bit",
   "language": "python",
   "name": "python37564bitf92b1a92eaa047aebe1f2ca9ebe04d21"
  },
  "language_info": {
   "codemirror_mode": {
    "name": "ipython",
    "version": 3
   },
   "file_extension": ".py",
   "mimetype": "text/x-python",
   "name": "python",
   "nbconvert_exporter": "python",
   "pygments_lexer": "ipython3",
   "version": "3.7.5"
  }
 },
 "nbformat": 4,
 "nbformat_minor": 2
}
