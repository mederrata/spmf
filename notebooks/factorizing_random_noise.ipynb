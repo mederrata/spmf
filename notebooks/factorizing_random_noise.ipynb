{
 "cells": [
  {
   "cell_type": "code",
   "execution_count": 1,
   "metadata": {},
   "outputs": [
    {
     "name": "stdout",
     "output_type": "stream",
     "text": [
      "Populating the interactive namespace from numpy and matplotlib\n"
     ]
    }
   ],
   "source": [
    "%pylab inline\n",
    "import sys\n",
    "\n",
    "import numpy as np\n",
    "import tensorflow as tf\n",
    "import tensorflow_probability as tfp\n",
    "import arviz as az\n",
    "\n",
    "import matplotlib.pyplot as plt\n",
    "from matplotlib import rcParams\n",
    "import matplotlib.font_manager as fm\n",
    "\n",
    "rcParams['font.family'] = 'sans-serif'\n",
    "\n",
    "sys.path.append('../')\n",
    "from mederrata_spmf import PoissonMatrixFactorization\n"
   ]
  },
  {
   "cell_type": "markdown",
   "metadata": {},
   "source": [
    "# Generate a count matrix of random noise\n",
    "\n",
    "We want our factor model to tell us that this is just noise"
   ]
  },
  {
   "cell_type": "code",
   "execution_count": 2,
   "metadata": {},
   "outputs": [],
   "source": [
    "N = 50000\n",
    "D = 20\n",
    "P = 3\n",
    "\n",
    "# Test taking in from tf.dataset, don't pre-batch\n",
    "data = tf.data.Dataset.from_tensor_slices(\n",
    "    {\n",
    "        'data': np.random.poisson(3.0, size=(N, D)),\n",
    "        'indices': np.arange(N),\n",
    "        'normalization': np.ones(N)\n",
    "    })\n",
    "\n",
    "data = data.batch(1000)\n"
   ]
  },
  {
   "cell_type": "markdown",
   "metadata": {},
   "source": [
    "Currently, the input data has to be in this format, as a tensorflow BatchDataset object with the given key/values."
   ]
  },
  {
   "cell_type": "markdown",
   "metadata": {},
   "source": [
    "# Set up the inference object"
   ]
  },
  {
   "cell_type": "code",
   "execution_count": 3,
   "metadata": {},
   "outputs": [
    {
     "name": "stdout",
     "output_type": "stream",
     "text": [
      "Feature dim: 20 -> Latent dim 3\n"
     ]
    }
   ],
   "source": [
    "# strategy = tf.distribute.MirroredStrategy()\n",
    "strategy = None\n",
    "factor = PoissonMatrixFactorization(\n",
    "    data, latent_dim=P, auxiliary_horseshoe=True, strategy=strategy,\n",
    "    dtype=tf.float64)\n",
    "# Test to make sure sampling works\n"
   ]
  },
  {
   "cell_type": "markdown",
   "metadata": {},
   "source": [
    "## Test out the prior distributions"
   ]
  },
  {
   "cell_type": "code",
   "execution_count": 4,
   "metadata": {},
   "outputs": [],
   "source": [
    "## \n",
    "sample = factor.joint_prior.sample()\n",
    "# Compute the joint log probability of the sample\n",
    "probs = factor.joint_prior.log_prob(sample)\n",
    "sample_surrogate = factor.surrogate_distribution.sample(77)\n",
    "probs_parts = factor.unormalized_log_prob_parts(\n",
    "    **sample_surrogate, data=next(iter(data)))\n",
    "prob = factor.unormalized_log_prob(\n",
    "    **sample_surrogate,  data=next(iter(data)))\n",
    "\n"
   ]
  },
  {
   "cell_type": "markdown",
   "metadata": {},
   "source": [
    "# Inference"
   ]
  },
  {
   "cell_type": "code",
   "execution_count": 5,
   "metadata": {},
   "outputs": [
    {
     "name": "stderr",
     "output_type": "stream",
     "text": [
      "WARNING: Logging before flag parsing goes to stderr.\n",
      "W0517 15:25:07.821079 4553969088 deprecation.py:506] From /usr/local/lib/python3.7/site-packages/tensorflow_core/python/ops/resource_variable_ops.py:1786: calling BaseResourceVariable.__init__ (from tensorflow.python.ops.resource_variable_ops) with constraint is deprecated and will be removed in a future version.\n",
      "Instructions for updating:\n",
      "If using Keras pass *_constraint arguments to layers.\n"
     ]
    },
    {
     "name": "stdout",
     "output_type": "stream",
     "text": [
      "Initial loss: 143.55506866603437\n",
      "Epoch 1: average-batch loss: 51.83640555971877 last batch loss: 39.13460192136986\n",
      "Saved a checkpoint: ./.tf_ckpts/chkpt-1\n",
      "Epoch 2: average-batch loss: 38.3993430511087 last batch loss: 38.053712912164436\n",
      "Saved a checkpoint: ./.tf_ckpts/chkpt-2\n",
      "Epoch 3: average-batch loss: 37.59819550961228 last batch loss: 37.48502833521854\n",
      "Saved a checkpoint: ./.tf_ckpts/chkpt-3\n",
      "Epoch 4: average-batch loss: 37.209537546503434 last batch loss: 37.26382473964886\n",
      "Saved a checkpoint: ./.tf_ckpts/chkpt-4\n",
      "Epoch 5: average-batch loss: 36.95282751810681 last batch loss: 37.022990908626625\n",
      "Saved a checkpoint: ./.tf_ckpts/chkpt-5\n",
      "Epoch 6: average-batch loss: 36.79073171814535 last batch loss: 36.95028984514222\n",
      "Saved a checkpoint: ./.tf_ckpts/chkpt-6\n",
      "Epoch 7: average-batch loss: 36.68159991559915 last batch loss: 36.72121134104032\n",
      "Saved a checkpoint: ./.tf_ckpts/chkpt-7\n",
      "Epoch 8: average-batch loss: 36.55724763526159 last batch loss: 36.590547321851076\n",
      "Saved a checkpoint: ./.tf_ckpts/chkpt-8\n",
      "Epoch 9: average-batch loss: 36.439417775192844 last batch loss: 36.529352266453216\n",
      "Saved a checkpoint: ./.tf_ckpts/chkpt-9\n",
      "Epoch 10: average-batch loss: 36.34304622562236 last batch loss: 36.41159445322768\n",
      "Saved a checkpoint: ./.tf_ckpts/chkpt-10\n",
      "Epoch 11: average-batch loss: 36.27425535205528 last batch loss: 36.394196414940495\n",
      "Saved a checkpoint: ./.tf_ckpts/chkpt-11\n",
      "Epoch 12: average-batch loss: 36.23054195668102 last batch loss: 36.34755680081414\n",
      "Saved a checkpoint: ./.tf_ckpts/chkpt-12\n",
      "Epoch 13: average-batch loss: 36.20207314171986 last batch loss: 36.3316653014184\n",
      "Saved a checkpoint: ./.tf_ckpts/chkpt-13\n",
      "Epoch 14: average-batch loss: 36.18022971039119 last batch loss: 36.30666100750624\n",
      "Saved a checkpoint: ./.tf_ckpts/chkpt-14\n",
      "Epoch 15: average-batch loss: 36.15830173466545 last batch loss: 36.31390658932105\n",
      "Saved a checkpoint: ./.tf_ckpts/chkpt-15\n",
      "Epoch 16: average-batch loss: 36.13665615357108 last batch loss: 36.283639765306695\n",
      "Saved a checkpoint: ./.tf_ckpts/chkpt-16\n",
      "Epoch 17: average-batch loss: 36.11744226523941 last batch loss: 36.261991249748306\n",
      "Saved a checkpoint: ./.tf_ckpts/chkpt-17\n",
      "Epoch 18: average-batch loss: 36.102757657881874 last batch loss: 36.246546053348276\n",
      "Saved a checkpoint: ./.tf_ckpts/chkpt-18\n",
      "Epoch 19: average-batch loss: 36.07721302522034 last batch loss: 36.2152700407308\n",
      "Saved a checkpoint: ./.tf_ckpts/chkpt-19\n",
      "Epoch 20: average-batch loss: 36.06146766810521 last batch loss: 36.1986606109857\n",
      "Saved a checkpoint: ./.tf_ckpts/chkpt-20\n",
      "Epoch 21: average-batch loss: 36.04156426221699 last batch loss: 36.180338915955346\n",
      "Saved a checkpoint: ./.tf_ckpts/chkpt-21\n",
      "Epoch 22: average-batch loss: 36.018354245246684 last batch loss: 36.172294023042895\n",
      "Saved a checkpoint: ./.tf_ckpts/chkpt-22\n",
      "Epoch 23: average-batch loss: 36.0029989624038 last batch loss: 36.160392780030044\n",
      "Saved a checkpoint: ./.tf_ckpts/chkpt-23\n",
      "Epoch 24: average-batch loss: 35.98122019370875 last batch loss: 36.132588689454515\n",
      "Saved a checkpoint: ./.tf_ckpts/chkpt-24\n",
      "Epoch 25: average-batch loss: 35.961238348801615 last batch loss: 36.105675166396445\n",
      "Saved a checkpoint: ./.tf_ckpts/chkpt-25\n",
      "Epoch 26: average-batch loss: 35.944477685501795 last batch loss: 36.10118480430547\n",
      "Saved a checkpoint: ./.tf_ckpts/chkpt-26\n",
      "Epoch 27: average-batch loss: 35.92545695838081 last batch loss: 36.06969780418506\n",
      "Saved a checkpoint: ./.tf_ckpts/chkpt-27\n",
      "Epoch 28: average-batch loss: 35.910677028698714 last batch loss: 36.0646181835159\n",
      "Saved a checkpoint: ./.tf_ckpts/chkpt-28\n",
      "Epoch 29: average-batch loss: 35.89175110064865 last batch loss: 36.069922433578256\n",
      "Saved a checkpoint: ./.tf_ckpts/chkpt-29\n",
      "Epoch 30: average-batch loss: 35.881343374404956 last batch loss: 36.016235983667585\n",
      "Saved a checkpoint: ./.tf_ckpts/chkpt-30\n",
      "Epoch 31: average-batch loss: 35.86658178609648 last batch loss: 35.99784589209061\n",
      "Saved a checkpoint: ./.tf_ckpts/chkpt-31\n",
      "Epoch 32: average-batch loss: 35.854426539183564 last batch loss: 36.02021766989929\n",
      "Saved a checkpoint: ./.tf_ckpts/chkpt-32\n",
      "Epoch 33: average-batch loss: 35.838888185408386 last batch loss: 36.01501177837179\n",
      "Saved a checkpoint: ./.tf_ckpts/chkpt-33\n",
      "Epoch 34: average-batch loss: 35.820055575092255 last batch loss: 35.967293540488136\n",
      "Saved a checkpoint: ./.tf_ckpts/chkpt-34\n",
      "Epoch 35: average-batch loss: 35.81204868369292 last batch loss: 35.96995564468533\n",
      "Saved a checkpoint: ./.tf_ckpts/chkpt-35\n",
      "Epoch 36: average-batch loss: 35.8037351271066 last batch loss: 35.959649767093914\n",
      "Saved a checkpoint: ./.tf_ckpts/chkpt-36\n",
      "Epoch 37: average-batch loss: 35.79309430537649 last batch loss: 35.93379658317026\n",
      "Saved a checkpoint: ./.tf_ckpts/chkpt-37\n",
      "Epoch 38: average-batch loss: 35.77758210222867 last batch loss: 35.9371968571175\n",
      "Saved a checkpoint: ./.tf_ckpts/chkpt-38\n",
      "Epoch 39: average-batch loss: 35.77389676376119 last batch loss: 35.939715303377874\n",
      "Saved a checkpoint: ./.tf_ckpts/chkpt-39\n",
      "Epoch 40: average-batch loss: 35.763772007314586 last batch loss: 35.921562875505614\n",
      "Saved a checkpoint: ./.tf_ckpts/chkpt-40\n",
      "Epoch 41: average-batch loss: 35.7593197138542 last batch loss: 35.92368590394085\n",
      "Saved a checkpoint: ./.tf_ckpts/chkpt-41\n",
      "Epoch 42: average-batch loss: 35.749737716659624 last batch loss: 35.93714843545764\n",
      "Saved a checkpoint: ./.tf_ckpts/chkpt-42\n",
      "Epoch 43: average-batch loss: 35.748263941619925 last batch loss: 35.92393659493541\n",
      "Saved a checkpoint: ./.tf_ckpts/chkpt-43\n",
      "Epoch 44: average-batch loss: 35.745231289943746 last batch loss: 35.89886358702487\n",
      "Saved a checkpoint: ./.tf_ckpts/chkpt-44\n",
      "Epoch 45: average-batch loss: 35.73786638673995 last batch loss: 35.91107288529156\n",
      "Saved a checkpoint: ./.tf_ckpts/chkpt-45\n",
      "Epoch 46: average-batch loss: 35.72642418253637 last batch loss: 35.87740310026526\n",
      "Saved a checkpoint: ./.tf_ckpts/chkpt-46\n",
      "Epoch 47: average-batch loss: 35.71987599450797 last batch loss: 35.895158683096575\n",
      "Saved a checkpoint: ./.tf_ckpts/chkpt-47\n",
      "Epoch 48: average-batch loss: 35.823910242995936 last batch loss: 35.8792524686627\n",
      "We are in a loss plateau learning rate: 0.025 loss: 35.80968444413002\n",
      "Restoring from a checkpoint - loss: 35.8256417411545\n",
      "Epoch 49: average-batch loss: 35.71756754491116 last batch loss: 35.87190257672782\n",
      "Saved a checkpoint: ./.tf_ckpts/chkpt-48\n",
      "Terminating because we are out of iterations\n"
     ]
    }
   ],
   "source": [
    "losses = factor.calibrate_advi(\n",
    "    num_epochs=50, rel_tol=1e-3, learning_rate=.1)\n",
    "\n"
   ]
  },
  {
   "cell_type": "markdown",
   "metadata": {},
   "source": [
    "# Compute the WAIC"
   ]
  },
  {
   "cell_type": "code",
   "execution_count": 6,
   "metadata": {},
   "outputs": [
    {
     "name": "stdout",
     "output_type": "stream",
     "text": [
      "{'waic': <tf.Tensor: shape=(), dtype=float64, numpy=1729116.7766439463>, 'se': <tf.Tensor: shape=(), dtype=float64, numpy=8275.784901234185>, 'lppd': <tf.Tensor: shape=(), dtype=float64, numpy=-82724.3667908606>, 'pwaic': <tf.Tensor: shape=(), dtype=float64, numpy=781834.0215311125>}\n"
     ]
    }
   ],
   "source": [
    "waic = factor.waic()\n",
    "print(waic)"
   ]
  },
  {
   "cell_type": "markdown",
   "metadata": {},
   "source": [
    "# Plot the factor encoding matrix"
   ]
  },
  {
   "cell_type": "code",
   "execution_count": 7,
   "metadata": {},
   "outputs": [],
   "source": [
    "intercept_data = az.convert_to_inference_data({'w': tf.squeeze(factor.surrogate_distribution.sample(1000)['q']).numpy().T})"
   ]
  },
  {
   "cell_type": "code",
   "execution_count": 8,
   "metadata": {},
   "outputs": [
    {
     "data": {
      "image/png": "[encoded data removed]",
      "text/plain": [
       "<Figure size 720x288 with 2 Axes>"
      ]
     },
     "metadata": {
      "needs_background": "light"
     },
     "output_type": "display_data"
    }
   ],
   "source": [
    "fig, ax = plt.subplots(figsize=(10,4))\n",
    "\n",
    "plt.imshow(factor.encoding_matrix().numpy().T, vmin=0, cmap=\"Blues\")\n",
    "plt.xticks(np.arange(D))\n",
    "ax.set_xlabel(\"item\")\n",
    "ax.set_ylabel(\"dimension\")\n",
    "plt.tick_params(axis='both', which='major', labelsize=10, labelbottom = False, bottom=False, top = True, labeltop=True)\n",
    "plt.yticks(np.arange(P))\n",
    "plt.colorbar(orientation = \"horizontal\")\n",
    "plt.show()\n"
   ]
  },
  {
   "cell_type": "code",
   "execution_count": 9,
   "metadata": {},
   "outputs": [
    {
     "data": {
      "image/png": "[encoded data removed]",
      "text/plain": [
       "<Figure size 1008x576 with 3 Axes>"
      ]
     },
     "metadata": {
      "needs_background": "light"
     },
     "output_type": "display_data"
    }
   ],
   "source": [
    "fig, ax = plt.subplots(1,2, figsize=(14,8))\n",
    "\n",
    "pcm = ax[0].imshow(factor.encoding_matrix().numpy(), vmin=0, cmap=\"Blues\")\n",
    "ax[0].set_yticks(np.arange(D))\n",
    "ax[0].set_yticklabels(np.arange(D))\n",
    "ax[0].set_ylabel(\"item\")\n",
    "ax[0].set_xlabel(\"factor dimension\")\n",
    "ax[0].set_xticks(np.arange(P))\n",
    "ax[0].set_xticklabels(np.arange(P))\n",
    "\n",
    "fig.colorbar(pcm, ax=ax[0], orientation = \"vertical\")\n",
    "az.plot_forest(intercept_data, ax=ax[1])\n",
    "ax[1].set_xlabel(\"background rate\")\n",
    "ax[1].set_ylim((-0.01,.46))\n",
    "ax[1].set_title(\"65% and 95% CI\")\n",
    "ax[1].axvline(3.0, linestyle='dashed', color=\"black\")\n",
    "plt.show()\n"
   ]
  },
  {
   "cell_type": "markdown",
   "metadata": {},
   "source": [
    "The values in the factor encoding matrix as near zero. There is a gradient because the model induces a dimensional decay to remove symmetries - this encourages the leading dimensions to hold more of the signal."
   ]
  },
  {
   "cell_type": "code",
   "execution_count": null,
   "metadata": {},
   "outputs": [],
   "source": []
  },
  {
   "cell_type": "code",
   "execution_count": null,
   "metadata": {},
   "outputs": [],
   "source": []
  },
  {
   "cell_type": "code",
   "execution_count": null,
   "metadata": {},
   "outputs": [],
   "source": []
  },
  {
   "cell_type": "code",
   "execution_count": null,
   "metadata": {},
   "outputs": [],
   "source": []
  }
 ],
 "metadata": {
  "kernelspec": {
   "display_name": "Python 3.7.5 64-bit",
   "language": "python",
   "name": "python37564bitf92b1a92eaa047aebe1f2ca9ebe04d21"
  },
  "language_info": {
   "codemirror_mode": {
    "name": "ipython",
    "version": 3
   },
   "file_extension": ".py",
   "mimetype": "text/x-python",
   "name": "python",
   "nbconvert_exporter": "python",
   "pygments_lexer": "ipython3",
   "version": "3.7.5"
  }
 },
 "nbformat": 4,
 "nbformat_minor": 2
}
