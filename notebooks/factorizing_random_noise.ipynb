{
 "cells": [
  {
   "cell_type": "code",
   "execution_count": 1,
   "metadata": {},
   "outputs": [
    {
     "name": "stdout",
     "output_type": "stream",
     "text": [
      "Populating the interactive namespace from numpy and matplotlib\n"
     ]
    }
   ],
   "source": [
    "%pylab inline\n",
    "import sys\n",
    "\n",
    "import numpy as np\n",
    "import tensorflow as tf\n",
    "import tensorflow_probability as tfp\n",
    "import arviz as az\n",
    "\n",
    "import matplotlib.pyplot as plt\n",
    "from matplotlib import rcParams\n",
    "import matplotlib.font_manager as fm\n",
    "\n",
    "rcParams['font.family'] = 'sans-serif'\n",
    "\n",
    "sys.path.append('../')\n",
    "from mederrata_spmf import PoissonMatrixFactorization\n"
   ]
  },
  {
   "cell_type": "markdown",
   "metadata": {},
   "source": [
    "# Generate a count matrix of random noise\n",
    "\n",
    "We want our factor model to tell us that this is just noise"
   ]
  },
  {
   "cell_type": "code",
   "execution_count": 2,
   "metadata": {},
   "outputs": [],
   "source": [
    "N = 50000\n",
    "D = 20\n",
    "P = 3\n",
    "\n",
    "# Test taking in from tf.dataset, don't pre-batch\n",
    "data = tf.data.Dataset.from_tensor_slices(\n",
    "    {\n",
    "        'data': np.random.poisson(3.0, size=(N, D)),\n",
    "        'indices': np.arange(N),\n",
    "        'normalization': np.ones(N)\n",
    "    })\n",
    "\n",
    "data = data.batch(1000)\n"
   ]
  },
  {
   "cell_type": "markdown",
   "metadata": {},
   "source": [
    "Currently, the input data has to be in this format, as a tensorflow BatchDataset object with the given key/values."
   ]
  },
  {
   "cell_type": "markdown",
   "metadata": {},
   "source": [
    "# Set up the inference object"
   ]
  },
  {
   "cell_type": "code",
   "execution_count": 3,
   "metadata": {},
   "outputs": [
    {
     "name": "stdout",
     "output_type": "stream",
     "text": [
      "Feature dim: 20 -> Latent dim 3\n"
     ]
    }
   ],
   "source": [
    "# strategy = tf.distribute.MirroredStrategy()\n",
    "strategy = None\n",
    "factor = PoissonMatrixFactorization(\n",
    "    data, latent_dim=P, strategy=strategy,\n",
    "    encoder_function=lambda x: x, decoder_function=lambda x: x,\n",
    "    dtype=tf.float64, u_tau_scale=1.)\n",
    "# Test to make sure sampling works\n"
   ]
  },
  {
   "cell_type": "markdown",
   "metadata": {},
   "source": [
    "## Test out the prior distributions"
   ]
  },
  {
   "cell_type": "code",
   "execution_count": 4,
   "metadata": {},
   "outputs": [],
   "source": [
    "## \n",
    "sample = factor.joint_prior.sample(10)\n",
    "# Compute the joint log probability of the sample\n",
    "probs = factor.joint_prior.log_prob(sample)\n",
    "sample_surrogate = factor.surrogate_distribution.sample(77)\n",
    "probs_parts = factor.unormalized_log_prob_parts(\n",
    "    **sample_surrogate, data=next(iter(data)))\n",
    "prob = factor.unormalized_log_prob(\n",
    "    **sample_surrogate,  data=next(iter(data)))\n",
    "\n"
   ]
  },
  {
   "cell_type": "markdown",
   "metadata": {},
   "source": [
    "# Inference"
   ]
  },
  {
   "cell_type": "code",
   "execution_count": 5,
   "metadata": {},
   "outputs": [
    {
     "name": "stderr",
     "output_type": "stream",
     "text": [
      "WARNING: Logging before flag parsing goes to stderr.\n",
      "W0520 14:15:03.611629 4628884928 deprecation.py:506] From /usr/local/lib/python3.7/site-packages/tensorflow_core/python/ops/resource_variable_ops.py:1786: calling BaseResourceVariable.__init__ (from tensorflow.python.ops.resource_variable_ops) with constraint is deprecated and will be removed in a future version.\n",
      "Instructions for updating:\n",
      "If using Keras pass *_constraint arguments to layers.\n"
     ]
    },
    {
     "name": "stdout",
     "output_type": "stream",
     "text": [
      "Initial loss: 71.66859372054118\n",
      "Epoch 1: average-batch loss: 40.256628956507946 last batch loss: 36.4965930306835\n",
      "Saved a checkpoint: ./.tf_ckpts/chkpt-1\n",
      "Epoch 2: average-batch loss: 36.2972589115494 last batch loss: 36.144067098442065\n",
      "Saved a checkpoint: ./.tf_ckpts/chkpt-2\n",
      "Epoch 3: average-batch loss: 36.11783200695908 last batch loss: 36.09944412255789\n",
      "Saved a checkpoint: ./.tf_ckpts/chkpt-3\n",
      "Epoch 4: average-batch loss: 36.08521559337514 last batch loss: 36.07314195461717\n",
      "Saved a checkpoint: ./.tf_ckpts/chkpt-4\n",
      "Epoch 5: average-batch loss: 36.0638535904466 last batch loss: 36.057519950774235\n",
      "Saved a checkpoint: ./.tf_ckpts/chkpt-5\n",
      "Epoch 6: average-batch loss: 36.05598287765552 last batch loss: 36.05138629057161\n",
      "Saved a checkpoint: ./.tf_ckpts/chkpt-6\n",
      "Epoch 7: average-batch loss: 36.053631306275385 last batch loss: 36.041798486500895\n",
      "Saved a checkpoint: ./.tf_ckpts/chkpt-7\n",
      "Epoch 8: average-batch loss: 36.0437761340352 last batch loss: 36.045836658890146\n",
      "Saved a checkpoint: ./.tf_ckpts/chkpt-8\n",
      "Epoch 9: average-batch loss: 36.04011884499767 last batch loss: 36.02385872322609\n",
      "Saved a checkpoint: ./.tf_ckpts/chkpt-9\n",
      "Epoch 10: average-batch loss: 36.03213914961298 last batch loss: 35.996715937183936\n",
      "Saved a checkpoint: ./.tf_ckpts/chkpt-10\n",
      "Epoch 11: average-batch loss: 36.023211661973725 last batch loss: 36.00638581218949\n",
      "Saved a checkpoint: ./.tf_ckpts/chkpt-11\n",
      "Epoch 12: average-batch loss: 36.01900555339056 last batch loss: 35.9892529218005\n",
      "Saved a checkpoint: ./.tf_ckpts/chkpt-12\n",
      "Epoch 13: average-batch loss: 36.010468527052076 last batch loss: 36.004194614898374\n",
      "Saved a checkpoint: ./.tf_ckpts/chkpt-13\n",
      "Epoch 14: average-batch loss: 36.00232187664674 last batch loss: 35.990173712524644\n",
      "Saved a checkpoint: ./.tf_ckpts/chkpt-14\n",
      "Epoch 15: average-batch loss: 35.994732869522664 last batch loss: 35.98521469920854\n",
      "Saved a checkpoint: ./.tf_ckpts/chkpt-15\n",
      "Epoch 16: average-batch loss: 35.982643785480576 last batch loss: 35.962825981647\n",
      "Saved a checkpoint: ./.tf_ckpts/chkpt-16\n",
      "Epoch 17: average-batch loss: 35.97599125614853 last batch loss: 35.97009770613833\n",
      "Saved a checkpoint: ./.tf_ckpts/chkpt-17\n",
      "Epoch 18: average-batch loss: 35.96515568054368 last batch loss: 35.97174009643718\n",
      "Saved a checkpoint: ./.tf_ckpts/chkpt-18\n",
      "Epoch 19: average-batch loss: 35.957813129990015 last batch loss: 35.940886564399044\n",
      "Saved a checkpoint: ./.tf_ckpts/chkpt-19\n",
      "Epoch 20: average-batch loss: 35.951494123383185 last batch loss: 35.93507998522025\n",
      "Saved a checkpoint: ./.tf_ckpts/chkpt-20\n",
      "Epoch 21: average-batch loss: 35.940896713226586 last batch loss: 35.93026501957279\n",
      "Saved a checkpoint: ./.tf_ckpts/chkpt-21\n",
      "Epoch 22: average-batch loss: 35.93481358181797 last batch loss: 35.918329792504665\n",
      "Saved a checkpoint: ./.tf_ckpts/chkpt-22\n",
      "Epoch 23: average-batch loss: 35.928514914958306 last batch loss: 35.912278949639195\n",
      "Saved a checkpoint: ./.tf_ckpts/chkpt-23\n",
      "Epoch 24: average-batch loss: 35.9215861986871 last batch loss: 35.96782796688376\n",
      "Saved a checkpoint: ./.tf_ckpts/chkpt-24\n",
      "Epoch 25: average-batch loss: 35.90863896127066 last batch loss: 35.89170951987804\n",
      "Saved a checkpoint: ./.tf_ckpts/chkpt-25\n",
      "Epoch 26: average-batch loss: 35.903803927999626 last batch loss: 35.91239615177352\n",
      "Saved a checkpoint: ./.tf_ckpts/chkpt-26\n",
      "Epoch 27: average-batch loss: 35.89858256261423 last batch loss: 35.89118644955985\n",
      "Saved a checkpoint: ./.tf_ckpts/chkpt-27\n",
      "Epoch 28: average-batch loss: 35.89475549638911 last batch loss: 35.87333764289816\n",
      "Saved a checkpoint: ./.tf_ckpts/chkpt-28\n",
      "Epoch 29: average-batch loss: 35.889431453613554 last batch loss: 35.88309897355805\n",
      "Saved a checkpoint: ./.tf_ckpts/chkpt-29\n",
      "Epoch 30: average-batch loss: 35.88115883829811 last batch loss: 35.87294803838305\n",
      "Saved a checkpoint: ./.tf_ckpts/chkpt-30\n",
      "Epoch 31: average-batch loss: 35.87752771433507 last batch loss: 35.864569232774336\n",
      "Saved a checkpoint: ./.tf_ckpts/chkpt-31\n",
      "Epoch 32: average-batch loss: 35.86978457498284 last batch loss: 35.86608513464545\n",
      "Saved a checkpoint: ./.tf_ckpts/chkpt-32\n",
      "Epoch 33: average-batch loss: 35.86366301671811 last batch loss: 35.862488632796655\n",
      "Saved a checkpoint: ./.tf_ckpts/chkpt-33\n",
      "Epoch 34: average-batch loss: 35.857963623338534 last batch loss: 35.83441156473008\n",
      "Saved a checkpoint: ./.tf_ckpts/chkpt-34\n",
      "Epoch 35: average-batch loss: 35.85393502856295 last batch loss: 35.82624971410307\n",
      "Saved a checkpoint: ./.tf_ckpts/chkpt-35\n",
      "Epoch 36: average-batch loss: 35.84946151995485 last batch loss: 35.848087864099334\n",
      "Saved a checkpoint: ./.tf_ckpts/chkpt-36\n",
      "Epoch 37: average-batch loss: 35.84049100125335 last batch loss: 35.82359527844922\n",
      "Saved a checkpoint: ./.tf_ckpts/chkpt-37\n",
      "Epoch 38: average-batch loss: 35.83440719191766 last batch loss: 35.82868941648798\n",
      "Saved a checkpoint: ./.tf_ckpts/chkpt-38\n",
      "Epoch 39: average-batch loss: 35.82622936431719 last batch loss: 35.810541041648804\n",
      "Saved a checkpoint: ./.tf_ckpts/chkpt-39\n",
      "Epoch 40: average-batch loss: 35.82148333161658 last batch loss: 35.80811588512753\n",
      "Saved a checkpoint: ./.tf_ckpts/chkpt-40\n",
      "Epoch 41: average-batch loss: 35.81298254454107 last batch loss: 35.808686189119534\n",
      "Saved a checkpoint: ./.tf_ckpts/chkpt-41\n",
      "Epoch 42: average-batch loss: 35.81119382606836 last batch loss: 35.80048864769237\n",
      "Saved a checkpoint: ./.tf_ckpts/chkpt-42\n",
      "Epoch 43: average-batch loss: 35.807756884382876 last batch loss: 35.79024259882502\n",
      "Saved a checkpoint: ./.tf_ckpts/chkpt-43\n",
      "Epoch 44: average-batch loss: 35.80223549777739 last batch loss: 35.804439584822916\n",
      "Saved a checkpoint: ./.tf_ckpts/chkpt-44\n",
      "Epoch 45: average-batch loss: 35.802862626877726 last batch loss: 35.81503030213275\n",
      "Epoch 46: average-batch loss: 35.79538936465165 last batch loss: 35.77548640731851\n",
      "Saved a checkpoint: ./.tf_ckpts/chkpt-45\n",
      "Epoch 47: average-batch loss: 35.79516474942871 last batch loss: 35.77580755918142\n",
      "Saved a checkpoint: ./.tf_ckpts/chkpt-46\n",
      "Epoch 48: average-batch loss: 35.79126795521532 last batch loss: 35.790468894636376\n",
      "Saved a checkpoint: ./.tf_ckpts/chkpt-47\n",
      "Epoch 49: average-batch loss: 35.785727957407886 last batch loss: 35.77739906376454\n",
      "Saved a checkpoint: ./.tf_ckpts/chkpt-48\n",
      "Epoch 50: average-batch loss: 35.79089932999115 last batch loss: 35.790941841005726\n",
      "Epoch 51: average-batch loss: 35.785119968836206 last batch loss: 35.80574194107156\n",
      "Saved a checkpoint: ./.tf_ckpts/chkpt-49\n",
      "Epoch 52: average-batch loss: 35.783885838639144 last batch loss: 35.77725932367261\n",
      "Saved a checkpoint: ./.tf_ckpts/chkpt-50\n",
      "Epoch 53: average-batch loss: 35.786376902452865 last batch loss: 35.8054943729769\n",
      "We are in a loss plateau learning rate: 0.025 loss: 35.85974237333551\n",
      "Restoring from a checkpoint - loss: 35.844256662893805\n",
      "Epoch 54: average-batch loss: 35.783938734315456 last batch loss: 35.7899672789858\n",
      "Epoch 55: average-batch loss: 35.78074316906611 last batch loss: 35.765903005592406\n",
      "Saved a checkpoint: ./.tf_ckpts/chkpt-51\n",
      "Epoch 56: average-batch loss: 35.792685875729674 last batch loss: 35.794487456027994\n",
      "Epoch 57: average-batch loss: 35.787879818195606 last batch loss: 35.77277265451699\n",
      "Epoch 58: average-batch loss: 35.78113331017021 last batch loss: 35.770579795146006\n",
      "Epoch 59: average-batch loss: 35.78332607976552 last batch loss: 35.76370901874063\n",
      "Epoch 60: average-batch loss: 35.787985234576006 last batch loss: 35.79433895627836\n",
      "We are in a loss plateau learning rate: 0.00625 loss: 35.81294990619843\n",
      "Restoring from a checkpoint - loss: 35.82383185807847\n",
      "Epoch 61: average-batch loss: 35.78145200294993 last batch loss: 35.7722574242792\n",
      "Epoch 62: average-batch loss: 35.78372905185939 last batch loss: 35.793487154061395\n",
      "Epoch 63: average-batch loss: 35.78579001835404 last batch loss: 35.77707182135561\n",
      "Epoch 64: average-batch loss: 35.78166550694689 last batch loss: 35.765625844248966\n",
      "Epoch 65: average-batch loss: 35.78146956484821 last batch loss: 35.79044791353939\n",
      "Epoch 66: average-batch loss: 35.782311413255 last batch loss: 35.7899479422507\n",
      "We are in a loss plateau learning rate: 0.0015625 loss: 35.82397587462751\n",
      "Restoring from a checkpoint - loss: 35.82316011193763\n",
      "Epoch 67: average-batch loss: 35.777356785923374 last batch loss: 35.76940791541341\n",
      "Saved a checkpoint: ./.tf_ckpts/chkpt-52\n",
      "Epoch 68: average-batch loss: 35.778287925695466 last batch loss: 35.78501041707773\n"
     ]
    },
    {
     "name": "stdout",
     "output_type": "stream",
     "text": [
      "Epoch 69: average-batch loss: 35.78292388011001 last batch loss: 35.77596402092627\n",
      "Epoch 70: average-batch loss: 35.783810841498806 last batch loss: 35.7786259321151\n",
      "Epoch 71: average-batch loss: 35.786060761642545 last batch loss: 35.78195708365642\n",
      "We are in a loss plateau learning rate: 0.000390625 loss: 35.82909256671789\n",
      "Restoring from a checkpoint - loss: 35.816879296713246\n",
      "Epoch 72: average-batch loss: 35.78251338248913 last batch loss: 35.777034508273275\n",
      "Epoch 73: average-batch loss: 35.782706828999146 last batch loss: 35.75562484519934\n",
      "Epoch 74: average-batch loss: 35.79081068717572 last batch loss: 35.7908573427803\n",
      "Epoch 75: average-batch loss: 35.78795993957407 last batch loss: 35.79854357809871\n",
      "Epoch 76: average-batch loss: 35.78834618021112 last batch loss: 35.77534475398366\n",
      "Epoch 77: average-batch loss: 35.79668743006826 last batch loss: 35.79291550899598\n",
      "We are in a loss plateau learning rate: 9.765625e-05 loss: 35.88511019404432\n",
      "Restoring from a checkpoint - loss: 35.84731825402657\n",
      "Epoch 78: average-batch loss: 35.789141454460555 last batch loss: 35.800453291182045\n",
      "Epoch 79: average-batch loss: 35.78971948859022 last batch loss: 35.778147727825925\n",
      "Epoch 80: average-batch loss: 35.79034394335834 last batch loss: 35.780850094111344\n",
      "Epoch 81: average-batch loss: 35.78703261612884 last batch loss: 35.7944664744211\n",
      "Epoch 82: average-batch loss: 35.78587138014525 last batch loss: 35.76624756069376\n",
      "Epoch 83: average-batch loss: 35.78806400446518 last batch loss: 35.77235287866379\n",
      "We are in a loss plateau learning rate: 2.44140625e-05 loss: 35.8597012370383\n",
      "Restoring from a checkpoint - loss: 35.85768302849169\n",
      "Epoch 84: average-batch loss: 35.78665054913522 last batch loss: 35.7830641936464\n",
      "Epoch 85: average-batch loss: 35.78143350730318 last batch loss: 35.771810974866916\n",
      "Epoch 86: average-batch loss: 35.78440277810094 last batch loss: 35.78395359001175\n",
      "Epoch 87: average-batch loss: 35.78354510285506 last batch loss: 35.77436921751813\n",
      "Epoch 88: average-batch loss: 35.780955519957054 last batch loss: 35.7650459998235\n",
      "Epoch 89: average-batch loss: 35.78381336156297 last batch loss: 35.79172303948925\n",
      "We are in a loss plateau learning rate: 6.103515625e-06 loss: 35.84012721260145\n",
      "Restoring from a checkpoint - loss: 35.832728881708015\n",
      "Epoch 90: average-batch loss: 35.785097662585216 last batch loss: 35.77760946751236\n",
      "Epoch 91: average-batch loss: 35.783700861009066 last batch loss: 35.765250673941345\n",
      "Epoch 92: average-batch loss: 35.78134162481545 last batch loss: 35.791986321264325\n",
      "Epoch 93: average-batch loss: 35.78341067316125 last batch loss: 35.7814665230669\n",
      "Epoch 94: average-batch loss: 35.784030170409245 last batch loss: 35.76879712804931\n",
      "We are in a loss plateau learning rate: 1.52587890625e-06 loss: 35.83477163582211\n",
      "Restoring from a checkpoint - loss: 35.828903235326436\n",
      "Epoch 95: average-batch loss: 35.7870950433108 last batch loss: 35.770559168382725\n",
      "Epoch 96: average-batch loss: 35.783650673978656 last batch loss: 35.784979454499464\n",
      "Epoch 97: average-batch loss: 35.782265698117314 last batch loss: 35.772624222215384\n",
      "Epoch 98: average-batch loss: 35.78770900823547 last batch loss: 35.77988244084268\n",
      "Epoch 99: average-batch loss: 35.78339390968649 last batch loss: 35.7786784930568\n",
      "Terminating because we are out of iterations\n"
     ]
    }
   ],
   "source": [
    "losses = factor.calibrate_advi(\n",
    "    num_epochs=100, rel_tol=1e-4, learning_rate=.1)\n",
    "\n"
   ]
  },
  {
   "cell_type": "markdown",
   "metadata": {},
   "source": [
    "# Compute the WAIC"
   ]
  },
  {
   "cell_type": "code",
   "execution_count": 6,
   "metadata": {},
   "outputs": [
    {
     "name": "stdout",
     "output_type": "stream",
     "text": [
      "{'waic': 346600.2244299623, 'se': 1456.4871109282979, 'lppd': -38228.345359472645, 'pwaic': 135071.7668555085}\n"
     ]
    }
   ],
   "source": [
    "waic = factor.waic()\n",
    "print(waic)"
   ]
  },
  {
   "cell_type": "markdown",
   "metadata": {},
   "source": [
    "# Plot the factor encoding matrix"
   ]
  },
  {
   "cell_type": "code",
   "execution_count": 7,
   "metadata": {},
   "outputs": [],
   "source": [
    "intercept_data = az.convert_to_inference_data(\n",
    "    {\n",
    "        r\"$s_dw_d$\": tf.squeeze(\n",
    "            factor.surrogate_distribution.sample(1000)['w']*factor.norm_factor).numpy().T})"
   ]
  },
  {
   "cell_type": "code",
   "execution_count": 8,
   "metadata": {},
   "outputs": [
    {
     "data": {
      "image/png": "[encoded data removed]",
      "text/plain": [
       "<Figure size 720x288 with 2 Axes>"
      ]
     },
     "metadata": {
      "needs_background": "light"
     },
     "output_type": "display_data"
    }
   ],
   "source": [
    "fig, ax = plt.subplots(figsize=(10,4))\n",
    "\n",
    "plt.imshow(factor.encoding_matrix().numpy().T, vmin=0, cmap=\"Blues\")\n",
    "plt.xticks(np.arange(D))\n",
    "ax.set_xlabel(\"item\")\n",
    "ax.set_ylabel(\"dimension\")\n",
    "plt.tick_params(axis='both', which='major', labelsize=10, labelbottom = False, bottom=False, top = True, labeltop=True)\n",
    "plt.yticks(np.arange(P))\n",
    "plt.colorbar(orientation = \"horizontal\")\n",
    "plt.show()\n"
   ]
  },
  {
   "cell_type": "code",
   "execution_count": 9,
   "metadata": {},
   "outputs": [
    {
     "data": {
      "image/png": "[encoded data removed]",
      "text/plain": [
       "<Figure size 1008x576 with 3 Axes>"
      ]
     },
     "metadata": {
      "needs_background": "light"
     },
     "output_type": "display_data"
    }
   ],
   "source": [
    "fig, ax = plt.subplots(1,2, figsize=(14,8))\n",
    "\n",
    "pcm = ax[0].imshow(factor.encoding_matrix().numpy()[::-1,:], vmin=0, cmap=\"Blues\")\n",
    "ax[0].set_yticks(np.arange(D))\n",
    "ax[0].set_yticklabels(np.arange(D))\n",
    "ax[0].set_ylabel(\"item\")\n",
    "ax[0].set_xlabel(\"factor dimension\")\n",
    "ax[0].set_xticks(np.arange(P))\n",
    "ax[0].set_xticklabels(np.arange(P))\n",
    "\n",
    "fig.colorbar(pcm, ax=ax[0], orientation = \"vertical\")\n",
    "az.plot_forest(intercept_data, ax=ax[1])\n",
    "ax[1].set_xlabel(\"background rate\")\n",
    "ax[1].set_ylim((-0.014,.466))\n",
    "ax[1].set_title(\"65% and 95% CI\")\n",
    "ax[1].axvline(3.0, linestyle='dashed', color=\"black\")\n",
    "plt.savefig('noise_factorization_sepmf.pdf', bbox_inches='tight')\n",
    "plt.show()\n"
   ]
  },
  {
   "cell_type": "markdown",
   "metadata": {},
   "source": [
    "The values in the factor encoding matrix as near zero. There is a gradient because the model induces a dimensional decay to remove symmetries - this encourages the leading dimensions to hold more of the signal."
   ]
  },
  {
   "cell_type": "code",
   "execution_count": 10,
   "metadata": {},
   "outputs": [
    {
     "data": {
      "text/plain": [
       "<tf.Tensor: shape=(2, 20), dtype=float64, numpy=\n",
       "array([[5.55340783e-04, 4.88022769e-04, 6.08527930e-04, 4.45565622e-04,\n",
       "        5.53583459e-04, 5.80796891e-04, 4.85448677e-04, 4.07464574e-04,\n",
       "        5.48561262e-04, 6.55232406e-04, 6.06814915e-04, 5.89765986e-04,\n",
       "        6.21201824e-04, 6.33761701e-04, 4.65155957e-04, 5.53999254e-04,\n",
       "        5.45714805e-04, 7.06223561e-04, 3.74717515e-04, 6.82839262e-04],\n",
       "       [9.99444659e-01, 9.99511977e-01, 9.99391472e-01, 9.99554434e-01,\n",
       "        9.99446417e-01, 9.99419203e-01, 9.99514551e-01, 9.99592535e-01,\n",
       "        9.99451439e-01, 9.99344768e-01, 9.99393185e-01, 9.99410234e-01,\n",
       "        9.99378798e-01, 9.99366238e-01, 9.99534844e-01, 9.99446001e-01,\n",
       "        9.99454285e-01, 9.99293776e-01, 9.99625282e-01, 9.99317161e-01]])>"
      ]
     },
     "execution_count": 10,
     "metadata": {},
     "output_type": "execute_result"
    }
   ],
   "source": [
    "factor.calibrated_expectations['s']/tf.reduce_sum(factor.calibrated_expectations['s'], axis=0, keepdims=True)"
   ]
  },
  {
   "cell_type": "code",
   "execution_count": 11,
   "metadata": {},
   "outputs": [
    {
     "data": {
      "image/png": "[encoded data removed]",
      "text/plain": [
       "<Figure size 1008x576 with 3 Axes>"
      ]
     },
     "metadata": {
      "needs_background": "light"
     },
     "output_type": "display_data"
    }
   ],
   "source": [
    "fig, ax = plt.subplots(1,2, figsize=(14,8))\n",
    "\n",
    "pcm = ax[0].imshow(factor.decoding_matrix().numpy().T[::-1,:], vmin=0, cmap=\"Blues\")\n",
    "ax[0].set_yticks(np.arange(D))\n",
    "ax[0].set_yticklabels(np.arange(D))\n",
    "ax[0].set_ylabel(\"item\")\n",
    "ax[0].set_xlabel(\"factor dimension\")\n",
    "ax[0].set_xticks(np.arange(P))\n",
    "ax[0].set_xticklabels(np.arange(P))\n",
    "\n",
    "fig.colorbar(pcm, ax=ax[0], orientation = \"vertical\")\n",
    "az.plot_forest(intercept_data, ax=ax[1])\n",
    "ax[1].set_xlabel(\"background rate\")\n",
    "ax[1].set_ylim((-0.014,.466))\n",
    "ax[1].set_title(\"65% and 95% CI\")\n",
    "ax[1].axvline(3.0, linestyle='dashed', color=\"black\")\n",
    "plt.show()\n"
   ]
  },
  {
   "cell_type": "code",
   "execution_count": null,
   "metadata": {},
   "outputs": [],
   "source": []
  },
  {
   "cell_type": "code",
   "execution_count": null,
   "metadata": {},
   "outputs": [],
   "source": []
  }
 ],
 "metadata": {
  "kernelspec": {
   "display_name": "Python 3.7.5 64-bit",
   "language": "python",
   "name": "python37564bitf92b1a92eaa047aebe1f2ca9ebe04d21"
  },
  "language_info": {
   "codemirror_mode": {
    "name": "ipython",
    "version": 3
   },
   "file_extension": ".py",
   "mimetype": "text/x-python",
   "name": "python",
   "nbconvert_exporter": "python",
   "pygments_lexer": "ipython3",
   "version": "3.7.5"
  }
 },
 "nbformat": 4,
 "nbformat_minor": 2
}
