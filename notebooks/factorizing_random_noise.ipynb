{
 "cells": [
  {
   "cell_type": "code",
   "execution_count": 1,
   "metadata": {},
   "outputs": [
    {
     "name": "stdout",
     "output_type": "stream",
     "text": [
      "Populating the interactive namespace from numpy and matplotlib\n"
     ]
    }
   ],
   "source": [
    "%pylab inline\n",
    "import sys\n",
    "\n",
    "import numpy as np\n",
    "import tensorflow as tf\n",
    "import tensorflow_probability as tfp\n",
    "import arviz as az\n",
    "\n",
    "import matplotlib.pyplot as plt\n",
    "from matplotlib import rcParams\n",
    "import matplotlib.font_manager as fm\n",
    "\n",
    "rcParams['font.family'] = 'sans-serif'\n",
    "\n",
    "sys.path.append('../')\n",
    "from mederrata_spmf import PoissonMatrixFactorization\n"
   ]
  },
  {
   "cell_type": "markdown",
   "metadata": {},
   "source": [
    "# Generate a count matrix of random noise\n",
    "\n",
    "We want our factor model to tell us that this is just noise"
   ]
  },
  {
   "cell_type": "code",
   "execution_count": 2,
   "metadata": {},
   "outputs": [],
   "source": [
    "N = 50000\n",
    "D = 30\n",
    "P = 3\n",
    "\n",
    "# Test taking in from tf.dataset, don't pre-batch\n",
    "data = tf.data.Dataset.from_tensor_slices(\n",
    "    {\n",
    "        'data': np.random.poisson(1.0, size=(N, D)),\n",
    "        'indices': np.arange(N),\n",
    "        'normalization': np.ones(N)\n",
    "    })\n",
    "\n",
    "data = data.batch(10000)\n"
   ]
  },
  {
   "cell_type": "markdown",
   "metadata": {},
   "source": [
    "Currently, the input data has to be in this format, as a tensorflow BatchDataset object with the given key/values."
   ]
  },
  {
   "cell_type": "markdown",
   "metadata": {},
   "source": [
    "# Set up the inference object"
   ]
  },
  {
   "cell_type": "code",
   "execution_count": 3,
   "metadata": {},
   "outputs": [
    {
     "name": "stdout",
     "output_type": "stream",
     "text": [
      "Feature dim: 30 -> Latent dim 3\n"
     ]
    }
   ],
   "source": [
    "# strategy = tf.distribute.MirroredStrategy()\n",
    "strategy = None\n",
    "factor = PoissonMatrixFactorization(\n",
    "    data, latent_dim=P, strategy=strategy,\n",
    "    encoder_function=lambda x: x, decoder_function=lambda x: x,\n",
    "    u_tau_scale=1.0/P/D/np.sqrt(N)*1e-3,\n",
    "    dtype=tf.float64)\n",
    "# Test to make sure sampling works\n"
   ]
  },
  {
   "cell_type": "markdown",
   "metadata": {},
   "source": [
    "## Test out the prior distributions"
   ]
  },
  {
   "cell_type": "code",
   "execution_count": 4,
   "metadata": {},
   "outputs": [],
   "source": [
    "## \n",
    "sample = factor.joint_prior.sample(10)\n",
    "# Compute the joint log probability of the sample\n",
    "probs = factor.joint_prior.log_prob(sample)\n",
    "sample_surrogate = factor.surrogate_distribution.sample(77)\n",
    "probs_parts = factor.unormalized_log_prob_parts(\n",
    "    **sample_surrogate, data=next(iter(data)))\n",
    "prob = factor.unormalized_log_prob(\n",
    "    **sample_surrogate,  data=next(iter(data)))\n",
    "\n"
   ]
  },
  {
   "cell_type": "markdown",
   "metadata": {},
   "source": [
    "# Inference"
   ]
  },
  {
   "cell_type": "code",
   "execution_count": 5,
   "metadata": {},
   "outputs": [
    {
     "name": "stderr",
     "output_type": "stream",
     "text": [
      "WARNING: Logging before flag parsing goes to stderr.\n",
      "W0521 16:00:11.959895 4713360832 deprecation.py:506] From /usr/local/lib/python3.7/site-packages/tensorflow_core/python/ops/resource_variable_ops.py:1786: calling BaseResourceVariable.__init__ (from tensorflow.python.ops.resource_variable_ops) with constraint is deprecated and will be removed in a future version.\n",
      "Instructions for updating:\n",
      "If using Keras pass *_constraint arguments to layers.\n"
     ]
    },
    {
     "name": "stdout",
     "output_type": "stream",
     "text": [
      "Initial loss: 52.059446546435964\n",
      "Epoch 1: average-batch loss: 46.26315832717439 last batch loss: 41.28391611574196\n",
      "Saved a checkpoint: ./.tf_ckpts/chkpt-1\n",
      "Epoch 2: average-batch loss: 40.59324960799382 last batch loss: 38.49120640117935\n",
      "Saved a checkpoint: ./.tf_ckpts/chkpt-2\n",
      "Epoch 3: average-batch loss: 37.479789702868324 last batch loss: 36.92754404674349\n",
      "Saved a checkpoint: ./.tf_ckpts/chkpt-3\n",
      "Epoch 4: average-batch loss: 36.215794069776805 last batch loss: 36.18518639300415\n",
      "Saved a checkpoint: ./.tf_ckpts/chkpt-4\n",
      "Epoch 5: average-batch loss: 35.91048186902074 last batch loss: 35.907452562254754\n",
      "Saved a checkpoint: ./.tf_ckpts/chkpt-5\n",
      "Epoch 6: average-batch loss: 35.90600237794964 last batch loss: 35.975842684580414\n",
      "Saved a checkpoint: ./.tf_ckpts/chkpt-6\n",
      "Epoch 7: average-batch loss: 35.90492177061298 last batch loss: 35.93856186025684\n",
      "Saved a checkpoint: ./.tf_ckpts/chkpt-7\n",
      "Epoch 8: average-batch loss: 35.91257433606606 last batch loss: 35.89764226639178\n",
      "We are in a loss plateau learning rate: 0.025 loss: 35.88262752978568\n",
      "Restoring from a checkpoint - loss: 35.88073676783819\n",
      "Epoch 9: average-batch loss: 35.88382384235209 last batch loss: 35.867265424144165\n",
      "Saved a checkpoint: ./.tf_ckpts/chkpt-8\n",
      "Epoch 10: average-batch loss: 35.85125043610883 last batch loss: 35.84481355167979\n",
      "Saved a checkpoint: ./.tf_ckpts/chkpt-9\n",
      "Epoch 11: average-batch loss: 35.83346363246402 last batch loss: 35.831670489929515\n",
      "Saved a checkpoint: ./.tf_ckpts/chkpt-10\n",
      "Epoch 12: average-batch loss: 35.82521332130972 last batch loss: 35.81976677691505\n",
      "Saved a checkpoint: ./.tf_ckpts/chkpt-11\n",
      "Epoch 13: average-batch loss: 35.82143906409433 last batch loss: 35.81621893261571\n",
      "Saved a checkpoint: ./.tf_ckpts/chkpt-12\n",
      "Epoch 14: average-batch loss: 35.816510553783125 last batch loss: 35.812154940774796\n",
      "Saved a checkpoint: ./.tf_ckpts/chkpt-13\n",
      "Epoch 15: average-batch loss: 35.81168850908192 last batch loss: 35.808089716310086\n",
      "Saved a checkpoint: ./.tf_ckpts/chkpt-14\n",
      "Epoch 16: average-batch loss: 35.80712247108963 last batch loss: 35.8047303417161\n",
      "Saved a checkpoint: ./.tf_ckpts/chkpt-15\n",
      "Epoch 17: average-batch loss: 35.80299219398497 last batch loss: 35.8006847795389\n",
      "Saved a checkpoint: ./.tf_ckpts/chkpt-16\n",
      "Epoch 18: average-batch loss: 35.798392962127075 last batch loss: 35.79357428070872\n",
      "Saved a checkpoint: ./.tf_ckpts/chkpt-17\n",
      "Epoch 19: average-batch loss: 35.796099910364674 last batch loss: 35.79207601807789\n",
      "Saved a checkpoint: ./.tf_ckpts/chkpt-18\n",
      "Epoch 20: average-batch loss: 35.793056939519815 last batch loss: 35.78838729980747\n",
      "Saved a checkpoint: ./.tf_ckpts/chkpt-19\n",
      "Epoch 21: average-batch loss: 35.79009281808736 last batch loss: 35.78648885616728\n",
      "Saved a checkpoint: ./.tf_ckpts/chkpt-20\n",
      "Epoch 22: average-batch loss: 35.786014834085464 last batch loss: 35.78260022170691\n",
      "Saved a checkpoint: ./.tf_ckpts/chkpt-21\n",
      "Epoch 23: average-batch loss: 35.78250429704515 last batch loss: 35.78025761607514\n",
      "Saved a checkpoint: ./.tf_ckpts/chkpt-22\n",
      "Epoch 24: average-batch loss: 35.781209693378266 last batch loss: 35.77631268230265\n",
      "Saved a checkpoint: ./.tf_ckpts/chkpt-23\n",
      "Epoch 25: average-batch loss: 35.77851712671209 last batch loss: 35.77468095021275\n",
      "Saved a checkpoint: ./.tf_ckpts/chkpt-24\n",
      "Epoch 26: average-batch loss: 35.776567868766975 last batch loss: 35.77366652527703\n",
      "Saved a checkpoint: ./.tf_ckpts/chkpt-25\n",
      "Epoch 27: average-batch loss: 35.775150377358514 last batch loss: 35.77047058491338\n",
      "Saved a checkpoint: ./.tf_ckpts/chkpt-26\n",
      "Epoch 28: average-batch loss: 35.77333636255503 last batch loss: 35.77038133605809\n",
      "Saved a checkpoint: ./.tf_ckpts/chkpt-27\n",
      "Epoch 29: average-batch loss: 35.771235724043905 last batch loss: 35.76638091808816\n",
      "Saved a checkpoint: ./.tf_ckpts/chkpt-28\n",
      "Epoch 30: average-batch loss: 35.77134991003639 last batch loss: 35.76475226105541\n",
      "Epoch 31: average-batch loss: 35.7714069386922 last batch loss: 35.76745181240895\n",
      "We are in a loss plateau learning rate: 0.00625 loss: 35.75817925925665\n",
      "Restoring from a checkpoint - loss: 35.7563203983701\n",
      "Epoch 32: average-batch loss: 35.77005844311715 last batch loss: 35.7641937085259\n",
      "Saved a checkpoint: ./.tf_ckpts/chkpt-29\n",
      "Epoch 33: average-batch loss: 35.767247833247154 last batch loss: 35.76328484322214\n",
      "Saved a checkpoint: ./.tf_ckpts/chkpt-30\n",
      "Epoch 34: average-batch loss: 35.77020372457332 last batch loss: 35.765576849687115\n",
      "Epoch 35: average-batch loss: 35.766194089179706 last batch loss: 35.764792148626796\n",
      "Saved a checkpoint: ./.tf_ckpts/chkpt-31\n",
      "Epoch 36: average-batch loss: 35.76634146768565 last batch loss: 35.76136686851985\n",
      "Epoch 37: average-batch loss: 35.76658570664098 last batch loss: 35.76278618958213\n",
      "We are in a loss plateau learning rate: 0.0015625 loss: 35.75242038935172\n",
      "Restoring from a checkpoint - loss: 35.75103706344041\n",
      "Epoch 38: average-batch loss: 35.7653251521393 last batch loss: 35.76330759862489\n",
      "Saved a checkpoint: ./.tf_ckpts/chkpt-32\n",
      "Epoch 39: average-batch loss: 35.76505456698791 last batch loss: 35.76299408876626\n",
      "Saved a checkpoint: ./.tf_ckpts/chkpt-33\n",
      "Epoch 40: average-batch loss: 35.76351773566789 last batch loss: 35.7590089643684\n",
      "Saved a checkpoint: ./.tf_ckpts/chkpt-34\n",
      "Epoch 41: average-batch loss: 35.76171082313685 last batch loss: 35.76068853805245\n",
      "Saved a checkpoint: ./.tf_ckpts/chkpt-35\n",
      "Epoch 42: average-batch loss: 35.76105718352516 last batch loss: 35.7618964386256\n",
      "Saved a checkpoint: ./.tf_ckpts/chkpt-36\n",
      "Epoch 43: average-batch loss: 35.759021747008696 last batch loss: 35.75903138462301\n",
      "Saved a checkpoint: ./.tf_ckpts/chkpt-37\n",
      "Epoch 44: average-batch loss: 35.760193781034026 last batch loss: 35.75621636148078\n",
      "Epoch 45: average-batch loss: 35.75524517522121 last batch loss: 35.74925056776442\n",
      "Saved a checkpoint: ./.tf_ckpts/chkpt-38\n",
      "Epoch 46: average-batch loss: 35.75784111112774 last batch loss: 35.753896699307894\n",
      "Epoch 47: average-batch loss: 35.75299211802412 last batch loss: 35.751723505872896\n",
      "Saved a checkpoint: ./.tf_ckpts/chkpt-39\n",
      "Epoch 48: average-batch loss: 35.75035384569729 last batch loss: 35.744388269141844\n",
      "Saved a checkpoint: ./.tf_ckpts/chkpt-40\n",
      "Epoch 49: average-batch loss: 35.74766664621536 last batch loss: 35.74620443371924\n",
      "Saved a checkpoint: ./.tf_ckpts/chkpt-41\n",
      "Terminating because we are out of iterations\n"
     ]
    }
   ],
   "source": [
    "losses = factor.calibrate_advi(\n",
    "    num_epochs=50, rel_tol=1e-4, learning_rate=.1)\n",
    "\n"
   ]
  },
  {
   "cell_type": "markdown",
   "metadata": {},
   "source": [
    "# Compute the WAIC"
   ]
  },
  {
   "cell_type": "code",
   "execution_count": 6,
   "metadata": {},
   "outputs": [
    {
     "name": "stdout",
     "output_type": "stream",
     "text": [
      "{'waic': 1126905.2664148048, 'se': 1217.705241412601, 'lppd': -410789.27944339823, 'pwaic': 152663.3537640042}\n"
     ]
    }
   ],
   "source": [
    "waic = factor.waic()\n",
    "print(waic)"
   ]
  },
  {
   "cell_type": "markdown",
   "metadata": {},
   "source": [
    "# Plot the factor encoding matrix"
   ]
  },
  {
   "cell_type": "code",
   "execution_count": 7,
   "metadata": {},
   "outputs": [],
   "source": [
    "surrogate_samples = factor.surrogate_distribution.sample(1000)\n",
    "weights = surrogate_samples['s']/tf.reduce_sum(surrogate_samples['s'],-2,keepdims=True)\n",
    "intercept_data = az.convert_to_inference_data(\n",
    "    {\n",
    "        r\"$w_d$\": \n",
    "            (tf.squeeze(surrogate_samples['w'])*weights[:,-1,:]*factor.norm_factor).numpy().T})"
   ]
  },
  {
   "cell_type": "code",
   "execution_count": 8,
   "metadata": {},
   "outputs": [
    {
     "data": {
      "text/plain": [
       "<tf.Tensor: shape=(1, 30), dtype=float64, numpy=\n",
       "array([[0.95333764, 0.95737283, 0.95131589, 0.96035974, 0.95602418,\n",
       "        0.96812555, 0.97316182, 0.95279597, 0.9689388 , 0.96148673,\n",
       "        0.95861378, 0.96119517, 0.9509343 , 0.96427938, 0.9679082 ,\n",
       "        0.96127117, 0.9503966 , 0.95700991, 0.94844204, 0.96085442,\n",
       "        0.95545641, 0.95527032, 0.96052719, 0.96009854, 0.96707851,\n",
       "        0.96199038, 0.96896671, 0.90900482, 0.95663315, 0.94637118]])>"
      ]
     },
     "execution_count": 8,
     "metadata": {},
     "output_type": "execute_result"
    }
   ],
   "source": [
    "factor.intercept_matrix()"
   ]
  },
  {
   "cell_type": "code",
   "execution_count": 9,
   "metadata": {},
   "outputs": [
    {
     "data": {
      "image/png": "[encoded data removed]",
      "text/plain": [
       "<Figure size 720x288 with 2 Axes>"
      ]
     },
     "metadata": {
      "needs_background": "light"
     },
     "output_type": "display_data"
    }
   ],
   "source": [
    "fig, ax = plt.subplots(figsize=(10,4))\n",
    "\n",
    "plt.imshow(factor.encoding_matrix().numpy().T, vmin=0, cmap=\"Blues\")\n",
    "plt.xticks(np.arange(D))\n",
    "ax.set_xlabel(\"item\")\n",
    "ax.set_ylabel(\"dimension\")\n",
    "plt.tick_params(axis='both', which='major', labelsize=10, labelbottom = False, bottom=False, top = True, labeltop=True)\n",
    "plt.yticks(np.arange(P))\n",
    "plt.colorbar(orientation = \"horizontal\")\n",
    "plt.show()\n"
   ]
  },
  {
   "cell_type": "code",
   "execution_count": 10,
   "metadata": {},
   "outputs": [
    {
     "data": {
      "image/png": "[encoded data removed]",
      "text/plain": [
       "<Figure size 1008x576 with 3 Axes>"
      ]
     },
     "metadata": {
      "needs_background": "light"
     },
     "output_type": "display_data"
    }
   ],
   "source": [
    "fig, ax = plt.subplots(1,2, figsize=(14,8))\n",
    "\n",
    "pcm = ax[0].imshow(factor.encoding_matrix().numpy()[::-1,:], vmin=0, cmap=\"Blues\")\n",
    "ax[0].set_yticks(np.arange(D))\n",
    "ax[0].set_yticklabels(np.arange(D))\n",
    "ax[0].set_ylabel(\"item\")\n",
    "ax[0].set_xlabel(\"factor dimension\")\n",
    "ax[0].set_xticks(np.arange(P))\n",
    "ax[0].set_xticklabels(np.arange(P))\n",
    "\n",
    "fig.colorbar(pcm, ax=ax[0], orientation = \"vertical\")\n",
    "az.plot_forest(intercept_data, ax=ax[1])\n",
    "ax[1].set_xlabel(\"background rate\")\n",
    "ax[1].set_ylim((-0.014,.466))\n",
    "ax[1].set_title(\"65% and 95% CI\")\n",
    "ax[1].axvline(1.0, linestyle='dashed', color=\"black\")\n",
    "plt.savefig('noise_factorization_sepmf.pdf', bbox_inches='tight')\n",
    "plt.show()\n"
   ]
  },
  {
   "cell_type": "markdown",
   "metadata": {},
   "source": [
    "The values in the factor encoding matrix as near zero. There is a gradient because the model induces a dimensional decay to remove symmetries - this encourages the leading dimensions to hold more of the signal."
   ]
  },
  {
   "cell_type": "code",
   "execution_count": 11,
   "metadata": {},
   "outputs": [
    {
     "data": {
      "text/plain": [
       "<tf.Tensor: shape=(2, 30), dtype=float64, numpy=\n",
       "array([[0.2362347 , 0.24087933, 0.23854794, 0.23993028, 0.24416113,\n",
       "        0.23976315, 0.23433853, 0.23636954, 0.23750465, 0.23249601,\n",
       "        0.23662609, 0.23517676, 0.23372248, 0.23703863, 0.24187367,\n",
       "        0.23677087, 0.24674438, 0.23104004, 0.2372224 , 0.23906781,\n",
       "        0.2395541 , 0.23572896, 0.2374418 , 0.24101812, 0.23608085,\n",
       "        0.23330573, 0.23741193, 0.2488472 , 0.23714061, 0.24324769],\n",
       "       [0.7637653 , 0.75912067, 0.76145206, 0.76006972, 0.75583887,\n",
       "        0.76023685, 0.76566147, 0.76363046, 0.76249535, 0.76750399,\n",
       "        0.76337391, 0.76482324, 0.76627752, 0.76296137, 0.75812633,\n",
       "        0.76322913, 0.75325562, 0.76895996, 0.7627776 , 0.76093219,\n",
       "        0.7604459 , 0.76427104, 0.7625582 , 0.75898188, 0.76391915,\n",
       "        0.76669427, 0.76258807, 0.7511528 , 0.76285939, 0.75675231]])>"
      ]
     },
     "execution_count": 11,
     "metadata": {},
     "output_type": "execute_result"
    }
   ],
   "source": [
    "factor.calibrated_expectations['s']/tf.reduce_sum(factor.calibrated_expectations['s'], axis=0, keepdims=True)"
   ]
  },
  {
   "cell_type": "code",
   "execution_count": 12,
   "metadata": {},
   "outputs": [
    {
     "data": {
      "image/png": "[encoded data removed]",
      "text/plain": [
       "<Figure size 1008x576 with 3 Axes>"
      ]
     },
     "metadata": {
      "needs_background": "light"
     },
     "output_type": "display_data"
    }
   ],
   "source": [
    "fig, ax = plt.subplots(1,2, figsize=(14,8))\n",
    "\n",
    "pcm = ax[0].imshow(factor.decoding_matrix().numpy().T[::-1,:], vmin=0, cmap=\"Blues\")\n",
    "ax[0].set_yticks(np.arange(D))\n",
    "ax[0].set_yticklabels(np.arange(D))\n",
    "ax[0].set_ylabel(\"item\")\n",
    "ax[0].set_xlabel(\"factor dimension\")\n",
    "ax[0].set_xticks(np.arange(P))\n",
    "ax[0].set_xticklabels(np.arange(P))\n",
    "\n",
    "fig.colorbar(pcm, ax=ax[0], orientation = \"vertical\")\n",
    "az.plot_forest(intercept_data, ax=ax[1])\n",
    "ax[1].set_xlabel(\"background rate\")\n",
    "ax[1].set_ylim((-0.014,.466))\n",
    "ax[1].set_title(\"65% and 95% CI\")\n",
    "ax[1].axvline(1.0, linestyle='dashed', color=\"black\")\n",
    "plt.show()\n"
   ]
  },
  {
   "cell_type": "code",
   "execution_count": null,
   "metadata": {},
   "outputs": [],
   "source": []
  },
  {
   "cell_type": "code",
   "execution_count": null,
   "metadata": {},
   "outputs": [],
   "source": []
  }
 ],
 "metadata": {
  "kernelspec": {
   "display_name": "Python 3.7.5 64-bit",
   "language": "python",
   "name": "python37564bitf92b1a92eaa047aebe1f2ca9ebe04d21"
  },
  "language_info": {
   "codemirror_mode": {
    "name": "ipython",
    "version": 3
   },
   "file_extension": ".py",
   "mimetype": "text/x-python",
   "name": "python",
   "nbconvert_exporter": "python",
   "pygments_lexer": "ipython3",
   "version": "3.7.5"
  }
 },
 "nbformat": 4,
 "nbformat_minor": 2
}
