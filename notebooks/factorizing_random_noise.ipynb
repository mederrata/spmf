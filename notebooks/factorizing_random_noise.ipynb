{
 "cells": [
  {
   "cell_type": "code",
   "execution_count": 1,
   "metadata": {},
   "outputs": [
    {
     "name": "stdout",
     "output_type": "stream",
     "text": [
      "Populating the interactive namespace from numpy and matplotlib\n"
     ]
    }
   ],
   "source": [
    "%pylab inline\n",
    "import sys\n",
    "\n",
    "import numpy as np\n",
    "import tensorflow as tf\n",
    "import tensorflow_probability as tfp\n",
    "import arviz as az\n",
    "\n",
    "import matplotlib.pyplot as plt\n",
    "from matplotlib import rcParams\n",
    "import matplotlib.font_manager as fm\n",
    "\n",
    "rcParams['font.family'] = 'sans-serif'\n",
    "\n",
    "sys.path.append('../')\n",
    "from mederrata_spmf import PoissonMatrixFactorization\n"
   ]
  },
  {
   "attachments": {},
   "cell_type": "markdown",
   "metadata": {},
   "source": [
    "# Generate a count matrix of random noise\n",
    "\n",
    "We want our factor model to tell us that this is just noise"
   ]
  },
  {
   "cell_type": "code",
   "execution_count": 2,
   "metadata": {},
   "outputs": [],
   "source": [
    "N = 50000\n",
    "D = 30\n",
    "P = 4\n",
    "\n",
    "# Test taking in from tf.dataset, don't pre-batch\n",
    "data = tf.data.Dataset.from_tensor_slices(\n",
    "    {\n",
    "        'counts': np.random.poisson(1.0, size=(N, D)),\n",
    "        'indices': np.arange(N),\n",
    "    })\n",
    "\n",
    "data = data.batch(1000)\n"
   ]
  },
  {
   "attachments": {},
   "cell_type": "markdown",
   "metadata": {},
   "source": [
    "Currently, the input data has to be in this format, as a tensorflow BatchDataset object with the given key/values."
   ]
  },
  {
   "attachments": {},
   "cell_type": "markdown",
   "metadata": {},
   "source": [
    "# Set up the inference object"
   ]
  },
  {
   "cell_type": "code",
   "execution_count": 3,
   "metadata": {},
   "outputs": [
    {
     "name": "stdout",
     "output_type": "stream",
     "text": [
      "Looping through the entire dataset once to get some stats\n",
      "Feature dim: 30 -> Latent dim 4\n"
     ]
    }
   ],
   "source": [
    "# strategy = tf.distribute.MirroredStrategy()\n",
    "strategy = None\n",
    "factor = PoissonMatrixFactorization(\n",
    "    data, latent_dim=P, strategy=strategy,\n",
    "    u_tau_scale=1.0/np.sqrt(D*N),\n",
    "    dtype=tf.float64)\n",
    "# Test to make sure sampling works\n"
   ]
  },
  {
   "attachments": {},
   "cell_type": "markdown",
   "metadata": {},
   "source": [
    "# Inference"
   ]
  },
  {
   "cell_type": "code",
   "execution_count": 4,
   "metadata": {},
   "outputs": [
    {
     "name": "stdout",
     "output_type": "stream",
     "text": [
      "Initial loss: 44.13152280855831\n",
      "Epoch 1: average-batch loss: 43.353231421619064 last batch loss: 43.000628571823775\n",
      "Saved a checkpoint: ./.tf_ckpts/3c264df9-4e73-403f-adf3-1a8fee143964/3c264df9-4e73-403f-adf3-1a8fee143964-1\n",
      "Epoch 2: average-batch loss: 42.56571656362709 last batch loss: 42.329743119167155\n",
      "Saved a checkpoint: ./.tf_ckpts/3c264df9-4e73-403f-adf3-1a8fee143964/3c264df9-4e73-403f-adf3-1a8fee143964-2\n",
      "Epoch 3: average-batch loss: 41.956856755999226 last batch loss: 41.71911894726435\n",
      "Saved a checkpoint: ./.tf_ckpts/3c264df9-4e73-403f-adf3-1a8fee143964/3c264df9-4e73-403f-adf3-1a8fee143964-3\n",
      "Epoch 4: average-batch loss: 41.385839702186715 last batch loss: 41.23389101231501\n",
      "Saved a checkpoint: ./.tf_ckpts/3c264df9-4e73-403f-adf3-1a8fee143964/3c264df9-4e73-403f-adf3-1a8fee143964-4\n",
      "Epoch 5: average-batch loss: 41.02195755552638 last batch loss: 40.979339612180816\n",
      "Saved a checkpoint: ./.tf_ckpts/3c264df9-4e73-403f-adf3-1a8fee143964/3c264df9-4e73-403f-adf3-1a8fee143964-5\n",
      "Epoch 6: average-batch loss: 40.797168820529485 last batch loss: 40.798624223818344\n",
      "Saved a checkpoint: ./.tf_ckpts/3c264df9-4e73-403f-adf3-1a8fee143964/3c264df9-4e73-403f-adf3-1a8fee143964-6\n",
      "Epoch 7: average-batch loss: 40.69062067361399 last batch loss: 40.73223942941497\n",
      "Saved a checkpoint: ./.tf_ckpts/3c264df9-4e73-403f-adf3-1a8fee143964/3c264df9-4e73-403f-adf3-1a8fee143964-7\n",
      "Epoch 8: average-batch loss: 40.635474588943076 last batch loss: 40.68732708952397\n",
      "Saved a checkpoint: ./.tf_ckpts/3c264df9-4e73-403f-adf3-1a8fee143964/3c264df9-4e73-403f-adf3-1a8fee143964-8\n",
      "Epoch 9: average-batch loss: 40.607258509355 last batch loss: 40.67575112189875\n",
      "Saved a checkpoint: ./.tf_ckpts/3c264df9-4e73-403f-adf3-1a8fee143964/3c264df9-4e73-403f-adf3-1a8fee143964-9\n",
      "Epoch 10: average-batch loss: 40.582958048270456 last batch loss: 40.61386869303834\n",
      "Saved a checkpoint: ./.tf_ckpts/3c264df9-4e73-403f-adf3-1a8fee143964/3c264df9-4e73-403f-adf3-1a8fee143964-10\n",
      "Epoch 11: average-batch loss: 40.56609065269462 last batch loss: 40.61990508148824\n",
      "Saved a checkpoint: ./.tf_ckpts/3c264df9-4e73-403f-adf3-1a8fee143964/3c264df9-4e73-403f-adf3-1a8fee143964-11\n",
      "Epoch 12: average-batch loss: 40.557417096274925 last batch loss: 40.63019964804816\n",
      "Saved a checkpoint: ./.tf_ckpts/3c264df9-4e73-403f-adf3-1a8fee143964/3c264df9-4e73-403f-adf3-1a8fee143964-12\n",
      "Epoch 13: average-batch loss: 40.547372959720555 last batch loss: 40.6035794236678\n",
      "Saved a checkpoint: ./.tf_ckpts/3c264df9-4e73-403f-adf3-1a8fee143964/3c264df9-4e73-403f-adf3-1a8fee143964-13\n",
      "Epoch 14: average-batch loss: 40.542280365108375 last batch loss: 40.592857923441656\n",
      "Saved a checkpoint: ./.tf_ckpts/3c264df9-4e73-403f-adf3-1a8fee143964/3c264df9-4e73-403f-adf3-1a8fee143964-14\n",
      "Epoch 15: average-batch loss: 40.53753486384721 last batch loss: 40.61651168497936\n",
      "Saved a checkpoint: ./.tf_ckpts/3c264df9-4e73-403f-adf3-1a8fee143964/3c264df9-4e73-403f-adf3-1a8fee143964-15\n",
      "Epoch 16: average-batch loss: 40.53724054074835 last batch loss: 40.58773848407602\n",
      "Saved a checkpoint: ./.tf_ckpts/3c264df9-4e73-403f-adf3-1a8fee143964/3c264df9-4e73-403f-adf3-1a8fee143964-16\n",
      "Epoch 17: average-batch loss: 40.538722715293424 last batch loss: 40.6002620266274\n",
      "We are in a loss plateau learning rate: 0.0495 loss: 40.63427144235019\n",
      "Restoring from a checkpoint - loss: 40.62547806754413\n",
      "Epoch 18: average-batch loss: 40.533158355315784 last batch loss: 40.60260612643849\n",
      "Saved a checkpoint: ./.tf_ckpts/3c264df9-4e73-403f-adf3-1a8fee143964/3c264df9-4e73-403f-adf3-1a8fee143964-17\n",
      "Epoch 19: average-batch loss: 40.531706258104876 last batch loss: 40.577950487669185\n",
      "Saved a checkpoint: ./.tf_ckpts/3c264df9-4e73-403f-adf3-1a8fee143964/3c264df9-4e73-403f-adf3-1a8fee143964-18\n",
      "Epoch 20: average-batch loss: 40.53128111183835 last batch loss: 40.59972163370976\n",
      "Saved a checkpoint: ./.tf_ckpts/3c264df9-4e73-403f-adf3-1a8fee143964/3c264df9-4e73-403f-adf3-1a8fee143964-19\n",
      "Epoch 21: average-batch loss: 40.5303697922449 last batch loss: 40.62392349796458\n",
      "Saved a checkpoint: ./.tf_ckpts/3c264df9-4e73-403f-adf3-1a8fee143964/3c264df9-4e73-403f-adf3-1a8fee143964-20\n",
      "Epoch 22: average-batch loss: 40.52926931888197 last batch loss: 40.58552885403393\n",
      "Saved a checkpoint: ./.tf_ckpts/3c264df9-4e73-403f-adf3-1a8fee143964/3c264df9-4e73-403f-adf3-1a8fee143964-21\n",
      "Epoch 23: average-batch loss: 40.52870729782509 last batch loss: 40.594954056695464\n",
      "Saved a checkpoint: ./.tf_ckpts/3c264df9-4e73-403f-adf3-1a8fee143964/3c264df9-4e73-403f-adf3-1a8fee143964-22\n",
      "Epoch 24: average-batch loss: 40.529668058012774 last batch loss: 40.603952906165155\n",
      "We are in a loss plateau learning rate: 0.049005 loss: 40.63240726250273\n",
      "Restoring from a checkpoint - loss: 40.624871794276906\n",
      "Epoch 25: average-batch loss: 40.52767562267795 last batch loss: 40.58717578596216\n",
      "Saved a checkpoint: ./.tf_ckpts/3c264df9-4e73-403f-adf3-1a8fee143964/3c264df9-4e73-403f-adf3-1a8fee143964-23\n",
      "Epoch 26: average-batch loss: 40.52773070146794 last batch loss: 40.602055129991925\n",
      "Epoch 27: average-batch loss: 40.5284092783308 last batch loss: 40.606334033242604\n",
      "Epoch 28: average-batch loss: 40.52474571448458 last batch loss: 40.58795934690235\n",
      "Saved a checkpoint: ./.tf_ckpts/3c264df9-4e73-403f-adf3-1a8fee143964/3c264df9-4e73-403f-adf3-1a8fee143964-24\n",
      "Epoch 29: average-batch loss: 40.5296206924384 last batch loss: 40.592291048865235\n",
      "We are in a loss plateau learning rate: 0.04851495 loss: 40.62597674101248\n",
      "Restoring from a checkpoint - loss: 40.62316687671645\n",
      "Epoch 30: average-batch loss: 40.529187146080055 last batch loss: 40.58497158941305\n",
      "Epoch 31: average-batch loss: 40.52668708831531 last batch loss: 40.586220312822235\n",
      "Epoch 32: average-batch loss: 40.52523058219278 last batch loss: 40.59779715883316\n",
      "Epoch 33: average-batch loss: 40.5245072192117 last batch loss: 40.5930185406579\n",
      "Saved a checkpoint: ./.tf_ckpts/3c264df9-4e73-403f-adf3-1a8fee143964/3c264df9-4e73-403f-adf3-1a8fee143964-25\n",
      "Epoch 34: average-batch loss: 40.52406114859952 last batch loss: 40.58153652624483\n",
      "Saved a checkpoint: ./.tf_ckpts/3c264df9-4e73-403f-adf3-1a8fee143964/3c264df9-4e73-403f-adf3-1a8fee143964-26\n",
      "Epoch 35: average-batch loss: 40.52404548194848 last batch loss: 40.57840988670437\n",
      "Saved a checkpoint: ./.tf_ckpts/3c264df9-4e73-403f-adf3-1a8fee143964/3c264df9-4e73-403f-adf3-1a8fee143964-27\n",
      "Epoch 36: average-batch loss: 40.52594452854945 last batch loss: 40.600277476298466\n",
      "We are in a loss plateau learning rate: 0.0480298005 loss: 40.61641044234763\n",
      "Restoring from a checkpoint - loss: 40.60880605089181\n",
      "Epoch 37: average-batch loss: 40.527267476046376 last batch loss: 40.576686821709465\n",
      "Epoch 38: average-batch loss: 40.52500688290361 last batch loss: 40.599279966397226\n",
      "Epoch 39: average-batch loss: 40.52560216596554 last batch loss: 40.59764014285708\n",
      "Epoch 40: average-batch loss: 40.52284327689948 last batch loss: 40.5831003848737\n",
      "Saved a checkpoint: ./.tf_ckpts/3c264df9-4e73-403f-adf3-1a8fee143964/3c264df9-4e73-403f-adf3-1a8fee143964-28\n",
      "Epoch 41: average-batch loss: 40.5211981735518 last batch loss: 40.59459008708317\n",
      "Saved a checkpoint: ./.tf_ckpts/3c264df9-4e73-403f-adf3-1a8fee143964/3c264df9-4e73-403f-adf3-1a8fee143964-29\n",
      "Epoch 42: average-batch loss: 40.52483371598059 last batch loss: 40.602472206574916\n",
      "We are in a loss plateau learning rate: 0.047549502495 loss: 40.60879597400139\n",
      "Restoring from a checkpoint - loss: 40.61762132990006\n",
      "Epoch 43: average-batch loss: 40.52629835311011 last batch loss: 40.58408207080698\n",
      "Epoch 44: average-batch loss: 40.52312588345249 last batch loss: 40.60147759778512\n",
      "Epoch 45: average-batch loss: 40.52314371109626 last batch loss: 40.599292454387566\n",
      "Epoch 46: average-batch loss: 40.52217666388652 last batch loss: 40.589302481115325\n",
      "Epoch 47: average-batch loss: 40.52224470616933 last batch loss: 40.584576084960354\n",
      "Epoch 48: average-batch loss: 40.52210106075714 last batch loss: 40.58026564991829\n",
      "Epoch 49: average-batch loss: 40.523030640222174 last batch loss: 40.594387927955175\n",
      "We are in a loss plateau learning rate: 0.04707400747005 loss: 40.61711902818311\n",
      "Restoring from a checkpoint - loss: 40.625846641100026\n",
      "Epoch 50: average-batch loss: 40.521360327899636 last batch loss: 40.583784388800694\n",
      "Epoch 51: average-batch loss: 40.52527439321459 last batch loss: 40.582873940182445\n"
     ]
    },
    {
     "name": "stdout",
     "output_type": "stream",
     "text": [
      "Epoch 52: average-batch loss: 40.52288850436084 last batch loss: 40.57163520694067\n",
      "Epoch 53: average-batch loss: 40.523044867290245 last batch loss: 40.59545989655546\n",
      "Epoch 54: average-batch loss: 40.52569140912019 last batch loss: 40.580690699532255\n",
      "We are in a loss plateau learning rate: 0.0466032673953495 loss: 40.60658692611216\n",
      "Restoring from a checkpoint - loss: 40.610754494905386\n",
      "Epoch 55: average-batch loss: 40.521839987596756 last batch loss: 40.594456059046735\n",
      "Epoch 56: average-batch loss: 40.52382000241904 last batch loss: 40.59026111929685\n",
      "Epoch 57: average-batch loss: 40.52564890569971 last batch loss: 40.5728104011765\n",
      "Epoch 58: average-batch loss: 40.52622611161253 last batch loss: 40.593339161811215\n",
      "Epoch 59: average-batch loss: 40.52219696798281 last batch loss: 40.599188399085904\n",
      "Epoch 60: average-batch loss: 40.52170547490044 last batch loss: 40.59793500210355\n",
      "Epoch 61: average-batch loss: 40.524362021893104 last batch loss: 40.59569670108887\n",
      "We are in a loss plateau learning rate: 0.046137234721396005 loss: 40.65046675328399\n",
      "Restoring from a checkpoint - loss: 40.625893958940104\n",
      "Epoch 62: average-batch loss: 40.52152231409196 last batch loss: 40.58390962184907\n",
      "Epoch 63: average-batch loss: 40.52287297923832 last batch loss: 40.60572477270194\n",
      "Epoch 64: average-batch loss: 40.51997829961075 last batch loss: 40.56917858467538\n",
      "Saved a checkpoint: ./.tf_ckpts/3c264df9-4e73-403f-adf3-1a8fee143964/3c264df9-4e73-403f-adf3-1a8fee143964-30\n",
      "Epoch 65: average-batch loss: 40.521157919170626 last batch loss: 40.58340740848\n",
      "Epoch 66: average-batch loss: 40.52200834481317 last batch loss: 40.601271924558496\n",
      "We are in a loss plateau learning rate: 0.045675862374182044 loss: 40.608249532734696\n",
      "Restoring from a checkpoint - loss: 40.625234928126595\n",
      "Epoch 67: average-batch loss: 40.523318133388415 last batch loss: 40.57919060201833\n",
      "Epoch 68: average-batch loss: 40.520224125564 last batch loss: 40.569230260785844\n",
      "Epoch 69: average-batch loss: 40.5253390555233 last batch loss: 40.5958853253408\n",
      "Epoch 70: average-batch loss: 40.521723336777114 last batch loss: 40.577466819318644\n",
      "Epoch 71: average-batch loss: 40.51992942209115 last batch loss: 40.587804652310254\n",
      "Saved a checkpoint: ./.tf_ckpts/3c264df9-4e73-403f-adf3-1a8fee143964/3c264df9-4e73-403f-adf3-1a8fee143964-31\n",
      "Epoch 72: average-batch loss: 40.52148906330718 last batch loss: 40.581431689088184\n",
      "Epoch 73: average-batch loss: 40.519901649096894 last batch loss: 40.58747214013901\n",
      "Saved a checkpoint: ./.tf_ckpts/3c264df9-4e73-403f-adf3-1a8fee143964/3c264df9-4e73-403f-adf3-1a8fee143964-32\n",
      "Epoch 74: average-batch loss: 40.52261706073926 last batch loss: 40.589708266344694\n",
      "We are in a loss plateau learning rate: 0.04521910375044022 loss: 40.615575623646144\n",
      "Restoring from a checkpoint - loss: 40.60913854170721\n",
      "Epoch 75: average-batch loss: 40.52186550350836 last batch loss: 40.6107894145763\n",
      "Epoch 76: average-batch loss: 40.52382348505687 last batch loss: 40.59583361772768\n",
      "Epoch 77: average-batch loss: 40.52096949712076 last batch loss: 40.589924730491624\n",
      "Epoch 78: average-batch loss: 40.52164955965324 last batch loss: 40.599457675529095\n",
      "Epoch 79: average-batch loss: 40.52103731346763 last batch loss: 40.54947003142744\n",
      "Epoch 80: average-batch loss: 40.5233912633133 last batch loss: 40.59060729651989\n",
      "We are in a loss plateau learning rate: 0.04476691271293582 loss: 40.62793216494967\n",
      "Restoring from a checkpoint - loss: 40.632931298867334\n",
      "Epoch 81: average-batch loss: 40.51960805941844 last batch loss: 40.57757204781113\n",
      "Saved a checkpoint: ./.tf_ckpts/3c264df9-4e73-403f-adf3-1a8fee143964/3c264df9-4e73-403f-adf3-1a8fee143964-33\n",
      "Epoch 82: average-batch loss: 40.52247792986945 last batch loss: 40.5803224061769\n",
      "Epoch 83: average-batch loss: 40.524723536900915 last batch loss: 40.589857729112325\n",
      "Epoch 84: average-batch loss: 40.52268191692966 last batch loss: 40.58864001761703\n",
      "Epoch 85: average-batch loss: 40.52357668601902 last batch loss: 40.59275860087771\n",
      "Epoch 86: average-batch loss: 40.52145921199518 last batch loss: 40.581830939009905\n",
      "Epoch 87: average-batch loss: 40.52268423795235 last batch loss: 40.5820190025502\n",
      "Epoch 88: average-batch loss: 40.519267945192865 last batch loss: 40.594743070355456\n",
      "Saved a checkpoint: ./.tf_ckpts/3c264df9-4e73-403f-adf3-1a8fee143964/3c264df9-4e73-403f-adf3-1a8fee143964-34\n",
      "Epoch 89: average-batch loss: 40.5195672025669 last batch loss: 40.5928941007551\n",
      "Epoch 90: average-batch loss: 40.52011528972637 last batch loss: 40.58900043556449\n",
      "We are in a loss plateau learning rate: 0.04431924358580647 loss: 40.60600622077904\n",
      "Restoring from a checkpoint - loss: 40.612045676487\n",
      "Epoch 91: average-batch loss: 40.51932029606463 last batch loss: 40.58845923186841\n",
      "Epoch 92: average-batch loss: 40.52092873322688 last batch loss: 40.58698048663564\n",
      "Epoch 93: average-batch loss: 40.51914750297314 last batch loss: 40.60877276427718\n",
      "Saved a checkpoint: ./.tf_ckpts/3c264df9-4e73-403f-adf3-1a8fee143964/3c264df9-4e73-403f-adf3-1a8fee143964-35\n",
      "Epoch 94: average-batch loss: 40.5212257421558 last batch loss: 40.58483170378837\n",
      "Epoch 95: average-batch loss: 40.523059907377565 last batch loss: 40.58316046271619\n",
      "We are in a loss plateau learning rate: 0.04387605114994839 loss: 40.61900961321188\n",
      "Restoring from a checkpoint - loss: 40.62462607209901\n",
      "Epoch 96: average-batch loss: 40.522283247605465 last batch loss: 40.58063542364327\n",
      "Epoch 97: average-batch loss: 40.52181213248352 last batch loss: 40.577610309336784\n",
      "Epoch 98: average-batch loss: 40.51884275536639 last batch loss: 40.58185087245712\n",
      "Saved a checkpoint: ./.tf_ckpts/3c264df9-4e73-403f-adf3-1a8fee143964/3c264df9-4e73-403f-adf3-1a8fee143964-36\n",
      "Epoch 99: average-batch loss: 40.522374991674276 last batch loss: 40.595099287460755\n",
      "Epoch 100: average-batch loss: 40.52281073823454 last batch loss: 40.57329564147888\n",
      "We are in a loss plateau learning rate: 0.043437290638448915 loss: 40.617462722093414\n",
      "Restoring from a checkpoint - loss: 40.615123647728964\n",
      "Epoch 101: average-batch loss: 40.522383897823445 last batch loss: 40.58460100218563\n",
      "Epoch 102: average-batch loss: 40.52075828774781 last batch loss: 40.58392655903177\n",
      "Epoch 103: average-batch loss: 40.52018786732246 last batch loss: 40.5817149199925\n",
      "Epoch 104: average-batch loss: 40.521676700557016 last batch loss: 40.562768616976044\n",
      "Epoch 105: average-batch loss: 40.51853358057842 last batch loss: 40.59138272031755\n",
      "Saved a checkpoint: ./.tf_ckpts/3c264df9-4e73-403f-adf3-1a8fee143964/3c264df9-4e73-403f-adf3-1a8fee143964-37\n",
      "Epoch 106: average-batch loss: 40.522197642168756 last batch loss: 40.570061361634814\n",
      "We are in a loss plateau learning rate: 0.043002917732064425 loss: 40.622995193319845\n",
      "Restoring from a checkpoint - loss: 40.6425834477563\n",
      "Epoch 107: average-batch loss: 40.519928299486175 last batch loss: 40.58692183360094\n",
      "Epoch 108: average-batch loss: 40.523106387825784 last batch loss: 40.56293996182608\n",
      "Epoch 109: average-batch loss: 40.52130145676577 last batch loss: 40.57034187996227\n",
      "Epoch 110: average-batch loss: 40.51905118380251 last batch loss: 40.57743852903332\n",
      "Epoch 111: average-batch loss: 40.518226962215444 last batch loss: 40.57945617170175\n",
      "Saved a checkpoint: ./.tf_ckpts/3c264df9-4e73-403f-adf3-1a8fee143964/3c264df9-4e73-403f-adf3-1a8fee143964-38\n",
      "Epoch 112: average-batch loss: 40.518297335017 last batch loss: 40.58306009426648\n",
      "Epoch 113: average-batch loss: 40.520392259003934 last batch loss: 40.57517610123674\n",
      "We are in a loss plateau learning rate: 0.04257288855474378 loss: 40.62113627383714\n",
      "Restoring from a checkpoint - loss: 40.61158365550358\n",
      "Epoch 114: average-batch loss: 40.52125589743086 last batch loss: 40.59048898703589\n",
      "Epoch 115: average-batch loss: 40.5187050165895 last batch loss: 40.5789900203788\n",
      "Epoch 116: average-batch loss: 40.521875082537015 last batch loss: 40.59356076391755\n",
      "Epoch 117: average-batch loss: 40.52407553737644 last batch loss: 40.591256321956855\n",
      "Epoch 118: average-batch loss: 40.5165504910251 last batch loss: 40.566794563134316\n",
      "Saved a checkpoint: ./.tf_ckpts/3c264df9-4e73-403f-adf3-1a8fee143964/3c264df9-4e73-403f-adf3-1a8fee143964-39\n",
      "Epoch 119: average-batch loss: 40.52034727696972 last batch loss: 40.583103029017046\n",
      "Epoch 120: average-batch loss: 40.520075994216654 last batch loss: 40.57487822367702\n"
     ]
    },
    {
     "name": "stdout",
     "output_type": "stream",
     "text": [
      "Epoch 121: average-batch loss: 40.519359864529946 last batch loss: 40.58179708272517\n",
      "Epoch 122: average-batch loss: 40.52041403720873 last batch loss: 40.58810694275679\n",
      "We are in a loss plateau learning rate: 0.04214715966919634 loss: 40.62479790288129\n",
      "Restoring from a checkpoint - loss: 40.61324467184565\n",
      "Epoch 123: average-batch loss: 40.52417316993344 last batch loss: 40.60443994699731\n",
      "Epoch 124: average-batch loss: 40.518296223226315 last batch loss: 40.56273115447794\n",
      "Epoch 125: average-batch loss: 40.52382650394593 last batch loss: 40.60127349730522\n",
      "Epoch 126: average-batch loss: 40.52019737415029 last batch loss: 40.580672595438166\n",
      "Epoch 127: average-batch loss: 40.518715352484286 last batch loss: 40.57093682769945\n",
      "Epoch 128: average-batch loss: 40.52270700531963 last batch loss: 40.56637414930809\n",
      "We are in a loss plateau learning rate: 0.041725688072504374 loss: 40.6242864681747\n",
      "Restoring from a checkpoint - loss: 40.647534253480806\n",
      "Epoch 129: average-batch loss: 40.52206754280766 last batch loss: 40.5794762184751\n",
      "Epoch 130: average-batch loss: 40.52175881961522 last batch loss: 40.59139460465861\n",
      "Epoch 131: average-batch loss: 40.51877086487667 last batch loss: 40.5946705862191\n",
      "Epoch 132: average-batch loss: 40.5229754702041 last batch loss: 40.60763842735864\n",
      "Epoch 133: average-batch loss: 40.52038106391928 last batch loss: 40.58355168671152\n",
      "Epoch 134: average-batch loss: 40.519239671403504 last batch loss: 40.59383394140902\n",
      "Epoch 135: average-batch loss: 40.521745589192754 last batch loss: 40.589139503878776\n",
      "We are in a loss plateau learning rate: 0.041308431191779335 loss: 40.61440057661058\n",
      "Restoring from a checkpoint - loss: 40.61735599299453\n",
      "Epoch 136: average-batch loss: 40.469772862051656 last batch loss: 40.46362449352412\n",
      "Saved a checkpoint: ./.tf_ckpts/3c264df9-4e73-403f-adf3-1a8fee143964/3c264df9-4e73-403f-adf3-1a8fee143964-40\n",
      "Epoch 137: average-batch loss: 40.40951153862252 last batch loss: 40.46003382927986\n",
      "Saved a checkpoint: ./.tf_ckpts/3c264df9-4e73-403f-adf3-1a8fee143964/3c264df9-4e73-403f-adf3-1a8fee143964-41\n",
      "Epoch 138: average-batch loss: 40.3982729658288 last batch loss: 40.438308991770676\n",
      "Saved a checkpoint: ./.tf_ckpts/3c264df9-4e73-403f-adf3-1a8fee143964/3c264df9-4e73-403f-adf3-1a8fee143964-42\n",
      "Epoch 139: average-batch loss: 40.39891246219418 last batch loss: 40.44680738689783\n",
      "Epoch 140: average-batch loss: 40.393458186241126 last batch loss: 40.429205352426536\n",
      "Saved a checkpoint: ./.tf_ckpts/3c264df9-4e73-403f-adf3-1a8fee143964/3c264df9-4e73-403f-adf3-1a8fee143964-43\n",
      "Epoch 141: average-batch loss: 40.3955146213469 last batch loss: 40.427492678488186\n",
      "Epoch 142: average-batch loss: 40.39535552674494 last batch loss: 40.44416660479074\n",
      "Epoch 143: average-batch loss: 40.39067565155545 last batch loss: 40.450317402390645\n",
      "Saved a checkpoint: ./.tf_ckpts/3c264df9-4e73-403f-adf3-1a8fee143964/3c264df9-4e73-403f-adf3-1a8fee143964-44\n",
      "Epoch 144: average-batch loss: 40.38883208607254 last batch loss: 40.42676276548101\n",
      "Saved a checkpoint: ./.tf_ckpts/3c264df9-4e73-403f-adf3-1a8fee143964/3c264df9-4e73-403f-adf3-1a8fee143964-45\n",
      "Epoch 145: average-batch loss: 40.38850464062571 last batch loss: 40.41643186024881\n",
      "Saved a checkpoint: ./.tf_ckpts/3c264df9-4e73-403f-adf3-1a8fee143964/3c264df9-4e73-403f-adf3-1a8fee143964-46\n",
      "Epoch 146: average-batch loss: 40.387629804312624 last batch loss: 40.42237529452892\n",
      "Saved a checkpoint: ./.tf_ckpts/3c264df9-4e73-403f-adf3-1a8fee143964/3c264df9-4e73-403f-adf3-1a8fee143964-47\n",
      "Epoch 147: average-batch loss: 40.387222205293384 last batch loss: 40.42772944426066\n",
      "Saved a checkpoint: ./.tf_ckpts/3c264df9-4e73-403f-adf3-1a8fee143964/3c264df9-4e73-403f-adf3-1a8fee143964-48\n",
      "Epoch 148: average-batch loss: 40.38911787362535 last batch loss: 40.428057985677825\n",
      "We are in a loss plateau learning rate: 0.040895346879861544 loss: 40.52379185975976\n",
      "Restoring from a checkpoint - loss: 40.53019053506273\n",
      "Epoch 149: average-batch loss: 40.38848533058128 last batch loss: 40.43163668261618\n",
      "Epoch 150: average-batch loss: 40.38783664113218 last batch loss: 40.43057362734123\n",
      "Epoch 151: average-batch loss: 40.388926468856155 last batch loss: 40.424130571850505\n",
      "Epoch 152: average-batch loss: 40.38386402018778 last batch loss: 40.392938125203536\n",
      "Saved a checkpoint: ./.tf_ckpts/3c264df9-4e73-403f-adf3-1a8fee143964/3c264df9-4e73-403f-adf3-1a8fee143964-49\n",
      "Epoch 153: average-batch loss: 40.3872753370353 last batch loss: 40.42243188119605\n",
      "Epoch 154: average-batch loss: 40.388002681917584 last batch loss: 40.433157074943374\n",
      "We are in a loss plateau learning rate: 0.04048639341106292 loss: 40.529697126121896\n",
      "Restoring from a checkpoint - loss: 40.52470715419436\n",
      "Epoch 155: average-batch loss: 40.38788739157742 last batch loss: 40.43947895858702\n",
      "Epoch 156: average-batch loss: 40.38376591806849 last batch loss: 40.44253421056995\n",
      "Saved a checkpoint: ./.tf_ckpts/3c264df9-4e73-403f-adf3-1a8fee143964/3c264df9-4e73-403f-adf3-1a8fee143964-50\n",
      "Epoch 157: average-batch loss: 40.3862587092813 last batch loss: 40.43114929268488\n",
      "Epoch 158: average-batch loss: 40.38677609102697 last batch loss: 40.443620464799864\n",
      "Epoch 159: average-batch loss: 40.386159321302145 last batch loss: 40.43323876644452\n",
      "Epoch 160: average-batch loss: 40.387869131054565 last batch loss: 40.43134522508661\n",
      "We are in a loss plateau learning rate: 0.040081529476952295 loss: 40.51183798746166\n",
      "Restoring from a checkpoint - loss: 40.51349633879649\n",
      "Epoch 161: average-batch loss: 40.38563734554231 last batch loss: 40.41996681034928\n",
      "Epoch 162: average-batch loss: 40.38624153292094 last batch loss: 40.44546719531285\n",
      "Epoch 163: average-batch loss: 40.38607594197525 last batch loss: 40.40673817165231\n",
      "Epoch 164: average-batch loss: 40.385337798912985 last batch loss: 40.42254033260292\n",
      "Epoch 165: average-batch loss: 40.38376662784427 last batch loss: 40.424699406020345\n",
      "Epoch 166: average-batch loss: 40.38512143389804 last batch loss: 40.4245932073974\n",
      "Epoch 167: average-batch loss: 40.38839388379397 last batch loss: 40.45347515041121\n",
      "We are in a loss plateau learning rate: 0.039680714182182775 loss: 40.526452100383814\n",
      "Restoring from a checkpoint - loss: 40.53857257231664\n",
      "Epoch 168: average-batch loss: 40.38791677715945 last batch loss: 40.42894130152335\n",
      "Epoch 169: average-batch loss: 40.38855988101993 last batch loss: 40.44773691264297\n",
      "Epoch 170: average-batch loss: 40.385049235803656 last batch loss: 40.44306462457531\n",
      "Epoch 171: average-batch loss: 40.387268376398254 last batch loss: 40.446174247177545\n",
      "Epoch 172: average-batch loss: 40.38300489285804 last batch loss: 40.43578799110189\n",
      "Saved a checkpoint: ./.tf_ckpts/3c264df9-4e73-403f-adf3-1a8fee143964/3c264df9-4e73-403f-adf3-1a8fee143964-51\n",
      "Epoch 173: average-batch loss: 40.38396286433788 last batch loss: 40.44277010265539\n",
      "Epoch 174: average-batch loss: 40.386580304230804 last batch loss: 40.44040928216314\n",
      "We are in a loss plateau learning rate: 0.039283907040360944 loss: 40.52686210719386\n",
      "Restoring from a checkpoint - loss: 40.52513579586612\n",
      "Epoch 175: average-batch loss: 40.383503034734105 last batch loss: 40.44553856815362\n",
      "Epoch 176: average-batch loss: 40.38500881351951 last batch loss: 40.44399078039659\n",
      "Epoch 177: average-batch loss: 40.385179531978764 last batch loss: 40.422667181720804\n",
      "Epoch 178: average-batch loss: 40.388909873255486 last batch loss: 40.45173921465657\n",
      "Epoch 179: average-batch loss: 40.38897734261789 last batch loss: 40.43672419738914\n",
      "We are in a loss plateau learning rate: 0.03889106796995734 loss: 40.52755724658437\n",
      "Restoring from a checkpoint - loss: 40.56214577080474\n",
      "Epoch 180: average-batch loss: 40.38324141249014 last batch loss: 40.44838214830465\n",
      "Epoch 181: average-batch loss: 40.385440963867936 last batch loss: 40.42429389348241\n",
      "Epoch 182: average-batch loss: 40.3843438015709 last batch loss: 40.4326844522703\n",
      "Epoch 183: average-batch loss: 40.3840217486007 last batch loss: 40.43726623668855\n",
      "Epoch 184: average-batch loss: 40.38740670543905 last batch loss: 40.43173511792084\n",
      "We have reset 25 times so quitting\n"
     ]
    }
   ],
   "source": [
    "losses = factor.calibrate_advi(\n",
    "    num_steps=200, rel_tol=1e-4, learning_rate=.05)\n",
    "\n"
   ]
  },
  {
   "attachments": {},
   "cell_type": "markdown",
   "metadata": {},
   "source": [
    "# Compute the WAIC"
   ]
  },
  {
   "cell_type": "code",
   "execution_count": 5,
   "metadata": {},
   "outputs": [
    {
     "name": "stdout",
     "output_type": "stream",
     "text": [
      "{'waic': 345148.4950137764, 'se': 1761.722935996936, 'lppd': -37090.95152008469, 'pwaic': 135483.2959868035}\n"
     ]
    }
   ],
   "source": [
    "waic = factor.waic()\n",
    "print(waic)"
   ]
  },
  {
   "attachments": {},
   "cell_type": "markdown",
   "metadata": {},
   "source": [
    "# Plot the factor encoding matrix"
   ]
  },
  {
   "cell_type": "code",
   "execution_count": 6,
   "metadata": {},
   "outputs": [],
   "source": [
    "\n",
    "surrogate_samples = factor.surrogate_distribution.sample(1000)\n",
    "if 's' in surrogate_samples.keys():\n",
    "    weights = surrogate_samples['s']/tf.reduce_sum(surrogate_samples['s'],-2,keepdims=True)\n",
    "    intercept_data = az.convert_to_inference_data(\n",
    "        {\n",
    "            r\"$\\varphi_i$\": \n",
    "                (tf.squeeze(surrogate_samples['w'])*weights[:,-1,:]*factor.eta_i).numpy().T})\n",
    "else:\n",
    "    intercept_data = az.convert_to_inference_data(\n",
    "    {\n",
    "        r\"$\\varphi_i$\": \n",
    "            (tf.squeeze(surrogate_samples['w'])*factor.eta_i).numpy().T})"
   ]
  },
  {
   "cell_type": "code",
   "execution_count": 7,
   "metadata": {},
   "outputs": [
    {
     "data": {
      "image/png": "[encoded data removed]",
      "text/plain": [
       "<Figure size 720x288 with 2 Axes>"
      ]
     },
     "metadata": {
      "needs_background": "light"
     },
     "output_type": "display_data"
    }
   ],
   "source": [
    "fig, ax = plt.subplots(figsize=(10,4))\n",
    "\n",
    "plt.imshow(factor.encoding_matrix().numpy().T, vmin=0, cmap=\"Blues\")\n",
    "plt.xticks(np.arange(D))\n",
    "ax.set_xlabel(\"item\")\n",
    "ax.set_ylabel(\"dimension\")\n",
    "plt.tick_params(axis='both', which='major', labelsize=10, labelbottom = False, bottom=False, top = True, labeltop=True)\n",
    "plt.yticks(np.arange(P))\n",
    "plt.colorbar(orientation = \"horizontal\")\n",
    "plt.show()\n"
   ]
  },
  {
   "cell_type": "code",
   "execution_count": 8,
   "metadata": {},
   "outputs": [
    {
     "data": {
      "image/png": "[encoded data removed]",
      "text/plain": [
       "<Figure size 1008x576 with 3 Axes>"
      ]
     },
     "metadata": {
      "needs_background": "light"
     },
     "output_type": "display_data"
    }
   ],
   "source": [
    "fig, ax = plt.subplots(1,2, figsize=(14,8))\n",
    "\n",
    "pcm = ax[0].imshow(factor.encoding_matrix().numpy()[::-1,:], vmin=0, cmap=\"Blues\")\n",
    "ax[0].set_yticks(np.arange(D))\n",
    "ax[0].set_yticklabels(np.arange(D))\n",
    "ax[0].set_ylabel(\"item\")\n",
    "ax[0].set_xlabel(\"factor dimension\")\n",
    "ax[0].set_xticks(np.arange(P))\n",
    "ax[0].set_xticklabels(np.arange(P))\n",
    "\n",
    "fig.colorbar(pcm, ax=ax[0], orientation = \"vertical\")\n",
    "az.plot_forest(intercept_data, ax=ax[1])\n",
    "ax[1].set_xlabel(\"background rate\")\n",
    "ax[1].set_ylim((-0.014,.466))\n",
    "ax[1].set_title(\"65% and 95% CI\")\n",
    "ax[1].axvline(1.0, linestyle='dashed', color=\"black\")\n",
    "#plt.savefig('noise_factorization_sepmf.pdf', bbox_inches='tight')\n",
    "plt.show()\n"
   ]
  },
  {
   "attachments": {},
   "cell_type": "markdown",
   "metadata": {},
   "source": [
    "The values in the factor encoding matrix as near zero. There is a gradient because the model induces a dimensional decay to remove symmetries - this encourages the leading dimensions to hold more of the signal."
   ]
  },
  {
   "cell_type": "code",
   "execution_count": 9,
   "metadata": {},
   "outputs": [
    {
     "data": {
      "image/png": "[encoded data removed]",
      "text/plain": [
       "<Figure size 1008x576 with 3 Axes>"
      ]
     },
     "metadata": {
      "needs_background": "light"
     },
     "output_type": "display_data"
    }
   ],
   "source": [
    "fig, ax = plt.subplots(1,2, figsize=(14,8))\n",
    "\n",
    "pcm = ax[0].imshow(factor.decoding_matrix().numpy().T[::-1,:], vmin=0, cmap=\"Blues\")\n",
    "ax[0].set_yticks(np.arange(D))\n",
    "ax[0].set_yticklabels(np.arange(D))\n",
    "ax[0].set_ylabel(\"item\")\n",
    "ax[0].set_xlabel(\"factor dimension\")\n",
    "ax[0].set_xticks(np.arange(P))\n",
    "ax[0].set_xticklabels(np.arange(P))\n",
    "\n",
    "fig.colorbar(pcm, ax=ax[0], orientation = \"vertical\")\n",
    "az.plot_forest(intercept_data, ax=ax[1])\n",
    "ax[1].set_xlabel(\"background rate\")\n",
    "ax[1].set_ylim((-0.014,.466))\n",
    "ax[1].set_title(\"65% and 95% CI\")\n",
    "ax[1].axvline(1.0, linestyle='dashed', color=\"black\")\n",
    "plt.show()\n"
   ]
  },
  {
   "cell_type": "code",
   "execution_count": null,
   "metadata": {},
   "outputs": [],
   "source": []
  }
 ],
 "metadata": {
  "kernelspec": {
   "display_name": "Python 3",
   "language": "python",
   "name": "python3"
  },
  "language_info": {
   "codemirror_mode": {
    "name": "ipython",
    "version": 3
   },
   "file_extension": ".py",
   "mimetype": "text/x-python",
   "name": "python",
   "nbconvert_exporter": "python",
   "pygments_lexer": "ipython3",
   "version": "3.8.3"
  }
 },
 "nbformat": 4,
 "nbformat_minor": 2
}
