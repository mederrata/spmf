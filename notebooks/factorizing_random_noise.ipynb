{
 "cells": [
  {
   "cell_type": "code",
   "execution_count": 1,
   "metadata": {},
   "outputs": [
    {
     "name": "stdout",
     "output_type": "stream",
     "text": [
      "Populating the interactive namespace from numpy and matplotlib\n"
     ]
    }
   ],
   "source": [
    "%pylab inline\n",
    "import sys\n",
    "\n",
    "import numpy as np\n",
    "import tensorflow as tf\n",
    "import tensorflow_probability as tfp\n",
    "import arviz as az\n",
    "\n",
    "import matplotlib.pyplot as plt\n",
    "from matplotlib import rcParams\n",
    "import matplotlib.font_manager as fm\n",
    "\n",
    "rcParams['font.family'] = 'sans-serif'\n",
    "\n",
    "sys.path.append('../')\n",
    "from mederrata_spmf import PoissonMatrixFactorization\n"
   ]
  },
  {
   "cell_type": "markdown",
   "metadata": {},
   "source": [
    "# Generate a count matrix of random noise\n",
    "\n",
    "We want our factor model to tell us that this is just noise"
   ]
  },
  {
   "cell_type": "code",
   "execution_count": 2,
   "metadata": {},
   "outputs": [],
   "source": [
    "N = 50000\n",
    "D = 20\n",
    "P = 3\n",
    "\n",
    "# Test taking in from tf.dataset, don't pre-batch\n",
    "data = tf.data.Dataset.from_tensor_slices(\n",
    "    {\n",
    "        'data': np.random.poisson(3.0, size=(N, D)),\n",
    "        'indices': np.arange(N),\n",
    "        'normalization': np.ones(N)\n",
    "    })\n",
    "\n",
    "data = data.batch(1000)\n"
   ]
  },
  {
   "cell_type": "markdown",
   "metadata": {},
   "source": [
    "Currently, the input data has to be in this format, as a tensorflow BatchDataset object with the given key/values."
   ]
  },
  {
   "cell_type": "markdown",
   "metadata": {},
   "source": [
    "# Set up the inference object"
   ]
  },
  {
   "cell_type": "code",
   "execution_count": 3,
   "metadata": {},
   "outputs": [
    {
     "name": "stdout",
     "output_type": "stream",
     "text": [
      "Feature dim: 20 -> Latent dim 3\n"
     ]
    }
   ],
   "source": [
    "# strategy = tf.distribute.MirroredStrategy()\n",
    "strategy = None\n",
    "factor = PoissonMatrixFactorization(\n",
    "    data, latent_dim=P, strategy=strategy,\n",
    "    encoder_function=lambda x: x, decoder_function=lambda x: x,\n",
    "    dtype=tf.float64, u_tau_scale=1.)\n",
    "# Test to make sure sampling works\n"
   ]
  },
  {
   "cell_type": "markdown",
   "metadata": {},
   "source": [
    "## Test out the prior distributions"
   ]
  },
  {
   "cell_type": "code",
   "execution_count": 4,
   "metadata": {},
   "outputs": [],
   "source": [
    "## \n",
    "sample = factor.joint_prior.sample(10)\n",
    "# Compute the joint log probability of the sample\n",
    "probs = factor.joint_prior.log_prob(sample)\n",
    "sample_surrogate = factor.surrogate_distribution.sample(77)\n",
    "probs_parts = factor.unormalized_log_prob_parts(\n",
    "    **sample_surrogate, data=next(iter(data)))\n",
    "prob = factor.unormalized_log_prob(\n",
    "    **sample_surrogate,  data=next(iter(data)))\n",
    "\n"
   ]
  },
  {
   "cell_type": "markdown",
   "metadata": {},
   "source": [
    "# Inference"
   ]
  },
  {
   "cell_type": "code",
   "execution_count": 5,
   "metadata": {},
   "outputs": [
    {
     "name": "stderr",
     "output_type": "stream",
     "text": [
      "WARNING: Logging before flag parsing goes to stderr.\n",
      "W0520 13:56:21.812844 4675866048 deprecation.py:506] From /usr/local/lib/python3.7/site-packages/tensorflow_core/python/ops/resource_variable_ops.py:1786: calling BaseResourceVariable.__init__ (from tensorflow.python.ops.resource_variable_ops) with constraint is deprecated and will be removed in a future version.\n",
      "Instructions for updating:\n",
      "If using Keras pass *_constraint arguments to layers.\n"
     ]
    },
    {
     "name": "stdout",
     "output_type": "stream",
     "text": [
      "Initial loss: 71.17211964838827\n",
      "Epoch 1: average-batch loss: 40.273791966905144 last batch loss: 36.396477676317225\n",
      "Saved a checkpoint: ./.tf_ckpts/chkpt-1\n",
      "Epoch 2: average-batch loss: 36.24221051445322 last batch loss: 36.05490900892242\n",
      "Saved a checkpoint: ./.tf_ckpts/chkpt-2\n",
      "Epoch 3: average-batch loss: 36.06379352053034 last batch loss: 35.98621787488227\n",
      "Saved a checkpoint: ./.tf_ckpts/chkpt-3\n",
      "Epoch 4: average-batch loss: 36.02740212311611 last batch loss: 35.95568874321569\n",
      "Saved a checkpoint: ./.tf_ckpts/chkpt-4\n",
      "Epoch 5: average-batch loss: 36.01092973342313 last batch loss: 35.94047791862466\n",
      "Saved a checkpoint: ./.tf_ckpts/chkpt-5\n",
      "Epoch 6: average-batch loss: 36.00133512549653 last batch loss: 35.95510105553898\n",
      "Saved a checkpoint: ./.tf_ckpts/chkpt-6\n",
      "Epoch 7: average-batch loss: 35.99527207134821 last batch loss: 35.916981954645934\n",
      "Saved a checkpoint: ./.tf_ckpts/chkpt-7\n",
      "Epoch 8: average-batch loss: 35.993658846331044 last batch loss: 35.92454240781613\n",
      "Saved a checkpoint: ./.tf_ckpts/chkpt-8\n",
      "Epoch 9: average-batch loss: 35.98459920249345 last batch loss: 35.92748042189793\n",
      "Saved a checkpoint: ./.tf_ckpts/chkpt-9\n",
      "Epoch 10: average-batch loss: 35.97551746991689 last batch loss: 35.92575854965211\n",
      "Saved a checkpoint: ./.tf_ckpts/chkpt-10\n",
      "Epoch 11: average-batch loss: 35.97191359419041 last batch loss: 35.912316049937075\n",
      "Saved a checkpoint: ./.tf_ckpts/chkpt-11\n",
      "Epoch 12: average-batch loss: 35.96414728172158 last batch loss: 35.906329032787106\n",
      "Saved a checkpoint: ./.tf_ckpts/chkpt-12\n",
      "Epoch 13: average-batch loss: 35.95779052146768 last batch loss: 35.90639516401426\n",
      "Saved a checkpoint: ./.tf_ckpts/chkpt-13\n",
      "Epoch 14: average-batch loss: 35.947977976986024 last batch loss: 35.89469627966441\n",
      "Saved a checkpoint: ./.tf_ckpts/chkpt-14\n",
      "Epoch 15: average-batch loss: 35.93977808708327 last batch loss: 35.88927056223371\n",
      "Saved a checkpoint: ./.tf_ckpts/chkpt-15\n",
      "Epoch 16: average-batch loss: 35.93350530724713 last batch loss: 35.86711527065116\n",
      "Saved a checkpoint: ./.tf_ckpts/chkpt-16\n",
      "Epoch 17: average-batch loss: 35.91986094009802 last batch loss: 35.86694092082477\n",
      "Saved a checkpoint: ./.tf_ckpts/chkpt-17\n",
      "Epoch 18: average-batch loss: 35.915776989321984 last batch loss: 35.86899639247173\n",
      "Saved a checkpoint: ./.tf_ckpts/chkpt-18\n",
      "Epoch 19: average-batch loss: 35.90366782806784 last batch loss: 35.84160264517457\n",
      "Saved a checkpoint: ./.tf_ckpts/chkpt-19\n",
      "Epoch 20: average-batch loss: 35.89866037270514 last batch loss: 35.86518619494856\n",
      "Saved a checkpoint: ./.tf_ckpts/chkpt-20\n",
      "Epoch 21: average-batch loss: 35.89163789162355 last batch loss: 35.819874549857964\n",
      "Saved a checkpoint: ./.tf_ckpts/chkpt-21\n",
      "Epoch 22: average-batch loss: 35.88052945773537 last batch loss: 35.82715300988843\n",
      "Saved a checkpoint: ./.tf_ckpts/chkpt-22\n",
      "Epoch 23: average-batch loss: 35.86986251086015 last batch loss: 35.79775488071392\n",
      "Saved a checkpoint: ./.tf_ckpts/chkpt-23\n",
      "Epoch 24: average-batch loss: 35.866498885012206 last batch loss: 35.81054011624193\n",
      "Saved a checkpoint: ./.tf_ckpts/chkpt-24\n",
      "Epoch 25: average-batch loss: 35.85840632550036 last batch loss: 35.80037041799672\n",
      "Saved a checkpoint: ./.tf_ckpts/chkpt-25\n",
      "Epoch 26: average-batch loss: 35.84961799760358 last batch loss: 35.789176577178395\n",
      "Saved a checkpoint: ./.tf_ckpts/chkpt-26\n",
      "Epoch 27: average-batch loss: 35.84546720306007 last batch loss: 35.79719507415759\n",
      "Saved a checkpoint: ./.tf_ckpts/chkpt-27\n",
      "Epoch 28: average-batch loss: 35.83513796276795 last batch loss: 35.774003401381734\n",
      "Saved a checkpoint: ./.tf_ckpts/chkpt-28\n",
      "Epoch 29: average-batch loss: 35.83282968642322 last batch loss: 35.773639748653544\n",
      "Saved a checkpoint: ./.tf_ckpts/chkpt-29\n",
      "Epoch 30: average-batch loss: 35.83155482308193 last batch loss: 35.78426497386435\n",
      "Saved a checkpoint: ./.tf_ckpts/chkpt-30\n",
      "Epoch 31: average-batch loss: 35.823303882174876 last batch loss: 35.75838134629349\n",
      "Saved a checkpoint: ./.tf_ckpts/chkpt-31\n",
      "Epoch 32: average-batch loss: 35.815893367263406 last batch loss: 35.75923994221536\n",
      "Saved a checkpoint: ./.tf_ckpts/chkpt-32\n",
      "Epoch 33: average-batch loss: 35.815362452381024 last batch loss: 35.76703749740266\n",
      "Saved a checkpoint: ./.tf_ckpts/chkpt-33\n",
      "Epoch 34: average-batch loss: 35.80902110336572 last batch loss: 35.74190406459607\n",
      "Saved a checkpoint: ./.tf_ckpts/chkpt-34\n",
      "Epoch 35: average-batch loss: 35.806443298478264 last batch loss: 35.74866789062996\n",
      "Saved a checkpoint: ./.tf_ckpts/chkpt-35\n",
      "Epoch 36: average-batch loss: 35.795738434556064 last batch loss: 35.74410405568281\n",
      "Saved a checkpoint: ./.tf_ckpts/chkpt-36\n",
      "Epoch 37: average-batch loss: 35.79598925153873 last batch loss: 35.73180563086862\n",
      "Epoch 38: average-batch loss: 35.7871399178001 last batch loss: 35.74577252441122\n",
      "Saved a checkpoint: ./.tf_ckpts/chkpt-37\n",
      "Epoch 39: average-batch loss: 35.78612830069557 last batch loss: 35.74312609787531\n",
      "Saved a checkpoint: ./.tf_ckpts/chkpt-38\n",
      "Epoch 40: average-batch loss: 35.782916130157275 last batch loss: 35.72751977587319\n",
      "Saved a checkpoint: ./.tf_ckpts/chkpt-39\n",
      "Epoch 41: average-batch loss: 35.77763594586691 last batch loss: 35.711507285452356\n",
      "Saved a checkpoint: ./.tf_ckpts/chkpt-40\n",
      "Epoch 42: average-batch loss: 35.775916492450996 last batch loss: 35.72593117161764\n",
      "Saved a checkpoint: ./.tf_ckpts/chkpt-41\n",
      "Epoch 43: average-batch loss: 35.77385864937785 last batch loss: 35.68838678773852\n",
      "Saved a checkpoint: ./.tf_ckpts/chkpt-42\n",
      "Epoch 44: average-batch loss: 35.771438281743826 last batch loss: 35.708158591980215\n",
      "Saved a checkpoint: ./.tf_ckpts/chkpt-43\n",
      "Epoch 45: average-batch loss: 35.769143550751 last batch loss: 35.7183545112383\n",
      "Saved a checkpoint: ./.tf_ckpts/chkpt-44\n",
      "Epoch 46: average-batch loss: 35.769510683806374 last batch loss: 35.699326038037896\n",
      "Epoch 47: average-batch loss: 35.76664054985778 last batch loss: 35.71522726022865\n",
      "Saved a checkpoint: ./.tf_ckpts/chkpt-45\n",
      "Epoch 48: average-batch loss: 35.7687929872023 last batch loss: 35.72254631515563\n",
      "Epoch 49: average-batch loss: 35.76644024770791 last batch loss: 35.702470766368414\n",
      "Saved a checkpoint: ./.tf_ckpts/chkpt-46\n",
      "Terminating because we are out of iterations\n"
     ]
    }
   ],
   "source": [
    "losses = factor.calibrate_advi(\n",
    "    num_epochs=50, rel_tol=1e-4, learning_rate=.1)\n",
    "\n"
   ]
  },
  {
   "cell_type": "markdown",
   "metadata": {},
   "source": [
    "# Compute the WAIC"
   ]
  },
  {
   "cell_type": "code",
   "execution_count": 6,
   "metadata": {},
   "outputs": [
    {
     "name": "stdout",
     "output_type": "stream",
     "text": [
      "{'waic': 346327.47237696, 'se': 1471.5019416768293, 'lppd': -38190.8546267497, 'pwaic': 134972.8815617303}\n"
     ]
    }
   ],
   "source": [
    "waic = factor.waic()\n",
    "print(waic)"
   ]
  },
  {
   "cell_type": "markdown",
   "metadata": {},
   "source": [
    "# Plot the factor encoding matrix"
   ]
  },
  {
   "cell_type": "code",
   "execution_count": 7,
   "metadata": {},
   "outputs": [],
   "source": [
    "intercept_data = az.convert_to_inference_data(\n",
    "    {\n",
    "        r\"$s_dw_d$\": tf.squeeze(\n",
    "            factor.surrogate_distribution.sample(1000)['w']*factor.norm_factor).numpy().T})"
   ]
  },
  {
   "cell_type": "code",
   "execution_count": 8,
   "metadata": {},
   "outputs": [
    {
     "data": {
      "image/png": "[encoded data removed]",
      "text/plain": [
       "<Figure size 720x288 with 2 Axes>"
      ]
     },
     "metadata": {
      "needs_background": "light"
     },
     "output_type": "display_data"
    }
   ],
   "source": [
    "fig, ax = plt.subplots(figsize=(10,4))\n",
    "\n",
    "plt.imshow(factor.encoding_matrix().numpy().T, vmin=0, cmap=\"Blues\")\n",
    "plt.xticks(np.arange(D))\n",
    "ax.set_xlabel(\"item\")\n",
    "ax.set_ylabel(\"dimension\")\n",
    "plt.tick_params(axis='both', which='major', labelsize=10, labelbottom = False, bottom=False, top = True, labeltop=True)\n",
    "plt.yticks(np.arange(P))\n",
    "plt.colorbar(orientation = \"horizontal\")\n",
    "plt.show()\n"
   ]
  },
  {
   "cell_type": "code",
   "execution_count": 9,
   "metadata": {},
   "outputs": [
    {
     "data": {
      "image/png": "[encoded data removed]",
      "text/plain": [
       "<Figure size 1008x576 with 3 Axes>"
      ]
     },
     "metadata": {
      "needs_background": "light"
     },
     "output_type": "display_data"
    }
   ],
   "source": [
    "fig, ax = plt.subplots(1,2, figsize=(14,8))\n",
    "\n",
    "pcm = ax[0].imshow(factor.encoding_matrix().numpy()[::-1,:], vmin=0, cmap=\"Blues\")\n",
    "ax[0].set_yticks(np.arange(D))\n",
    "ax[0].set_yticklabels(np.arange(D))\n",
    "ax[0].set_ylabel(\"item\")\n",
    "ax[0].set_xlabel(\"factor dimension\")\n",
    "ax[0].set_xticks(np.arange(P))\n",
    "ax[0].set_xticklabels(np.arange(P))\n",
    "\n",
    "fig.colorbar(pcm, ax=ax[0], orientation = \"vertical\")\n",
    "az.plot_forest(intercept_data, ax=ax[1])\n",
    "ax[1].set_xlabel(\"background rate\")\n",
    "ax[1].set_ylim((-0.014,.466))\n",
    "ax[1].set_title(\"65% and 95% CI\")\n",
    "ax[1].axvline(3.0, linestyle='dashed', color=\"black\")\n",
    "plt.savefig('noise_factorization_sepmf.pdf', bbox_inches='tight')\n",
    "plt.show()\n"
   ]
  },
  {
   "cell_type": "markdown",
   "metadata": {},
   "source": [
    "The values in the factor encoding matrix as near zero. There is a gradient because the model induces a dimensional decay to remove symmetries - this encourages the leading dimensions to hold more of the signal."
   ]
  },
  {
   "cell_type": "code",
   "execution_count": 10,
   "metadata": {},
   "outputs": [
    {
     "data": {
      "text/plain": [
       "<tf.Tensor: shape=(2, 20), dtype=float64, numpy=\n",
       "array([[0.00204613, 0.00161471, 0.00240402, 0.00163486, 0.0017149 ,\n",
       "        0.00212046, 0.00225436, 0.00175337, 0.00204892, 0.00194632,\n",
       "        0.00196195, 0.00149287, 0.00210638, 0.00161517, 0.00208458,\n",
       "        0.00220554, 0.00199841, 0.00236167, 0.00165148, 0.00214342],\n",
       "       [0.99795387, 0.99838529, 0.99759598, 0.99836514, 0.9982851 ,\n",
       "        0.99787954, 0.99774564, 0.99824663, 0.99795108, 0.99805368,\n",
       "        0.99803805, 0.99850713, 0.99789362, 0.99838483, 0.99791542,\n",
       "        0.99779446, 0.99800159, 0.99763833, 0.99834852, 0.99785658]])>"
      ]
     },
     "execution_count": 10,
     "metadata": {},
     "output_type": "execute_result"
    }
   ],
   "source": [
    "factor.calibrated_expectations['s']/tf.reduce_sum(factor.calibrated_expectations['s'], axis=0, keepdims=True)"
   ]
  },
  {
   "cell_type": "code",
   "execution_count": 11,
   "metadata": {},
   "outputs": [
    {
     "data": {
      "image/png": "[encoded data removed]",
      "text/plain": [
       "<Figure size 1008x576 with 3 Axes>"
      ]
     },
     "metadata": {
      "needs_background": "light"
     },
     "output_type": "display_data"
    }
   ],
   "source": [
    "fig, ax = plt.subplots(1,2, figsize=(14,8))\n",
    "\n",
    "pcm = ax[0].imshow(factor.decoding_matrix().numpy().T[::-1,:], vmin=0, cmap=\"Blues\")\n",
    "ax[0].set_yticks(np.arange(D))\n",
    "ax[0].set_yticklabels(np.arange(D))\n",
    "ax[0].set_ylabel(\"item\")\n",
    "ax[0].set_xlabel(\"factor dimension\")\n",
    "ax[0].set_xticks(np.arange(P))\n",
    "ax[0].set_xticklabels(np.arange(P))\n",
    "\n",
    "fig.colorbar(pcm, ax=ax[0], orientation = \"vertical\")\n",
    "az.plot_forest(intercept_data, ax=ax[1])\n",
    "ax[1].set_xlabel(\"background rate\")\n",
    "ax[1].set_ylim((-0.014,.466))\n",
    "ax[1].set_title(\"65% and 95% CI\")\n",
    "ax[1].axvline(3.0, linestyle='dashed', color=\"black\")\n",
    "plt.show()\n"
   ]
  },
  {
   "cell_type": "code",
   "execution_count": null,
   "metadata": {},
   "outputs": [],
   "source": []
  },
  {
   "cell_type": "code",
   "execution_count": null,
   "metadata": {},
   "outputs": [],
   "source": []
  }
 ],
 "metadata": {
  "kernelspec": {
   "display_name": "Python 3.7.5 64-bit",
   "language": "python",
   "name": "python37564bitf92b1a92eaa047aebe1f2ca9ebe04d21"
  },
  "language_info": {
   "codemirror_mode": {
    "name": "ipython",
    "version": 3
   },
   "file_extension": ".py",
   "mimetype": "text/x-python",
   "name": "python",
   "nbconvert_exporter": "python",
   "pygments_lexer": "ipython3",
   "version": "3.7.5"
  }
 },
 "nbformat": 4,
 "nbformat_minor": 2
}
