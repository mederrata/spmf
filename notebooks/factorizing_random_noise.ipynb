{
 "cells": [
  {
   "cell_type": "code",
   "execution_count": 1,
   "metadata": {},
   "outputs": [
    {
     "name": "stdout",
     "output_type": "stream",
     "text": [
      "Populating the interactive namespace from numpy and matplotlib\n"
     ]
    }
   ],
   "source": [
    "%pylab inline\n",
    "import sys\n",
    "\n",
    "import numpy as np\n",
    "import tensorflow as tf\n",
    "import tensorflow_probability as tfp\n",
    "import arviz as az\n",
    "\n",
    "import matplotlib.pyplot as plt\n",
    "from matplotlib import rcParams\n",
    "import matplotlib.font_manager as fm\n",
    "\n",
    "rcParams['font.family'] = 'sans-serif'\n",
    "\n",
    "sys.path.append('../')\n",
    "from mederrata_spmf import PoissonMatrixFactorization\n"
   ]
  },
  {
   "cell_type": "markdown",
   "metadata": {},
   "source": [
    "# Generate a count matrix of random noise\n",
    "\n",
    "We want our factor model to tell us that this is just noise"
   ]
  },
  {
   "cell_type": "code",
   "execution_count": 2,
   "metadata": {},
   "outputs": [],
   "source": [
    "N = 50000\n",
    "D = 30\n",
    "P = 4\n",
    "\n",
    "# Test taking in from tf.dataset, don't pre-batch\n",
    "data = tf.data.Dataset.from_tensor_slices(\n",
    "    {\n",
    "        'data': np.random.poisson(1.0, size=(N, D)),\n",
    "        'indices': np.arange(N),\n",
    "        'normalization': np.ones(N)\n",
    "    })\n",
    "\n",
    "data = data.batch(1000)\n"
   ]
  },
  {
   "cell_type": "markdown",
   "metadata": {},
   "source": [
    "Currently, the input data has to be in this format, as a tensorflow BatchDataset object with the given key/values."
   ]
  },
  {
   "cell_type": "markdown",
   "metadata": {},
   "source": [
    "# Set up the inference object"
   ]
  },
  {
   "cell_type": "code",
   "execution_count": 3,
   "metadata": {},
   "outputs": [
    {
     "name": "stdout",
     "output_type": "stream",
     "text": [
      "Feature dim: 30 -> Latent dim 4\n"
     ]
    }
   ],
   "source": [
    "# strategy = tf.distribute.MirroredStrategy()\n",
    "strategy = None\n",
    "factor = PoissonMatrixFactorization(\n",
    "    data, latent_dim=P, strategy=strategy,\n",
    "    u_tau_scale=1.0/np.sqrt(D*N),\n",
    "    with_s = False,\n",
    "    dtype=tf.float64)\n",
    "# Test to make sure sampling works\n"
   ]
  },
  {
   "cell_type": "markdown",
   "metadata": {},
   "source": [
    "## Test out the prior distributions"
   ]
  },
  {
   "cell_type": "code",
   "execution_count": 4,
   "metadata": {},
   "outputs": [],
   "source": [
    "## \n",
    "sample = factor.joint_prior.sample(10)\n",
    "# Compute the joint log probability of the sample\n",
    "probs = factor.joint_prior.log_prob(sample)\n",
    "sample_surrogate = factor.surrogate_distribution.sample(77)\n",
    "probs_parts = factor.unormalized_log_prob_parts(\n",
    "    **sample_surrogate, data=next(iter(data)))\n",
    "prob = factor.unormalized_log_prob(\n",
    "    **sample_surrogate,  data=next(iter(data)))\n",
    "\n"
   ]
  },
  {
   "cell_type": "markdown",
   "metadata": {},
   "source": [
    "# Inference"
   ]
  },
  {
   "cell_type": "code",
   "execution_count": 5,
   "metadata": {},
   "outputs": [
    {
     "name": "stderr",
     "output_type": "stream",
     "text": [
      "WARNING: Logging before flag parsing goes to stderr.\n",
      "W0604 09:11:19.534935 4508687808 deprecation.py:506] From /usr/local/lib/python3.7/site-packages/tensorflow/python/ops/resource_variable_ops.py:1817: calling BaseResourceVariable.__init__ (from tensorflow.python.ops.resource_variable_ops) with constraint is deprecated and will be removed in a future version.\n",
      "Instructions for updating:\n",
      "If using Keras pass *_constraint arguments to layers.\n"
     ]
    },
    {
     "name": "stdout",
     "output_type": "stream",
     "text": [
      "Initial loss: 45.3364585161593\n",
      "Epoch 1: average-batch loss: 44.8091410891739 last batch loss: 44.352845967826894\n",
      "Saved a checkpoint: ./.tf_ckpts/chkpt-1\n",
      "Epoch 2: average-batch loss: 44.1103600899719 last batch loss: 43.67874013577645\n",
      "Saved a checkpoint: ./.tf_ckpts/chkpt-2\n",
      "Epoch 3: average-batch loss: 43.474774775799794 last batch loss: 43.032201292467\n",
      "Saved a checkpoint: ./.tf_ckpts/chkpt-3\n",
      "Epoch 4: average-batch loss: 42.86620862844085 last batch loss: 42.4888807334852\n",
      "Saved a checkpoint: ./.tf_ckpts/chkpt-4\n",
      "Epoch 5: average-batch loss: 42.284461141620675 last batch loss: 41.880361895052765\n",
      "Saved a checkpoint: ./.tf_ckpts/chkpt-5\n",
      "Epoch 6: average-batch loss: 41.73807700002275 last batch loss: 41.360938291024475\n",
      "Saved a checkpoint: ./.tf_ckpts/chkpt-6\n",
      "Epoch 7: average-batch loss: 41.25795730845116 last batch loss: 40.95360044279759\n",
      "Saved a checkpoint: ./.tf_ckpts/chkpt-7\n",
      "Epoch 8: average-batch loss: 40.957675261237846 last batch loss: 40.77136989079809\n",
      "Saved a checkpoint: ./.tf_ckpts/chkpt-8\n",
      "Epoch 9: average-batch loss: 40.89227158930915 last batch loss: 40.742835899403836\n",
      "Saved a checkpoint: ./.tf_ckpts/chkpt-9\n",
      "Epoch 10: average-batch loss: 40.84682114218244 last batch loss: 40.712747677563826\n",
      "Saved a checkpoint: ./.tf_ckpts/chkpt-10\n",
      "Epoch 11: average-batch loss: 40.83025267951979 last batch loss: 40.695087222690056\n",
      "Saved a checkpoint: ./.tf_ckpts/chkpt-11\n",
      "Epoch 12: average-batch loss: 40.81366064641828 last batch loss: 40.708475379235736\n",
      "Saved a checkpoint: ./.tf_ckpts/chkpt-12\n",
      "Epoch 13: average-batch loss: 40.80448109097104 last batch loss: 40.68288108634553\n",
      "Saved a checkpoint: ./.tf_ckpts/chkpt-13\n",
      "Epoch 14: average-batch loss: 40.80181099024533 last batch loss: 40.67475951283914\n",
      "Saved a checkpoint: ./.tf_ckpts/chkpt-14\n",
      "Epoch 15: average-batch loss: 40.79670475512505 last batch loss: 40.69193211595064\n",
      "Saved a checkpoint: ./.tf_ckpts/chkpt-15\n",
      "Epoch 16: average-batch loss: 40.79555806312901 last batch loss: 40.68226753922873\n",
      "Saved a checkpoint: ./.tf_ckpts/chkpt-16\n",
      "Epoch 17: average-batch loss: 40.79491114812673 last batch loss: 40.667833970930594\n",
      "Saved a checkpoint: ./.tf_ckpts/chkpt-17\n",
      "Epoch 18: average-batch loss: 40.7932889001882 last batch loss: 40.69241647837697\n",
      "Saved a checkpoint: ./.tf_ckpts/chkpt-18\n",
      "Epoch 19: average-batch loss: 40.794056025936705 last batch loss: 40.669441758369736\n",
      "Epoch 20: average-batch loss: 40.79534414413536 last batch loss: 40.68856669605061\n",
      "We are in a loss plateau learning rate: 0.045000000000000005 loss: 40.870608350155294\n",
      "Restoring from a checkpoint - loss: 40.87535178587521\n",
      "Epoch 21: average-batch loss: 40.79536848583216 last batch loss: 40.684993418352434\n",
      "Epoch 22: average-batch loss: 40.79517371067335 last batch loss: 40.6794824656812\n",
      "Epoch 23: average-batch loss: 40.793967820572426 last batch loss: 40.676567341493566\n",
      "Epoch 24: average-batch loss: 40.79456526879017 last batch loss: 40.68155722988184\n",
      "Epoch 25: average-batch loss: 40.79380502434511 last batch loss: 40.664314583825536\n",
      "Epoch 26: average-batch loss: 40.79463385050284 last batch loss: 40.67333713175139\n",
      "We are in a loss plateau learning rate: 0.04050000000000001 loss: 40.874097635292465\n",
      "Restoring from a checkpoint - loss: 40.87417330848901\n",
      "Epoch 27: average-batch loss: 40.79236683918944 last batch loss: 40.677775091682186\n",
      "Saved a checkpoint: ./.tf_ckpts/chkpt-19\n",
      "Epoch 28: average-batch loss: 40.79170519796858 last batch loss: 40.675315683226366\n",
      "Saved a checkpoint: ./.tf_ckpts/chkpt-20\n",
      "Epoch 29: average-batch loss: 40.793413997468626 last batch loss: 40.673886894982715\n",
      "Epoch 30: average-batch loss: 40.79565293496505 last batch loss: 40.69363529807002\n",
      "Epoch 31: average-batch loss: 40.793322164667636 last batch loss: 40.667665297851855\n",
      "Epoch 32: average-batch loss: 40.79448923510715 last batch loss: 40.68025082194746\n",
      "Epoch 33: average-batch loss: 40.794428629560045 last batch loss: 40.69455279390748\n",
      "Epoch 34: average-batch loss: 40.7951849643966 last batch loss: 40.6970660354781\n",
      "We are in a loss plateau learning rate: 0.03645 loss: 40.8638472924856\n",
      "Restoring from a checkpoint - loss: 40.882861204216944\n",
      "Epoch 35: average-batch loss: 40.79617119376787 last batch loss: 40.680035428368505\n",
      "Epoch 36: average-batch loss: 40.79382735250421 last batch loss: 40.67640793569219\n",
      "Epoch 37: average-batch loss: 40.79266302547948 last batch loss: 40.67687782129856\n",
      "Epoch 38: average-batch loss: 40.79409657679751 last batch loss: 40.67892197437551\n",
      "Epoch 39: average-batch loss: 40.794496571827416 last batch loss: 40.67457965501616\n",
      "We are in a loss plateau learning rate: 0.032805 loss: 40.87293925416356\n",
      "Restoring from a checkpoint - loss: 40.87258417307471\n",
      "Epoch 40: average-batch loss: 40.79240008759185 last batch loss: 40.660665496527024\n",
      "Epoch 41: average-batch loss: 40.796188278820466 last batch loss: 40.77212388007278\n",
      "Epoch 42: average-batch loss: 40.79375754228018 last batch loss: 40.67333401340331\n",
      "Epoch 43: average-batch loss: 40.79444768808741 last batch loss: 40.6777499875003\n",
      "Epoch 44: average-batch loss: 40.793729648846195 last batch loss: 40.67259977548481\n",
      "Epoch 45: average-batch loss: 40.793856095920965 last batch loss: 40.68404702068532\n",
      "Epoch 46: average-batch loss: 40.794406636688606 last batch loss: 40.6818020477135\n",
      "We are in a loss plateau learning rate: 0.029524500000000006 loss: 40.87127858304628\n",
      "Restoring from a checkpoint - loss: 40.87626088275462\n",
      "Epoch 47: average-batch loss: 40.79097675727996 last batch loss: 40.68193292894536\n",
      "Saved a checkpoint: ./.tf_ckpts/chkpt-21\n",
      "Epoch 48: average-batch loss: 40.79257732699418 last batch loss: 40.68537246667913\n",
      "Epoch 49: average-batch loss: 40.79521414039883 last batch loss: 40.679380239956764\n",
      "Epoch 50: average-batch loss: 40.79361787022611 last batch loss: 40.68748965843755\n",
      "Epoch 51: average-batch loss: 40.79563900140342 last batch loss: 40.68343484193884\n",
      "We are in a loss plateau learning rate: 0.026572050000000003 loss: 40.87086056731487\n",
      "Restoring from a checkpoint - loss: 40.88467034209909\n",
      "Epoch 52: average-batch loss: 40.79529850770586 last batch loss: 40.678555895103244\n",
      "Epoch 53: average-batch loss: 40.793884645433124 last batch loss: 40.67701349188229\n",
      "Epoch 54: average-batch loss: 40.794808594509526 last batch loss: 40.695987603442326\n",
      "Epoch 55: average-batch loss: 40.79440787861468 last batch loss: 40.69069373902526\n",
      "Epoch 56: average-batch loss: 40.79449395443668 last batch loss: 40.68525889280069\n",
      "Epoch 57: average-batch loss: 40.79216475595605 last batch loss: 40.682166621835385\n",
      "Epoch 58: average-batch loss: 40.79275159371504 last batch loss: 40.66726921489588\n",
      "Epoch 59: average-batch loss: 40.79347348774374 last batch loss: 40.68959866319056\n",
      "We are in a loss plateau learning rate: 0.023914845000000004 loss: 40.885963261038846\n",
      "Restoring from a checkpoint - loss: 40.880650382996066\n",
      "Epoch 60: average-batch loss: 40.7933518155246 last batch loss: 40.67078635753316\n",
      "Epoch 61: average-batch loss: 40.792644224213426 last batch loss: 40.67049545247069\n",
      "Epoch 62: average-batch loss: 40.79418035174683 last batch loss: 40.687964648573235\n",
      "Epoch 63: average-batch loss: 40.793317614090554 last batch loss: 40.67967208412211\n",
      "Epoch 64: average-batch loss: 40.79512651925775 last batch loss: 40.69572463796703\n",
      "We are in a loss plateau learning rate: 0.021523360500000005 loss: 40.873002463665486\n",
      "Restoring from a checkpoint - loss: 40.87346996288486\n",
      "Epoch 65: average-batch loss: 40.79213201900206 last batch loss: 40.67539843424733\n",
      "Epoch 66: average-batch loss: 40.79299586828827 last batch loss: 40.67162337977548\n",
      "Epoch 67: average-batch loss: 40.79362126600247 last batch loss: 40.67476268586052\n",
      "Epoch 68: average-batch loss: 40.79433249586999 last batch loss: 40.677801372337505\n",
      "Epoch 69: average-batch loss: 40.79395519683358 last batch loss: 40.67135656608192\n",
      "Epoch 70: average-batch loss: 40.79271892443924 last batch loss: 40.68814576106091\n",
      "Epoch 71: average-batch loss: 40.79410251759184 last batch loss: 40.6889408858912\n",
      "We are in a loss plateau learning rate: 0.019371024450000007 loss: 40.896128360782754\n",
      "Restoring from a checkpoint - loss: 40.87758605484685\n",
      "Epoch 72: average-batch loss: 40.795440787512966 last batch loss: 40.67533175825551\n",
      "Epoch 73: average-batch loss: 40.79424306615686 last batch loss: 40.679143693492634\n"
     ]
    },
    {
     "name": "stdout",
     "output_type": "stream",
     "text": [
      "Epoch 74: average-batch loss: 40.79471512178981 last batch loss: 40.67667144545897\n",
      "Epoch 75: average-batch loss: 40.79255714976342 last batch loss: 40.68066631609163\n",
      "Epoch 76: average-batch loss: 40.7930808393333 last batch loss: 40.691848279664434\n",
      "Epoch 77: average-batch loss: 40.793401568300375 last batch loss: 40.68570344732729\n",
      "We are in a loss plateau learning rate: 0.017433922005000005 loss: 40.87551079641578\n",
      "Restoring from a checkpoint - loss: 40.87247451926742\n",
      "Epoch 78: average-batch loss: 40.79524000576841 last batch loss: 40.6889208659308\n",
      "Epoch 79: average-batch loss: 40.795019247486515 last batch loss: 40.681268656685475\n",
      "Epoch 80: average-batch loss: 40.79458962923129 last batch loss: 40.675147600458125\n",
      "Epoch 81: average-batch loss: 40.79459210584482 last batch loss: 40.680139118911896\n",
      "Epoch 82: average-batch loss: 40.79455680606617 last batch loss: 40.67166904229694\n",
      "Epoch 83: average-batch loss: 40.792733262330714 last batch loss: 40.66924246436968\n",
      "Epoch 84: average-batch loss: 40.79404076475922 last batch loss: 40.68262277539968\n",
      "Epoch 85: average-batch loss: 40.79485914826891 last batch loss: 40.673072825568596\n",
      "We are in a loss plateau learning rate: 0.015690529804500003 loss: 40.89048712086584\n",
      "Restoring from a checkpoint - loss: 40.877661505780395\n",
      "Epoch 86: average-batch loss: 40.79335778221176 last batch loss: 40.67659838357296\n",
      "Epoch 87: average-batch loss: 40.79315780709589 last batch loss: 40.682493472953915\n",
      "Epoch 88: average-batch loss: 40.79394805858545 last batch loss: 40.667517817786404\n",
      "Epoch 89: average-batch loss: 40.794020228760104 last batch loss: 40.6856982362657\n",
      "Epoch 90: average-batch loss: 40.79639509872443 last batch loss: 40.68299340897354\n",
      "We are in a loss plateau learning rate: 0.014121476824050006 loss: 40.87637226043399\n",
      "Restoring from a checkpoint - loss: 40.876064465779066\n",
      "Epoch 91: average-batch loss: 40.793196302378014 last batch loss: 40.67547915593577\n",
      "Epoch 92: average-batch loss: 40.792552241658456 last batch loss: 40.669744518514754\n",
      "Epoch 93: average-batch loss: 40.793829741726924 last batch loss: 40.67620100880395\n",
      "Epoch 94: average-batch loss: 40.794197344122324 last batch loss: 40.66796338695347\n",
      "Epoch 95: average-batch loss: 40.79365593079725 last batch loss: 40.67354757033798\n",
      "Epoch 96: average-batch loss: 40.79469233122603 last batch loss: 40.68477203159109\n",
      "We are in a loss plateau learning rate: 0.012709329141645005 loss: 40.87768395595481\n",
      "Restoring from a checkpoint - loss: 40.874383293344884\n",
      "Epoch 97: average-batch loss: 40.79403942227418 last batch loss: 40.68662238401515\n",
      "Epoch 98: average-batch loss: 40.792925710705326 last batch loss: 40.670738266912814\n",
      "Epoch 99: average-batch loss: 40.794528981663944 last batch loss: 40.67772331102094\n",
      "Epoch 100: average-batch loss: 40.79308890212352 last batch loss: 40.66806233965275\n",
      "Epoch 101: average-batch loss: 40.79414603495883 last batch loss: 40.67920538516757\n",
      "Epoch 102: average-batch loss: 40.79332605357532 last batch loss: 40.67641494724153\n",
      "Epoch 103: average-batch loss: 40.792740913939 last batch loss: 40.680984476658665\n",
      "Epoch 104: average-batch loss: 40.79532939845012 last batch loss: 40.68035122277571\n",
      "We are in a loss plateau learning rate: 0.011438396227480505 loss: 40.8810587712419\n",
      "Restoring from a checkpoint - loss: 40.88754653593781\n",
      "Epoch 105: average-batch loss: 40.79524697003654 last batch loss: 40.68953807409815\n",
      "Epoch 106: average-batch loss: 40.7944870905982 last batch loss: 40.68233149142692\n",
      "Epoch 107: average-batch loss: 40.79237734572489 last batch loss: 40.68008520499034\n",
      "Epoch 108: average-batch loss: 40.79566121415284 last batch loss: 40.67651579106014\n",
      "Epoch 109: average-batch loss: 40.79382097492039 last batch loss: 40.68405980094\n",
      "Epoch 110: average-batch loss: 40.79430803179599 last batch loss: 40.669313830682604\n",
      "Epoch 111: average-batch loss: 40.795045402511235 last batch loss: 40.68880370602832\n",
      "We are in a loss plateau learning rate: 0.010294556604732455 loss: 40.87140787307562\n",
      "Restoring from a checkpoint - loss: 40.876163180663134\n",
      "Epoch 112: average-batch loss: 40.79433510965564 last batch loss: 40.676944295159124\n",
      "Epoch 113: average-batch loss: 40.79278836118966 last batch loss: 40.68178255937456\n",
      "Epoch 114: average-batch loss: 40.79420648009858 last batch loss: 40.68156687621553\n",
      "Epoch 115: average-batch loss: 40.794679588071226 last batch loss: 40.677019403648565\n",
      "Epoch 116: average-batch loss: 40.791996447410774 last batch loss: 40.679945731622354\n",
      "Epoch 117: average-batch loss: 40.79452216867369 last batch loss: 40.69127194540482\n",
      "Epoch 118: average-batch loss: 40.793183293948324 last batch loss: 40.68207228271244\n",
      "Epoch 119: average-batch loss: 40.79466984163281 last batch loss: 40.67899655386826\n",
      "We are in a loss plateau learning rate: 0.009265100944259209 loss: 40.91447614598611\n",
      "Restoring from a checkpoint - loss: 40.87957105287981\n",
      "Epoch 120: average-batch loss: 40.79182354469982 last batch loss: 40.68667928115753\n",
      "Epoch 121: average-batch loss: 40.79268018422371 last batch loss: 40.67353658916281\n",
      "Epoch 122: average-batch loss: 40.79426916408547 last batch loss: 40.68190685352533\n",
      "Epoch 123: average-batch loss: 40.795396759215215 last batch loss: 40.676838892536\n",
      "Epoch 124: average-batch loss: 40.79404056077006 last batch loss: 40.66873311358497\n",
      "Epoch 125: average-batch loss: 40.794070967032106 last batch loss: 40.69227851829992\n",
      "Epoch 126: average-batch loss: 40.793380304215404 last batch loss: 40.68900687215811\n",
      "Epoch 127: average-batch loss: 40.79378533951728 last batch loss: 40.67339499079164\n",
      "Epoch 128: average-batch loss: 40.79547375484311 last batch loss: 40.6811504463753\n",
      "We are in a loss plateau learning rate: 0.008338590849833289 loss: 40.874538832218484\n",
      "Restoring from a checkpoint - loss: 40.88432705436149\n",
      "Epoch 129: average-batch loss: 40.79461740366755 last batch loss: 40.67481597599377\n",
      "Epoch 130: average-batch loss: 40.793607867416455 last batch loss: 40.674005528816096\n",
      "Epoch 131: average-batch loss: 40.79509857338643 last batch loss: 40.68478194530738\n",
      "Epoch 132: average-batch loss: 40.79317477872765 last batch loss: 40.68331398737582\n",
      "Epoch 133: average-batch loss: 40.79371723762806 last batch loss: 40.68193999538294\n",
      "Epoch 134: average-batch loss: 40.79615534069339 last batch loss: 40.68700263021879\n",
      "We are in a loss plateau learning rate: 0.007504731764849959 loss: 40.86806193282244\n",
      "Restoring from a checkpoint - loss: 40.89664256169171\n",
      "Epoch 135: average-batch loss: 40.791344206413356 last batch loss: 40.67330268570663\n",
      "Epoch 136: average-batch loss: 40.793776904480595 last batch loss: 40.67273226942256\n",
      "Epoch 137: average-batch loss: 40.79308243276763 last batch loss: 40.67812444151713\n",
      "Epoch 138: average-batch loss: 40.79353159969111 last batch loss: 40.67277128579475\n",
      "Epoch 139: average-batch loss: 40.794448156759756 last batch loss: 40.688621882987896\n",
      "We are in a loss plateau learning rate: 0.006754258588364964 loss: 40.868289585699095\n",
      "Restoring from a checkpoint - loss: 40.867291334858294\n",
      "Epoch 140: average-batch loss: 40.792930481456494 last batch loss: 40.67593219992759\n",
      "Epoch 141: average-batch loss: 40.79385320152679 last batch loss: 40.67785672812571\n",
      "Epoch 142: average-batch loss: 40.79413804399958 last batch loss: 40.67991708062942\n",
      "Epoch 143: average-batch loss: 40.79334582541388 last batch loss: 40.68196876977598\n",
      "Epoch 144: average-batch loss: 40.79524975989863 last batch loss: 40.69203748286086\n",
      "We are in a loss plateau learning rate: 0.006078832729528468 loss: 40.86980599916032\n",
      "Restoring from a checkpoint - loss: 40.874675516210836\n",
      "Epoch 145: average-batch loss: 40.79446019117268 last batch loss: 40.689197449085164\n",
      "Epoch 146: average-batch loss: 40.793415530873865 last batch loss: 40.66840871523717\n",
      "Epoch 147: average-batch loss: 40.792176903623826 last batch loss: 40.678063471570745\n",
      "Epoch 148: average-batch loss: 40.79704022303255 last batch loss: 40.673364113973705\n",
      "Epoch 149: average-batch loss: 40.79603693831486 last batch loss: 40.67924775232765\n",
      "Epoch 150: average-batch loss: 40.79316562464558 last batch loss: 40.67684618527534\n",
      "Epoch 151: average-batch loss: 40.793116019245964 last batch loss: 40.68936040314863\n",
      "Epoch 152: average-batch loss: 40.79565684711631 last batch loss: 40.68369065485846\n",
      "We are in a loss plateau learning rate: 0.005470949456575621 loss: 40.87594645878472\n",
      "Restoring from a checkpoint - loss: 40.87382407277076\n"
     ]
    },
    {
     "name": "stdout",
     "output_type": "stream",
     "text": [
      "Epoch 153: average-batch loss: 40.79367312996732 last batch loss: 40.677554448129264\n",
      "Epoch 154: average-batch loss: 40.794475694514766 last batch loss: 40.67711397838732\n",
      "Epoch 155: average-batch loss: 40.79362771295935 last batch loss: 40.689156418450835\n",
      "Epoch 156: average-batch loss: 40.79322875660715 last batch loss: 40.67312739422111\n",
      "Epoch 157: average-batch loss: 40.79365115312393 last batch loss: 40.68564590698834\n",
      "We are in a loss plateau learning rate: 0.00492385451091806 loss: 40.86726053739391\n",
      "Restoring from a checkpoint - loss: 40.87039931238333\n",
      "Epoch 158: average-batch loss: 40.7932660899077 last batch loss: 40.67410668525635\n",
      "Epoch 159: average-batch loss: 40.793802343983174 last batch loss: 40.69187215848925\n",
      "Epoch 160: average-batch loss: 40.79381308179286 last batch loss: 40.67374648113899\n",
      "Epoch 161: average-batch loss: 40.79123340385533 last batch loss: 40.66242195258337\n",
      "Epoch 162: average-batch loss: 40.794831358001616 last batch loss: 40.681694040664546\n",
      "We are in a loss plateau learning rate: 0.004431469059826254 loss: 40.876390430750305\n",
      "Restoring from a checkpoint - loss: 40.87881593728297\n",
      "Epoch 163: average-batch loss: 40.795364602569386 last batch loss: 40.6820678624103\n",
      "Epoch 164: average-batch loss: 40.79435099650626 last batch loss: 40.682928882853275\n",
      "Epoch 165: average-batch loss: 40.79387777794361 last batch loss: 40.677020557679384\n",
      "Epoch 166: average-batch loss: 40.79418199377701 last batch loss: 40.66662062615098\n",
      "Epoch 167: average-batch loss: 40.793636100023306 last batch loss: 40.68665755601485\n",
      "Epoch 168: average-batch loss: 40.79515526847788 last batch loss: 40.675024618790715\n",
      "We are in a loss plateau learning rate: 0.003988322153843628 loss: 40.88602975134655\n",
      "Restoring from a checkpoint - loss: 40.87939902996679\n",
      "Epoch 169: average-batch loss: 40.79310802961491 last batch loss: 40.692277052091264\n",
      "Epoch 170: average-batch loss: 40.7949318835898 last batch loss: 40.677893292077464\n",
      "Epoch 171: average-batch loss: 40.79304550740818 last batch loss: 40.68515230661354\n",
      "Epoch 172: average-batch loss: 40.79327757238168 last batch loss: 40.69334077974931\n",
      "Epoch 173: average-batch loss: 40.79434753970786 last batch loss: 40.683415091525234\n",
      "We are in a loss plateau learning rate: 0.003589489938459265 loss: 40.870528611188846\n",
      "Restoring from a checkpoint - loss: 40.87331512460639\n",
      "Epoch 174: average-batch loss: 40.79514167646281 last batch loss: 40.67026097898395\n",
      "Epoch 175: average-batch loss: 40.793673183759836 last batch loss: 40.67442254271047\n",
      "Epoch 176: average-batch loss: 40.794724008715164 last batch loss: 40.68394880535367\n",
      "Epoch 177: average-batch loss: 40.7941324548145 last batch loss: 40.67785387975986\n",
      "Epoch 178: average-batch loss: 40.794393151476235 last batch loss: 40.68330644423089\n",
      "Epoch 179: average-batch loss: 40.791863722147994 last batch loss: 40.67074852300855\n",
      "Epoch 180: average-batch loss: 40.79617811966259 last batch loss: 40.69320648100659\n",
      "We have reset 25 times so quitting\n"
     ]
    }
   ],
   "source": [
    "losses = factor.calibrate_advi(\n",
    "    num_epochs=200, rel_tol=1e-4, learning_rate=.05)\n",
    "\n"
   ]
  },
  {
   "cell_type": "markdown",
   "metadata": {},
   "source": [
    "# Compute the WAIC"
   ]
  },
  {
   "cell_type": "code",
   "execution_count": 6,
   "metadata": {},
   "outputs": [
    {
     "name": "stdout",
     "output_type": "stream",
     "text": [
      "{'waic': 353876.30343621323, 'se': 1806.6618645424037, 'lppd': -37679.28337124284, 'pwaic': 139258.86834686378}\n"
     ]
    }
   ],
   "source": [
    "waic = factor.waic()\n",
    "print(waic)"
   ]
  },
  {
   "cell_type": "markdown",
   "metadata": {},
   "source": [
    "# Plot the factor encoding matrix"
   ]
  },
  {
   "cell_type": "code",
   "execution_count": 7,
   "metadata": {},
   "outputs": [],
   "source": [
    "\n",
    "surrogate_samples = factor.surrogate_distribution.sample(1000)\n",
    "if 's' in surrogate_samples.keys():\n",
    "    weights = surrogate_samples['s']/tf.reduce_sum(surrogate_samples['s'],-2,keepdims=True)\n",
    "    intercept_data = az.convert_to_inference_data(\n",
    "        {\n",
    "            r\"$w_d$\": \n",
    "                (tf.squeeze(surrogate_samples['w'])*weights[:,-1,:]*factor.column_norm_factor).numpy().T})\n",
    "else:\n",
    "    intercept_data = az.convert_to_inference_data(\n",
    "    {\n",
    "        r\"$w_d$\": \n",
    "            (tf.squeeze(surrogate_samples['w'])*factor.column_norm_factor).numpy().T})"
   ]
  },
  {
   "cell_type": "code",
   "execution_count": 8,
   "metadata": {},
   "outputs": [
    {
     "data": {
      "image/png": "[encoded data removed]",
      "text/plain": [
       "<Figure size 720x288 with 2 Axes>"
      ]
     },
     "metadata": {
      "needs_background": "light"
     },
     "output_type": "display_data"
    }
   ],
   "source": [
    "fig, ax = plt.subplots(figsize=(10,4))\n",
    "\n",
    "plt.imshow(factor.encoding_matrix().numpy().T, vmin=0, cmap=\"Blues\")\n",
    "plt.xticks(np.arange(D))\n",
    "ax.set_xlabel(\"item\")\n",
    "ax.set_ylabel(\"dimension\")\n",
    "plt.tick_params(axis='both', which='major', labelsize=10, labelbottom = False, bottom=False, top = True, labeltop=True)\n",
    "plt.yticks(np.arange(P))\n",
    "plt.colorbar(orientation = \"horizontal\")\n",
    "plt.show()\n"
   ]
  },
  {
   "cell_type": "code",
   "execution_count": 9,
   "metadata": {},
   "outputs": [
    {
     "data": {
      "image/png": "[encoded data removed]",
      "text/plain": [
       "<Figure size 1008x576 with 3 Axes>"
      ]
     },
     "metadata": {
      "needs_background": "light"
     },
     "output_type": "display_data"
    }
   ],
   "source": [
    "fig, ax = plt.subplots(1,2, figsize=(14,8))\n",
    "\n",
    "pcm = ax[0].imshow(factor.encoding_matrix().numpy()[::-1,:], vmin=0, cmap=\"Blues\")\n",
    "ax[0].set_yticks(np.arange(D))\n",
    "ax[0].set_yticklabels(np.arange(D))\n",
    "ax[0].set_ylabel(\"item\")\n",
    "ax[0].set_xlabel(\"factor dimension\")\n",
    "ax[0].set_xticks(np.arange(P))\n",
    "ax[0].set_xticklabels(np.arange(P))\n",
    "\n",
    "fig.colorbar(pcm, ax=ax[0], orientation = \"vertical\")\n",
    "az.plot_forest(intercept_data, ax=ax[1])\n",
    "ax[1].set_xlabel(\"background rate\")\n",
    "ax[1].set_ylim((-0.014,.466))\n",
    "ax[1].set_title(\"65% and 95% CI\")\n",
    "ax[1].axvline(1.0, linestyle='dashed', color=\"black\")\n",
    "#plt.savefig('noise_factorization_sepmf.pdf', bbox_inches='tight')\n",
    "plt.show()\n"
   ]
  },
  {
   "cell_type": "markdown",
   "metadata": {},
   "source": [
    "The values in the factor encoding matrix as near zero. There is a gradient because the model induces a dimensional decay to remove symmetries - this encourages the leading dimensions to hold more of the signal."
   ]
  },
  {
   "cell_type": "code",
   "execution_count": 10,
   "metadata": {},
   "outputs": [
    {
     "data": {
      "image/png": "[encoded data removed]",
      "text/plain": [
       "<Figure size 1008x576 with 3 Axes>"
      ]
     },
     "metadata": {
      "needs_background": "light"
     },
     "output_type": "display_data"
    }
   ],
   "source": [
    "fig, ax = plt.subplots(1,2, figsize=(14,8))\n",
    "\n",
    "pcm = ax[0].imshow(factor.decoding_matrix().numpy().T[::-1,:], vmin=0, cmap=\"Blues\")\n",
    "ax[0].set_yticks(np.arange(D))\n",
    "ax[0].set_yticklabels(np.arange(D))\n",
    "ax[0].set_ylabel(\"item\")\n",
    "ax[0].set_xlabel(\"factor dimension\")\n",
    "ax[0].set_xticks(np.arange(P))\n",
    "ax[0].set_xticklabels(np.arange(P))\n",
    "\n",
    "fig.colorbar(pcm, ax=ax[0], orientation = \"vertical\")\n",
    "az.plot_forest(intercept_data, ax=ax[1])\n",
    "ax[1].set_xlabel(\"background rate\")\n",
    "ax[1].set_ylim((-0.014,.466))\n",
    "ax[1].set_title(\"65% and 95% CI\")\n",
    "ax[1].axvline(1.0, linestyle='dashed', color=\"black\")\n",
    "plt.show()\n"
   ]
  },
  {
   "cell_type": "code",
   "execution_count": 11,
   "metadata": {},
   "outputs": [
    {
     "data": {
      "text/plain": [
       "array([[0.00782121, 0.0076213 , 0.00792446, 0.00767291],\n",
       "       [0.00787555, 0.00743648, 0.00787597, 0.00754283],\n",
       "       [0.00765256, 0.00735177, 0.00768568, 0.00738041],\n",
       "       [0.00793763, 0.00761211, 0.00800334, 0.00772342]])"
      ]
     },
     "execution_count": 11,
     "metadata": {},
     "output_type": "execute_result"
    }
   ],
   "source": [
    "factor.decoding_matrix().numpy().dot(factor.encoding_matrix().numpy())"
   ]
  },
  {
   "cell_type": "code",
   "execution_count": 12,
   "metadata": {},
   "outputs": [
    {
     "data": {
      "text/plain": [
       "<matplotlib.colorbar.Colorbar at 0x14e8abe90>"
      ]
     },
     "execution_count": 12,
     "metadata": {},
     "output_type": "execute_result"
    },
    {
     "data": {
      "image/png": "[encoded data removed]",
      "text/plain": [
       "<Figure size 432x288 with 2 Axes>"
      ]
     },
     "metadata": {
      "needs_background": "light"
     },
     "output_type": "display_data"
    }
   ],
   "source": [
    "plt.imshow(factor.decoding_matrix().numpy().dot(factor.encoding_matrix().numpy()),cmap=\"Greens\", vmin=0, vmax=1)\n",
    "plt.colorbar()"
   ]
  },
  {
   "cell_type": "code",
   "execution_count": null,
   "metadata": {},
   "outputs": [],
   "source": []
  }
 ],
 "metadata": {
  "kernelspec": {
   "display_name": "Python 3.7.5 64-bit",
   "language": "python",
   "name": "python37564bitf92b1a92eaa047aebe1f2ca9ebe04d21"
  },
  "language_info": {
   "codemirror_mode": {
    "name": "ipython",
    "version": 3
   },
   "file_extension": ".py",
   "mimetype": "text/x-python",
   "name": "python",
   "nbconvert_exporter": "python",
   "pygments_lexer": "ipython3",
   "version": "3.7.5"
  }
 },
 "nbformat": 4,
 "nbformat_minor": 2
}
