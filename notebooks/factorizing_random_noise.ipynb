{
 "cells": [
  {
   "cell_type": "code",
   "execution_count": 1,
   "metadata": {},
   "outputs": [
    {
     "name": "stdout",
     "output_type": "stream",
     "text": [
      "Populating the interactive namespace from numpy and matplotlib\n"
     ]
    }
   ],
   "source": [
    "%pylab inline\n",
    "import sys\n",
    "\n",
    "import numpy as np\n",
    "import tensorflow as tf\n",
    "import tensorflow_probability as tfp\n",
    "import arviz as az\n",
    "\n",
    "import matplotlib.pyplot as plt\n",
    "from matplotlib import rcParams\n",
    "import matplotlib.font_manager as fm\n",
    "\n",
    "rcParams['font.family'] = 'sans-serif'\n",
    "\n",
    "sys.path.append('../')\n",
    "from mederrata_spmf import PoissonMatrixFactorization\n"
   ]
  },
  {
   "cell_type": "markdown",
   "metadata": {},
   "source": [
    "# Generate a count matrix of random noise\n",
    "\n",
    "We want our factor model to tell us that this is just noise"
   ]
  },
  {
   "cell_type": "code",
   "execution_count": 2,
   "metadata": {},
   "outputs": [],
   "source": [
    "N = 500000\n",
    "D = 20\n",
    "P = 3\n",
    "\n",
    "# Test taking in from tf.dataset, don't pre-batch\n",
    "data = tf.data.Dataset.from_tensor_slices(\n",
    "    {\n",
    "        'data': np.random.poisson(3.0, size=(N, D)),\n",
    "        'indices': np.arange(N),\n",
    "        'normalization': np.ones(N)\n",
    "    })\n",
    "\n",
    "data = data.batch(1000)\n"
   ]
  },
  {
   "cell_type": "markdown",
   "metadata": {},
   "source": [
    "Currently, the input data has to be in this format, as a tensorflow BatchDataset object with the given key/values."
   ]
  },
  {
   "cell_type": "markdown",
   "metadata": {},
   "source": [
    "# Set up the inference object"
   ]
  },
  {
   "cell_type": "code",
   "execution_count": 3,
   "metadata": {},
   "outputs": [
    {
     "name": "stdout",
     "output_type": "stream",
     "text": [
      "Feature dim: 20 -> Latent dim 3\n"
     ]
    }
   ],
   "source": [
    "# strategy = tf.distribute.MirroredStrategy()\n",
    "strategy = None\n",
    "factor = PoissonMatrixFactorization(\n",
    "    data, latent_dim=P, strategy=strategy,\n",
    "    #encoder_function=lambda x: x, decoder_function=lambda x: x,\n",
    "    dtype=tf.float64)\n",
    "# Test to make sure sampling works\n"
   ]
  },
  {
   "cell_type": "markdown",
   "metadata": {},
   "source": [
    "## Test out the prior distributions"
   ]
  },
  {
   "cell_type": "code",
   "execution_count": 4,
   "metadata": {},
   "outputs": [],
   "source": [
    "## \n",
    "sample = factor.joint_prior.sample(10)\n",
    "# Compute the joint log probability of the sample\n",
    "probs = factor.joint_prior.log_prob(sample)\n",
    "sample_surrogate = factor.surrogate_distribution.sample(77)\n",
    "probs_parts = factor.unormalized_log_prob_parts(\n",
    "    **sample_surrogate, data=next(iter(data)))\n",
    "prob = factor.unormalized_log_prob(\n",
    "    **sample_surrogate,  data=next(iter(data)))\n",
    "\n"
   ]
  },
  {
   "cell_type": "markdown",
   "metadata": {},
   "source": [
    "# Inference"
   ]
  },
  {
   "cell_type": "code",
   "execution_count": 5,
   "metadata": {},
   "outputs": [
    {
     "name": "stderr",
     "output_type": "stream",
     "text": [
      "WARNING: Logging before flag parsing goes to stderr.\n",
      "W0518 17:04:27.782273 4376473024 deprecation.py:506] From /usr/local/lib/python3.7/site-packages/tensorflow_core/python/ops/resource_variable_ops.py:1786: calling BaseResourceVariable.__init__ (from tensorflow.python.ops.resource_variable_ops) with constraint is deprecated and will be removed in a future version.\n",
      "Instructions for updating:\n",
      "If using Keras pass *_constraint arguments to layers.\n"
     ]
    },
    {
     "name": "stdout",
     "output_type": "stream",
     "text": [
      "Initial loss: 142.62772094401356\n",
      "Epoch 1: average-batch loss: 38.50494986931048 last batch loss: 36.47885896276236\n",
      "Saved a checkpoint: ./.tf_ckpts/chkpt-1\n",
      "Epoch 2: average-batch loss: 36.16737688838779 last batch loss: 36.21029127374769\n",
      "Saved a checkpoint: ./.tf_ckpts/chkpt-2\n",
      "Epoch 3: average-batch loss: 35.965853864318966 last batch loss: 36.01516588866255\n",
      "Saved a checkpoint: ./.tf_ckpts/chkpt-3\n",
      "Epoch 4: average-batch loss: 35.81943345077263 last batch loss: 35.92413782079286\n",
      "Saved a checkpoint: ./.tf_ckpts/chkpt-4\n",
      "Epoch 5: average-batch loss: 35.73735598886164 last batch loss: 35.864351501785\n",
      "Saved a checkpoint: ./.tf_ckpts/chkpt-5\n",
      "Epoch 6: average-batch loss: 35.69322260217281 last batch loss: 35.82854624719887\n",
      "Saved a checkpoint: ./.tf_ckpts/chkpt-6\n",
      "Epoch 7: average-batch loss: 35.671796992488694 last batch loss: 35.81635091980713\n",
      "Saved a checkpoint: ./.tf_ckpts/chkpt-7\n",
      "Epoch 8: average-batch loss: 35.64756107113771 last batch loss: 35.79602818855063\n",
      "Saved a checkpoint: ./.tf_ckpts/chkpt-8\n",
      "Epoch 9: average-batch loss: 35.628398718017124 last batch loss: 35.79060097038922\n",
      "Saved a checkpoint: ./.tf_ckpts/chkpt-9\n",
      "Epoch 10: average-batch loss: 35.61842541566625 last batch loss: 35.76549017902347\n",
      "Saved a checkpoint: ./.tf_ckpts/chkpt-10\n",
      "Epoch 11: average-batch loss: 35.61699002752417 last batch loss: 35.77393968938937\n",
      "Saved a checkpoint: ./.tf_ckpts/chkpt-11\n",
      "Epoch 12: average-batch loss: 35.617595892893746 last batch loss: 35.79196942022523\n",
      "Epoch 13: average-batch loss: 35.61514453833153 last batch loss: 35.76303552464599\n",
      "Saved a checkpoint: ./.tf_ckpts/chkpt-12\n",
      "Epoch 14: average-batch loss: 35.619705904705576 last batch loss: 35.76980602891911\n",
      "We are in a loss plateau learning rate: 0.025 loss: 35.51369023203791\n",
      "Restoring from a checkpoint - loss: 35.51999711077679\n",
      "Epoch 15: average-batch loss: 35.6225554615544 last batch loss: 35.78822770583208\n",
      "Epoch 16: average-batch loss: 35.62060499489506 last batch loss: 35.771017713592286\n",
      "Epoch 17: average-batch loss: 35.62607935383262 last batch loss: 35.77359490793225\n",
      "Epoch 18: average-batch loss: 35.61983455568265 last batch loss: 35.77464900593342\n",
      "Epoch 19: average-batch loss: 35.61815774078252 last batch loss: 35.768070159165944\n",
      "Epoch 20: average-batch loss: 35.62656922382132 last batch loss: 35.79479201329129\n",
      "We are in a loss plateau learning rate: 0.00625 loss: 35.51303834413261\n",
      "Restoring from a checkpoint - loss: 35.522723839903136\n",
      "Epoch 21: average-batch loss: 35.619051757572045 last batch loss: 35.783487238691144\n",
      "Epoch 22: average-batch loss: 35.61741216492076 last batch loss: 35.772410573903734\n",
      "Epoch 23: average-batch loss: 35.62028967470017 last batch loss: 35.77034259061627\n",
      "Epoch 24: average-batch loss: 35.61588946891683 last batch loss: 35.775290016870976\n",
      "Epoch 25: average-batch loss: 35.61496193209409 last batch loss: 35.76672801302699\n",
      "Saved a checkpoint: ./.tf_ckpts/chkpt-13\n",
      "Epoch 26: average-batch loss: 35.61805702296623 last batch loss: 35.7848837473501\n",
      "We are in a loss plateau learning rate: 0.0015625 loss: 35.50298634547141\n",
      "Restoring from a checkpoint - loss: 35.514241271991416\n",
      "Epoch 27: average-batch loss: 35.61616257875516 last batch loss: 35.77103761073223\n",
      "Epoch 28: average-batch loss: 35.61877896881422 last batch loss: 35.78164004463067\n",
      "Epoch 29: average-batch loss: 35.62193337687102 last batch loss: 35.78383555513028\n",
      "Epoch 30: average-batch loss: 35.619831299294376 last batch loss: 35.78152323201115\n",
      "Epoch 31: average-batch loss: 35.61729708726815 last batch loss: 35.78059576483222\n",
      "Epoch 32: average-batch loss: 35.631253483437675 last batch loss: 35.77901467351629\n",
      "We are in a loss plateau learning rate: 0.000390625 loss: 35.51703087309171\n",
      "Restoring from a checkpoint - loss: 35.52599838454614\n",
      "Epoch 33: average-batch loss: 35.62131991710189 last batch loss: 35.77112714113109\n",
      "Epoch 34: average-batch loss: 35.61931421629112 last batch loss: 35.7800855889851\n",
      "Epoch 35: average-batch loss: 35.618453436480024 last batch loss: 35.76805784956882\n",
      "Epoch 36: average-batch loss: 35.61703743535569 last batch loss: 35.77585679187441\n",
      "Epoch 37: average-batch loss: 35.62284711509723 last batch loss: 35.78082609695001\n",
      "We are in a loss plateau learning rate: 9.765625e-05 loss: 35.51849724246965\n",
      "Restoring from a checkpoint - loss: 35.507199882984146\n",
      "Epoch 38: average-batch loss: 35.62168405921342 last batch loss: 35.77212828144617\n",
      "Epoch 39: average-batch loss: 35.62261163892372 last batch loss: 35.77151378975301\n",
      "Epoch 40: average-batch loss: 35.622844378151505 last batch loss: 35.766986908739476\n",
      "Epoch 41: average-batch loss: 35.617684401843846 last batch loss: 35.76617920609293\n",
      "Epoch 42: average-batch loss: 35.61565063530124 last batch loss: 35.773180117657894\n",
      "Epoch 43: average-batch loss: 35.61992571895683 last batch loss: 35.767097447187425\n",
      "We are in a loss plateau learning rate: 2.44140625e-05 loss: 35.51873982273282\n",
      "Restoring from a checkpoint - loss: 35.50978791004395\n",
      "Epoch 44: average-batch loss: 35.61639059335038 last batch loss: 35.77760168295672\n",
      "Epoch 45: average-batch loss: 35.617961091237284 last batch loss: 35.77645065766582\n",
      "Epoch 46: average-batch loss: 35.615417170620965 last batch loss: 35.76689331041877\n",
      "Epoch 47: average-batch loss: 35.61846180533703 last batch loss: 35.7630267778311\n",
      "Epoch 48: average-batch loss: 35.61978235510163 last batch loss: 35.77686258567057\n",
      "We are in a loss plateau learning rate: 6.103515625e-06 loss: 35.51239971182982\n",
      "Restoring from a checkpoint - loss: 35.51025614918182\n",
      "Epoch 49: average-batch loss: 35.62014034778657 last batch loss: 35.779622801653204\n",
      "Epoch 50: average-batch loss: 35.61898113002935 last batch loss: 35.77615373285902\n",
      "Epoch 51: average-batch loss: 35.619656956395936 last batch loss: 35.765029191289095\n",
      "Epoch 52: average-batch loss: 35.61850986909593 last batch loss: 35.77514150147056\n",
      "Epoch 53: average-batch loss: 35.61700421451582 last batch loss: 35.76705224668655\n",
      "Epoch 54: average-batch loss: 35.6204331444967 last batch loss: 35.78299340066723\n",
      "We are in a loss plateau learning rate: 1.52587890625e-06 loss: 35.506985920933104\n",
      "Restoring from a checkpoint - loss: 35.51299254330962\n",
      "Epoch 55: average-batch loss: 35.618547481690086 last batch loss: 35.76717379755191\n",
      "Epoch 56: average-batch loss: 35.618288142690496 last batch loss: 35.78570425146947\n",
      "Epoch 57: average-batch loss: 35.62112720295264 last batch loss: 35.78567907870728\n",
      "Epoch 58: average-batch loss: 35.62293529669905 last batch loss: 35.770162978158226\n",
      "Epoch 59: average-batch loss: 35.62054336382775 last batch loss: 35.76920088343027\n",
      "Epoch 60: average-batch loss: 35.621460905841836 last batch loss: 35.79040881158921\n",
      "Epoch 61: average-batch loss: 35.61978175989502 last batch loss: 35.768573642326196\n",
      "Epoch 62: average-batch loss: 35.618082431763966 last batch loss: 35.767865188332784\n",
      "Epoch 63: average-batch loss: 35.618309287282656 last batch loss: 35.77983015699316\n",
      "Epoch 64: average-batch loss: 35.61912718668344 last batch loss: 35.7710311003375\n",
      "We are in a loss plateau learning rate: 3.814697265625e-07 loss: 35.51438931300203\n",
      "Restoring from a checkpoint - loss: 35.5145717851267\n",
      "Epoch 65: average-batch loss: 35.6197517691221 last batch loss: 35.778875780150145\n",
      "Epoch 66: average-batch loss: 35.62409174183758 last batch loss: 35.78029981722999\n",
      "Epoch 67: average-batch loss: 35.626148374973546 last batch loss: 35.76895652818463\n",
      "Epoch 68: average-batch loss: 35.62188469953003 last batch loss: 35.77017053776403\n",
      "Epoch 69: average-batch loss: 35.61839222099323 last batch loss: 35.817401824716775\n",
      "Epoch 70: average-batch loss: 35.61951786052185 last batch loss: 35.77114001985336\n",
      "Epoch 71: average-batch loss: 35.6203867943751 last batch loss: 35.763559024457464\n",
      "We are in a loss plateau learning rate: 9.5367431640625e-08 loss: 35.49625586731734\n",
      "Restoring from a checkpoint - loss: 35.50698971660488\n",
      "Epoch 72: average-batch loss: 35.616094375265575 last batch loss: 35.769879412869166\n",
      "Epoch 73: average-batch loss: 35.61978207900812 last batch loss: 35.78101686027083\n",
      "Epoch 74: average-batch loss: 35.62013664139079 last batch loss: 35.772348936724576\n",
      "Epoch 75: average-batch loss: 35.61746478917744 last batch loss: 35.761399583825316\n",
      "Epoch 76: average-batch loss: 35.61676127879234 last batch loss: 35.77249604491825\n"
     ]
    },
    {
     "name": "stdout",
     "output_type": "stream",
     "text": [
      "Epoch 77: average-batch loss: 35.6210806406737 last batch loss: 35.77538417108164\n",
      "We are in a loss plateau learning rate: 2.384185791015625e-08 loss: 35.52408340560547\n",
      "Restoring from a checkpoint - loss: 35.530065187883494\n",
      "Epoch 78: average-batch loss: 35.622049144579165 last batch loss: 35.78724955696688\n",
      "Epoch 79: average-batch loss: 35.62646002180607 last batch loss: 35.78121941570293\n",
      "Epoch 80: average-batch loss: 35.62355959865877 last batch loss: 35.75472765228401\n",
      "Epoch 81: average-batch loss: 35.61689924419366 last batch loss: 35.778702084529925\n",
      "Epoch 82: average-batch loss: 35.63252879097576 last batch loss: 35.767293391494256\n",
      "We are in a loss plateau learning rate: 5.960464477539063e-09 loss: 35.51676093052832\n",
      "Restoring from a checkpoint - loss: 35.516748353818286\n",
      "Epoch 83: average-batch loss: 35.61912074990104 last batch loss: 35.78509813621631\n",
      "Epoch 84: average-batch loss: 35.616845893739054 last batch loss: 35.766701362993004\n",
      "Epoch 85: average-batch loss: 35.615886223299846 last batch loss: 35.76614616961917\n",
      "Epoch 86: average-batch loss: 35.61591886663339 last batch loss: 35.77838113403084\n",
      "Epoch 87: average-batch loss: 35.627555315532774 last batch loss: 35.77900310199533\n",
      "We are in a loss plateau learning rate: 1.4901161193847657e-09 loss: 35.50704305446425\n",
      "Restoring from a checkpoint - loss: 35.50955200288114\n",
      "Epoch 88: average-batch loss: 35.621325395256804 last batch loss: 35.786166905887455\n",
      "Epoch 89: average-batch loss: 35.62417882075365 last batch loss: 35.78327886052039\n",
      "Epoch 90: average-batch loss: 35.61980380387252 last batch loss: 35.77222427273299\n",
      "Epoch 91: average-batch loss: 35.6184444547845 last batch loss: 35.77329252063661\n",
      "Epoch 92: average-batch loss: 35.621314675702145 last batch loss: 35.76924137255821\n",
      "We are in a loss plateau learning rate: 3.7252902984619143e-10 loss: 35.50744630855273\n",
      "Restoring from a checkpoint - loss: 35.51491613936736\n",
      "Epoch 93: average-batch loss: 35.61805180130839 last batch loss: 35.77033302702107\n",
      "Epoch 94: average-batch loss: 35.615011992767045 last batch loss: 35.78343399215988\n",
      "Epoch 95: average-batch loss: 35.61712847112426 last batch loss: 35.77897295278615\n",
      "Epoch 96: average-batch loss: 35.61810020449868 last batch loss: 35.78187315572989\n",
      "Epoch 97: average-batch loss: 35.617727496800825 last batch loss: 35.77364621536671\n",
      "Epoch 98: average-batch loss: 35.61890525483486 last batch loss: 35.78160253609393\n",
      "We are in a loss plateau learning rate: 9.313225746154786e-11 loss: 35.52006117083787\n",
      "Restoring from a checkpoint - loss: 35.512480231574436\n",
      "Epoch 99: average-batch loss: 35.61566771736631 last batch loss: 35.76887420747805\n",
      "Terminating because we are out of iterations\n"
     ]
    }
   ],
   "source": [
    "losses = factor.calibrate_advi(\n",
    "    num_epochs=100, rel_tol=1e-3, learning_rate=.1)\n",
    "\n"
   ]
  },
  {
   "cell_type": "markdown",
   "metadata": {},
   "source": [
    "# Compute the WAIC"
   ]
  },
  {
   "cell_type": "code",
   "execution_count": 6,
   "metadata": {},
   "outputs": [
    {
     "name": "stdout",
     "output_type": "stream",
     "text": [
      "{'waic': 692877.5686280312, 'se': 3242.5635193932762, 'lppd': -52401.67686144534, 'pwaic': 294037.1074525702}\n"
     ]
    }
   ],
   "source": [
    "waic = factor.waic()\n",
    "print(waic)"
   ]
  },
  {
   "cell_type": "markdown",
   "metadata": {},
   "source": [
    "# Plot the factor encoding matrix"
   ]
  },
  {
   "cell_type": "code",
   "execution_count": 7,
   "metadata": {},
   "outputs": [],
   "source": [
    "intercept_data = az.convert_to_inference_data({r\"$w_d$\": tf.squeeze(factor.surrogate_distribution.sample(1000)['w']).numpy().T})"
   ]
  },
  {
   "cell_type": "code",
   "execution_count": 8,
   "metadata": {},
   "outputs": [
    {
     "data": {
      "image/png": "[encoded data removed]",
      "text/plain": [
       "<Figure size 720x288 with 2 Axes>"
      ]
     },
     "metadata": {
      "needs_background": "light"
     },
     "output_type": "display_data"
    }
   ],
   "source": [
    "fig, ax = plt.subplots(figsize=(10,4))\n",
    "\n",
    "plt.imshow(factor.encoding_matrix().numpy().T, vmin=0, cmap=\"Blues\")\n",
    "plt.xticks(np.arange(D))\n",
    "ax.set_xlabel(\"item\")\n",
    "ax.set_ylabel(\"dimension\")\n",
    "plt.tick_params(axis='both', which='major', labelsize=10, labelbottom = False, bottom=False, top = True, labeltop=True)\n",
    "plt.yticks(np.arange(P))\n",
    "plt.colorbar(orientation = \"horizontal\")\n",
    "plt.show()\n"
   ]
  },
  {
   "cell_type": "code",
   "execution_count": 9,
   "metadata": {},
   "outputs": [
    {
     "data": {
      "image/png": "[encoded data removed]",
      "text/plain": [
       "<Figure size 1008x576 with 3 Axes>"
      ]
     },
     "metadata": {
      "needs_background": "light"
     },
     "output_type": "display_data"
    }
   ],
   "source": [
    "fig, ax = plt.subplots(1,2, figsize=(14,8))\n",
    "\n",
    "pcm = ax[0].imshow(factor.encoding_matrix().numpy(), vmin=0, cmap=\"Blues\")\n",
    "ax[0].set_yticks(np.arange(D))\n",
    "ax[0].set_yticklabels(np.arange(D))\n",
    "ax[0].set_ylabel(\"item\")\n",
    "ax[0].set_xlabel(\"factor dimension\")\n",
    "ax[0].set_xticks(np.arange(P))\n",
    "ax[0].set_xticklabels(np.arange(P))\n",
    "\n",
    "fig.colorbar(pcm, ax=ax[0], orientation = \"vertical\")\n",
    "az.plot_forest(intercept_data, ax=ax[1])\n",
    "ax[1].set_xlabel(\"background rate\")\n",
    "ax[1].set_ylim((-0.014,.466))\n",
    "ax[1].set_title(\"65% and 95% CI\")\n",
    "ax[1].axvline(3.0, linestyle='dashed', color=\"black\")\n",
    "plt.savefig('noise_factorization_sepmf.pdf', bbox_inches='tight')\n",
    "plt.show()\n"
   ]
  },
  {
   "cell_type": "markdown",
   "metadata": {},
   "source": [
    "The values in the factor encoding matrix as near zero. There is a gradient because the model induces a dimensional decay to remove symmetries - this encourages the leading dimensions to hold more of the signal."
   ]
  },
  {
   "cell_type": "code",
   "execution_count": null,
   "metadata": {},
   "outputs": [],
   "source": []
  },
  {
   "cell_type": "code",
   "execution_count": null,
   "metadata": {},
   "outputs": [],
   "source": []
  },
  {
   "cell_type": "code",
   "execution_count": null,
   "metadata": {},
   "outputs": [],
   "source": []
  },
  {
   "cell_type": "code",
   "execution_count": null,
   "metadata": {},
   "outputs": [],
   "source": []
  }
 ],
 "metadata": {
  "kernelspec": {
   "display_name": "Python 3.7.5 64-bit",
   "language": "python",
   "name": "python37564bitf92b1a92eaa047aebe1f2ca9ebe04d21"
  },
  "language_info": {
   "codemirror_mode": {
    "name": "ipython",
    "version": 3
   },
   "file_extension": ".py",
   "mimetype": "text/x-python",
   "name": "python",
   "nbconvert_exporter": "python",
   "pygments_lexer": "ipython3",
   "version": "3.7.5"
  }
 },
 "nbformat": 4,
 "nbformat_minor": 2
}
