{
 "cells": [
  {
   "cell_type": "code",
   "execution_count": 1,
   "metadata": {},
   "outputs": [
    {
     "name": "stdout",
     "output_type": "stream",
     "text": [
      "Populating the interactive namespace from numpy and matplotlib\n"
     ]
    }
   ],
   "source": [
    "%pylab inline\n",
    "import sys\n",
    "\n",
    "import numpy as np\n",
    "import tensorflow as tf\n",
    "import tensorflow_probability as tfp\n",
    "import arviz as az\n",
    "\n",
    "import matplotlib.pyplot as plt\n",
    "from matplotlib import rcParams\n",
    "import matplotlib.font_manager as fm\n",
    "\n",
    "rcParams['font.family'] = 'sans-serif'\n",
    "\n",
    "sys.path.append('../')\n",
    "from mederrata_spmf import PoissonMatrixFactorization\n"
   ]
  },
  {
   "cell_type": "markdown",
   "metadata": {},
   "source": [
    "# Generate a count matrix of random noise\n",
    "\n",
    "We want our factor model to tell us that this is just noise"
   ]
  },
  {
   "cell_type": "code",
   "execution_count": 2,
   "metadata": {},
   "outputs": [],
   "source": [
    "N = 50000\n",
    "D = 30\n",
    "P = 3\n",
    "\n",
    "# Test taking in from tf.dataset, don't pre-batch\n",
    "data = tf.data.Dataset.from_tensor_slices(\n",
    "    {\n",
    "        'data': np.random.poisson(1.0, size=(N, D)),\n",
    "        'indices': np.arange(N),\n",
    "        'normalization': np.ones(N)\n",
    "    })\n",
    "\n",
    "data = data.batch(10000)\n"
   ]
  },
  {
   "cell_type": "markdown",
   "metadata": {},
   "source": [
    "Currently, the input data has to be in this format, as a tensorflow BatchDataset object with the given key/values."
   ]
  },
  {
   "cell_type": "markdown",
   "metadata": {},
   "source": [
    "# Set up the inference object"
   ]
  },
  {
   "cell_type": "code",
   "execution_count": 3,
   "metadata": {},
   "outputs": [
    {
     "name": "stdout",
     "output_type": "stream",
     "text": [
      "Feature dim: 30 -> Latent dim 3\n"
     ]
    }
   ],
   "source": [
    "# strategy = tf.distribute.MirroredStrategy()\n",
    "strategy = None\n",
    "factor = PoissonMatrixFactorization(\n",
    "    data, latent_dim=P, strategy=strategy,\n",
    "    encoder_function=lambda x: x, decoder_function=lambda x: x,\n",
    "    dtype=tf.float64, u_tau_scale=1.)\n",
    "# Test to make sure sampling works\n"
   ]
  },
  {
   "cell_type": "markdown",
   "metadata": {},
   "source": [
    "## Test out the prior distributions"
   ]
  },
  {
   "cell_type": "code",
   "execution_count": 4,
   "metadata": {},
   "outputs": [],
   "source": [
    "## \n",
    "sample = factor.joint_prior.sample(10)\n",
    "# Compute the joint log probability of the sample\n",
    "probs = factor.joint_prior.log_prob(sample)\n",
    "sample_surrogate = factor.surrogate_distribution.sample(77)\n",
    "probs_parts = factor.unormalized_log_prob_parts(\n",
    "    **sample_surrogate, data=next(iter(data)))\n",
    "prob = factor.unormalized_log_prob(\n",
    "    **sample_surrogate,  data=next(iter(data)))\n",
    "\n"
   ]
  },
  {
   "cell_type": "markdown",
   "metadata": {},
   "source": [
    "# Inference"
   ]
  },
  {
   "cell_type": "code",
   "execution_count": 5,
   "metadata": {},
   "outputs": [
    {
     "name": "stderr",
     "output_type": "stream",
     "text": [
      "WARNING: Logging before flag parsing goes to stderr.\n",
      "W0520 20:42:52.810560 4511276480 deprecation.py:506] From /usr/local/lib/python3.7/site-packages/tensorflow_core/python/ops/resource_variable_ops.py:1786: calling BaseResourceVariable.__init__ (from tensorflow.python.ops.resource_variable_ops) with constraint is deprecated and will be removed in a future version.\n",
      "Instructions for updating:\n",
      "If using Keras pass *_constraint arguments to layers.\n"
     ]
    },
    {
     "name": "stdout",
     "output_type": "stream",
     "text": [
      "Initial loss: 53.03543607810065\n",
      "Epoch 1: average-batch loss: 46.74767179784202 last batch loss: 41.349248126372736\n",
      "Saved a checkpoint: ./.tf_ckpts/chkpt-1\n",
      "Epoch 2: average-batch loss: 40.705551370033355 last batch loss: 38.440934743493614\n",
      "Saved a checkpoint: ./.tf_ckpts/chkpt-2\n",
      "Epoch 3: average-batch loss: 37.47284168630184 last batch loss: 36.853154023887825\n",
      "Saved a checkpoint: ./.tf_ckpts/chkpt-3\n",
      "Epoch 4: average-batch loss: 36.20279202787128 last batch loss: 36.117741554328134\n",
      "Saved a checkpoint: ./.tf_ckpts/chkpt-4\n",
      "Epoch 5: average-batch loss: 35.91390550949213 last batch loss: 35.85904882993537\n",
      "Saved a checkpoint: ./.tf_ckpts/chkpt-5\n",
      "Epoch 6: average-batch loss: 35.91749683130479 last batch loss: 35.94753222372117\n",
      "Epoch 7: average-batch loss: 35.91655752835414 last batch loss: 35.9052600129012\n",
      "Epoch 8: average-batch loss: 35.92223401517874 last batch loss: 35.86016628766732\n",
      "We are in a loss plateau learning rate: 0.025 loss: 35.947001681941444\n",
      "Restoring from a checkpoint - loss: 35.94778049811856\n",
      "Epoch 9: average-batch loss: 35.89277322020174 last batch loss: 35.829060865434016\n",
      "Saved a checkpoint: ./.tf_ckpts/chkpt-6\n",
      "Epoch 10: average-batch loss: 35.85881597331379 last batch loss: 35.80851321433407\n",
      "Saved a checkpoint: ./.tf_ckpts/chkpt-7\n",
      "Epoch 11: average-batch loss: 35.84094915099742 last batch loss: 35.79139968168306\n",
      "Saved a checkpoint: ./.tf_ckpts/chkpt-8\n",
      "Epoch 12: average-batch loss: 35.83311190287172 last batch loss: 35.779253346129266\n",
      "Saved a checkpoint: ./.tf_ckpts/chkpt-9\n",
      "Epoch 13: average-batch loss: 35.82930239441371 last batch loss: 35.77475447910208\n",
      "Saved a checkpoint: ./.tf_ckpts/chkpt-10\n",
      "Epoch 14: average-batch loss: 35.82455096810031 last batch loss: 35.77217250243014\n",
      "Saved a checkpoint: ./.tf_ckpts/chkpt-11\n",
      "Epoch 15: average-batch loss: 35.82016247493833 last batch loss: 35.769534575571555\n",
      "Saved a checkpoint: ./.tf_ckpts/chkpt-12\n",
      "Epoch 16: average-batch loss: 35.81506482234365 last batch loss: 35.76629006468927\n",
      "Saved a checkpoint: ./.tf_ckpts/chkpt-13\n",
      "Epoch 17: average-batch loss: 35.811114678614345 last batch loss: 35.761931475357\n",
      "Saved a checkpoint: ./.tf_ckpts/chkpt-14\n",
      "Epoch 18: average-batch loss: 35.807279049144746 last batch loss: 35.755042220651035\n",
      "Saved a checkpoint: ./.tf_ckpts/chkpt-15\n",
      "Epoch 19: average-batch loss: 35.80449248143193 last batch loss: 35.75303609233073\n",
      "Saved a checkpoint: ./.tf_ckpts/chkpt-16\n",
      "Epoch 20: average-batch loss: 35.80201764268202 last batch loss: 35.75063168929038\n",
      "Saved a checkpoint: ./.tf_ckpts/chkpt-17\n",
      "Epoch 21: average-batch loss: 35.798861695773525 last batch loss: 35.74933100093707\n",
      "Saved a checkpoint: ./.tf_ckpts/chkpt-18\n",
      "Epoch 22: average-batch loss: 35.79516278872115 last batch loss: 35.746267251381255\n",
      "Saved a checkpoint: ./.tf_ckpts/chkpt-19\n",
      "Epoch 23: average-batch loss: 35.79252347124625 last batch loss: 35.743293666024535\n",
      "Saved a checkpoint: ./.tf_ckpts/chkpt-20\n",
      "Epoch 24: average-batch loss: 35.79062981779197 last batch loss: 35.73759949690324\n",
      "Saved a checkpoint: ./.tf_ckpts/chkpt-21\n",
      "Epoch 25: average-batch loss: 35.78837771513753 last batch loss: 35.73525199904165\n",
      "Saved a checkpoint: ./.tf_ckpts/chkpt-22\n",
      "Epoch 26: average-batch loss: 35.78574010726486 last batch loss: 35.73488225063191\n",
      "Saved a checkpoint: ./.tf_ckpts/chkpt-23\n",
      "Epoch 27: average-batch loss: 35.784573630416 last batch loss: 35.73476319845793\n",
      "Saved a checkpoint: ./.tf_ckpts/chkpt-24\n",
      "Epoch 28: average-batch loss: 35.78241224678138 last batch loss: 35.72957955561704\n",
      "Saved a checkpoint: ./.tf_ckpts/chkpt-25\n",
      "Epoch 29: average-batch loss: 35.78254601765637 last batch loss: 35.73601376018112\n",
      "Epoch 30: average-batch loss: 35.779921543202434 last batch loss: 35.72871774150798\n",
      "Saved a checkpoint: ./.tf_ckpts/chkpt-26\n",
      "Epoch 31: average-batch loss: 35.77851192748052 last batch loss: 35.727193484504134\n",
      "Saved a checkpoint: ./.tf_ckpts/chkpt-27\n",
      "Epoch 32: average-batch loss: 35.780008000879704 last batch loss: 35.72837578365164\n",
      "We are in a loss plateau learning rate: 0.00625 loss: 35.826228178871865\n",
      "Restoring from a checkpoint - loss: 35.82598969504552\n",
      "Epoch 33: average-batch loss: 35.776290024678595 last batch loss: 35.724258566708635\n",
      "Saved a checkpoint: ./.tf_ckpts/chkpt-28\n",
      "Epoch 34: average-batch loss: 35.77598703030095 last batch loss: 35.72636021789728\n",
      "Saved a checkpoint: ./.tf_ckpts/chkpt-29\n",
      "Epoch 35: average-batch loss: 35.77678952631996 last batch loss: 35.72470511910018\n",
      "Epoch 36: average-batch loss: 35.77697893254294 last batch loss: 35.733918318996615\n",
      "Epoch 37: average-batch loss: 35.775472170690264 last batch loss: 35.7242926314269\n",
      "Saved a checkpoint: ./.tf_ckpts/chkpt-30\n",
      "Epoch 38: average-batch loss: 35.77407754724999 last batch loss: 35.72396471952446\n",
      "Saved a checkpoint: ./.tf_ckpts/chkpt-31\n",
      "Epoch 39: average-batch loss: 35.77425632134617 last batch loss: 35.724328577024146\n",
      "Epoch 40: average-batch loss: 35.77147670549884 last batch loss: 35.72155467578256\n",
      "Saved a checkpoint: ./.tf_ckpts/chkpt-32\n",
      "Epoch 41: average-batch loss: 35.77004024957299 last batch loss: 35.71858331782578\n",
      "Saved a checkpoint: ./.tf_ckpts/chkpt-33\n",
      "Epoch 42: average-batch loss: 35.77048727383315 last batch loss: 35.72396711459972\n",
      "Epoch 43: average-batch loss: 35.77012854724277 last batch loss: 35.71764422502666\n",
      "Epoch 44: average-batch loss: 35.76964680187058 last batch loss: 35.72132727073043\n",
      "Saved a checkpoint: ./.tf_ckpts/chkpt-34\n",
      "Epoch 45: average-batch loss: 35.76532009539471 last batch loss: 35.717065252625886\n",
      "Saved a checkpoint: ./.tf_ckpts/chkpt-35\n",
      "Epoch 46: average-batch loss: 35.772240066557615 last batch loss: 35.7173011088359\n",
      "We are in a loss plateau learning rate: 0.0015625 loss: 35.81108542204908\n",
      "Restoring from a checkpoint - loss: 35.81047874917155\n",
      "Epoch 47: average-batch loss: 35.76350537346653 last batch loss: 35.71481772753727\n",
      "Saved a checkpoint: ./.tf_ckpts/chkpt-36\n",
      "Epoch 48: average-batch loss: 35.76352593968996 last batch loss: 35.71560253295078\n",
      "Epoch 49: average-batch loss: 35.76320396509039 last batch loss: 35.71346708412923\n",
      "Saved a checkpoint: ./.tf_ckpts/chkpt-37\n",
      "Terminating because we are out of iterations\n"
     ]
    }
   ],
   "source": [
    "losses = factor.calibrate_advi(\n",
    "    num_epochs=50, rel_tol=1e-4, learning_rate=.1)\n",
    "\n"
   ]
  },
  {
   "cell_type": "markdown",
   "metadata": {},
   "source": [
    "# Compute the WAIC"
   ]
  },
  {
   "cell_type": "code",
   "execution_count": 6,
   "metadata": {},
   "outputs": [
    {
     "name": "stdout",
     "output_type": "stream",
     "text": [
      "{'waic': 1126954.5540905208, 'se': 1219.792329586554, 'lppd': -410722.2804741803, 'pwaic': 152754.99657108015}\n"
     ]
    }
   ],
   "source": [
    "waic = factor.waic()\n",
    "print(waic)"
   ]
  },
  {
   "cell_type": "markdown",
   "metadata": {},
   "source": [
    "# Plot the factor encoding matrix"
   ]
  },
  {
   "cell_type": "code",
   "execution_count": 7,
   "metadata": {},
   "outputs": [],
   "source": [
    "surrogate_samples = factor.surrogate_distribution.sample(1000)\n",
    "weights = surrogate_samples['s']/tf.reduce_sum(surrogate_samples['s'],-2,keepdims=True)\n",
    "intercept_data = az.convert_to_inference_data(\n",
    "    {\n",
    "        r\"$w_d$\": \n",
    "            (tf.squeeze(surrogate_samples['w'])*weights[:,-1,:]*factor.norm_factor).numpy().T})"
   ]
  },
  {
   "cell_type": "code",
   "execution_count": 8,
   "metadata": {},
   "outputs": [
    {
     "data": {
      "text/plain": [
       "<tf.Tensor: shape=(1, 30), dtype=float64, numpy=\n",
       "array([[0.9738345 , 0.9733772 , 0.96265538, 0.9714945 , 0.97194532,\n",
       "        0.96826485, 0.98081131, 0.96143767, 0.9680863 , 0.9675833 ,\n",
       "        0.97096343, 0.96016487, 0.9661321 , 0.96274279, 0.96009966,\n",
       "        0.97557361, 0.96277729, 0.96472603, 0.95819257, 0.97435714,\n",
       "        0.95631556, 0.96687748, 0.9478884 , 0.96198648, 0.97521447,\n",
       "        0.97407986, 0.96599779, 0.95268722, 0.95842456, 0.96471314]])>"
      ]
     },
     "execution_count": 8,
     "metadata": {},
     "output_type": "execute_result"
    }
   ],
   "source": [
    "factor.intercept_matrix()"
   ]
  },
  {
   "cell_type": "code",
   "execution_count": 9,
   "metadata": {},
   "outputs": [
    {
     "data": {
      "image/png": "[encoded data removed]",
      "text/plain": [
       "<Figure size 720x288 with 2 Axes>"
      ]
     },
     "metadata": {
      "needs_background": "light"
     },
     "output_type": "display_data"
    }
   ],
   "source": [
    "fig, ax = plt.subplots(figsize=(10,4))\n",
    "\n",
    "plt.imshow(factor.encoding_matrix().numpy().T, vmin=0, cmap=\"Blues\")\n",
    "plt.xticks(np.arange(D))\n",
    "ax.set_xlabel(\"item\")\n",
    "ax.set_ylabel(\"dimension\")\n",
    "plt.tick_params(axis='both', which='major', labelsize=10, labelbottom = False, bottom=False, top = True, labeltop=True)\n",
    "plt.yticks(np.arange(P))\n",
    "plt.colorbar(orientation = \"horizontal\")\n",
    "plt.show()\n"
   ]
  },
  {
   "cell_type": "code",
   "execution_count": 10,
   "metadata": {},
   "outputs": [
    {
     "data": {
      "image/png": "[encoded data removed]",
      "text/plain": [
       "<Figure size 1008x576 with 3 Axes>"
      ]
     },
     "metadata": {
      "needs_background": "light"
     },
     "output_type": "display_data"
    }
   ],
   "source": [
    "fig, ax = plt.subplots(1,2, figsize=(14,8))\n",
    "\n",
    "pcm = ax[0].imshow(factor.encoding_matrix().numpy()[::-1,:], vmin=0, vmax=0.001, cmap=\"Blues\")\n",
    "ax[0].set_yticks(np.arange(D))\n",
    "ax[0].set_yticklabels(np.arange(D))\n",
    "ax[0].set_ylabel(\"item\")\n",
    "ax[0].set_xlabel(\"factor dimension\")\n",
    "ax[0].set_xticks(np.arange(P))\n",
    "ax[0].set_xticklabels(np.arange(P))\n",
    "\n",
    "fig.colorbar(pcm, ax=ax[0], orientation = \"vertical\")\n",
    "az.plot_forest(intercept_data, ax=ax[1])\n",
    "ax[1].set_xlabel(\"background rate\")\n",
    "ax[1].set_ylim((-0.014,.466))\n",
    "ax[1].set_title(\"65% and 95% CI\")\n",
    "ax[1].axvline(1.0, linestyle='dashed', color=\"black\")\n",
    "plt.savefig('noise_factorization_sepmf.pdf', bbox_inches='tight')\n",
    "plt.show()\n"
   ]
  },
  {
   "cell_type": "markdown",
   "metadata": {},
   "source": [
    "The values in the factor encoding matrix as near zero. There is a gradient because the model induces a dimensional decay to remove symmetries - this encourages the leading dimensions to hold more of the signal."
   ]
  },
  {
   "cell_type": "code",
   "execution_count": 11,
   "metadata": {},
   "outputs": [
    {
     "data": {
      "text/plain": [
       "<tf.Tensor: shape=(2, 30), dtype=float64, numpy=\n",
       "array([[0.2295838 , 0.22699055, 0.23037702, 0.22745738, 0.23057952,\n",
       "        0.23061713, 0.22928431, 0.22965553, 0.22800302, 0.22740484,\n",
       "        0.23012774, 0.2376664 , 0.22961367, 0.23465139, 0.22842681,\n",
       "        0.22180072, 0.2347027 , 0.23105253, 0.22848086, 0.22281395,\n",
       "        0.23352763, 0.23357269, 0.23485462, 0.22767362, 0.22721853,\n",
       "        0.23123941, 0.22706278, 0.23112237, 0.22506994, 0.23538265],\n",
       "       [0.7704162 , 0.77300945, 0.76962298, 0.77254262, 0.76942048,\n",
       "        0.76938287, 0.77071569, 0.77034447, 0.77199698, 0.77259516,\n",
       "        0.76987226, 0.7623336 , 0.77038633, 0.76534861, 0.77157319,\n",
       "        0.77819928, 0.7652973 , 0.76894747, 0.77151914, 0.77718605,\n",
       "        0.76647237, 0.76642731, 0.76514538, 0.77232638, 0.77278147,\n",
       "        0.76876059, 0.77293722, 0.76887763, 0.77493006, 0.76461735]])>"
      ]
     },
     "execution_count": 11,
     "metadata": {},
     "output_type": "execute_result"
    }
   ],
   "source": [
    "factor.calibrated_expectations['s']/tf.reduce_sum(factor.calibrated_expectations['s'], axis=0, keepdims=True)"
   ]
  },
  {
   "cell_type": "code",
   "execution_count": 12,
   "metadata": {},
   "outputs": [
    {
     "data": {
      "image/png": "[encoded data removed]",
      "text/plain": [
       "<Figure size 1008x576 with 3 Axes>"
      ]
     },
     "metadata": {
      "needs_background": "light"
     },
     "output_type": "display_data"
    }
   ],
   "source": [
    "fig, ax = plt.subplots(1,2, figsize=(14,8))\n",
    "\n",
    "pcm = ax[0].imshow(factor.decoding_matrix().numpy().T[::-1,:], vmin=0, cmap=\"Blues\")\n",
    "ax[0].set_yticks(np.arange(D))\n",
    "ax[0].set_yticklabels(np.arange(D))\n",
    "ax[0].set_ylabel(\"item\")\n",
    "ax[0].set_xlabel(\"factor dimension\")\n",
    "ax[0].set_xticks(np.arange(P))\n",
    "ax[0].set_xticklabels(np.arange(P))\n",
    "\n",
    "fig.colorbar(pcm, ax=ax[0], orientation = \"vertical\")\n",
    "az.plot_forest(intercept_data, ax=ax[1])\n",
    "ax[1].set_xlabel(\"background rate\")\n",
    "ax[1].set_ylim((-0.014,.466))\n",
    "ax[1].set_title(\"65% and 95% CI\")\n",
    "ax[1].axvline(1.0, linestyle='dashed', color=\"black\")\n",
    "plt.show()\n"
   ]
  },
  {
   "cell_type": "code",
   "execution_count": null,
   "metadata": {},
   "outputs": [],
   "source": []
  },
  {
   "cell_type": "code",
   "execution_count": null,
   "metadata": {},
   "outputs": [],
   "source": []
  }
 ],
 "metadata": {
  "kernelspec": {
   "display_name": "Python 3.7.5 64-bit",
   "language": "python",
   "name": "python37564bitf92b1a92eaa047aebe1f2ca9ebe04d21"
  },
  "language_info": {
   "codemirror_mode": {
    "name": "ipython",
    "version": 3
   },
   "file_extension": ".py",
   "mimetype": "text/x-python",
   "name": "python",
   "nbconvert_exporter": "python",
   "pygments_lexer": "ipython3",
   "version": "3.7.5"
  }
 },
 "nbformat": 4,
 "nbformat_minor": 2
}
