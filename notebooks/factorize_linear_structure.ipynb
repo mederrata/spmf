{
 "cells": [
  {
   "cell_type": "code",
   "execution_count": 1,
   "metadata": {},
   "outputs": [
    {
     "name": "stdout",
     "output_type": "stream",
     "text": [
      "Populating the interactive namespace from numpy and matplotlib\n"
     ]
    }
   ],
   "source": [
    "%pylab inline\n",
    "import sys\n",
    "\n",
    "import numpy as np\n",
    "import tensorflow as tf\n",
    "import tensorflow_probability as tfp\n",
    "import arviz as az\n",
    "\n",
    "import matplotlib.pyplot as plt\n",
    "from matplotlib import rcParams\n",
    "import matplotlib.font_manager as fm\n",
    "\n",
    "rcParams['font.family'] = 'sans-serif'\n",
    "\n",
    "sys.path.append('../')\n",
    "from mederrata_spmf import PoissonMatrixFactorization\n"
   ]
  },
  {
   "cell_type": "markdown",
   "metadata": {},
   "source": [
    "In this notebook, we look at the $\\mathcal{M}$-open setting, where the generating process is in the span of models.\n",
    "\n",
    "# Generate a random matrices V, W\n",
    "\n",
    "For V, assume that 12 variables share a factor structure and the other 8 are noise"
   ]
  },
  {
   "cell_type": "code",
   "execution_count": 2,
   "metadata": {},
   "outputs": [],
   "source": [
    "N = 50000\n",
    "D_factor = 10\n",
    "D_noise = 10\n",
    "P = 3\n",
    "\n",
    "V = np.abs(np.random.normal(0.5, 0.5, size=(P,D_factor)))\n",
    "Z = np.abs(np.random.normal(0.5, size=(N,P)))\n",
    "\n",
    "ZV = Z.dot(V)\n",
    "\n",
    "X = np.zeros((N, D_factor*2))\n",
    "X[:, ::2] = np.random.poisson(ZV)\n",
    "X[:, 1::2] = np.random.poisson(2.,size=(N,D_factor))"
   ]
  },
  {
   "cell_type": "code",
   "execution_count": 3,
   "metadata": {},
   "outputs": [],
   "source": [
    "# Test taking in from tf.dataset, don't pre-batch\n",
    "data = tf.data.Dataset.from_tensor_slices(\n",
    "    {\n",
    "        'data': X,\n",
    "        'indices': np.arange(N),\n",
    "        'normalization': np.ones(N)\n",
    "    })\n",
    "\n",
    "data = data.batch(1000)"
   ]
  },
  {
   "cell_type": "code",
   "execution_count": 4,
   "metadata": {},
   "outputs": [
    {
     "name": "stdout",
     "output_type": "stream",
     "text": [
      "Feature dim: 20 -> Latent dim 3\n"
     ]
    }
   ],
   "source": [
    "# strategy = tf.distribute.MirroredStrategy()\n",
    "strategy = None\n",
    "factor = PoissonMatrixFactorization(\n",
    "    data, latent_dim=P, strategy=strategy,\n",
    "    encoder_function=lambda x: x, decoder_function=lambda x: x,\n",
    "    scale_rates=True, \n",
    "    dtype=tf.float64)\n",
    "# Test to make sure sampling works\n"
   ]
  },
  {
   "cell_type": "code",
   "execution_count": 5,
   "metadata": {
    "scrolled": true
   },
   "outputs": [
    {
     "name": "stderr",
     "output_type": "stream",
     "text": [
      "WARNING: Logging before flag parsing goes to stderr.\n",
      "W0520 14:16:20.147902 4476612032 deprecation.py:506] From /usr/local/lib/python3.7/site-packages/tensorflow_core/python/ops/resource_variable_ops.py:1786: calling BaseResourceVariable.__init__ (from tensorflow.python.ops.resource_variable_ops) with constraint is deprecated and will be removed in a future version.\n",
      "Instructions for updating:\n",
      "If using Keras pass *_constraint arguments to layers.\n"
     ]
    },
    {
     "name": "stdout",
     "output_type": "stream",
     "text": [
      "Initial loss: 51.64505200720985\n",
      "Epoch 1: average-batch loss: 32.27218748027601 last batch loss: 31.238830248493517\n",
      "Saved a checkpoint: ./.tf_ckpts/chkpt-1\n",
      "Epoch 2: average-batch loss: 30.268660539625067 last batch loss: 30.209161031833553\n",
      "Saved a checkpoint: ./.tf_ckpts/chkpt-2\n",
      "Epoch 3: average-batch loss: 29.43800255475942 last batch loss: 29.638527090520178\n",
      "Saved a checkpoint: ./.tf_ckpts/chkpt-3\n",
      "Epoch 4: average-batch loss: 29.15980225037406 last batch loss: 29.496205180510803\n",
      "Saved a checkpoint: ./.tf_ckpts/chkpt-4\n",
      "Epoch 5: average-batch loss: 29.08941057290569 last batch loss: 29.42538579153719\n",
      "Saved a checkpoint: ./.tf_ckpts/chkpt-5\n",
      "Epoch 6: average-batch loss: 29.051820838094226 last batch loss: 29.40957732457581\n",
      "Saved a checkpoint: ./.tf_ckpts/chkpt-6\n",
      "Epoch 7: average-batch loss: 29.02460791015364 last batch loss: 29.363294907885823\n",
      "Saved a checkpoint: ./.tf_ckpts/chkpt-7\n",
      "Epoch 8: average-batch loss: 29.00243388829496 last batch loss: 29.362881693569257\n",
      "Saved a checkpoint: ./.tf_ckpts/chkpt-8\n",
      "Epoch 9: average-batch loss: 28.992301621221046 last batch loss: 29.350500280646138\n",
      "Saved a checkpoint: ./.tf_ckpts/chkpt-9\n",
      "Epoch 10: average-batch loss: 28.97687644793911 last batch loss: 29.332898855103448\n",
      "Saved a checkpoint: ./.tf_ckpts/chkpt-10\n",
      "Epoch 11: average-batch loss: 28.971082576950838 last batch loss: 29.338402218979972\n",
      "Saved a checkpoint: ./.tf_ckpts/chkpt-11\n",
      "Epoch 12: average-batch loss: 28.95752794849846 last batch loss: 29.327788199094588\n",
      "Saved a checkpoint: ./.tf_ckpts/chkpt-12\n",
      "Epoch 13: average-batch loss: 28.952558211303025 last batch loss: 29.323806879533862\n",
      "Saved a checkpoint: ./.tf_ckpts/chkpt-13\n",
      "Epoch 14: average-batch loss: 28.940080327893316 last batch loss: 29.288449391200867\n",
      "Saved a checkpoint: ./.tf_ckpts/chkpt-14\n",
      "Epoch 15: average-batch loss: 28.930316336954363 last batch loss: 29.28228435498643\n",
      "Saved a checkpoint: ./.tf_ckpts/chkpt-15\n",
      "Epoch 16: average-batch loss: 28.92013852483481 last batch loss: 29.26275308260247\n",
      "Saved a checkpoint: ./.tf_ckpts/chkpt-16\n",
      "Epoch 17: average-batch loss: 28.92021897375356 last batch loss: 29.269429117764126\n",
      "Epoch 18: average-batch loss: 28.906111841262984 last batch loss: 29.258698272242736\n",
      "Saved a checkpoint: ./.tf_ckpts/chkpt-17\n",
      "Epoch 19: average-batch loss: 28.891059994487215 last batch loss: 29.253642118234442\n",
      "Saved a checkpoint: ./.tf_ckpts/chkpt-18\n",
      "Epoch 20: average-batch loss: 28.883250292903686 last batch loss: 29.25364267783559\n",
      "Saved a checkpoint: ./.tf_ckpts/chkpt-19\n",
      "Epoch 21: average-batch loss: 28.877642339654884 last batch loss: 29.238752061450768\n",
      "Saved a checkpoint: ./.tf_ckpts/chkpt-20\n",
      "Epoch 22: average-batch loss: 28.881720154700457 last batch loss: 29.227828627032515\n",
      "Epoch 23: average-batch loss: 28.865812445888817 last batch loss: 29.219234330556052\n",
      "Saved a checkpoint: ./.tf_ckpts/chkpt-21\n",
      "Epoch 24: average-batch loss: 28.8618883727497 last batch loss: 29.252304923193645\n",
      "Saved a checkpoint: ./.tf_ckpts/chkpt-22\n",
      "Epoch 25: average-batch loss: 28.860956375492183 last batch loss: 29.213924706867335\n",
      "Saved a checkpoint: ./.tf_ckpts/chkpt-23\n",
      "Epoch 26: average-batch loss: 28.858215493469366 last batch loss: 29.24564894407642\n",
      "Saved a checkpoint: ./.tf_ckpts/chkpt-24\n",
      "Epoch 27: average-batch loss: 28.860115132826735 last batch loss: 29.216003376726345\n",
      "Epoch 28: average-batch loss: 28.85044593270347 last batch loss: 29.194985982599057\n",
      "Saved a checkpoint: ./.tf_ckpts/chkpt-25\n",
      "Epoch 29: average-batch loss: 28.854481704188565 last batch loss: 29.198782438075508\n",
      "Epoch 30: average-batch loss: 28.859145673833126 last batch loss: 29.21463255360566\n",
      "We are in a loss plateau learning rate: 0.05 loss: 28.541728251437064\n",
      "Restoring from a checkpoint - loss: 28.542684104522568\n",
      "Epoch 31: average-batch loss: 28.846778075421813 last batch loss: 29.20080000604434\n",
      "Saved a checkpoint: ./.tf_ckpts/chkpt-26\n",
      "Epoch 32: average-batch loss: 28.850755643682497 last batch loss: 29.189408156729506\n",
      "Epoch 33: average-batch loss: 28.848138797018695 last batch loss: 29.21781504977795\n",
      "Epoch 34: average-batch loss: 28.84802619302057 last batch loss: 29.219751379825148\n",
      "Epoch 35: average-batch loss: 28.845803737245742 last batch loss: 29.217396845641233\n",
      "Saved a checkpoint: ./.tf_ckpts/chkpt-27\n",
      "Epoch 36: average-batch loss: 28.85052038399317 last batch loss: 29.2155032068624\n",
      "We are in a loss plateau learning rate: 0.0125 loss: 28.556334682785195\n",
      "Restoring from a checkpoint - loss: 28.55528877708663\n",
      "Epoch 37: average-batch loss: 28.844711077098328 last batch loss: 29.214979050102762\n",
      "Saved a checkpoint: ./.tf_ckpts/chkpt-28\n",
      "Epoch 38: average-batch loss: 28.85393754474842 last batch loss: 29.221370713123864\n",
      "Epoch 39: average-batch loss: 28.854010986126124 last batch loss: 29.199248823885924\n",
      "Epoch 40: average-batch loss: 28.844388374713244 last batch loss: 29.190125136571552\n",
      "Saved a checkpoint: ./.tf_ckpts/chkpt-29\n",
      "Epoch 41: average-batch loss: 28.842374605057152 last batch loss: 29.178795912961462\n",
      "Saved a checkpoint: ./.tf_ckpts/chkpt-30\n",
      "Epoch 42: average-batch loss: 28.834563592836943 last batch loss: 29.212346578522645\n",
      "Saved a checkpoint: ./.tf_ckpts/chkpt-31\n",
      "Epoch 43: average-batch loss: 28.829125038365873 last batch loss: 29.184561572194784\n",
      "Saved a checkpoint: ./.tf_ckpts/chkpt-32\n",
      "Epoch 44: average-batch loss: 28.834215327500047 last batch loss: 29.208812307231234\n",
      "Epoch 45: average-batch loss: 28.832025932449806 last batch loss: 29.189113846275383\n",
      "Epoch 46: average-batch loss: 28.821531453779652 last batch loss: 29.184316554901585\n",
      "Saved a checkpoint: ./.tf_ckpts/chkpt-33\n",
      "Epoch 47: average-batch loss: 28.819806599889045 last batch loss: 29.17010375136211\n",
      "Saved a checkpoint: ./.tf_ckpts/chkpt-34\n",
      "Epoch 48: average-batch loss: 28.809292559456413 last batch loss: 29.161754915666428\n",
      "Saved a checkpoint: ./.tf_ckpts/chkpt-35\n",
      "Epoch 49: average-batch loss: 28.806448083816306 last batch loss: 29.235973364403762\n",
      "Saved a checkpoint: ./.tf_ckpts/chkpt-36\n",
      "Epoch 50: average-batch loss: 28.80612375186599 last batch loss: 29.19310977722225\n",
      "Saved a checkpoint: ./.tf_ckpts/chkpt-37\n",
      "Epoch 51: average-batch loss: 28.80098487319435 last batch loss: 29.17590633214827\n",
      "Saved a checkpoint: ./.tf_ckpts/chkpt-38\n",
      "Epoch 52: average-batch loss: 28.812963463615787 last batch loss: 29.18260624230295\n",
      "We are in a loss plateau learning rate: 0.003125 loss: 28.50204392083212\n",
      "Restoring from a checkpoint - loss: 28.469460909333243\n",
      "Epoch 53: average-batch loss: 28.80703633099198 last batch loss: 29.18223521990125\n",
      "Epoch 54: average-batch loss: 28.802386759785318 last batch loss: 29.221930699830118\n",
      "Epoch 55: average-batch loss: 28.80200949041231 last batch loss: 29.166636519679138\n",
      "Epoch 56: average-batch loss: 28.797519124270615 last batch loss: 29.18884412947396\n",
      "Saved a checkpoint: ./.tf_ckpts/chkpt-39\n",
      "Epoch 57: average-batch loss: 28.798479654831596 last batch loss: 29.161340585329643\n",
      "Epoch 58: average-batch loss: 28.79436058490462 last batch loss: 29.154673363589158\n",
      "Saved a checkpoint: ./.tf_ckpts/chkpt-40\n",
      "Epoch 59: average-batch loss: 28.79629214399733 last batch loss: 29.1813831733261\n",
      "Epoch 60: average-batch loss: 28.796966128449245 last batch loss: 29.176123946473236\n",
      "We are in a loss plateau learning rate: 0.00078125 loss: 28.47242703296833\n",
      "Restoring from a checkpoint - loss: 28.47038106175257\n",
      "Epoch 61: average-batch loss: 28.799766762869965 last batch loss: 29.154918765344526\n",
      "Epoch 62: average-batch loss: 28.794791167439893 last batch loss: 29.17873368653695\n",
      "Epoch 63: average-batch loss: 28.79523378215791 last batch loss: 29.17043365220318\n",
      "Epoch 64: average-batch loss: 28.794872181889165 last batch loss: 29.149562036992762\n",
      "Epoch 65: average-batch loss: 28.792890055734368 last batch loss: 29.177730344788014\n",
      "Saved a checkpoint: ./.tf_ckpts/chkpt-41\n",
      "Epoch 66: average-batch loss: 28.792075096469738 last batch loss: 29.171948533778572\n",
      "Saved a checkpoint: ./.tf_ckpts/chkpt-42\n",
      "Epoch 67: average-batch loss: 28.793576212981158 last batch loss: 29.145804045937208\n",
      "We are in a loss plateau learning rate: 0.0001953125 loss: 28.47592903740584\n",
      "Restoring from a checkpoint - loss: 28.478864065995023\n",
      "Epoch 68: average-batch loss: 28.792089884177848 last batch loss: 29.17422063231971\n",
      "Epoch 69: average-batch loss: 28.794289734293656 last batch loss: 29.155504732203568\n"
     ]
    },
    {
     "name": "stdout",
     "output_type": "stream",
     "text": [
      "Epoch 70: average-batch loss: 28.78965511290864 last batch loss: 29.16326772038462\n",
      "Saved a checkpoint: ./.tf_ckpts/chkpt-43\n",
      "Epoch 71: average-batch loss: 28.790350453424924 last batch loss: 29.132449249158128\n",
      "Epoch 72: average-batch loss: 28.795250384595903 last batch loss: 29.16974837428143\n",
      "We are in a loss plateau learning rate: 4.8828125e-05 loss: 28.466607630818455\n",
      "Restoring from a checkpoint - loss: 28.473686700792907\n",
      "Epoch 73: average-batch loss: 28.78826108966842 last batch loss: 29.146674918908815\n",
      "Saved a checkpoint: ./.tf_ckpts/chkpt-44\n",
      "Epoch 74: average-batch loss: 28.793268736321632 last batch loss: 29.156785258586716\n",
      "Epoch 75: average-batch loss: 28.790503984500788 last batch loss: 29.173449000781993\n",
      "Epoch 76: average-batch loss: 28.790454779748117 last batch loss: 29.179216314706384\n",
      "Epoch 77: average-batch loss: 28.795916451704414 last batch loss: 29.20276706165173\n",
      "We are in a loss plateau learning rate: 1.220703125e-05 loss: 28.48106669051757\n",
      "Restoring from a checkpoint - loss: 28.49413340784683\n",
      "Epoch 78: average-batch loss: 28.795380521734483 last batch loss: 29.16022336796525\n",
      "Epoch 79: average-batch loss: 28.790109125295622 last batch loss: 29.188200209587407\n",
      "Epoch 80: average-batch loss: 28.79063623994155 last batch loss: 29.169148668480048\n",
      "Epoch 81: average-batch loss: 28.795118645306164 last batch loss: 29.212896873646663\n",
      "Epoch 82: average-batch loss: 28.790593363244167 last batch loss: 29.151064119654123\n",
      "Epoch 83: average-batch loss: 28.791376769317722 last batch loss: 29.166451768499073\n",
      "Epoch 84: average-batch loss: 28.79060270918507 last batch loss: 29.150703969040286\n",
      "Epoch 85: average-batch loss: 28.795573389593834 last batch loss: 29.181220921110448\n",
      "We are in a loss plateau learning rate: 3.0517578125e-06 loss: 28.477737579663135\n",
      "Restoring from a checkpoint - loss: 28.48319061457192\n",
      "Epoch 86: average-batch loss: 28.790359473468307 last batch loss: 29.161926456470027\n",
      "Epoch 87: average-batch loss: 28.79099122842756 last batch loss: 29.196913627316004\n",
      "Epoch 88: average-batch loss: 28.80912632882137 last batch loss: 29.157004695100216\n",
      "Epoch 89: average-batch loss: 28.79653153440886 last batch loss: 29.167459413295344\n",
      "Epoch 90: average-batch loss: 28.800483779571767 last batch loss: 29.18376151044017\n",
      "Epoch 91: average-batch loss: 28.791416460010883 last batch loss: 29.14919611634705\n",
      "Epoch 92: average-batch loss: 28.799889137777505 last batch loss: 29.174792750703084\n",
      "Epoch 93: average-batch loss: 28.801297162256752 last batch loss: 29.167178921593106\n",
      "We are in a loss plateau learning rate: 7.62939453125e-07 loss: 28.46336050921899\n",
      "Restoring from a checkpoint - loss: 28.455301209737076\n",
      "Epoch 94: average-batch loss: 28.79583982890505 last batch loss: 29.1613712195553\n",
      "Epoch 95: average-batch loss: 28.790773162002193 last batch loss: 29.168392581405364\n",
      "Epoch 96: average-batch loss: 28.79837362166304 last batch loss: 29.16799090232989\n",
      "Epoch 97: average-batch loss: 28.79143439572204 last batch loss: 29.168688317468963\n",
      "Epoch 98: average-batch loss: 28.7928413362951 last batch loss: 29.18712119637565\n",
      "Epoch 99: average-batch loss: 28.79788515259419 last batch loss: 29.15358999262323\n",
      "We are in a loss plateau learning rate: 1.9073486328125e-07 loss: 28.464108858255123\n",
      "Restoring from a checkpoint - loss: 28.459747250049034\n",
      "Terminating because we are out of iterations\n"
     ]
    }
   ],
   "source": [
    "losses = factor.calibrate_advi(\n",
    "    num_epochs=100, learning_rate=.1)\n",
    "\n"
   ]
  },
  {
   "cell_type": "code",
   "execution_count": 6,
   "metadata": {},
   "outputs": [
    {
     "name": "stdout",
     "output_type": "stream",
     "text": [
      "{'waic': 223986.728997907, 'se': 1658.3351721553738, 'lppd': -27156.324094612384, 'pwaic': 84837.04040434111}\n"
     ]
    }
   ],
   "source": [
    "waic = factor.waic()\n",
    "print(waic)"
   ]
  },
  {
   "cell_type": "code",
   "execution_count": 7,
   "metadata": {},
   "outputs": [],
   "source": [
    "intercept_data = az.convert_to_inference_data(\n",
    "    {\n",
    "        r\"$s_dw_d$\": tf.squeeze(\n",
    "            factor.surrogate_distribution.sample(1000)['w']*factor.norm_factor).numpy().T})"
   ]
  },
  {
   "cell_type": "code",
   "execution_count": 8,
   "metadata": {},
   "outputs": [
    {
     "data": {
      "image/png": "[encoded data removed]",
      "text/plain": [
       "<Figure size 1008x576 with 3 Axes>"
      ]
     },
     "metadata": {
      "needs_background": "light"
     },
     "output_type": "display_data"
    }
   ],
   "source": [
    "fig, ax = plt.subplots(1,2, figsize=(14,8))\n",
    "D = factor.feature_dim\n",
    "pcm = ax[0].imshow(factor.encoding_matrix().numpy()[::-1,:], vmin=0, cmap=\"Blues\")\n",
    "ax[0].set_yticks(np.arange(D))\n",
    "ax[0].set_yticklabels(np.arange(D))\n",
    "ax[0].set_ylabel(\"item\")\n",
    "ax[0].set_xlabel(\"factor dimension\")\n",
    "ax[0].set_xticks(np.arange(P))\n",
    "ax[0].set_xticklabels(np.arange(P))\n",
    "\n",
    "fig.colorbar(pcm, ax=ax[0], orientation = \"vertical\")\n",
    "az.plot_forest(intercept_data, ax=ax[1])\n",
    "ax[1].set_xlabel(\"background rate\")\n",
    "ax[1].set_ylim((-0.014,.466))\n",
    "ax[1].set_title(\"65% and 95% CI\")\n",
    "ax[1].axvline(2.0, linestyle='dashed', color=\"black\")\n",
    "plt.savefig('mix_factorization_sepmf.pdf', bbox_inches='tight')\n",
    "plt.show()\n"
   ]
  },
  {
   "cell_type": "code",
   "execution_count": null,
   "metadata": {},
   "outputs": [],
   "source": []
  },
  {
   "cell_type": "code",
   "execution_count": null,
   "metadata": {},
   "outputs": [],
   "source": []
  },
  {
   "cell_type": "code",
   "execution_count": null,
   "metadata": {},
   "outputs": [],
   "source": []
  },
  {
   "cell_type": "code",
   "execution_count": null,
   "metadata": {},
   "outputs": [],
   "source": []
  }
 ],
 "metadata": {
  "kernelspec": {
   "display_name": "Python 3.7.5 64-bit",
   "language": "python",
   "name": "python37564bitf92b1a92eaa047aebe1f2ca9ebe04d21"
  },
  "language_info": {
   "codemirror_mode": {
    "name": "ipython",
    "version": 3
   },
   "file_extension": ".py",
   "mimetype": "text/x-python",
   "name": "python",
   "nbconvert_exporter": "python",
   "pygments_lexer": "ipython3",
   "version": "3.7.5"
  }
 },
 "nbformat": 4,
 "nbformat_minor": 2
}
