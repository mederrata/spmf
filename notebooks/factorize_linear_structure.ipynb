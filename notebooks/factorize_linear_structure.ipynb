{
 "cells": [
  {
   "cell_type": "code",
   "execution_count": 1,
   "metadata": {},
   "outputs": [
    {
     "name": "stdout",
     "output_type": "stream",
     "text": [
      "Populating the interactive namespace from numpy and matplotlib\n"
     ]
    }
   ],
   "source": [
    "%pylab inline\n",
    "import sys\n",
    "\n",
    "import numpy as np\n",
    "import tensorflow as tf\n",
    "import tensorflow_probability as tfp\n",
    "import arviz as az\n",
    "\n",
    "import matplotlib.pyplot as plt\n",
    "from matplotlib import rcParams\n",
    "import matplotlib.font_manager as fm\n",
    "\n",
    "rcParams['font.family'] = 'sans-serif'\n",
    "\n",
    "sys.path.append('../')\n",
    "from mederrata_spmf import PoissonMatrixFactorization\n"
   ]
  },
  {
   "cell_type": "markdown",
   "metadata": {},
   "source": [
    "In this notebook, we look at the $\\mathcal{M}$-open setting, where the generating process is in the span of models.\n",
    "\n",
    "# Generate a random matrices V, W\n",
    "\n",
    "For V, assume that 12 variables share a factor structure and the other 8 are noise"
   ]
  },
  {
   "cell_type": "code",
   "execution_count": 9,
   "metadata": {},
   "outputs": [],
   "source": [
    "N = 500000\n",
    "D_factor = 10\n",
    "D_noise = 10\n",
    "P = 3\n",
    "\n",
    "V = np.abs(np.random.normal(1., 1., size=(P,D_factor)))\n",
    "Z = np.abs(np.random.normal(0.1, size=(N,P)))\n",
    "\n",
    "ZV = Z.dot(V)\n",
    "\n",
    "X = np.zeros((N, D_factor*2))\n",
    "X[:, ::2] = np.random.poisson(ZV)\n",
    "X[:, 1::2] = np.random.poisson(2.,size=(N,D_factor))"
   ]
  },
  {
   "cell_type": "code",
   "execution_count": 10,
   "metadata": {},
   "outputs": [],
   "source": [
    "# Test taking in from tf.dataset, don't pre-batch\n",
    "data = tf.data.Dataset.from_tensor_slices(\n",
    "    {\n",
    "        'data': X,\n",
    "        'indices': np.arange(N),\n",
    "        'normalization': np.ones(N)\n",
    "    })\n",
    "\n",
    "data = data.batch(1000)"
   ]
  },
  {
   "cell_type": "code",
   "execution_count": 11,
   "metadata": {},
   "outputs": [
    {
     "name": "stdout",
     "output_type": "stream",
     "text": [
      "Feature dim: 20 -> Latent dim 3\n"
     ]
    }
   ],
   "source": [
    "# strategy = tf.distribute.MirroredStrategy()\n",
    "strategy = None\n",
    "factor = PoissonMatrixFactorization(\n",
    "    data, latent_dim=P, strategy=strategy,\n",
    "    #encoder_function=lambda x: x, decoder_function=lambda x: x,\n",
    "    scale_rates=True,\n",
    "    dtype=tf.float64)\n",
    "# Test to make sure sampling works\n"
   ]
  },
  {
   "cell_type": "code",
   "execution_count": 12,
   "metadata": {
    "scrolled": true
   },
   "outputs": [
    {
     "name": "stdout",
     "output_type": "stream",
     "text": [
      "Initial loss: 120.87921586401669\n",
      "Epoch 1: average-batch loss: 41.52895167272455 last batch loss: 35.5704121861912\n",
      "Saved a checkpoint: ./.tf_ckpts/chkpt-1\n",
      "Epoch 2: average-batch loss: 34.96272272956047 last batch loss: 34.03143416214637\n",
      "Saved a checkpoint: ./.tf_ckpts/chkpt-2\n",
      "Epoch 3: average-batch loss: 33.70101442039741 last batch loss: 33.426758562116305\n",
      "Saved a checkpoint: ./.tf_ckpts/chkpt-3\n",
      "Epoch 4: average-batch loss: 33.3945721314199 last batch loss: 33.3033640396074\n",
      "Saved a checkpoint: ./.tf_ckpts/chkpt-4\n",
      "Epoch 5: average-batch loss: 33.282923961349766 last batch loss: 33.208284788958146\n",
      "Saved a checkpoint: ./.tf_ckpts/chkpt-5\n",
      "Epoch 6: average-batch loss: 33.22292998545092 last batch loss: 33.166232503411344\n",
      "Saved a checkpoint: ./.tf_ckpts/chkpt-6\n",
      "Epoch 7: average-batch loss: 33.15304351543392 last batch loss: 32.99267962048171\n",
      "Saved a checkpoint: ./.tf_ckpts/chkpt-7\n",
      "Epoch 8: average-batch loss: 32.711421010891236 last batch loss: 32.31801567005419\n",
      "Saved a checkpoint: ./.tf_ckpts/chkpt-8\n",
      "Epoch 9: average-batch loss: 32.11309532638269 last batch loss: 31.884399417025502\n",
      "Saved a checkpoint: ./.tf_ckpts/chkpt-9\n",
      "Epoch 10: average-batch loss: 31.89984464124676 last batch loss: 31.77818183459053\n",
      "Saved a checkpoint: ./.tf_ckpts/chkpt-10\n",
      "Epoch 11: average-batch loss: 31.835834065734613 last batch loss: 31.77688401816533\n",
      "Saved a checkpoint: ./.tf_ckpts/chkpt-11\n",
      "Epoch 12: average-batch loss: 31.805863141732953 last batch loss: 31.720398850037906\n",
      "Saved a checkpoint: ./.tf_ckpts/chkpt-12\n",
      "Epoch 13: average-batch loss: 31.785418289446266 last batch loss: 31.678816648954577\n",
      "Saved a checkpoint: ./.tf_ckpts/chkpt-13\n",
      "Epoch 14: average-batch loss: 31.771423152432465 last batch loss: 31.68397241601916\n",
      "Saved a checkpoint: ./.tf_ckpts/chkpt-14\n",
      "Epoch 15: average-batch loss: 31.757956838754264 last batch loss: 31.674279124456213\n",
      "Saved a checkpoint: ./.tf_ckpts/chkpt-15\n",
      "Epoch 16: average-batch loss: 31.74848756001064 last batch loss: 31.666028431496535\n",
      "Saved a checkpoint: ./.tf_ckpts/chkpt-16\n",
      "Epoch 17: average-batch loss: 31.742047321027414 last batch loss: 31.666097168141672\n",
      "Saved a checkpoint: ./.tf_ckpts/chkpt-17\n",
      "Epoch 18: average-batch loss: 31.738879011147997 last batch loss: 31.653206348629954\n",
      "Saved a checkpoint: ./.tf_ckpts/chkpt-18\n",
      "Epoch 19: average-batch loss: 31.737873043212662 last batch loss: 31.652310360487945\n",
      "Saved a checkpoint: ./.tf_ckpts/chkpt-19\n",
      "Epoch 20: average-batch loss: 31.73578052230243 last batch loss: 31.64263341924001\n",
      "Saved a checkpoint: ./.tf_ckpts/chkpt-20\n",
      "Epoch 21: average-batch loss: 31.73585725231993 last batch loss: 31.636822105757695\n",
      "Epoch 22: average-batch loss: 31.734362236201697 last batch loss: 31.75443835817783\n",
      "Saved a checkpoint: ./.tf_ckpts/chkpt-21\n",
      "Epoch 23: average-batch loss: 31.735193649289524 last batch loss: 31.65383711792541\n",
      "Epoch 24: average-batch loss: 31.73340051968436 last batch loss: 31.65035069433491\n",
      "Saved a checkpoint: ./.tf_ckpts/chkpt-22\n",
      "Epoch 25: average-batch loss: 31.734163215302882 last batch loss: 31.648083674006784\n",
      "Epoch 26: average-batch loss: 31.732915223554 last batch loss: 31.650586025299848\n",
      "Saved a checkpoint: ./.tf_ckpts/chkpt-23\n",
      "Epoch 27: average-batch loss: 31.731928752330205 last batch loss: 31.643483003810545\n",
      "Saved a checkpoint: ./.tf_ckpts/chkpt-24\n",
      "Epoch 28: average-batch loss: 31.732664842520343 last batch loss: 31.651960328815388\n",
      "Epoch 29: average-batch loss: 31.73376067714952 last batch loss: 31.650471505770373\n",
      "We are in a loss plateau learning rate: 0.00625 loss: 31.658476500472997\n",
      "Restoring from a checkpoint - loss: 31.671243124230976\n",
      "Epoch 30: average-batch loss: 31.731549430808002 last batch loss: 31.66884815375692\n",
      "Saved a checkpoint: ./.tf_ckpts/chkpt-25\n",
      "Epoch 31: average-batch loss: 31.733096640305845 last batch loss: 31.640167598239\n",
      "Epoch 32: average-batch loss: 31.730963806006365 last batch loss: 31.6639936137092\n",
      "Saved a checkpoint: ./.tf_ckpts/chkpt-26\n",
      "Epoch 33: average-batch loss: 31.729346953516878 last batch loss: 31.649168659817427\n",
      "Saved a checkpoint: ./.tf_ckpts/chkpt-27\n",
      "Epoch 34: average-batch loss: 31.730961159555626 last batch loss: 31.645458961517747\n",
      "Epoch 35: average-batch loss: 31.73125566813616 last batch loss: 31.637486113799525\n",
      "We are in a loss plateau learning rate: 0.0015625 loss: 31.66653975512656\n",
      "Restoring from a checkpoint - loss: 31.698727438422917\n",
      "Epoch 36: average-batch loss: 31.730624508017904 last batch loss: 31.643281189943504\n",
      "Epoch 37: average-batch loss: 31.729785105437195 last batch loss: 31.637707944649833\n",
      "Epoch 38: average-batch loss: 31.730295579381284 last batch loss: 31.654006004597875\n",
      "Epoch 39: average-batch loss: 31.730753850442476 last batch loss: 31.6526035202891\n",
      "Epoch 40: average-batch loss: 31.7319612115179 last batch loss: 31.671599192248664\n",
      "We are in a loss plateau learning rate: 0.000390625 loss: 31.68484375037618\n",
      "Restoring from a checkpoint - loss: 31.69724055531365\n",
      "Epoch 41: average-batch loss: 31.73013298207893 last batch loss: 31.659293555374063\n",
      "Epoch 42: average-batch loss: 31.729687578130573 last batch loss: 31.643009270802708\n",
      "Epoch 43: average-batch loss: 31.72940797767518 last batch loss: 31.651513606221382\n",
      "Epoch 44: average-batch loss: 31.730697531378855 last batch loss: 31.680058987420743\n",
      "Epoch 45: average-batch loss: 31.730737628194653 last batch loss: 31.658113662592886\n",
      "We are in a loss plateau learning rate: 9.765625e-05 loss: 31.661647707941324\n",
      "Restoring from a checkpoint - loss: 31.690240765501077\n",
      "Epoch 46: average-batch loss: 31.731255717590866 last batch loss: 31.643329912378828\n",
      "Epoch 47: average-batch loss: 31.730597045469686 last batch loss: 31.64247111503369\n",
      "Epoch 48: average-batch loss: 31.731798687029833 last batch loss: 31.64961208704259\n",
      "Epoch 49: average-batch loss: 31.72967416826159 last batch loss: 31.64447152240104\n",
      "Terminating because we are out of iterations\n"
     ]
    }
   ],
   "source": [
    "losses = factor.calibrate_advi(\n",
    "    num_epochs=50, rel_tol=1e-3, learning_rate=.025)\n",
    "\n"
   ]
  },
  {
   "cell_type": "code",
   "execution_count": 13,
   "metadata": {},
   "outputs": [
    {
     "name": "stdout",
     "output_type": "stream",
     "text": [
      "{'waic': 707479.3019006203, 'se': 8411.352872720598, 'lppd': -38428.89736951984, 'pwaic': 315310.75358079036}\n"
     ]
    }
   ],
   "source": [
    "waic = factor.waic()\n",
    "print(waic)"
   ]
  },
  {
   "cell_type": "code",
   "execution_count": 14,
   "metadata": {},
   "outputs": [],
   "source": [
    "intercept_data = az.convert_to_inference_data({r\"$w_d$\": tf.squeeze(factor.surrogate_distribution.sample(1000)['w']).numpy().T})"
   ]
  },
  {
   "cell_type": "code",
   "execution_count": 15,
   "metadata": {},
   "outputs": [
    {
     "data": {
      "image/png": "[encoded data removed]",
      "text/plain": [
       "<Figure size 1008x576 with 3 Axes>"
      ]
     },
     "metadata": {
      "needs_background": "light"
     },
     "output_type": "display_data"
    }
   ],
   "source": [
    "fig, ax = plt.subplots(1,2, figsize=(14,8))\n",
    "D = factor.feature_dim\n",
    "pcm = ax[0].imshow(factor.encoding_matrix().numpy()[::-1,:], vmin=0, cmap=\"Blues\")\n",
    "ax[0].set_yticks(np.arange(D))\n",
    "ax[0].set_yticklabels(np.arange(D))\n",
    "ax[0].set_ylabel(\"item\")\n",
    "ax[0].set_xlabel(\"factor dimension\")\n",
    "ax[0].set_xticks(np.arange(P))\n",
    "ax[0].set_xticklabels(np.arange(P))\n",
    "\n",
    "fig.colorbar(pcm, ax=ax[0], orientation = \"vertical\")\n",
    "az.plot_forest(intercept_data, ax=ax[1])\n",
    "ax[1].set_xlabel(\"background rate\")\n",
    "ax[1].set_ylim((-0.014,.466))\n",
    "ax[1].set_title(\"65% and 95% CI\")\n",
    "ax[1].axvline(2.0, linestyle='dashed', color=\"black\")\n",
    "plt.savefig('mix_factorization_sepmf.pdf', bbox_inches='tight')\n",
    "plt.show()\n"
   ]
  },
  {
   "cell_type": "code",
   "execution_count": null,
   "metadata": {},
   "outputs": [],
   "source": []
  },
  {
   "cell_type": "code",
   "execution_count": null,
   "metadata": {},
   "outputs": [],
   "source": []
  },
  {
   "cell_type": "code",
   "execution_count": null,
   "metadata": {},
   "outputs": [],
   "source": []
  }
 ],
 "metadata": {
  "kernelspec": {
   "display_name": "Python 3.7.5 64-bit",
   "language": "python",
   "name": "python37564bitf92b1a92eaa047aebe1f2ca9ebe04d21"
  },
  "language_info": {
   "codemirror_mode": {
    "name": "ipython",
    "version": 3
   },
   "file_extension": ".py",
   "mimetype": "text/x-python",
   "name": "python",
   "nbconvert_exporter": "python",
   "pygments_lexer": "ipython3",
   "version": "3.7.5"
  }
 },
 "nbformat": 4,
 "nbformat_minor": 2
}
