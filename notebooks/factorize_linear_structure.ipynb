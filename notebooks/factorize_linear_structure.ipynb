{
 "cells": [
  {
   "cell_type": "code",
   "execution_count": 1,
   "metadata": {},
   "outputs": [
    {
     "name": "stdout",
     "output_type": "stream",
     "text": [
      "Populating the interactive namespace from numpy and matplotlib\n"
     ]
    }
   ],
   "source": [
    "%pylab inline\n",
    "import sys\n",
    "\n",
    "import numpy as np\n",
    "import tensorflow as tf\n",
    "import tensorflow_probability as tfp\n",
    "import arviz as az\n",
    "\n",
    "import matplotlib.pyplot as plt\n",
    "from matplotlib import rcParams\n",
    "import matplotlib.font_manager as fm\n",
    "\n",
    "rcParams['font.family'] = 'sans-serif'\n",
    "\n",
    "sys.path.append('../')\n",
    "from mederrata_spmf import PoissonMatrixFactorization\n"
   ]
  },
  {
   "cell_type": "markdown",
   "metadata": {},
   "source": [
    "In this notebook, we look at the $\\mathcal{M}$-open setting, where the generating process is in the span of models.\n",
    "\n",
    "# Generate a random matrices V, W\n",
    "\n",
    "For V, assume that 12 variables share a factor structure and the other 8 are noise"
   ]
  },
  {
   "cell_type": "code",
   "execution_count": 2,
   "metadata": {},
   "outputs": [],
   "source": [
    "N = 50000\n",
    "D_factor = 10\n",
    "D_noise = 10\n",
    "P = 2\n",
    "\n",
    "V = np.abs(np.random.normal(0.5, 0.5, size=(P,D_factor)))\n",
    "Z = np.abs(np.random.normal(0.5, size=(N,P)))\n",
    "\n",
    "ZV = Z.dot(V)\n",
    "\n",
    "X = np.zeros((N, D_factor*2))\n",
    "X[:, ::2] = np.random.poisson(ZV)\n",
    "X[:, 1::2] = np.random.poisson(2.,size=(N,D_factor))"
   ]
  },
  {
   "cell_type": "code",
   "execution_count": 3,
   "metadata": {},
   "outputs": [],
   "source": [
    "# Test taking in from tf.dataset, don't pre-batch\n",
    "data = tf.data.Dataset.from_tensor_slices(\n",
    "    {\n",
    "        'data': X,\n",
    "        'indices': np.arange(N),\n",
    "        'normalization': np.ones(N)\n",
    "    })\n",
    "\n",
    "data = data.batch(1000)"
   ]
  },
  {
   "cell_type": "code",
   "execution_count": 4,
   "metadata": {},
   "outputs": [
    {
     "name": "stdout",
     "output_type": "stream",
     "text": [
      "Feature dim: 20 -> Latent dim 2\n"
     ]
    }
   ],
   "source": [
    "# strategy = tf.distribute.MirroredStrategy()\n",
    "strategy = None\n",
    "factor = PoissonMatrixFactorization(\n",
    "    data, latent_dim=P, strategy=strategy,\n",
    "    #encoder_function=lambda x: x, decoder_function=lambda x: x,\n",
    "    scale_rates=True,\n",
    "    dtype=tf.float64)\n",
    "# Test to make sure sampling works\n"
   ]
  },
  {
   "cell_type": "code",
   "execution_count": 5,
   "metadata": {
    "scrolled": true
   },
   "outputs": [
    {
     "name": "stderr",
     "output_type": "stream",
     "text": [
      "WARNING: Logging before flag parsing goes to stderr.\n",
      "W0520 13:58:25.061058 4559519168 deprecation.py:506] From /usr/local/lib/python3.7/site-packages/tensorflow_core/python/ops/resource_variable_ops.py:1786: calling BaseResourceVariable.__init__ (from tensorflow.python.ops.resource_variable_ops) with constraint is deprecated and will be removed in a future version.\n",
      "Instructions for updating:\n",
      "If using Keras pass *_constraint arguments to layers.\n"
     ]
    },
    {
     "name": "stdout",
     "output_type": "stream",
     "text": [
      "Initial loss: 49.46980419524063\n",
      "Epoch 1: average-batch loss: 32.71920502250535 last batch loss: 30.650924718706126\n",
      "Saved a checkpoint: ./.tf_ckpts/chkpt-1\n",
      "Epoch 2: average-batch loss: 30.330289623855684 last batch loss: 29.91515033740598\n",
      "Saved a checkpoint: ./.tf_ckpts/chkpt-2\n",
      "Epoch 3: average-batch loss: 29.297717098502034 last batch loss: 28.934794600457273\n",
      "Saved a checkpoint: ./.tf_ckpts/chkpt-3\n",
      "Epoch 4: average-batch loss: 28.76281916865853 last batch loss: 28.618106328969503\n",
      "Saved a checkpoint: ./.tf_ckpts/chkpt-4\n",
      "Epoch 5: average-batch loss: 28.469143109937512 last batch loss: 28.396924740166718\n",
      "Saved a checkpoint: ./.tf_ckpts/chkpt-5\n",
      "Epoch 6: average-batch loss: 28.342035861697727 last batch loss: 28.3278169050105\n",
      "Saved a checkpoint: ./.tf_ckpts/chkpt-6\n",
      "Epoch 7: average-batch loss: 28.29272737650959 last batch loss: 28.302444647770397\n",
      "Saved a checkpoint: ./.tf_ckpts/chkpt-7\n",
      "Epoch 8: average-batch loss: 28.26792251340273 last batch loss: 28.276890377684328\n",
      "Saved a checkpoint: ./.tf_ckpts/chkpt-8\n",
      "Epoch 9: average-batch loss: 28.25505027833793 last batch loss: 28.31383977065795\n",
      "Saved a checkpoint: ./.tf_ckpts/chkpt-9\n",
      "Epoch 10: average-batch loss: 28.242951587760416 last batch loss: 28.2598684369885\n",
      "Saved a checkpoint: ./.tf_ckpts/chkpt-10\n",
      "Epoch 11: average-batch loss: 28.23440499384744 last batch loss: 28.252770438623592\n",
      "Saved a checkpoint: ./.tf_ckpts/chkpt-11\n",
      "Epoch 12: average-batch loss: 28.22417031954782 last batch loss: 28.24419118425103\n",
      "Saved a checkpoint: ./.tf_ckpts/chkpt-12\n",
      "Epoch 13: average-batch loss: 28.220894351103777 last batch loss: 28.248345262585456\n",
      "Saved a checkpoint: ./.tf_ckpts/chkpt-13\n",
      "Epoch 14: average-batch loss: 28.21289883770295 last batch loss: 28.227347378691185\n",
      "Saved a checkpoint: ./.tf_ckpts/chkpt-14\n",
      "Epoch 15: average-batch loss: 28.2064340392926 last batch loss: 28.24940602015354\n",
      "Saved a checkpoint: ./.tf_ckpts/chkpt-15\n",
      "Epoch 16: average-batch loss: 28.20611081278435 last batch loss: 28.249661972005473\n",
      "Saved a checkpoint: ./.tf_ckpts/chkpt-16\n",
      "Epoch 17: average-batch loss: 28.199307567281814 last batch loss: 28.233444901743905\n",
      "Saved a checkpoint: ./.tf_ckpts/chkpt-17\n",
      "Epoch 18: average-batch loss: 28.193629827386918 last batch loss: 28.209251516583187\n",
      "Saved a checkpoint: ./.tf_ckpts/chkpt-18\n",
      "Epoch 19: average-batch loss: 28.191432979592914 last batch loss: 28.223998716888726\n",
      "Saved a checkpoint: ./.tf_ckpts/chkpt-19\n",
      "Epoch 20: average-batch loss: 28.187529389807896 last batch loss: 28.212660057938272\n",
      "Saved a checkpoint: ./.tf_ckpts/chkpt-20\n",
      "Epoch 21: average-batch loss: 28.184601869468846 last batch loss: 28.20205267606071\n",
      "Saved a checkpoint: ./.tf_ckpts/chkpt-21\n",
      "Epoch 22: average-batch loss: 28.18280829591597 last batch loss: 28.191047130014475\n",
      "Saved a checkpoint: ./.tf_ckpts/chkpt-22\n",
      "Epoch 23: average-batch loss: 28.18099039325775 last batch loss: 28.191953619904584\n",
      "Saved a checkpoint: ./.tf_ckpts/chkpt-23\n",
      "Epoch 24: average-batch loss: 28.180939916193157 last batch loss: 28.220923796629474\n",
      "Saved a checkpoint: ./.tf_ckpts/chkpt-24\n",
      "Epoch 25: average-batch loss: 28.17321866060326 last batch loss: 28.198720699124316\n",
      "Saved a checkpoint: ./.tf_ckpts/chkpt-25\n",
      "Epoch 26: average-batch loss: 28.17160220340942 last batch loss: 28.208388031794\n",
      "Saved a checkpoint: ./.tf_ckpts/chkpt-26\n",
      "Epoch 27: average-batch loss: 28.172340592922794 last batch loss: 28.188818086660316\n",
      "Epoch 28: average-batch loss: 28.176147094950633 last batch loss: 28.181519459394146\n",
      "We are in a loss plateau learning rate: 0.025 loss: 28.11693186642884\n",
      "Restoring from a checkpoint - loss: 28.11287776157014\n",
      "Epoch 29: average-batch loss: 28.166982784033248 last batch loss: 28.1969980623128\n",
      "Saved a checkpoint: ./.tf_ckpts/chkpt-27\n",
      "Epoch 30: average-batch loss: 28.164667416017956 last batch loss: 28.19767355197032\n",
      "Saved a checkpoint: ./.tf_ckpts/chkpt-28\n",
      "Epoch 31: average-batch loss: 28.16347811390638 last batch loss: 28.174541058954492\n",
      "Saved a checkpoint: ./.tf_ckpts/chkpt-29\n",
      "Epoch 32: average-batch loss: 28.162343847021003 last batch loss: 28.18429361580385\n",
      "Saved a checkpoint: ./.tf_ckpts/chkpt-30\n",
      "Epoch 33: average-batch loss: 28.16452856730077 last batch loss: 28.19078740693487\n",
      "We are in a loss plateau learning rate: 0.00625 loss: 28.095091329541667\n",
      "Restoring from a checkpoint - loss: 28.102720032140045\n",
      "Epoch 34: average-batch loss: 28.161550863431557 last batch loss: 28.18589931710239\n",
      "Saved a checkpoint: ./.tf_ckpts/chkpt-31\n",
      "Epoch 35: average-batch loss: 28.158529716519784 last batch loss: 28.18644087480186\n",
      "Saved a checkpoint: ./.tf_ckpts/chkpt-32\n",
      "Epoch 36: average-batch loss: 28.157504228243752 last batch loss: 28.22596258944217\n",
      "Saved a checkpoint: ./.tf_ckpts/chkpt-33\n",
      "Epoch 37: average-batch loss: 28.15722813634782 last batch loss: 28.17028475610551\n",
      "Saved a checkpoint: ./.tf_ckpts/chkpt-34\n",
      "Epoch 38: average-batch loss: 28.15858990401255 last batch loss: 28.19028798047771\n",
      "We are in a loss plateau learning rate: 0.0015625 loss: 28.09788389672232\n",
      "Restoring from a checkpoint - loss: 28.097543652818036\n",
      "Epoch 39: average-batch loss: 28.153411752653806 last batch loss: 28.190851465735477\n",
      "Saved a checkpoint: ./.tf_ckpts/chkpt-35\n",
      "Epoch 40: average-batch loss: 28.157104578434915 last batch loss: 28.16629497319763\n",
      "Epoch 41: average-batch loss: 28.157957142042104 last batch loss: 28.18683971510591\n",
      "Epoch 42: average-batch loss: 28.153380821859038 last batch loss: 28.173457154338234\n",
      "Saved a checkpoint: ./.tf_ckpts/chkpt-36\n",
      "Epoch 43: average-batch loss: 28.149783656399713 last batch loss: 28.18057107435146\n",
      "Saved a checkpoint: ./.tf_ckpts/chkpt-37\n",
      "Epoch 44: average-batch loss: 28.151964012939278 last batch loss: 28.17398320311933\n",
      "Epoch 45: average-batch loss: 28.157247204706962 last batch loss: 28.192270105261233\n",
      "We are in a loss plateau learning rate: 0.000390625 loss: 28.097404905368723\n",
      "Restoring from a checkpoint - loss: 28.120395493145082\n",
      "Epoch 46: average-batch loss: 28.145176568457764 last batch loss: 28.171965111757498\n",
      "Saved a checkpoint: ./.tf_ckpts/chkpt-38\n",
      "Epoch 47: average-batch loss: 28.151234251886052 last batch loss: 28.174865019473085\n",
      "Epoch 48: average-batch loss: 28.14926153601978 last batch loss: 28.188717970894213\n",
      "Epoch 49: average-batch loss: 28.14856575353541 last batch loss: 28.172312536859007\n",
      "Terminating because we are out of iterations\n"
     ]
    }
   ],
   "source": [
    "losses = factor.calibrate_advi(\n",
    "    num_epochs=50, learning_rate=.1)\n",
    "\n"
   ]
  },
  {
   "cell_type": "code",
   "execution_count": 6,
   "metadata": {},
   "outputs": [
    {
     "name": "stdout",
     "output_type": "stream",
     "text": [
      "{'waic': 205214.45286295697, 'se': 1837.8797392459694, 'lppd': -24310.76774376368, 'pwaic': 78296.4586877148}\n"
     ]
    }
   ],
   "source": [
    "waic = factor.waic()\n",
    "print(waic)"
   ]
  },
  {
   "cell_type": "code",
   "execution_count": 7,
   "metadata": {},
   "outputs": [],
   "source": [
    "intercept_data = az.convert_to_inference_data(\n",
    "    {\n",
    "        r\"$s_dw_d$\": tf.squeeze(\n",
    "            factor.surrogate_distribution.sample(1000)['w']*factor.norm_factor).numpy().T})"
   ]
  },
  {
   "cell_type": "code",
   "execution_count": 8,
   "metadata": {},
   "outputs": [
    {
     "data": {
      "image/png": "[encoded data removed]",
      "text/plain": [
       "<Figure size 1008x576 with 3 Axes>"
      ]
     },
     "metadata": {
      "needs_background": "light"
     },
     "output_type": "display_data"
    }
   ],
   "source": [
    "fig, ax = plt.subplots(1,2, figsize=(14,8))\n",
    "D = factor.feature_dim\n",
    "pcm = ax[0].imshow(factor.encoding_matrix().numpy()[::-1,:], vmin=0, cmap=\"Blues\")\n",
    "ax[0].set_yticks(np.arange(D))\n",
    "ax[0].set_yticklabels(np.arange(D))\n",
    "ax[0].set_ylabel(\"item\")\n",
    "ax[0].set_xlabel(\"factor dimension\")\n",
    "ax[0].set_xticks(np.arange(P))\n",
    "ax[0].set_xticklabels(np.arange(P))\n",
    "\n",
    "fig.colorbar(pcm, ax=ax[0], orientation = \"vertical\")\n",
    "az.plot_forest(intercept_data, ax=ax[1])\n",
    "ax[1].set_xlabel(\"background rate\")\n",
    "ax[1].set_ylim((-0.014,.466))\n",
    "ax[1].set_title(\"65% and 95% CI\")\n",
    "ax[1].axvline(2.0, linestyle='dashed', color=\"black\")\n",
    "plt.savefig('mix_factorization_sepmf.pdf', bbox_inches='tight')\n",
    "plt.show()\n"
   ]
  },
  {
   "cell_type": "code",
   "execution_count": null,
   "metadata": {},
   "outputs": [],
   "source": []
  },
  {
   "cell_type": "code",
   "execution_count": null,
   "metadata": {},
   "outputs": [],
   "source": []
  },
  {
   "cell_type": "code",
   "execution_count": null,
   "metadata": {},
   "outputs": [],
   "source": []
  },
  {
   "cell_type": "code",
   "execution_count": null,
   "metadata": {},
   "outputs": [],
   "source": []
  }
 ],
 "metadata": {
  "kernelspec": {
   "display_name": "Python 3.7.5 64-bit",
   "language": "python",
   "name": "python37564bitf92b1a92eaa047aebe1f2ca9ebe04d21"
  },
  "language_info": {
   "codemirror_mode": {
    "name": "ipython",
    "version": 3
   },
   "file_extension": ".py",
   "mimetype": "text/x-python",
   "name": "python",
   "nbconvert_exporter": "python",
   "pygments_lexer": "ipython3",
   "version": "3.7.5"
  }
 },
 "nbformat": 4,
 "nbformat_minor": 2
}
