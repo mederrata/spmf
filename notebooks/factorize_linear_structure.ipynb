{
 "cells": [
  {
   "cell_type": "code",
   "execution_count": 1,
   "metadata": {},
   "outputs": [
    {
     "name": "stdout",
     "output_type": "stream",
     "text": [
      "Populating the interactive namespace from numpy and matplotlib\n"
     ]
    }
   ],
   "source": [
    "%pylab inline\n",
    "import sys\n",
    "\n",
    "import numpy as np\n",
    "import tensorflow as tf\n",
    "import tensorflow_probability as tfp\n",
    "import arviz as az\n",
    "\n",
    "import matplotlib.pyplot as plt\n",
    "from matplotlib import rcParams\n",
    "import matplotlib.font_manager as fm\n",
    "\n",
    "rcParams['font.family'] = 'sans-serif'\n",
    "\n",
    "sys.path.append('../')\n",
    "from mederrata_spmf import PoissonMatrixFactorization\n"
   ]
  },
  {
   "cell_type": "markdown",
   "metadata": {},
   "source": [
    "In this notebook, we look at the $\\mathcal{M}$-open setting, where the generating process is in the span of models.\n",
    "\n",
    "# Generate a random matrices V, W\n",
    "\n",
    "For V, assume that 10 variables share a factor structure and the other 20 are noise"
   ]
  },
  {
   "cell_type": "code",
   "execution_count": 2,
   "metadata": {},
   "outputs": [],
   "source": [
    "N = 50000\n",
    "D_factor = 10\n",
    "D_noise = 20\n",
    "D = D_factor + D_noise\n",
    "P = 3\n",
    "\n",
    "V = np.abs(np.random.normal(1.5, 0.5, size=(P,D_factor)))\n",
    "Z = np.abs(np.random.normal(0, 1, size=(N,P)))\n",
    "\n",
    "ZV = Z.dot(V)\n",
    "\n",
    "X = np.zeros((N, D_factor+D_noise))\n",
    "X = np.random.poisson(1.,size=(N,D_noise+D_factor))\n",
    "X[:, ::3] = np.random.poisson(ZV)"
   ]
  },
  {
   "cell_type": "code",
   "execution_count": 3,
   "metadata": {},
   "outputs": [],
   "source": [
    "# Test taking in from tf.dataset, don't pre-batch\n",
    "data = tf.data.Dataset.from_tensor_slices(\n",
    "    {\n",
    "        'data': X,\n",
    "        'indices': np.arange(N),\n",
    "        'normalization': np.ones(N)\n",
    "    })\n",
    "\n",
    "data = data.batch(1000)"
   ]
  },
  {
   "cell_type": "code",
   "execution_count": 4,
   "metadata": {},
   "outputs": [
    {
     "name": "stdout",
     "output_type": "stream",
     "text": [
      "Feature dim: 30 -> Latent dim 3\n"
     ]
    }
   ],
   "source": [
    "# strategy = tf.distribute.MirroredStrategy()\n",
    "strategy = None\n",
    "factor = PoissonMatrixFactorization(\n",
    "    data, latent_dim=P, strategy=strategy,\n",
    "    scale_rates=True, with_s=True,\n",
    "    u_tau_scale=1.0/np.sqrt(D*N),\n",
    "    dtype=tf.float64)\n",
    "# Test to make sure sampling works\n"
   ]
  },
  {
   "cell_type": "code",
   "execution_count": 5,
   "metadata": {
    "scrolled": true
   },
   "outputs": [
    {
     "name": "stderr",
     "output_type": "stream",
     "text": [
      "WARNING: Logging before flag parsing goes to stderr.\n",
      "W0604 09:33:58.254903 4603870656 deprecation.py:506] From /usr/local/lib/python3.7/site-packages/tensorflow/python/ops/resource_variable_ops.py:1817: calling BaseResourceVariable.__init__ (from tensorflow.python.ops.resource_variable_ops) with constraint is deprecated and will be removed in a future version.\n",
      "Instructions for updating:\n",
      "If using Keras pass *_constraint arguments to layers.\n"
     ]
    },
    {
     "name": "stdout",
     "output_type": "stream",
     "text": [
      "Initial loss: 57.73558764066866\n",
      "Epoch 1: average-batch loss: 53.81824359627665 last batch loss: 53.28997756997598\n",
      "Saved a checkpoint: ./.tf_ckpts/chkpt-1\n",
      "Epoch 2: average-batch loss: 52.54408918387699 last batch loss: 52.234162657365125\n",
      "Saved a checkpoint: ./.tf_ckpts/chkpt-2\n",
      "Epoch 3: average-batch loss: 51.61245086404765 last batch loss: 51.375159926501574\n",
      "Saved a checkpoint: ./.tf_ckpts/chkpt-3\n",
      "Epoch 4: average-batch loss: 50.87532751947661 last batch loss: 50.73142827765426\n",
      "Saved a checkpoint: ./.tf_ckpts/chkpt-4\n",
      "Epoch 5: average-batch loss: 50.5296842536969 last batch loss: 50.535977429079466\n",
      "Saved a checkpoint: ./.tf_ckpts/chkpt-5\n",
      "Epoch 6: average-batch loss: 49.96354488647245 last batch loss: 49.470640554144744\n",
      "Saved a checkpoint: ./.tf_ckpts/chkpt-6\n",
      "Epoch 7: average-batch loss: 48.451906260999785 last batch loss: 47.945292393791874\n",
      "Saved a checkpoint: ./.tf_ckpts/chkpt-7\n",
      "Epoch 8: average-batch loss: 47.42285915811596 last batch loss: 47.34844602833972\n",
      "Saved a checkpoint: ./.tf_ckpts/chkpt-8\n",
      "Epoch 9: average-batch loss: 46.952554825074934 last batch loss: 47.11391520079796\n",
      "Saved a checkpoint: ./.tf_ckpts/chkpt-9\n",
      "Epoch 10: average-batch loss: 46.80342402077337 last batch loss: 46.98688972380689\n",
      "Saved a checkpoint: ./.tf_ckpts/chkpt-10\n",
      "Epoch 11: average-batch loss: 46.709596527289385 last batch loss: 46.87431536270738\n",
      "Saved a checkpoint: ./.tf_ckpts/chkpt-11\n",
      "Epoch 12: average-batch loss: 46.66009333692012 last batch loss: 46.88237063890748\n",
      "Saved a checkpoint: ./.tf_ckpts/chkpt-12\n",
      "Epoch 13: average-batch loss: 46.58184670847514 last batch loss: 46.75641971805277\n",
      "Saved a checkpoint: ./.tf_ckpts/chkpt-13\n",
      "Epoch 14: average-batch loss: 46.530020428188784 last batch loss: 46.76743910509923\n",
      "Saved a checkpoint: ./.tf_ckpts/chkpt-14\n",
      "Epoch 15: average-batch loss: 46.50741015325493 last batch loss: 46.714371665602144\n",
      "Saved a checkpoint: ./.tf_ckpts/chkpt-15\n",
      "Epoch 16: average-batch loss: 46.50796657569237 last batch loss: 46.6955907465717\n",
      "Epoch 17: average-batch loss: 46.48887980798167 last batch loss: 46.68840078630551\n",
      "Saved a checkpoint: ./.tf_ckpts/chkpt-16\n",
      "Epoch 18: average-batch loss: 46.474518041307185 last batch loss: 46.690005454466494\n",
      "Saved a checkpoint: ./.tf_ckpts/chkpt-17\n",
      "Epoch 19: average-batch loss: 46.46499327100861 last batch loss: 46.682551349827456\n",
      "Saved a checkpoint: ./.tf_ckpts/chkpt-18\n",
      "Epoch 20: average-batch loss: 46.47789871938253 last batch loss: 46.69540518401768\n",
      "We are in a loss plateau learning rate: 0.09000000000000001 loss: 46.42119002532144\n",
      "Restoring from a checkpoint - loss: 46.446721520798874\n",
      "Epoch 21: average-batch loss: 46.46184644869657 last batch loss: 46.71283488889018\n",
      "Saved a checkpoint: ./.tf_ckpts/chkpt-19\n",
      "Epoch 22: average-batch loss: 46.45729061995417 last batch loss: 46.68813481533183\n",
      "Saved a checkpoint: ./.tf_ckpts/chkpt-20\n",
      "Epoch 23: average-batch loss: 46.42989866194411 last batch loss: 46.63505319049486\n",
      "Saved a checkpoint: ./.tf_ckpts/chkpt-21\n",
      "Epoch 24: average-batch loss: 46.4172982104115 last batch loss: 46.63774945873936\n",
      "Saved a checkpoint: ./.tf_ckpts/chkpt-22\n",
      "Epoch 25: average-batch loss: 46.41526197417437 last batch loss: 46.618063026577694\n",
      "Saved a checkpoint: ./.tf_ckpts/chkpt-23\n",
      "Epoch 26: average-batch loss: 46.40557230668744 last batch loss: 46.57575642067358\n",
      "Saved a checkpoint: ./.tf_ckpts/chkpt-24\n",
      "Epoch 27: average-batch loss: 46.383667850124766 last batch loss: 46.58994226043483\n",
      "Saved a checkpoint: ./.tf_ckpts/chkpt-25\n",
      "Epoch 28: average-batch loss: 46.39449462397738 last batch loss: 46.53924854144574\n",
      "Epoch 29: average-batch loss: 46.38151071233395 last batch loss: 46.56809951706663\n",
      "Saved a checkpoint: ./.tf_ckpts/chkpt-26\n",
      "Epoch 30: average-batch loss: 46.373418342555354 last batch loss: 46.57259028271629\n",
      "Saved a checkpoint: ./.tf_ckpts/chkpt-27\n",
      "Epoch 31: average-batch loss: 46.374676141429724 last batch loss: 46.57040118493705\n",
      "Epoch 32: average-batch loss: 46.373126609239826 last batch loss: 46.5714581248337\n",
      "Saved a checkpoint: ./.tf_ckpts/chkpt-28\n",
      "Epoch 33: average-batch loss: 46.364137662174336 last batch loss: 46.56937228702783\n",
      "Saved a checkpoint: ./.tf_ckpts/chkpt-29\n",
      "Epoch 34: average-batch loss: 46.355695321265 last batch loss: 46.536182777630934\n",
      "Saved a checkpoint: ./.tf_ckpts/chkpt-30\n",
      "Epoch 35: average-batch loss: 46.36492446751175 last batch loss: 46.554104284092546\n",
      "We are in a loss plateau learning rate: 0.08100000000000002 loss: 46.34278225704986\n",
      "Restoring from a checkpoint - loss: 46.34230597305995\n",
      "Epoch 36: average-batch loss: 46.368881569432645 last batch loss: 46.58770402169743\n",
      "Epoch 37: average-batch loss: 46.374030093296206 last batch loss: 46.55864535228316\n",
      "Epoch 38: average-batch loss: 46.36783936008797 last batch loss: 46.5576102708914\n",
      "Epoch 39: average-batch loss: 46.3649676252988 last batch loss: 46.61676650631947\n",
      "Epoch 40: average-batch loss: 46.359881884056456 last batch loss: 46.5502061697076\n",
      "Epoch 41: average-batch loss: 46.36316938122419 last batch loss: 46.56065256413553\n",
      "Epoch 42: average-batch loss: 46.37142769195453 last batch loss: 46.57761083411823\n",
      "We are in a loss plateau learning rate: 0.0729 loss: 46.309156982993244\n",
      "Restoring from a checkpoint - loss: 46.28287929940957\n",
      "Epoch 43: average-batch loss: 46.357538516709134 last batch loss: 46.58457341891341\n",
      "Epoch 44: average-batch loss: 46.37470176778317 last batch loss: 46.55932873680669\n",
      "Epoch 45: average-batch loss: 46.361155466324114 last batch loss: 46.58313113979794\n",
      "Epoch 46: average-batch loss: 46.36715562816179 last batch loss: 46.544047311967645\n",
      "Epoch 47: average-batch loss: 46.36157811640104 last batch loss: 46.585716880015696\n",
      "Epoch 48: average-batch loss: 46.35693152405495 last batch loss: 46.560680472926535\n",
      "Epoch 49: average-batch loss: 46.364318296776254 last batch loss: 46.54583198883562\n",
      "We are in a loss plateau learning rate: 0.06561 loss: 46.29819897363994\n",
      "Restoring from a checkpoint - loss: 46.30227541719587\n",
      "Epoch 50: average-batch loss: 46.35745809823206 last batch loss: 46.58622179790698\n",
      "Epoch 51: average-batch loss: 46.36242918220955 last batch loss: 46.55495742700041\n",
      "Epoch 52: average-batch loss: 46.35910422863682 last batch loss: 46.561546845598755\n",
      "Epoch 53: average-batch loss: 46.360228287259105 last batch loss: 46.556251360450176\n",
      "Epoch 54: average-batch loss: 46.35657963928946 last batch loss: 46.59946489799094\n",
      "Epoch 55: average-batch loss: 46.35877139417132 last batch loss: 46.563893543855\n",
      "Epoch 56: average-batch loss: 46.359221938612464 last batch loss: 46.54957440084355\n",
      "We are in a loss plateau learning rate: 0.05904900000000001 loss: 46.33305957603908\n",
      "Restoring from a checkpoint - loss: 46.32457132046654\n",
      "Epoch 57: average-batch loss: 46.365802894621666 last batch loss: 46.56440117478297\n",
      "Epoch 58: average-batch loss: 46.361696827750336 last batch loss: 46.5320672506084\n",
      "Epoch 59: average-batch loss: 46.36107817796011 last batch loss: 46.57098432598515\n",
      "Epoch 60: average-batch loss: 46.35487625271678 last batch loss: 46.57639448685646\n",
      "Saved a checkpoint: ./.tf_ckpts/chkpt-31\n",
      "Epoch 61: average-batch loss: 46.37251360868237 last batch loss: 46.52031658263555\n",
      "We are in a loss plateau learning rate: 0.05314410000000001 loss: 46.33252725894746\n",
      "Restoring from a checkpoint - loss: 46.330293050347805\n",
      "Epoch 62: average-batch loss: 46.36609019245645 last batch loss: 46.54304661278696\n",
      "Epoch 63: average-batch loss: 46.36172016325436 last batch loss: 46.54762751485243\n",
      "Epoch 64: average-batch loss: 46.35512260330607 last batch loss: 46.576662767626836\n",
      "Epoch 65: average-batch loss: 46.35893427938779 last batch loss: 46.57072097302631\n",
      "Epoch 66: average-batch loss: 46.3555996121102 last batch loss: 46.55531192321316\n",
      "Epoch 67: average-batch loss: 46.36355398365048 last batch loss: 46.542749344762\n",
      "We are in a loss plateau learning rate: 0.04782969000000001 loss: 46.27838949314937\n",
      "Restoring from a checkpoint - loss: 46.305089716247764\n",
      "Epoch 68: average-batch loss: 46.35912700604551 last batch loss: 46.59019214542847\n",
      "Epoch 69: average-batch loss: 46.369338481661686 last batch loss: 46.58126048516851\n",
      "Epoch 70: average-batch loss: 46.35472956784092 last batch loss: 46.54347111140003\n",
      "Saved a checkpoint: ./.tf_ckpts/chkpt-32\n",
      "Epoch 71: average-batch loss: 46.35848876531618 last batch loss: 46.56018736226187\n",
      "Epoch 72: average-batch loss: 46.35828387809279 last batch loss: 46.562568388985994\n"
     ]
    },
    {
     "name": "stdout",
     "output_type": "stream",
     "text": [
      "Epoch 73: average-batch loss: 46.35957028904929 last batch loss: 46.57135956156215\n",
      "We are in a loss plateau learning rate: 0.04304672100000001 loss: 46.29552758939385\n",
      "Restoring from a checkpoint - loss: 46.30770135990951\n",
      "Epoch 74: average-batch loss: 46.363583827227956 last batch loss: 46.55401349165243\n",
      "Epoch 75: average-batch loss: 46.36327364664955 last batch loss: 46.57342172808507\n",
      "Epoch 76: average-batch loss: 46.36097597882199 last batch loss: 46.52794274384473\n",
      "Epoch 77: average-batch loss: 46.356116073898264 last batch loss: 46.530637871733504\n",
      "Epoch 78: average-batch loss: 46.35423078017348 last batch loss: 46.52488436408797\n",
      "Saved a checkpoint: ./.tf_ckpts/chkpt-33\n",
      "Epoch 79: average-batch loss: 46.35563160668855 last batch loss: 46.55226966656095\n",
      "Epoch 80: average-batch loss: 46.36274343948366 last batch loss: 46.55957242453919\n",
      "We are in a loss plateau learning rate: 0.03874204890000001 loss: 46.29376164241894\n",
      "Restoring from a checkpoint - loss: 46.34193325797089\n",
      "Epoch 81: average-batch loss: 46.36286786436226 last batch loss: 46.556180809340994\n",
      "Epoch 82: average-batch loss: 46.35429533974434 last batch loss: 46.53890892537858\n",
      "Epoch 83: average-batch loss: 46.35490110622208 last batch loss: 46.559412853604336\n",
      "Epoch 84: average-batch loss: 46.35614388721829 last batch loss: 46.58358133301994\n",
      "Epoch 85: average-batch loss: 46.35668050966695 last batch loss: 46.55489311189899\n",
      "We are in a loss plateau learning rate: 0.03486784401000001 loss: 46.27912490753445\n",
      "Restoring from a checkpoint - loss: 46.28949656862449\n",
      "Epoch 86: average-batch loss: 46.353866679963794 last batch loss: 46.56256587067662\n",
      "Saved a checkpoint: ./.tf_ckpts/chkpt-34\n",
      "Epoch 87: average-batch loss: 46.360593093272826 last batch loss: 46.57671078722592\n",
      "Epoch 88: average-batch loss: 46.354485762105085 last batch loss: 46.553365312330804\n",
      "Epoch 89: average-batch loss: 46.36694825136851 last batch loss: 46.58114883584568\n",
      "Epoch 90: average-batch loss: 46.36133867461211 last batch loss: 46.55720697377474\n",
      "Epoch 91: average-batch loss: 46.35041470344076 last batch loss: 46.540235053795996\n",
      "Saved a checkpoint: ./.tf_ckpts/chkpt-35\n",
      "Epoch 92: average-batch loss: 46.355838083397266 last batch loss: 46.55713951940903\n",
      "Epoch 93: average-batch loss: 46.35495475279177 last batch loss: 46.5581280867715\n",
      "Epoch 94: average-batch loss: 46.35100513134285 last batch loss: 46.55020569041402\n",
      "Epoch 95: average-batch loss: 46.36635648664519 last batch loss: 46.57005907146093\n",
      "We are in a loss plateau learning rate: 0.031381059609000006 loss: 46.28574925373495\n",
      "Restoring from a checkpoint - loss: 46.307469071554294\n",
      "Epoch 96: average-batch loss: 46.36002937316065 last batch loss: 46.564287300901924\n",
      "Epoch 97: average-batch loss: 46.35979585960201 last batch loss: 46.55725297325355\n",
      "Epoch 98: average-batch loss: 46.354111861737245 last batch loss: 46.55290756686825\n",
      "Epoch 99: average-batch loss: 46.36335743535083 last batch loss: 46.551028316796014\n",
      "Epoch 100: average-batch loss: 46.35511757047049 last batch loss: 46.560560274031275\n",
      "Epoch 101: average-batch loss: 46.35677734197734 last batch loss: 46.56626985942229\n",
      "Epoch 102: average-batch loss: 46.36795536715347 last batch loss: 46.557053305150575\n",
      "We are in a loss plateau learning rate: 0.028242953648100012 loss: 46.310032764345664\n",
      "Restoring from a checkpoint - loss: 46.31327605336549\n",
      "Epoch 103: average-batch loss: 46.36467793860996 last batch loss: 46.554304591727536\n",
      "Epoch 104: average-batch loss: 46.356228618042444 last batch loss: 46.5472390755175\n",
      "Epoch 105: average-batch loss: 46.35235462759396 last batch loss: 46.601345953736306\n",
      "Epoch 106: average-batch loss: 46.36602426731381 last batch loss: 46.612423862894566\n",
      "Epoch 107: average-batch loss: 46.369915625286964 last batch loss: 46.562256140368746\n",
      "We are in a loss plateau learning rate: 0.02541865828329001 loss: 46.32959120196318\n",
      "Restoring from a checkpoint - loss: 46.33426587386437\n",
      "Epoch 108: average-batch loss: 46.36083506003498 last batch loss: 46.55502156946486\n",
      "Epoch 109: average-batch loss: 46.353831149405714 last batch loss: 46.56044538774893\n",
      "Epoch 110: average-batch loss: 46.36185739094036 last batch loss: 46.56418265917322\n",
      "Epoch 111: average-batch loss: 46.358535544996094 last batch loss: 46.572255875009986\n",
      "Epoch 112: average-batch loss: 46.3575065206735 last batch loss: 46.54400354775432\n",
      "Epoch 113: average-batch loss: 46.36186745723674 last batch loss: 46.555722039461735\n",
      "We are in a loss plateau learning rate: 0.02287679245496101 loss: 46.30593919405487\n",
      "Restoring from a checkpoint - loss: 46.32632882854389\n",
      "Epoch 114: average-batch loss: 46.35863566522849 last batch loss: 46.5667583350418\n",
      "Epoch 115: average-batch loss: 46.36152133683071 last batch loss: 46.54771146236418\n",
      "Epoch 116: average-batch loss: 46.35748364078002 last batch loss: 46.536891370993324\n",
      "Epoch 117: average-batch loss: 46.3541402573022 last batch loss: 46.571669500892824\n",
      "Epoch 118: average-batch loss: 46.35300794760031 last batch loss: 46.549540018346775\n",
      "Epoch 119: average-batch loss: 46.359733023126445 last batch loss: 46.547122324392944\n",
      "We are in a loss plateau learning rate: 0.02058911320946491 loss: 46.36213108862037\n",
      "Restoring from a checkpoint - loss: 46.32145059855958\n",
      "Epoch 120: average-batch loss: 46.35883373482876 last batch loss: 46.56296767750074\n",
      "Epoch 121: average-batch loss: 46.3558256270464 last batch loss: 46.57390803014408\n",
      "Epoch 122: average-batch loss: 46.359297537685926 last batch loss: 46.53783864559549\n",
      "Epoch 123: average-batch loss: 46.36042892342464 last batch loss: 46.581615145587115\n",
      "Epoch 124: average-batch loss: 46.347010296908266 last batch loss: 46.53551743114373\n",
      "Saved a checkpoint: ./.tf_ckpts/chkpt-36\n",
      "Epoch 125: average-batch loss: 46.361181397168345 last batch loss: 46.578599897431076\n",
      "We are in a loss plateau learning rate: 0.018530201888518418 loss: 46.308140138380836\n",
      "Restoring from a checkpoint - loss: 46.353697405180945\n",
      "Epoch 126: average-batch loss: 46.35658214914336 last batch loss: 46.57067073990056\n",
      "Epoch 127: average-batch loss: 46.35714007191119 last batch loss: 46.533599941515874\n",
      "Epoch 128: average-batch loss: 46.36009663364562 last batch loss: 46.540398593607556\n",
      "Epoch 129: average-batch loss: 46.36047936048164 last batch loss: 46.55873076237715\n",
      "Epoch 130: average-batch loss: 46.351991603143375 last batch loss: 46.544937390095875\n",
      "Epoch 131: average-batch loss: 46.35551422394145 last batch loss: 46.56310397725371\n",
      "Epoch 132: average-batch loss: 46.35637810439179 last batch loss: 46.56120867912378\n",
      "We are in a loss plateau learning rate: 0.016677181699666577 loss: 46.294456374239665\n",
      "Restoring from a checkpoint - loss: 46.28521603899906\n",
      "Epoch 133: average-batch loss: 46.3586299723531 last batch loss: 46.538145747742774\n",
      "Epoch 134: average-batch loss: 46.35715820687535 last batch loss: 46.56351167861808\n",
      "Epoch 135: average-batch loss: 46.360105053921814 last batch loss: 46.568783127277044\n",
      "Epoch 136: average-batch loss: 46.35719700517247 last batch loss: 46.54880544400071\n",
      "Epoch 137: average-batch loss: 46.35694509295891 last batch loss: 46.55865286069323\n",
      "Epoch 138: average-batch loss: 46.3625933918948 last batch loss: 46.56041288887085\n",
      "We are in a loss plateau learning rate: 0.015009463529699918 loss: 46.297451221581646\n",
      "Restoring from a checkpoint - loss: 46.30286781618335\n",
      "Epoch 139: average-batch loss: 46.35548090894842 last batch loss: 46.54493095993353\n",
      "Epoch 140: average-batch loss: 46.36856861902247 last batch loss: 46.54901866616242\n",
      "Epoch 141: average-batch loss: 46.37144999605017 last batch loss: 46.562815666159324\n",
      "Epoch 142: average-batch loss: 46.35846467206552 last batch loss: 46.54860817324646\n",
      "Epoch 143: average-batch loss: 46.360540233843686 last batch loss: 46.529614469633216\n",
      "Epoch 144: average-batch loss: 46.35765525269033 last batch loss: 46.58861292022625\n",
      "Epoch 145: average-batch loss: 46.355683743923876 last batch loss: 46.51865613375061\n",
      "Epoch 146: average-batch loss: 46.356170458212276 last batch loss: 46.55988853047828\n",
      "Epoch 147: average-batch loss: 46.3528524169269 last batch loss: 46.58361687076775\n",
      "Epoch 148: average-batch loss: 46.35707492793134 last batch loss: 46.53043671029762\n",
      "We are in a loss plateau learning rate: 0.013508517176729929 loss: 46.30246722420956\n",
      "Restoring from a checkpoint - loss: 46.27847886862949\n"
     ]
    },
    {
     "name": "stdout",
     "output_type": "stream",
     "text": [
      "Epoch 149: average-batch loss: 46.355756272956256 last batch loss: 46.57846598421325\n",
      "Epoch 150: average-batch loss: 46.357214382486674 last batch loss: 46.57068014825694\n",
      "Epoch 151: average-batch loss: 46.36336414239959 last batch loss: 46.556026874713694\n",
      "Epoch 152: average-batch loss: 46.35639327791725 last batch loss: 46.55625516796462\n",
      "Epoch 153: average-batch loss: 46.3553579778713 last batch loss: 46.56843361567017\n",
      "Epoch 154: average-batch loss: 46.35499439801592 last batch loss: 46.5505188481933\n",
      "Epoch 155: average-batch loss: 46.354196730172006 last batch loss: 46.555816952724946\n",
      "Epoch 156: average-batch loss: 46.35653790544252 last batch loss: 46.54530538537332\n",
      "We are in a loss plateau learning rate: 0.012157665459056936 loss: 46.32134604543714\n",
      "Restoring from a checkpoint - loss: 46.28239797653753\n",
      "Epoch 157: average-batch loss: 46.35085781466837 last batch loss: 46.517452906950716\n",
      "Epoch 158: average-batch loss: 46.3565256000545 last batch loss: 46.558903658722656\n",
      "Epoch 159: average-batch loss: 46.35588665626942 last batch loss: 46.59848835142141\n",
      "Epoch 160: average-batch loss: 46.35770800647516 last batch loss: 46.527889044774206\n",
      "Epoch 161: average-batch loss: 46.35842048836013 last batch loss: 46.573747790404894\n",
      "We are in a loss plateau learning rate: 0.010941898913151242 loss: 46.31019577774518\n",
      "Restoring from a checkpoint - loss: 46.31782742203931\n",
      "Epoch 162: average-batch loss: 46.35468934558354 last batch loss: 46.58000744603226\n",
      "Epoch 163: average-batch loss: 46.35725446364816 last batch loss: 46.5802805606163\n",
      "Epoch 164: average-batch loss: 46.366135510792944 last batch loss: 46.53731205388948\n",
      "Epoch 165: average-batch loss: 46.3579941423872 last batch loss: 46.5721114511222\n",
      "Epoch 166: average-batch loss: 46.35889553258585 last batch loss: 46.518117184304785\n",
      "Epoch 167: average-batch loss: 46.36448085372912 last batch loss: 46.55326619723078\n",
      "We are in a loss plateau learning rate: 0.00984770902183612 loss: 46.33129912813919\n",
      "Restoring from a checkpoint - loss: 46.36776669539293\n",
      "Epoch 168: average-batch loss: 46.35899772589556 last batch loss: 46.53706958204428\n",
      "Epoch 169: average-batch loss: 46.35800208479854 last batch loss: 46.536317334506165\n",
      "Epoch 170: average-batch loss: 46.37317881705213 last batch loss: 46.55977729246633\n",
      "Epoch 171: average-batch loss: 46.36169258802039 last batch loss: 46.54586290347798\n",
      "Epoch 172: average-batch loss: 46.35825446679419 last batch loss: 46.53089049326083\n",
      "Epoch 173: average-batch loss: 46.355701883868754 last batch loss: 46.550184663923055\n",
      "Epoch 174: average-batch loss: 46.353284999616726 last batch loss: 46.54975208687974\n",
      "Epoch 175: average-batch loss: 46.35258808155685 last batch loss: 46.538673014992\n",
      "Epoch 176: average-batch loss: 46.355272912441926 last batch loss: 46.5382761407176\n",
      "We are in a loss plateau learning rate: 0.008862938119652507 loss: 46.31489152823376\n",
      "Restoring from a checkpoint - loss: 46.300451165091054\n",
      "Epoch 177: average-batch loss: 46.35798169420962 last batch loss: 46.57599799264717\n",
      "Epoch 178: average-batch loss: 46.34797684484869 last batch loss: 46.522441923824296\n",
      "Epoch 179: average-batch loss: 46.35161847721761 last batch loss: 46.54525548057146\n",
      "Epoch 180: average-batch loss: 46.35623033351011 last batch loss: 46.561927629447005\n",
      "Epoch 181: average-batch loss: 46.35031130153464 last batch loss: 46.53671903471266\n",
      "Epoch 182: average-batch loss: 46.35865460727682 last batch loss: 46.54997747443057\n",
      "We are in a loss plateau learning rate: 0.007976644307687256 loss: 46.29303764075112\n",
      "Restoring from a checkpoint - loss: 46.290255687460935\n",
      "Epoch 183: average-batch loss: 46.367393088890395 last batch loss: 46.55953869690348\n",
      "Epoch 184: average-batch loss: 46.35978232118796 last batch loss: 46.556358819287226\n",
      "Epoch 185: average-batch loss: 46.367412482736626 last batch loss: 46.5514144224664\n",
      "Epoch 186: average-batch loss: 46.35663457902504 last batch loss: 46.55330964408119\n",
      "Epoch 187: average-batch loss: 46.36293154697675 last batch loss: 46.58506171279424\n",
      "Epoch 188: average-batch loss: 46.35221275847358 last batch loss: 46.549275223825475\n",
      "Epoch 189: average-batch loss: 46.354965594615685 last batch loss: 46.5557340970224\n",
      "Epoch 190: average-batch loss: 46.357958453861876 last batch loss: 46.54944018995593\n",
      "We are in a loss plateau learning rate: 0.00717897987691853 loss: 46.29498200873527\n",
      "Restoring from a checkpoint - loss: 46.29377405805447\n",
      "Epoch 191: average-batch loss: 46.35477949947901 last batch loss: 46.57567868464883\n",
      "Epoch 192: average-batch loss: 46.35799555487781 last batch loss: 46.603685716738696\n",
      "Epoch 193: average-batch loss: 46.365440108942494 last batch loss: 46.54219659250337\n",
      "Epoch 194: average-batch loss: 46.352889325437694 last batch loss: 46.583383974771515\n",
      "Epoch 195: average-batch loss: 46.3552850307654 last batch loss: 46.57680582090988\n",
      "Epoch 196: average-batch loss: 46.35390519017547 last batch loss: 46.5336370262995\n",
      "Epoch 197: average-batch loss: 46.35497789106985 last batch loss: 46.55345988070421\n",
      "Epoch 198: average-batch loss: 46.35937972842635 last batch loss: 46.67762576478976\n",
      "We have reset 25 times so quitting\n"
     ]
    }
   ],
   "source": [
    "losses = factor.calibrate_advi(\n",
    "    num_epochs=200, learning_rate=.1)\n",
    "\n",
    "\n"
   ]
  },
  {
   "cell_type": "code",
   "execution_count": 6,
   "metadata": {},
   "outputs": [
    {
     "name": "stdout",
     "output_type": "stream",
     "text": [
      "{'waic': 434829.5862352768, 'se': 2675.7859682701414, 'lppd': -39666.8036746372, 'pwaic': 177747.9894430012}\n"
     ]
    }
   ],
   "source": [
    "waic = factor.waic()\n",
    "print(waic)"
   ]
  },
  {
   "cell_type": "code",
   "execution_count": 7,
   "metadata": {},
   "outputs": [],
   "source": [
    "\n",
    "surrogate_samples = factor.surrogate_distribution.sample(1000)\n",
    "if 's' in surrogate_samples.keys():\n",
    "    weights = surrogate_samples['s']/tf.reduce_sum(surrogate_samples['s'],-2,keepdims=True)\n",
    "    intercept_data = az.convert_to_inference_data(\n",
    "        {\n",
    "            r\"$w_d$\": \n",
    "                (tf.squeeze(surrogate_samples['w'])*weights[:,-1,:]*factor.column_norm_factor).numpy().T})\n",
    "else:\n",
    "    intercept_data = az.convert_to_inference_data(\n",
    "    {\n",
    "        r\"$w_d$\": \n",
    "            (tf.squeeze(surrogate_samples['w'])*factor.column_norm_factor).numpy().T})"
   ]
  },
  {
   "cell_type": "code",
   "execution_count": 8,
   "metadata": {},
   "outputs": [
    {
     "data": {
      "image/png": "[encoded data removed]",
      "text/plain": [
       "<Figure size 1008x576 with 3 Axes>"
      ]
     },
     "metadata": {
      "needs_background": "light"
     },
     "output_type": "display_data"
    }
   ],
   "source": [
    "fig, ax = plt.subplots(1,2, figsize=(14,8))\n",
    "D = factor.feature_dim\n",
    "pcm = ax[0].imshow(factor.encoding_matrix().numpy()[::-1,:], vmin=0, cmap=\"Blues\")\n",
    "ax[0].set_yticks(np.arange(D))\n",
    "ax[0].set_yticklabels(np.arange(D))\n",
    "ax[0].set_ylabel(\"item\")\n",
    "ax[0].set_xlabel(\"factor dimension\")\n",
    "ax[0].set_xticks(np.arange(P))\n",
    "ax[0].set_xticklabels(np.arange(P))\n",
    "\n",
    "fig.colorbar(pcm, ax=ax[0], orientation = \"vertical\")\n",
    "az.plot_forest(intercept_data, ax=ax[1])\n",
    "ax[1].set_xlabel(\"background rate\")\n",
    "ax[1].set_ylim((-0.014,.466))\n",
    "ax[1].set_title(\"65% and 95% CI\")\n",
    "ax[1].axvline(1.0, linestyle='dashed', color=\"black\")\n",
    "#plt.savefig('mix_factorization_sepmf.pdf', bbox_inches='tight')\n",
    "plt.show()\n"
   ]
  },
  {
   "cell_type": "code",
   "execution_count": 9,
   "metadata": {},
   "outputs": [
    {
     "data": {
      "text/plain": [
       "<matplotlib.image.AxesImage at 0x1512502d0>"
      ]
     },
     "execution_count": 9,
     "metadata": {},
     "output_type": "execute_result"
    },
    {
     "data": {
      "image/png": "[encoded data removed]",
      "text/plain": [
       "<Figure size 432x288 with 1 Axes>"
      ]
     },
     "metadata": {
      "needs_background": "light"
     },
     "output_type": "display_data"
    }
   ],
   "source": [
    "plt.imshow(factor.decoding_matrix().numpy().dot(factor.encoding_matrix().numpy()),cmap=\"Greens\")"
   ]
  },
  {
   "cell_type": "code",
   "execution_count": null,
   "metadata": {},
   "outputs": [],
   "source": []
  },
  {
   "cell_type": "code",
   "execution_count": null,
   "metadata": {},
   "outputs": [],
   "source": []
  }
 ],
 "metadata": {
  "kernelspec": {
   "display_name": "Python 3.7.5 64-bit",
   "language": "python",
   "name": "python37564bitf92b1a92eaa047aebe1f2ca9ebe04d21"
  },
  "language_info": {
   "codemirror_mode": {
    "name": "ipython",
    "version": 3
   },
   "file_extension": ".py",
   "mimetype": "text/x-python",
   "name": "python",
   "nbconvert_exporter": "python",
   "pygments_lexer": "ipython3",
   "version": "3.7.5"
  }
 },
 "nbformat": 4,
 "nbformat_minor": 2
}
