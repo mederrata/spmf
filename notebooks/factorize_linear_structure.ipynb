{
 "cells": [
  {
   "cell_type": "code",
   "execution_count": 1,
   "metadata": {},
   "outputs": [
    {
     "name": "stdout",
     "output_type": "stream",
     "text": [
      "Populating the interactive namespace from numpy and matplotlib\n"
     ]
    }
   ],
   "source": [
    "%pylab inline\n",
    "import sys\n",
    "\n",
    "import numpy as np\n",
    "import tensorflow as tf\n",
    "import tensorflow_probability as tfp\n",
    "import arviz as az\n",
    "\n",
    "import matplotlib.pyplot as plt\n",
    "from matplotlib import rcParams\n",
    "import matplotlib.font_manager as fm\n",
    "\n",
    "rcParams['font.family'] = 'sans-serif'\n",
    "\n",
    "sys.path.append('../')\n",
    "from mederrata_spmf import PoissonMatrixFactorization\n"
   ]
  },
  {
   "cell_type": "markdown",
   "metadata": {},
   "source": [
    "In this notebook, we look at the $\\mathcal{M}$-open setting, where the generating process is in the span of models.\n",
    "\n",
    "# Generate a random matrices V, W\n",
    "\n",
    "For V, assume that 10 variables share a factor structure and the other 20 are noise"
   ]
  },
  {
   "cell_type": "code",
   "execution_count": 2,
   "metadata": {},
   "outputs": [],
   "source": [
    "N = 50000\n",
    "D_factor = 10\n",
    "D_noise = 20\n",
    "P = 3\n",
    "\n",
    "V = np.abs(np.random.normal(1.5, 0.5, size=(P,D_factor)))\n",
    "Z = np.abs(np.random.normal(0.5, size=(N,P)))\n",
    "\n",
    "ZV = Z.dot(V)\n",
    "\n",
    "X = np.zeros((N, D_factor+D_noise))\n",
    "X = np.random.poisson(1.,size=(N,D_noise+D_factor))\n",
    "X[:, ::3] = np.random.poisson(ZV)"
   ]
  },
  {
   "cell_type": "code",
   "execution_count": 3,
   "metadata": {},
   "outputs": [],
   "source": [
    "# Test taking in from tf.dataset, don't pre-batch\n",
    "data = tf.data.Dataset.from_tensor_slices(\n",
    "    {\n",
    "        'data': X,\n",
    "        'indices': np.arange(N),\n",
    "        'normalization': np.ones(N)\n",
    "    })\n",
    "\n",
    "data = data.batch(10000)"
   ]
  },
  {
   "cell_type": "code",
   "execution_count": 4,
   "metadata": {},
   "outputs": [
    {
     "name": "stdout",
     "output_type": "stream",
     "text": [
      "Feature dim: 30 -> Latent dim 3\n"
     ]
    }
   ],
   "source": [
    "# strategy = tf.distribute.MirroredStrategy()\n",
    "strategy = None\n",
    "factor = PoissonMatrixFactorization(\n",
    "    data, latent_dim=P, strategy=strategy,\n",
    "    encoder_function=lambda x: x, decoder_function=lambda x: x,\n",
    "    scale_rates=True, \n",
    "    dtype=tf.float64)\n",
    "# Test to make sure sampling works\n"
   ]
  },
  {
   "cell_type": "code",
   "execution_count": 5,
   "metadata": {
    "scrolled": true
   },
   "outputs": [
    {
     "name": "stderr",
     "output_type": "stream",
     "text": [
      "WARNING: Logging before flag parsing goes to stderr.\n",
      "W0520 20:42:45.800009 4669582784 deprecation.py:506] From /usr/local/lib/python3.7/site-packages/tensorflow_core/python/ops/resource_variable_ops.py:1786: calling BaseResourceVariable.__init__ (from tensorflow.python.ops.resource_variable_ops) with constraint is deprecated and will be removed in a future version.\n",
      "Instructions for updating:\n",
      "If using Keras pass *_constraint arguments to layers.\n"
     ]
    },
    {
     "name": "stdout",
     "output_type": "stream",
     "text": [
      "Initial loss: 85.23310116614293\n",
      "Epoch 1: average-batch loss: 71.48663785764526 last batch loss: 59.922405100997096\n",
      "Saved a checkpoint: ./.tf_ckpts/chkpt-1\n",
      "Epoch 2: average-batch loss: 58.32883440349336 last batch loss: 53.55654112631157\n",
      "Saved a checkpoint: ./.tf_ckpts/chkpt-2\n",
      "Epoch 3: average-batch loss: 51.40198086729738 last batch loss: 50.16862231565317\n",
      "Saved a checkpoint: ./.tf_ckpts/chkpt-3\n",
      "Epoch 4: average-batch loss: 48.707534430494036 last batch loss: 48.606143178676284\n",
      "Saved a checkpoint: ./.tf_ckpts/chkpt-4\n",
      "Epoch 5: average-batch loss: 48.132776932140345 last batch loss: 48.05937912551121\n",
      "Saved a checkpoint: ./.tf_ckpts/chkpt-5\n",
      "Epoch 6: average-batch loss: 48.14973767653457 last batch loss: 48.261019018518255\n",
      "Epoch 7: average-batch loss: 48.14493666500213 last batch loss: 48.145420583841315\n",
      "Epoch 8: average-batch loss: 48.160113220421856 last batch loss: 48.059727929970116\n",
      "We are in a loss plateau learning rate: 0.025 loss: 48.20742270765202\n",
      "Restoring from a checkpoint - loss: 48.21457579098367\n",
      "Epoch 9: average-batch loss: 48.09596208633091 last batch loss: 48.001886413865606\n",
      "Saved a checkpoint: ./.tf_ckpts/chkpt-6\n",
      "Epoch 10: average-batch loss: 48.02941633703639 last batch loss: 47.96195001305681\n",
      "Saved a checkpoint: ./.tf_ckpts/chkpt-7\n",
      "Epoch 11: average-batch loss: 47.99545255635958 last batch loss: 47.938893676329734\n",
      "Saved a checkpoint: ./.tf_ckpts/chkpt-8\n",
      "Epoch 12: average-batch loss: 47.985497068774244 last batch loss: 47.927982467297056\n",
      "Saved a checkpoint: ./.tf_ckpts/chkpt-9\n",
      "Epoch 13: average-batch loss: 47.980119949225084 last batch loss: 47.92271002675654\n",
      "Saved a checkpoint: ./.tf_ckpts/chkpt-10\n",
      "Epoch 14: average-batch loss: 47.975211817329 last batch loss: 47.91646311813487\n",
      "Saved a checkpoint: ./.tf_ckpts/chkpt-11\n",
      "Epoch 15: average-batch loss: 47.96899408257045 last batch loss: 47.91151368748254\n",
      "Saved a checkpoint: ./.tf_ckpts/chkpt-12\n",
      "Epoch 16: average-batch loss: 47.96428451472058 last batch loss: 47.90964112903944\n",
      "Saved a checkpoint: ./.tf_ckpts/chkpt-13\n",
      "Epoch 17: average-batch loss: 47.95746733006483 last batch loss: 47.90218382554195\n",
      "Saved a checkpoint: ./.tf_ckpts/chkpt-14\n",
      "Epoch 18: average-batch loss: 47.952854912406416 last batch loss: 47.89399843564397\n",
      "Saved a checkpoint: ./.tf_ckpts/chkpt-15\n",
      "Epoch 19: average-batch loss: 47.94770615302897 last batch loss: 47.88766810356641\n",
      "Saved a checkpoint: ./.tf_ckpts/chkpt-16\n",
      "Epoch 20: average-batch loss: 47.941151943837404 last batch loss: 47.88787975080445\n",
      "Saved a checkpoint: ./.tf_ckpts/chkpt-17\n",
      "Epoch 21: average-batch loss: 47.93350180609671 last batch loss: 47.874852460990724\n",
      "Saved a checkpoint: ./.tf_ckpts/chkpt-18\n",
      "Epoch 22: average-batch loss: 47.918882288910915 last batch loss: 47.86435866500011\n",
      "Saved a checkpoint: ./.tf_ckpts/chkpt-19\n",
      "Epoch 23: average-batch loss: 47.898090534586125 last batch loss: 47.84249172177048\n",
      "Saved a checkpoint: ./.tf_ckpts/chkpt-20\n",
      "Epoch 24: average-batch loss: 47.87255127278239 last batch loss: 47.78846472767508\n",
      "Saved a checkpoint: ./.tf_ckpts/chkpt-21\n",
      "Epoch 25: average-batch loss: 47.8524312717383 last batch loss: 47.728655778074675\n",
      "Saved a checkpoint: ./.tf_ckpts/chkpt-22\n",
      "Epoch 26: average-batch loss: 47.80013017320439 last batch loss: 47.719046149767635\n",
      "Saved a checkpoint: ./.tf_ckpts/chkpt-23\n",
      "Epoch 27: average-batch loss: 47.77545256877268 last batch loss: 47.69528586549324\n",
      "Saved a checkpoint: ./.tf_ckpts/chkpt-24\n",
      "Epoch 28: average-batch loss: 47.708850896088734 last batch loss: 47.6531815301088\n",
      "Saved a checkpoint: ./.tf_ckpts/chkpt-25\n",
      "Epoch 29: average-batch loss: 47.7551204121382 last batch loss: 47.58380927045895\n",
      "Epoch 30: average-batch loss: 47.68347155479563 last batch loss: 47.701183387592295\n",
      "Saved a checkpoint: ./.tf_ckpts/chkpt-26\n",
      "Epoch 31: average-batch loss: 47.55773614019793 last batch loss: 47.503148406132915\n",
      "Saved a checkpoint: ./.tf_ckpts/chkpt-27\n",
      "Epoch 32: average-batch loss: 47.52152014117894 last batch loss: 47.62813885929849\n",
      "Saved a checkpoint: ./.tf_ckpts/chkpt-28\n",
      "Epoch 33: average-batch loss: 47.477713003619115 last batch loss: 47.59883549605644\n",
      "Saved a checkpoint: ./.tf_ckpts/chkpt-29\n",
      "Epoch 34: average-batch loss: 47.44570906675102 last batch loss: 47.49012931310767\n",
      "Saved a checkpoint: ./.tf_ckpts/chkpt-30\n",
      "Epoch 35: average-batch loss: 47.32905004240958 last batch loss: 47.27993473253087\n",
      "Saved a checkpoint: ./.tf_ckpts/chkpt-31\n",
      "Epoch 36: average-batch loss: 47.321316850186705 last batch loss: 47.28816521009269\n",
      "Saved a checkpoint: ./.tf_ckpts/chkpt-32\n",
      "Epoch 37: average-batch loss: 47.3119086976018 last batch loss: 47.06589000801587\n",
      "Saved a checkpoint: ./.tf_ckpts/chkpt-33\n",
      "Epoch 38: average-batch loss: 47.13320402719218 last batch loss: 47.1457912043588\n",
      "Saved a checkpoint: ./.tf_ckpts/chkpt-34\n",
      "Epoch 39: average-batch loss: 47.15360237143108 last batch loss: 46.95152746193518\n",
      "Epoch 40: average-batch loss: 47.09711458456909 last batch loss: 47.05658139446949\n",
      "Saved a checkpoint: ./.tf_ckpts/chkpt-35\n",
      "Epoch 41: average-batch loss: 47.13677444002933 last batch loss: 47.01028901832109\n",
      "Epoch 42: average-batch loss: 47.05142150929148 last batch loss: 47.1536983910265\n",
      "Saved a checkpoint: ./.tf_ckpts/chkpt-36\n",
      "Epoch 43: average-batch loss: 46.81958310861255 last batch loss: 46.55668183471052\n",
      "Saved a checkpoint: ./.tf_ckpts/chkpt-37\n",
      "Epoch 44: average-batch loss: 46.750445734863035 last batch loss: 46.64372628811795\n",
      "Saved a checkpoint: ./.tf_ckpts/chkpt-38\n",
      "Epoch 45: average-batch loss: 46.63407426741536 last batch loss: 46.77056460130933\n",
      "Saved a checkpoint: ./.tf_ckpts/chkpt-39\n",
      "Epoch 46: average-batch loss: 46.46179510699346 last batch loss: 46.33065495011813\n",
      "Saved a checkpoint: ./.tf_ckpts/chkpt-40\n",
      "Epoch 47: average-batch loss: 46.268344098116856 last batch loss: 46.25506602669796\n",
      "Saved a checkpoint: ./.tf_ckpts/chkpt-41\n",
      "Epoch 48: average-batch loss: 46.254337282298415 last batch loss: 45.9509309161522\n",
      "Saved a checkpoint: ./.tf_ckpts/chkpt-42\n",
      "Epoch 49: average-batch loss: 45.85817798627863 last batch loss: 45.68682611330519\n",
      "Saved a checkpoint: ./.tf_ckpts/chkpt-43\n",
      "Epoch 50: average-batch loss: 45.65434037555884 last batch loss: 45.72623143950036\n",
      "Saved a checkpoint: ./.tf_ckpts/chkpt-44\n",
      "Epoch 51: average-batch loss: 45.31344767005075 last batch loss: 45.24468047466942\n",
      "Saved a checkpoint: ./.tf_ckpts/chkpt-45\n",
      "Epoch 52: average-batch loss: 44.99446931312251 last batch loss: 45.05981581170758\n",
      "Saved a checkpoint: ./.tf_ckpts/chkpt-46\n",
      "Epoch 53: average-batch loss: 44.746111835449945 last batch loss: 44.812783984547984\n",
      "Saved a checkpoint: ./.tf_ckpts/chkpt-47\n",
      "Epoch 54: average-batch loss: 44.497106928468945 last batch loss: 44.360983409159154\n",
      "Saved a checkpoint: ./.tf_ckpts/chkpt-48\n",
      "Epoch 55: average-batch loss: 44.33707737037992 last batch loss: 44.2051485599344\n",
      "Saved a checkpoint: ./.tf_ckpts/chkpt-49\n",
      "Epoch 56: average-batch loss: 44.19334556874749 last batch loss: 44.07245272995801\n",
      "Saved a checkpoint: ./.tf_ckpts/chkpt-50\n",
      "Epoch 57: average-batch loss: 44.05461390871704 last batch loss: 44.0120948891962\n",
      "Saved a checkpoint: ./.tf_ckpts/chkpt-51\n",
      "Epoch 58: average-batch loss: 43.96110382962035 last batch loss: 44.00322075248\n",
      "Saved a checkpoint: ./.tf_ckpts/chkpt-52\n",
      "Epoch 59: average-batch loss: 43.81408350170182 last batch loss: 43.80757722878517\n",
      "Saved a checkpoint: ./.tf_ckpts/chkpt-53\n",
      "Epoch 60: average-batch loss: 43.7240183906701 last batch loss: 43.668164457687936\n",
      "Saved a checkpoint: ./.tf_ckpts/chkpt-54\n",
      "Epoch 61: average-batch loss: 43.6839787949509 last batch loss: 43.63020162626777\n",
      "Saved a checkpoint: ./.tf_ckpts/chkpt-55\n",
      "Epoch 62: average-batch loss: 43.60426284614869 last batch loss: 43.57470350992327\n",
      "Saved a checkpoint: ./.tf_ckpts/chkpt-56\n",
      "Epoch 63: average-batch loss: 43.570947054958715 last batch loss: 43.571458199510374\n",
      "Saved a checkpoint: ./.tf_ckpts/chkpt-57\n",
      "Epoch 64: average-batch loss: 43.49874770451359 last batch loss: 43.47183554726686\n",
      "Saved a checkpoint: ./.tf_ckpts/chkpt-58\n",
      "Epoch 65: average-batch loss: 43.45832922813301 last batch loss: 43.47469372428338\n",
      "Saved a checkpoint: ./.tf_ckpts/chkpt-59\n",
      "Epoch 66: average-batch loss: 43.436584510054374 last batch loss: 43.407136388432036\n",
      "Saved a checkpoint: ./.tf_ckpts/chkpt-60\n",
      "Epoch 67: average-batch loss: 43.37838823600008 last batch loss: 43.32628287384879\n",
      "Saved a checkpoint: ./.tf_ckpts/chkpt-61\n"
     ]
    },
    {
     "name": "stdout",
     "output_type": "stream",
     "text": [
      "Epoch 68: average-batch loss: 43.35983895041538 last batch loss: 43.31801834881429\n",
      "Saved a checkpoint: ./.tf_ckpts/chkpt-62\n",
      "Epoch 69: average-batch loss: 43.32881356143772 last batch loss: 43.323263163933746\n",
      "Saved a checkpoint: ./.tf_ckpts/chkpt-63\n",
      "Epoch 70: average-batch loss: 43.28369085480119 last batch loss: 43.27149786461548\n",
      "Saved a checkpoint: ./.tf_ckpts/chkpt-64\n",
      "Epoch 71: average-batch loss: 43.26338574216873 last batch loss: 43.315705404179816\n",
      "Saved a checkpoint: ./.tf_ckpts/chkpt-65\n",
      "Epoch 72: average-batch loss: 43.2556729361571 last batch loss: 43.237379818804975\n",
      "Saved a checkpoint: ./.tf_ckpts/chkpt-66\n",
      "Epoch 73: average-batch loss: 43.222087205945186 last batch loss: 43.158763920046994\n",
      "Saved a checkpoint: ./.tf_ckpts/chkpt-67\n",
      "Epoch 74: average-batch loss: 43.18023019042386 last batch loss: 43.13908036487749\n",
      "Saved a checkpoint: ./.tf_ckpts/chkpt-68\n",
      "Epoch 75: average-batch loss: 43.14039606708011 last batch loss: 43.1203978364656\n",
      "Saved a checkpoint: ./.tf_ckpts/chkpt-69\n",
      "Epoch 76: average-batch loss: 43.10665516557582 last batch loss: 43.09094013077485\n",
      "Saved a checkpoint: ./.tf_ckpts/chkpt-70\n",
      "Epoch 77: average-batch loss: 43.08425810275839 last batch loss: 43.0606166616628\n",
      "Saved a checkpoint: ./.tf_ckpts/chkpt-71\n",
      "Epoch 78: average-batch loss: 43.05341018634552 last batch loss: 43.01829000961664\n",
      "Saved a checkpoint: ./.tf_ckpts/chkpt-72\n",
      "Epoch 79: average-batch loss: 43.021190727666394 last batch loss: 43.003014734055405\n",
      "Saved a checkpoint: ./.tf_ckpts/chkpt-73\n",
      "Epoch 80: average-batch loss: 42.99810658694658 last batch loss: 42.9823611773126\n",
      "Saved a checkpoint: ./.tf_ckpts/chkpt-74\n",
      "Epoch 81: average-batch loss: 42.9717499814723 last batch loss: 42.959284193289115\n",
      "Saved a checkpoint: ./.tf_ckpts/chkpt-75\n",
      "Epoch 82: average-batch loss: 42.94306026693233 last batch loss: 42.93634391337239\n",
      "Saved a checkpoint: ./.tf_ckpts/chkpt-76\n",
      "Epoch 83: average-batch loss: 42.923693565665545 last batch loss: 42.93343371464328\n",
      "Saved a checkpoint: ./.tf_ckpts/chkpt-77\n",
      "Epoch 84: average-batch loss: 42.90679342598193 last batch loss: 42.89889720923548\n",
      "Saved a checkpoint: ./.tf_ckpts/chkpt-78\n",
      "Epoch 85: average-batch loss: 42.890426822904104 last batch loss: 42.86518269690288\n",
      "Saved a checkpoint: ./.tf_ckpts/chkpt-79\n",
      "Epoch 86: average-batch loss: 42.86535464963039 last batch loss: 42.84871540151071\n",
      "Saved a checkpoint: ./.tf_ckpts/chkpt-80\n",
      "Epoch 87: average-batch loss: 42.846106330461645 last batch loss: 42.83529049125346\n",
      "Saved a checkpoint: ./.tf_ckpts/chkpt-81\n",
      "Epoch 88: average-batch loss: 42.833597658354165 last batch loss: 42.82459080565563\n",
      "Saved a checkpoint: ./.tf_ckpts/chkpt-82\n",
      "Epoch 89: average-batch loss: 42.80789997168426 last batch loss: 42.80377057891039\n",
      "Saved a checkpoint: ./.tf_ckpts/chkpt-83\n",
      "Epoch 90: average-batch loss: 42.79564971489444 last batch loss: 42.7779780951257\n",
      "Saved a checkpoint: ./.tf_ckpts/chkpt-84\n",
      "Epoch 91: average-batch loss: 42.781237598688115 last batch loss: 42.758226712190606\n",
      "Saved a checkpoint: ./.tf_ckpts/chkpt-85\n",
      "Epoch 92: average-batch loss: 42.771487677610004 last batch loss: 42.75645403484579\n",
      "Saved a checkpoint: ./.tf_ckpts/chkpt-86\n",
      "Epoch 93: average-batch loss: 42.75430825275655 last batch loss: 42.741298494949994\n",
      "Saved a checkpoint: ./.tf_ckpts/chkpt-87\n",
      "Epoch 94: average-batch loss: 42.742650159261316 last batch loss: 42.73644359849937\n",
      "Saved a checkpoint: ./.tf_ckpts/chkpt-88\n",
      "Epoch 95: average-batch loss: 42.73705027550373 last batch loss: 42.73221303940823\n",
      "Saved a checkpoint: ./.tf_ckpts/chkpt-89\n",
      "Epoch 96: average-batch loss: 42.7231872202953 last batch loss: 42.707127815546485\n",
      "Saved a checkpoint: ./.tf_ckpts/chkpt-90\n",
      "Epoch 97: average-batch loss: 42.721503531707164 last batch loss: 42.70172566202673\n",
      "Saved a checkpoint: ./.tf_ckpts/chkpt-91\n",
      "Epoch 98: average-batch loss: 42.70898427087319 last batch loss: 42.69592500138781\n",
      "Saved a checkpoint: ./.tf_ckpts/chkpt-92\n",
      "Epoch 99: average-batch loss: 42.69948992967583 last batch loss: 42.6990867151855\n",
      "Saved a checkpoint: ./.tf_ckpts/chkpt-93\n",
      "Terminating because we are out of iterations\n"
     ]
    }
   ],
   "source": [
    "losses = factor.calibrate_advi(\n",
    "    num_epochs=100, learning_rate=.1)\n",
    "\n",
    "\n"
   ]
  },
  {
   "cell_type": "code",
   "execution_count": 6,
   "metadata": {},
   "outputs": [
    {
     "name": "stdout",
     "output_type": "stream",
     "text": [
      "{'waic': 1346653.6377816445, 'se': 1929.8569442303196, 'lppd': -465265.7102429704, 'pwaic': 208061.10864785186}\n"
     ]
    }
   ],
   "source": [
    "waic = factor.waic()\n",
    "print(waic)"
   ]
  },
  {
   "cell_type": "code",
   "execution_count": 7,
   "metadata": {},
   "outputs": [],
   "source": [
    "surrogate_samples = factor.surrogate_distribution.sample(1000)\n",
    "weights = surrogate_samples['s']/tf.reduce_sum(surrogate_samples['s'],-2,keepdims=True)\n",
    "intercept_data = az.convert_to_inference_data(\n",
    "    {\n",
    "        r\"$w_d$\": \n",
    "            (tf.squeeze(surrogate_samples['w'])*weights[:,-1,:]*factor.norm_factor).numpy().T})"
   ]
  },
  {
   "cell_type": "code",
   "execution_count": 8,
   "metadata": {},
   "outputs": [
    {
     "data": {
      "image/png": "[encoded data removed]",
      "text/plain": [
       "<Figure size 1008x576 with 3 Axes>"
      ]
     },
     "metadata": {
      "needs_background": "light"
     },
     "output_type": "display_data"
    }
   ],
   "source": [
    "fig, ax = plt.subplots(1,2, figsize=(14,8))\n",
    "D = factor.feature_dim\n",
    "pcm = ax[0].imshow(factor.encoding_matrix().numpy()[::-1,:], vmin=0, cmap=\"Blues\")\n",
    "ax[0].set_yticks(np.arange(D))\n",
    "ax[0].set_yticklabels(np.arange(D))\n",
    "ax[0].set_ylabel(\"item\")\n",
    "ax[0].set_xlabel(\"factor dimension\")\n",
    "ax[0].set_xticks(np.arange(P))\n",
    "ax[0].set_xticklabels(np.arange(P))\n",
    "\n",
    "fig.colorbar(pcm, ax=ax[0], orientation = \"vertical\")\n",
    "az.plot_forest(intercept_data, ax=ax[1])\n",
    "ax[1].set_xlabel(\"background rate\")\n",
    "ax[1].set_ylim((-0.014,.466))\n",
    "ax[1].set_title(\"65% and 95% CI\")\n",
    "ax[1].axvline(1.0, linestyle='dashed', color=\"black\")\n",
    "plt.savefig('mix_factorization_sepmf.pdf', bbox_inches='tight')\n",
    "plt.show()\n"
   ]
  },
  {
   "cell_type": "code",
   "execution_count": 9,
   "metadata": {},
   "outputs": [
    {
     "data": {
      "text/plain": [
       "<tf.Tensor: shape=(2, 30), dtype=float64, numpy=\n",
       "array([[0.79489666, 0.1680557 , 0.16585526, 0.79675315, 0.16835621,\n",
       "        0.16609785, 0.746308  , 0.16894922, 0.16558792, 0.80913185,\n",
       "        0.16909576, 0.16518475, 0.77551956, 0.16813163, 0.16908941,\n",
       "        0.83556481, 0.16510326, 0.16575929, 0.82225034, 0.16992351,\n",
       "        0.16869104, 0.79103365, 0.17229528, 0.16363717, 0.75382932,\n",
       "        0.16387975, 0.17020127, 0.73510877, 0.16828278, 0.1687178 ],\n",
       "       [0.20510334, 0.8319443 , 0.83414474, 0.20324685, 0.83164379,\n",
       "        0.83390215, 0.253692  , 0.83105078, 0.83441208, 0.19086815,\n",
       "        0.83090424, 0.83481525, 0.22448044, 0.83186837, 0.83091059,\n",
       "        0.16443519, 0.83489674, 0.83424071, 0.17774966, 0.83007649,\n",
       "        0.83130896, 0.20896635, 0.82770472, 0.83636283, 0.24617068,\n",
       "        0.83612025, 0.82979873, 0.26489123, 0.83171722, 0.8312822 ]])>"
      ]
     },
     "execution_count": 9,
     "metadata": {},
     "output_type": "execute_result"
    }
   ],
   "source": [
    "factor.calibrated_expectations['s']/tf.reduce_sum(factor.calibrated_expectations['s'], axis=0, keepdims=True)"
   ]
  },
  {
   "cell_type": "code",
   "execution_count": null,
   "metadata": {},
   "outputs": [],
   "source": []
  },
  {
   "cell_type": "code",
   "execution_count": null,
   "metadata": {},
   "outputs": [],
   "source": []
  },
  {
   "cell_type": "code",
   "execution_count": null,
   "metadata": {},
   "outputs": [],
   "source": []
  }
 ],
 "metadata": {
  "kernelspec": {
   "display_name": "Python 3.7.5 64-bit",
   "language": "python",
   "name": "python37564bitf92b1a92eaa047aebe1f2ca9ebe04d21"
  },
  "language_info": {
   "codemirror_mode": {
    "name": "ipython",
    "version": 3
   },
   "file_extension": ".py",
   "mimetype": "text/x-python",
   "name": "python",
   "nbconvert_exporter": "python",
   "pygments_lexer": "ipython3",
   "version": "3.7.5"
  }
 },
 "nbformat": 4,
 "nbformat_minor": 2
}
