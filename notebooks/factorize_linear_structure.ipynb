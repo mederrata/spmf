{
 "cells": [
  {
   "cell_type": "code",
   "execution_count": 1,
   "metadata": {},
   "outputs": [
    {
     "name": "stdout",
     "output_type": "stream",
     "text": [
      "Populating the interactive namespace from numpy and matplotlib\n"
     ]
    }
   ],
   "source": [
    "%pylab inline\n",
    "import sys\n",
    "\n",
    "import numpy as np\n",
    "import tensorflow as tf\n",
    "import tensorflow_probability as tfp\n",
    "import arviz as az\n",
    "\n",
    "import matplotlib.pyplot as plt\n",
    "from matplotlib import rcParams\n",
    "import matplotlib.font_manager as fm\n",
    "\n",
    "rcParams['font.family'] = 'sans-serif'\n",
    "\n",
    "sys.path.append('../')\n",
    "from mederrata_spmf import PoissonMatrixFactorization\n"
   ]
  },
  {
   "cell_type": "markdown",
   "metadata": {},
   "source": [
    "In this notebook, we look at the $\\mathcal{M}$-open setting, where the generating process is in the span of models.\n",
    "\n",
    "# Generate a random matrices V, W\n",
    "\n",
    "For V, assume that 10 variables share a factor structure and the other 20 are noise"
   ]
  },
  {
   "cell_type": "code",
   "execution_count": 2,
   "metadata": {},
   "outputs": [],
   "source": [
    "N = 50000\n",
    "D_factor = 10\n",
    "D_noise = 20\n",
    "D = D_factor + D_noise\n",
    "P = 3\n",
    "\n",
    "V = np.abs(np.random.normal(1.5, 0.5, size=(P,D_factor)))\n",
    "Z = np.abs(np.random.normal(0.5, size=(N,P)))\n",
    "\n",
    "ZV = Z.dot(V)\n",
    "\n",
    "X = np.zeros((N, D_factor+D_noise))\n",
    "X = np.random.poisson(1.,size=(N,D_noise+D_factor))\n",
    "X[:, ::3] = np.random.poisson(ZV)"
   ]
  },
  {
   "cell_type": "code",
   "execution_count": 3,
   "metadata": {},
   "outputs": [],
   "source": [
    "# Test taking in from tf.dataset, don't pre-batch\n",
    "data = tf.data.Dataset.from_tensor_slices(\n",
    "    {\n",
    "        'data': X,\n",
    "        'indices': np.arange(N),\n",
    "        'normalization': np.ones(N)\n",
    "    })\n",
    "\n",
    "data = data.batch(10000)"
   ]
  },
  {
   "cell_type": "code",
   "execution_count": 4,
   "metadata": {},
   "outputs": [
    {
     "name": "stdout",
     "output_type": "stream",
     "text": [
      "Feature dim: 30 -> Latent dim 3\n"
     ]
    }
   ],
   "source": [
    "# strategy = tf.distribute.MirroredStrategy()\n",
    "strategy = None\n",
    "factor = PoissonMatrixFactorization(\n",
    "    data, latent_dim=P, strategy=strategy,\n",
    "    encoder_function=lambda x: x, decoder_function=lambda x: x,\n",
    "    scale_rates=True, \n",
    "    u_tau_scale=1.0/P/D/np.sqrt(N),\n",
    "    dtype=tf.float64)\n",
    "# Test to make sure sampling works\n"
   ]
  },
  {
   "cell_type": "code",
   "execution_count": 5,
   "metadata": {
    "scrolled": true
   },
   "outputs": [
    {
     "name": "stderr",
     "output_type": "stream",
     "text": [
      "WARNING: Logging before flag parsing goes to stderr.\n",
      "W0521 16:00:17.248688 4505066944 deprecation.py:506] From /usr/local/lib/python3.7/site-packages/tensorflow_core/python/ops/resource_variable_ops.py:1786: calling BaseResourceVariable.__init__ (from tensorflow.python.ops.resource_variable_ops) with constraint is deprecated and will be removed in a future version.\n",
      "Instructions for updating:\n",
      "If using Keras pass *_constraint arguments to layers.\n"
     ]
    },
    {
     "name": "stdout",
     "output_type": "stream",
     "text": [
      "Initial loss: 75.28101396749064\n",
      "Epoch 1: average-batch loss: 64.85143168317026 last batch loss: 55.55589233249532\n",
      "Saved a checkpoint: ./.tf_ckpts/chkpt-1\n",
      "Epoch 2: average-batch loss: 54.48019288042502 last batch loss: 50.45165054945681\n",
      "Saved a checkpoint: ./.tf_ckpts/chkpt-2\n",
      "Epoch 3: average-batch loss: 48.776314140836845 last batch loss: 47.63324848602863\n",
      "Saved a checkpoint: ./.tf_ckpts/chkpt-3\n",
      "Epoch 4: average-batch loss: 46.46797312076694 last batch loss: 46.31263929481624\n",
      "Saved a checkpoint: ./.tf_ckpts/chkpt-4\n",
      "Epoch 5: average-batch loss: 45.906985455274025 last batch loss: 45.832765969320924\n",
      "Saved a checkpoint: ./.tf_ckpts/chkpt-5\n",
      "Epoch 6: average-batch loss: 45.90344302195996 last batch loss: 45.98910719245685\n",
      "Saved a checkpoint: ./.tf_ckpts/chkpt-6\n",
      "Epoch 7: average-batch loss: 45.9026946338336 last batch loss: 45.9219845046072\n",
      "Saved a checkpoint: ./.tf_ckpts/chkpt-7\n",
      "Epoch 8: average-batch loss: 45.921557691498336 last batch loss: 45.84915424384756\n",
      "We are in a loss plateau learning rate: 0.025 loss: 45.86493525611337\n",
      "Restoring from a checkpoint - loss: 45.87060656784429\n",
      "Epoch 9: average-batch loss: 45.87208352190534 last batch loss: 45.79311860626423\n",
      "Saved a checkpoint: ./.tf_ckpts/chkpt-8\n",
      "Epoch 10: average-batch loss: 45.81822272334193 last batch loss: 45.75574341212194\n",
      "Saved a checkpoint: ./.tf_ckpts/chkpt-9\n",
      "Epoch 11: average-batch loss: 45.78778461516903 last batch loss: 45.73049927667658\n",
      "Saved a checkpoint: ./.tf_ckpts/chkpt-10\n",
      "Epoch 12: average-batch loss: 45.776628269506624 last batch loss: 45.70685600779127\n",
      "Saved a checkpoint: ./.tf_ckpts/chkpt-11\n",
      "Epoch 13: average-batch loss: 45.7717623922744 last batch loss: 45.703555735003484\n",
      "Saved a checkpoint: ./.tf_ckpts/chkpt-12\n",
      "Epoch 14: average-batch loss: 45.766860157694985 last batch loss: 45.6984868264375\n",
      "Saved a checkpoint: ./.tf_ckpts/chkpt-13\n",
      "Epoch 15: average-batch loss: 45.7619134136113 last batch loss: 45.69513089726891\n",
      "Saved a checkpoint: ./.tf_ckpts/chkpt-14\n",
      "Epoch 16: average-batch loss: 45.7561965967398 last batch loss: 45.69114785662427\n",
      "Saved a checkpoint: ./.tf_ckpts/chkpt-15\n",
      "Epoch 17: average-batch loss: 45.75059878105492 last batch loss: 45.68677645583539\n",
      "Saved a checkpoint: ./.tf_ckpts/chkpt-16\n",
      "Epoch 18: average-batch loss: 45.7469197188065 last batch loss: 45.68078322975945\n",
      "Saved a checkpoint: ./.tf_ckpts/chkpt-17\n",
      "Epoch 19: average-batch loss: 45.74178695907757 last batch loss: 45.669287516325504\n",
      "Saved a checkpoint: ./.tf_ckpts/chkpt-18\n",
      "Epoch 20: average-batch loss: 45.73716814831482 last batch loss: 45.66882552429687\n",
      "Saved a checkpoint: ./.tf_ckpts/chkpt-19\n",
      "Epoch 21: average-batch loss: 45.73045411660609 last batch loss: 45.66347951178602\n",
      "Saved a checkpoint: ./.tf_ckpts/chkpt-20\n",
      "Epoch 22: average-batch loss: 45.719458485683774 last batch loss: 45.65675245202774\n",
      "Saved a checkpoint: ./.tf_ckpts/chkpt-21\n",
      "Epoch 23: average-batch loss: 45.70638755898602 last batch loss: 45.64422466342127\n",
      "Saved a checkpoint: ./.tf_ckpts/chkpt-22\n",
      "Epoch 24: average-batch loss: 45.68397046867746 last batch loss: 45.61661057652285\n",
      "Saved a checkpoint: ./.tf_ckpts/chkpt-23\n",
      "Epoch 25: average-batch loss: 45.65969762550733 last batch loss: 45.56927234789258\n",
      "Saved a checkpoint: ./.tf_ckpts/chkpt-24\n",
      "Epoch 26: average-batch loss: 45.62920943745193 last batch loss: 45.57366162463232\n",
      "Saved a checkpoint: ./.tf_ckpts/chkpt-25\n",
      "Epoch 27: average-batch loss: 45.56117985219989 last batch loss: 45.4005923869508\n",
      "Saved a checkpoint: ./.tf_ckpts/chkpt-26\n",
      "Epoch 28: average-batch loss: 45.58996982474558 last batch loss: 45.527872184978605\n",
      "Epoch 29: average-batch loss: 45.48012979753883 last batch loss: 45.40763420681153\n",
      "Saved a checkpoint: ./.tf_ckpts/chkpt-27\n",
      "Epoch 30: average-batch loss: 45.50601105663352 last batch loss: 45.34957204190762\n",
      "Epoch 31: average-batch loss: 45.424057222328194 last batch loss: 45.22090504859406\n",
      "Saved a checkpoint: ./.tf_ckpts/chkpt-28\n",
      "Epoch 32: average-batch loss: 45.3664788261472 last batch loss: 45.30396603650204\n",
      "Saved a checkpoint: ./.tf_ckpts/chkpt-29\n",
      "Epoch 33: average-batch loss: 45.36999538048411 last batch loss: 45.284362517891665\n",
      "Epoch 34: average-batch loss: 45.32845971605006 last batch loss: 45.17315428368624\n",
      "Saved a checkpoint: ./.tf_ckpts/chkpt-30\n",
      "Epoch 35: average-batch loss: 45.210388882513186 last batch loss: 45.20162428642548\n",
      "Saved a checkpoint: ./.tf_ckpts/chkpt-31\n",
      "Epoch 36: average-batch loss: 45.27123193231514 last batch loss: 45.21378187107688\n",
      "Epoch 37: average-batch loss: 45.14008364951944 last batch loss: 45.03690154123218\n",
      "Saved a checkpoint: ./.tf_ckpts/chkpt-32\n",
      "Epoch 38: average-batch loss: 45.218335699991904 last batch loss: 45.0031678012269\n",
      "Epoch 39: average-batch loss: 45.03067176230731 last batch loss: 44.74578724207592\n",
      "Saved a checkpoint: ./.tf_ckpts/chkpt-33\n",
      "Epoch 40: average-batch loss: 45.05424962689999 last batch loss: 44.84207442533226\n",
      "Epoch 41: average-batch loss: 44.97017122433446 last batch loss: 44.60186573041058\n",
      "Saved a checkpoint: ./.tf_ckpts/chkpt-34\n",
      "Epoch 42: average-batch loss: 44.923055901081355 last batch loss: 44.71626005075097\n",
      "Saved a checkpoint: ./.tf_ckpts/chkpt-35\n",
      "Epoch 43: average-batch loss: 44.81287035106315 last batch loss: 44.632002315218855\n",
      "Saved a checkpoint: ./.tf_ckpts/chkpt-36\n",
      "Epoch 44: average-batch loss: 44.67391181101017 last batch loss: 44.61247060552167\n",
      "Saved a checkpoint: ./.tf_ckpts/chkpt-37\n",
      "Epoch 45: average-batch loss: 44.46298349684893 last batch loss: 44.37500160527297\n",
      "Saved a checkpoint: ./.tf_ckpts/chkpt-38\n",
      "Epoch 46: average-batch loss: 44.37164272231145 last batch loss: 44.49431773830024\n",
      "Saved a checkpoint: ./.tf_ckpts/chkpt-39\n",
      "Epoch 47: average-batch loss: 44.038645838999074 last batch loss: 43.91844758027991\n",
      "Saved a checkpoint: ./.tf_ckpts/chkpt-40\n",
      "Epoch 48: average-batch loss: 43.8988593088737 last batch loss: 43.64464299714344\n",
      "Saved a checkpoint: ./.tf_ckpts/chkpt-41\n",
      "Epoch 49: average-batch loss: 43.73627419467282 last batch loss: 43.362502231230515\n",
      "Saved a checkpoint: ./.tf_ckpts/chkpt-42\n",
      "Epoch 50: average-batch loss: 43.596418769664965 last batch loss: 43.50963405837036\n",
      "Saved a checkpoint: ./.tf_ckpts/chkpt-43\n",
      "Epoch 51: average-batch loss: 43.32146404143799 last batch loss: 43.34216783713959\n",
      "Saved a checkpoint: ./.tf_ckpts/chkpt-44\n",
      "Epoch 52: average-batch loss: 43.12700486879889 last batch loss: 43.03170029251582\n",
      "Saved a checkpoint: ./.tf_ckpts/chkpt-45\n",
      "Epoch 53: average-batch loss: 42.939935667374044 last batch loss: 42.85010177588098\n",
      "Saved a checkpoint: ./.tf_ckpts/chkpt-46\n",
      "Epoch 54: average-batch loss: 42.73020064364586 last batch loss: 42.65511962401946\n",
      "Saved a checkpoint: ./.tf_ckpts/chkpt-47\n",
      "Epoch 55: average-batch loss: 42.5876021159316 last batch loss: 42.460302434246195\n",
      "Saved a checkpoint: ./.tf_ckpts/chkpt-48\n",
      "Epoch 56: average-batch loss: 42.440241353326485 last batch loss: 42.25525268076352\n",
      "Saved a checkpoint: ./.tf_ckpts/chkpt-49\n",
      "Epoch 57: average-batch loss: 42.33073199563246 last batch loss: 42.2482291283605\n",
      "Saved a checkpoint: ./.tf_ckpts/chkpt-50\n",
      "Epoch 58: average-batch loss: 42.22373278820223 last batch loss: 42.123858492074056\n",
      "Saved a checkpoint: ./.tf_ckpts/chkpt-51\n",
      "Epoch 59: average-batch loss: 42.09159394191241 last batch loss: 42.03034029068052\n",
      "Saved a checkpoint: ./.tf_ckpts/chkpt-52\n",
      "Epoch 60: average-batch loss: 42.004085934674194 last batch loss: 41.89807227651027\n",
      "Saved a checkpoint: ./.tf_ckpts/chkpt-53\n",
      "Epoch 61: average-batch loss: 41.93716967777949 last batch loss: 41.81211802490424\n",
      "Saved a checkpoint: ./.tf_ckpts/chkpt-54\n",
      "Epoch 62: average-batch loss: 41.86453676137032 last batch loss: 41.764625587222724\n",
      "Saved a checkpoint: ./.tf_ckpts/chkpt-55\n",
      "Epoch 63: average-batch loss: 41.80413195559907 last batch loss: 41.70094129050752\n",
      "Saved a checkpoint: ./.tf_ckpts/chkpt-56\n",
      "Epoch 64: average-batch loss: 41.74443810389425 last batch loss: 41.66962951711005\n",
      "Saved a checkpoint: ./.tf_ckpts/chkpt-57\n",
      "Epoch 65: average-batch loss: 41.68969927391904 last batch loss: 41.63865592336906\n",
      "Saved a checkpoint: ./.tf_ckpts/chkpt-58\n",
      "Epoch 66: average-batch loss: 41.649572978515025 last batch loss: 41.55919073561813\n",
      "Saved a checkpoint: ./.tf_ckpts/chkpt-59\n",
      "Epoch 67: average-batch loss: 41.6254154491283 last batch loss: 41.54702557741962\n",
      "Saved a checkpoint: ./.tf_ckpts/chkpt-60\n",
      "Epoch 68: average-batch loss: 41.58369488256024 last batch loss: 41.50300013412705\n",
      "Saved a checkpoint: ./.tf_ckpts/chkpt-61\n"
     ]
    },
    {
     "name": "stdout",
     "output_type": "stream",
     "text": [
      "Epoch 69: average-batch loss: 41.54651632369646 last batch loss: 41.46363116099815\n",
      "Saved a checkpoint: ./.tf_ckpts/chkpt-62\n",
      "Epoch 70: average-batch loss: 41.52058244814022 last batch loss: 41.453646076353735\n",
      "Saved a checkpoint: ./.tf_ckpts/chkpt-63\n",
      "Epoch 71: average-batch loss: 41.488071024841325 last batch loss: 41.42759641558407\n",
      "Saved a checkpoint: ./.tf_ckpts/chkpt-64\n",
      "Epoch 72: average-batch loss: 41.47964911357321 last batch loss: 41.39254437901493\n",
      "Saved a checkpoint: ./.tf_ckpts/chkpt-65\n",
      "Epoch 73: average-batch loss: 41.447866206437894 last batch loss: 41.36189653978764\n",
      "Saved a checkpoint: ./.tf_ckpts/chkpt-66\n",
      "Epoch 74: average-batch loss: 41.43020990106803 last batch loss: 41.36605369526261\n",
      "Saved a checkpoint: ./.tf_ckpts/chkpt-67\n",
      "Epoch 75: average-batch loss: 41.42278690080565 last batch loss: 41.37213875965256\n",
      "Saved a checkpoint: ./.tf_ckpts/chkpt-68\n",
      "Epoch 76: average-batch loss: 41.40147837724927 last batch loss: 41.33068469825046\n",
      "Saved a checkpoint: ./.tf_ckpts/chkpt-69\n",
      "Epoch 77: average-batch loss: 41.377927605557 last batch loss: 41.312525946368325\n",
      "Saved a checkpoint: ./.tf_ckpts/chkpt-70\n",
      "Epoch 78: average-batch loss: 41.36506300309611 last batch loss: 41.27989418646744\n",
      "Saved a checkpoint: ./.tf_ckpts/chkpt-71\n",
      "Epoch 79: average-batch loss: 41.355799525731065 last batch loss: 41.2774002161265\n",
      "Saved a checkpoint: ./.tf_ckpts/chkpt-72\n",
      "Epoch 80: average-batch loss: 41.34247464155847 last batch loss: 41.26567615412977\n",
      "Saved a checkpoint: ./.tf_ckpts/chkpt-73\n",
      "Epoch 81: average-batch loss: 41.33406425552692 last batch loss: 41.264278102868225\n",
      "Saved a checkpoint: ./.tf_ckpts/chkpt-74\n",
      "Epoch 82: average-batch loss: 41.320203152791485 last batch loss: 41.25157011281803\n",
      "Saved a checkpoint: ./.tf_ckpts/chkpt-75\n",
      "Epoch 83: average-batch loss: 41.311131797317714 last batch loss: 41.24081200878108\n",
      "Saved a checkpoint: ./.tf_ckpts/chkpt-76\n",
      "Epoch 84: average-batch loss: 41.300917764080666 last batch loss: 41.22970307096231\n",
      "Saved a checkpoint: ./.tf_ckpts/chkpt-77\n",
      "Epoch 85: average-batch loss: 41.296677227318355 last batch loss: 41.22199064798643\n",
      "Saved a checkpoint: ./.tf_ckpts/chkpt-78\n",
      "Epoch 86: average-batch loss: 41.288262574563404 last batch loss: 41.22331521074485\n",
      "Saved a checkpoint: ./.tf_ckpts/chkpt-79\n",
      "Epoch 87: average-batch loss: 41.28398132513791 last batch loss: 41.21403676384537\n",
      "Saved a checkpoint: ./.tf_ckpts/chkpt-80\n",
      "Epoch 88: average-batch loss: 41.27355744001566 last batch loss: 41.207507726264964\n",
      "Saved a checkpoint: ./.tf_ckpts/chkpt-81\n",
      "Epoch 89: average-batch loss: 41.26496216623753 last batch loss: 41.199215624861814\n",
      "Saved a checkpoint: ./.tf_ckpts/chkpt-82\n",
      "Epoch 90: average-batch loss: 41.26023209864145 last batch loss: 41.18470926902185\n",
      "Saved a checkpoint: ./.tf_ckpts/chkpt-83\n",
      "Epoch 91: average-batch loss: 41.25680455501332 last batch loss: 41.18549581510412\n",
      "Saved a checkpoint: ./.tf_ckpts/chkpt-84\n",
      "Epoch 92: average-batch loss: 41.249109193234524 last batch loss: 41.178199768561825\n",
      "Saved a checkpoint: ./.tf_ckpts/chkpt-85\n",
      "Epoch 93: average-batch loss: 41.24913282777678 last batch loss: 41.17556718271749\n",
      "Epoch 94: average-batch loss: 41.243919357272446 last batch loss: 41.17791364833125\n",
      "Saved a checkpoint: ./.tf_ckpts/chkpt-86\n",
      "Epoch 95: average-batch loss: 41.23788466082799 last batch loss: 41.16780667636874\n",
      "Saved a checkpoint: ./.tf_ckpts/chkpt-87\n",
      "Epoch 96: average-batch loss: 41.23257654648134 last batch loss: 41.1647370293775\n",
      "Saved a checkpoint: ./.tf_ckpts/chkpt-88\n",
      "Epoch 97: average-batch loss: 41.22748342641616 last batch loss: 41.161348400978746\n",
      "Saved a checkpoint: ./.tf_ckpts/chkpt-89\n",
      "Epoch 98: average-batch loss: 41.226201248554375 last batch loss: 41.15422099603501\n",
      "Saved a checkpoint: ./.tf_ckpts/chkpt-90\n",
      "Epoch 99: average-batch loss: 41.21999968246619 last batch loss: 41.15158477129649\n",
      "Saved a checkpoint: ./.tf_ckpts/chkpt-91\n",
      "Terminating because we are out of iterations\n"
     ]
    }
   ],
   "source": [
    "losses = factor.calibrate_advi(\n",
    "    num_epochs=100, learning_rate=.1)\n",
    "\n",
    "\n"
   ]
  },
  {
   "cell_type": "code",
   "execution_count": 6,
   "metadata": {},
   "outputs": [
    {
     "name": "stdout",
     "output_type": "stream",
     "text": [
      "{'waic': 1288448.479878923, 'se': 1941.7253045640123, 'lppd': -449327.6112633891, 'pwaic': 194896.6286760724}\n"
     ]
    }
   ],
   "source": [
    "waic = factor.waic()\n",
    "print(waic)"
   ]
  },
  {
   "cell_type": "code",
   "execution_count": 7,
   "metadata": {},
   "outputs": [],
   "source": [
    "surrogate_samples = factor.surrogate_distribution.sample(1000)\n",
    "weights = surrogate_samples['s']/tf.reduce_sum(surrogate_samples['s'],-2,keepdims=True)\n",
    "intercept_data = az.convert_to_inference_data(\n",
    "    {\n",
    "        r\"$w_d$\": \n",
    "            (tf.squeeze(surrogate_samples['w'])*weights[:,-1,:]*factor.norm_factor).numpy().T})"
   ]
  },
  {
   "cell_type": "code",
   "execution_count": 8,
   "metadata": {},
   "outputs": [
    {
     "data": {
      "image/png": "[encoded data removed]",
      "text/plain": [
       "<Figure size 1008x576 with 3 Axes>"
      ]
     },
     "metadata": {
      "needs_background": "light"
     },
     "output_type": "display_data"
    }
   ],
   "source": [
    "fig, ax = plt.subplots(1,2, figsize=(14,8))\n",
    "D = factor.feature_dim\n",
    "pcm = ax[0].imshow(factor.encoding_matrix().numpy()[::-1,:], vmin=0, cmap=\"Blues\")\n",
    "ax[0].set_yticks(np.arange(D))\n",
    "ax[0].set_yticklabels(np.arange(D))\n",
    "ax[0].set_ylabel(\"item\")\n",
    "ax[0].set_xlabel(\"factor dimension\")\n",
    "ax[0].set_xticks(np.arange(P))\n",
    "ax[0].set_xticklabels(np.arange(P))\n",
    "\n",
    "fig.colorbar(pcm, ax=ax[0], orientation = \"vertical\")\n",
    "az.plot_forest(intercept_data, ax=ax[1])\n",
    "ax[1].set_xlabel(\"background rate\")\n",
    "ax[1].set_ylim((-0.014,.466))\n",
    "ax[1].set_title(\"65% and 95% CI\")\n",
    "ax[1].axvline(1.0, linestyle='dashed', color=\"black\")\n",
    "plt.savefig('mix_factorization_sepmf.pdf', bbox_inches='tight')\n",
    "plt.show()\n"
   ]
  },
  {
   "cell_type": "code",
   "execution_count": 9,
   "metadata": {},
   "outputs": [
    {
     "data": {
      "text/plain": [
       "<tf.Tensor: shape=(2, 30), dtype=float64, numpy=\n",
       "array([[0.79996504, 0.18564103, 0.18251951, 0.75401789, 0.18494863,\n",
       "        0.18532607, 0.87395262, 0.19110349, 0.18428356, 0.74197791,\n",
       "        0.18905013, 0.18387423, 0.88040365, 0.18707459, 0.18591149,\n",
       "        0.73500579, 0.18443368, 0.18330621, 0.70845106, 0.1839532 ,\n",
       "        0.18489199, 0.84254488, 0.17864647, 0.18092461, 0.65214002,\n",
       "        0.1800987 , 0.17968506, 0.80946376, 0.18849412, 0.18602095],\n",
       "       [0.20003496, 0.81435897, 0.81748049, 0.24598211, 0.81505137,\n",
       "        0.81467393, 0.12604738, 0.80889651, 0.81571644, 0.25802209,\n",
       "        0.81094987, 0.81612577, 0.11959635, 0.81292541, 0.81408851,\n",
       "        0.26499421, 0.81556632, 0.81669379, 0.29154894, 0.8160468 ,\n",
       "        0.81510801, 0.15745512, 0.82135353, 0.81907539, 0.34785998,\n",
       "        0.8199013 , 0.82031494, 0.19053624, 0.81150588, 0.81397905]])>"
      ]
     },
     "execution_count": 9,
     "metadata": {},
     "output_type": "execute_result"
    }
   ],
   "source": [
    "factor.calibrated_expectations['s']/tf.reduce_sum(factor.calibrated_expectations['s'], axis=0, keepdims=True)"
   ]
  },
  {
   "cell_type": "code",
   "execution_count": null,
   "metadata": {},
   "outputs": [],
   "source": []
  },
  {
   "cell_type": "code",
   "execution_count": null,
   "metadata": {},
   "outputs": [],
   "source": []
  },
  {
   "cell_type": "code",
   "execution_count": null,
   "metadata": {},
   "outputs": [],
   "source": []
  }
 ],
 "metadata": {
  "kernelspec": {
   "display_name": "Python 3.7.5 64-bit",
   "language": "python",
   "name": "python37564bitf92b1a92eaa047aebe1f2ca9ebe04d21"
  },
  "language_info": {
   "codemirror_mode": {
    "name": "ipython",
    "version": 3
   },
   "file_extension": ".py",
   "mimetype": "text/x-python",
   "name": "python",
   "nbconvert_exporter": "python",
   "pygments_lexer": "ipython3",
   "version": "3.7.5"
  }
 },
 "nbformat": 4,
 "nbformat_minor": 2
}
