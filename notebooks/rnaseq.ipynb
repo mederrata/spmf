{
 "cells": [
  {
   "cell_type": "code",
   "execution_count": 1,
   "metadata": {},
   "outputs": [
    {
     "name": "stdout",
     "output_type": "stream",
     "text": [
      "Populating the interactive namespace from numpy and matplotlib\n",
      "Total observations=2638, Batch size=659: dropping 2 observations.\n",
      "Feature dim: 17 -> Latent dim 2\n"
     ]
    }
   ],
   "source": [
    "%pylab inline\n",
    "import os\n",
    "os.environ['TF_CPP_MIN_LOG_LEVEL'] = '3'\n",
    "\n",
    "import sys\n",
    "\n",
    "import numpy as np\n",
    "import pandas as pd\n",
    "import scanpy as sc #for interface to single cell stuff\n",
    "\n",
    "import tensorflow as tf\n",
    "import tensorflow_probability as tfp\n",
    "import arviz as az\n",
    "import seaborn as sns\n",
    "\n",
    "import matplotlib.pyplot as plt\n",
    "from matplotlib import rcParams\n",
    "import matplotlib.font_manager as fm\n",
    "\n",
    "rcParams['font.family'] = 'sans-serif'\n",
    "\n",
    "sys.path.append('../')\n",
    "from mederrata_spmf import PoissonMatrixFactorization\n",
    "\n",
    "# load the data\n",
    "dataset_name = 'pbmc3k'\n",
    "#datapath=\"C:\\\\data\\\\scRNAseq\\\\\" + dataset_name + \"\\\\\"\n",
    "datapath=\"./\"\n",
    "X = np.load(datapath + dataset_name + '_counts.npy')\n",
    "gene_names = np.load(datapath + dataset_name + '_genenames.npy', allow_pickle=True)\n",
    "UMAP =  np.load(datapath + dataset_name + '_UMAP.npy')\n",
    "\n",
    "P = 2\n",
    "\n",
    "N_BATCHES = 4\n",
    "BATCH_SIZE = int(np.floor(X.shape[0]/N_BATCHES))\n",
    "\n",
    "# normalization for cells, computed using all genes\n",
    "counts_per_cell = X.sum(1)\n",
    "after = np.median(np.array(counts_per_cell))\n",
    "# after=1e4\n",
    "size_factors = counts_per_cell / after\n",
    "norm_vals = size_factors\n",
    "\n",
    "# keep the first D genes\n",
    "# X = X[:, :D]\n",
    "# gene_names=gene_names[:D]\n",
    "\n",
    "#alternative: specify a list of known cell type markers\n",
    "marker_genes = ['IL7R', 'CD79A', 'MS4A1', 'CD8A', 'CD8B', 'LYZ', 'CD14',\n",
    "                'LGALS3', 'S100A8', 'GNLY', 'NKG7', 'KLRB1',\n",
    "                'FCGR3A', 'MS4A7', 'FCER1A', 'CST3', 'PPBP']\n",
    "hvgix = pd.Series(gene_names).isin(marker_genes)\n",
    "X = X[:, hvgix]\n",
    "gene_names=gene_names[hvgix]\n",
    "\n",
    "N, D = X.shape\n",
    "# print(X.shape)\n",
    "print(f\"Total observations={X.shape[0]}, Batch size={BATCH_SIZE}: dropping {X.shape[0]%BATCH_SIZE} observations.\")\n",
    "\n",
    "# Test taking in from tf.dataset, don't pre-batch\n",
    "data = tf.data.Dataset.from_tensor_slices(\n",
    "    {\n",
    "        'data': X,\n",
    "        'indices': np.arange(N),\n",
    "        'normalization': norm_vals\n",
    "    })\n",
    "\n",
    "# data = data.shuffle(buffer_size=N+1)\n",
    "data = data.batch(BATCH_SIZE, drop_remainder=True)\n",
    "\n",
    "# strategy = tf.distribute.MirroredStrategy()\n",
    "    # encoder_function=lambda x: tf.math.log(x+1), decoder_function=lambda x: tf.math.exp(x)-1,\n",
    "    # encoder_function=lambda x: x, decoder_function=lambda x: x,\n",
    "strategy = None\n",
    "factor = PoissonMatrixFactorization(\n",
    "    data, latent_dim=P, strategy=strategy,\n",
    "    scale_rates=True, \n",
    "    u_tau_scale=1.0/np.sqrt(D*N),\n",
    "    dtype=tf.float64)\n"
   ]
  },
  {
   "cell_type": "code",
   "execution_count": 2,
   "metadata": {},
   "outputs": [
    {
     "name": "stderr",
     "output_type": "stream",
     "text": [
      "WARNING: Logging before flag parsing goes to stderr.\n",
      "W0604 09:47:44.474848 4544990656 deprecation.py:506] From /usr/local/lib/python3.7/site-packages/tensorflow/python/ops/resource_variable_ops.py:1817: calling BaseResourceVariable.__init__ (from tensorflow.python.ops.resource_variable_ops) with constraint is deprecated and will be removed in a future version.\n",
      "Instructions for updating:\n",
      "If using Keras pass *_constraint arguments to layers.\n"
     ]
    },
    {
     "name": "stdout",
     "output_type": "stream",
     "text": [
      "Initial loss: 52.57016114774694\n",
      "Epoch 1: average-batch loss: 51.62116982928898 last batch loss: 52.50311318231869\n",
      "Saved a checkpoint: ./.tf_ckpts/chkpt-1\n",
      "Epoch 2: average-batch loss: 51.49633618811342 last batch loss: 52.391716636390754\n",
      "Saved a checkpoint: ./.tf_ckpts/chkpt-2\n",
      "Epoch 3: average-batch loss: 51.39309102708701 last batch loss: 52.23182267887773\n",
      "Saved a checkpoint: ./.tf_ckpts/chkpt-3\n",
      "Epoch 4: average-batch loss: 51.36660539053675 last batch loss: 52.227594458189095\n",
      "Saved a checkpoint: ./.tf_ckpts/chkpt-4\n",
      "Epoch 5: average-batch loss: 51.29504351951786 last batch loss: 52.194209380732865\n",
      "Saved a checkpoint: ./.tf_ckpts/chkpt-5\n",
      "Epoch 6: average-batch loss: 51.236033776526035 last batch loss: 52.11519248176067\n",
      "Saved a checkpoint: ./.tf_ckpts/chkpt-6\n",
      "Epoch 7: average-batch loss: 51.20000970964728 last batch loss: 52.070213695868176\n",
      "Saved a checkpoint: ./.tf_ckpts/chkpt-7\n",
      "Epoch 8: average-batch loss: 51.13547227437772 last batch loss: 52.04219282264152\n",
      "Saved a checkpoint: ./.tf_ckpts/chkpt-8\n",
      "Epoch 9: average-batch loss: 51.077039396725255 last batch loss: 51.94874156688682\n",
      "Saved a checkpoint: ./.tf_ckpts/chkpt-9\n",
      "Epoch 10: average-batch loss: 51.05286188514886 last batch loss: 51.92130233334527\n",
      "Saved a checkpoint: ./.tf_ckpts/chkpt-10\n",
      "Epoch 11: average-batch loss: 50.98096873314099 last batch loss: 51.895708162751156\n",
      "Saved a checkpoint: ./.tf_ckpts/chkpt-11\n",
      "Epoch 12: average-batch loss: 50.897440342123815 last batch loss: 51.74698648824565\n",
      "Saved a checkpoint: ./.tf_ckpts/chkpt-12\n",
      "Epoch 13: average-batch loss: 50.84925422936073 last batch loss: 51.68345809587385\n",
      "Saved a checkpoint: ./.tf_ckpts/chkpt-13\n",
      "Epoch 14: average-batch loss: 50.69635313820203 last batch loss: 51.601822002983404\n",
      "Saved a checkpoint: ./.tf_ckpts/chkpt-14\n",
      "Epoch 15: average-batch loss: 50.384853744446836 last batch loss: 51.02209784332178\n",
      "Saved a checkpoint: ./.tf_ckpts/chkpt-15\n",
      "Epoch 16: average-batch loss: 50.178513540648204 last batch loss: 50.72322803432085\n",
      "Saved a checkpoint: ./.tf_ckpts/chkpt-16\n",
      "Epoch 17: average-batch loss: 49.344046657763386 last batch loss: 50.2721335270187\n",
      "Saved a checkpoint: ./.tf_ckpts/chkpt-17\n",
      "Epoch 18: average-batch loss: 47.41903780988545 last batch loss: 46.8417845350744\n",
      "Saved a checkpoint: ./.tf_ckpts/chkpt-18\n",
      "Epoch 19: average-batch loss: 46.090325511069565 last batch loss: 44.940891462748915\n",
      "Saved a checkpoint: ./.tf_ckpts/chkpt-19\n",
      "Epoch 20: average-batch loss: 42.067152457877 last batch loss: 42.92817523773388\n",
      "Saved a checkpoint: ./.tf_ckpts/chkpt-20\n",
      "Epoch 21: average-batch loss: 38.63262146810226 last batch loss: 39.39269100561053\n",
      "Saved a checkpoint: ./.tf_ckpts/chkpt-21\n",
      "Epoch 22: average-batch loss: 37.10170854336432 last batch loss: 36.83258621749902\n",
      "Saved a checkpoint: ./.tf_ckpts/chkpt-22\n",
      "Epoch 23: average-batch loss: 35.04271063313243 last batch loss: 36.05631743330303\n",
      "Saved a checkpoint: ./.tf_ckpts/chkpt-23\n",
      "Epoch 24: average-batch loss: 33.333471757556865 last batch loss: 33.99784343643242\n",
      "Saved a checkpoint: ./.tf_ckpts/chkpt-24\n",
      "Epoch 25: average-batch loss: 32.86536732829961 last batch loss: 33.46722033694735\n",
      "Saved a checkpoint: ./.tf_ckpts/chkpt-25\n",
      "Epoch 26: average-batch loss: 32.02321779412968 last batch loss: 33.16215096658233\n",
      "Saved a checkpoint: ./.tf_ckpts/chkpt-26\n",
      "Epoch 27: average-batch loss: 31.507188108722104 last batch loss: 32.500378377796444\n",
      "Saved a checkpoint: ./.tf_ckpts/chkpt-27\n",
      "Epoch 28: average-batch loss: 31.330322429811417 last batch loss: 32.31765552289438\n",
      "Saved a checkpoint: ./.tf_ckpts/chkpt-28\n",
      "Epoch 29: average-batch loss: 31.019022098221058 last batch loss: 32.24264906232813\n",
      "Saved a checkpoint: ./.tf_ckpts/chkpt-29\n",
      "Epoch 30: average-batch loss: 30.805283250813584 last batch loss: 31.961359563656917\n",
      "Saved a checkpoint: ./.tf_ckpts/chkpt-30\n",
      "Epoch 31: average-batch loss: 30.729446699329117 last batch loss: 31.888706788046782\n",
      "Saved a checkpoint: ./.tf_ckpts/chkpt-31\n",
      "Epoch 32: average-batch loss: 30.609948551644916 last batch loss: 31.872052788664664\n",
      "Saved a checkpoint: ./.tf_ckpts/chkpt-32\n",
      "Epoch 33: average-batch loss: 30.550063673709683 last batch loss: 31.737998335548152\n",
      "Saved a checkpoint: ./.tf_ckpts/chkpt-33\n",
      "Epoch 34: average-batch loss: 30.51109325801472 last batch loss: 31.717100765635834\n",
      "Saved a checkpoint: ./.tf_ckpts/chkpt-34\n",
      "Epoch 35: average-batch loss: 30.446767957694632 last batch loss: 31.69449328658754\n",
      "Saved a checkpoint: ./.tf_ckpts/chkpt-35\n",
      "Epoch 36: average-batch loss: 30.403439215288028 last batch loss: 31.5979217675207\n",
      "Saved a checkpoint: ./.tf_ckpts/chkpt-36\n",
      "Epoch 37: average-batch loss: 30.39238983886757 last batch loss: 31.624996758974675\n",
      "Saved a checkpoint: ./.tf_ckpts/chkpt-37\n",
      "Epoch 38: average-batch loss: 30.359718329510404 last batch loss: 31.582812734286424\n",
      "Saved a checkpoint: ./.tf_ckpts/chkpt-38\n",
      "Epoch 39: average-batch loss: 30.324472793211108 last batch loss: 31.528802852272168\n",
      "Saved a checkpoint: ./.tf_ckpts/chkpt-39\n",
      "Epoch 40: average-batch loss: 30.322504703864304 last batch loss: 31.524281232599506\n",
      "Saved a checkpoint: ./.tf_ckpts/chkpt-40\n",
      "Epoch 41: average-batch loss: 30.287667059539633 last batch loss: 31.51051301806794\n",
      "Saved a checkpoint: ./.tf_ckpts/chkpt-41\n",
      "Epoch 42: average-batch loss: 30.231579277548246 last batch loss: 31.413148799251868\n",
      "Saved a checkpoint: ./.tf_ckpts/chkpt-42\n",
      "Epoch 43: average-batch loss: 30.206759172978256 last batch loss: 31.39880463756816\n",
      "Saved a checkpoint: ./.tf_ckpts/chkpt-43\n",
      "Epoch 44: average-batch loss: 30.139625826394543 last batch loss: 31.341997003198756\n",
      "Saved a checkpoint: ./.tf_ckpts/chkpt-44\n",
      "Epoch 45: average-batch loss: 30.011144461111613 last batch loss: 31.0941943551565\n",
      "Saved a checkpoint: ./.tf_ckpts/chkpt-45\n",
      "Epoch 46: average-batch loss: 29.933531085306136 last batch loss: 30.970867116824945\n",
      "Saved a checkpoint: ./.tf_ckpts/chkpt-46\n",
      "Epoch 47: average-batch loss: 29.774976876294303 last batch loss: 30.87698445006705\n",
      "Saved a checkpoint: ./.tf_ckpts/chkpt-47\n",
      "Epoch 48: average-batch loss: 29.58202570573772 last batch loss: 30.55877492895099\n",
      "Saved a checkpoint: ./.tf_ckpts/chkpt-48\n",
      "Epoch 49: average-batch loss: 29.502208990990862 last batch loss: 30.45902718461564\n",
      "Saved a checkpoint: ./.tf_ckpts/chkpt-49\n",
      "Epoch 50: average-batch loss: 29.371644516672273 last batch loss: 30.4142416986747\n",
      "Saved a checkpoint: ./.tf_ckpts/chkpt-50\n",
      "Epoch 51: average-batch loss: 29.26668872821139 last batch loss: 30.213839760229725\n",
      "Saved a checkpoint: ./.tf_ckpts/chkpt-51\n",
      "Epoch 52: average-batch loss: 29.218202483952652 last batch loss: 30.15106795178712\n",
      "Saved a checkpoint: ./.tf_ckpts/chkpt-52\n",
      "Epoch 53: average-batch loss: 29.150283420712427 last batch loss: 30.139498712843377\n",
      "Saved a checkpoint: ./.tf_ckpts/chkpt-53\n",
      "Epoch 54: average-batch loss: 29.09587274360331 last batch loss: 30.027571757740382\n",
      "Saved a checkpoint: ./.tf_ckpts/chkpt-54\n",
      "Epoch 55: average-batch loss: 29.083089376449806 last batch loss: 29.987946324390105\n",
      "Saved a checkpoint: ./.tf_ckpts/chkpt-55\n",
      "Epoch 56: average-batch loss: 29.036430340914674 last batch loss: 29.991035922683007\n",
      "Saved a checkpoint: ./.tf_ckpts/chkpt-56\n",
      "Epoch 57: average-batch loss: 29.01007246072583 last batch loss: 29.944150967433888\n",
      "Saved a checkpoint: ./.tf_ckpts/chkpt-57\n",
      "Epoch 58: average-batch loss: 29.003563488255054 last batch loss: 29.917188574180578\n",
      "Saved a checkpoint: ./.tf_ckpts/chkpt-58\n",
      "Epoch 59: average-batch loss: 28.981869516248448 last batch loss: 29.936374642686168\n",
      "Saved a checkpoint: ./.tf_ckpts/chkpt-59\n",
      "Epoch 60: average-batch loss: 28.948863065753777 last batch loss: 29.883950151947204\n",
      "Saved a checkpoint: ./.tf_ckpts/chkpt-60\n",
      "Epoch 61: average-batch loss: 28.956020445502315 last batch loss: 29.852115635775174\n",
      "Epoch 62: average-batch loss: 28.912829689813332 last batch loss: 29.858308670497234\n",
      "Saved a checkpoint: ./.tf_ckpts/chkpt-61\n",
      "Epoch 63: average-batch loss: 28.906038536888545 last batch loss: 29.83474020255796\n",
      "Saved a checkpoint: ./.tf_ckpts/chkpt-62\n",
      "Epoch 64: average-batch loss: 28.897633337023763 last batch loss: 29.815007391517753\n",
      "Saved a checkpoint: ./.tf_ckpts/chkpt-63\n",
      "Epoch 65: average-batch loss: 28.881730056654327 last batch loss: 29.824362955347787\n",
      "Saved a checkpoint: ./.tf_ckpts/chkpt-64\n",
      "Epoch 66: average-batch loss: 28.854191457282894 last batch loss: 29.769170477051343\n",
      "Saved a checkpoint: ./.tf_ckpts/chkpt-65\n",
      "Epoch 67: average-batch loss: 28.847835626567147 last batch loss: 29.736372704256627\n",
      "Saved a checkpoint: ./.tf_ckpts/chkpt-66\n",
      "Epoch 68: average-batch loss: 28.839506872467204 last batch loss: 29.77249103363581\n",
      "Saved a checkpoint: ./.tf_ckpts/chkpt-67\n",
      "Epoch 69: average-batch loss: 28.793980886829097 last batch loss: 29.69402413584337\n",
      "Saved a checkpoint: ./.tf_ckpts/chkpt-68\n"
     ]
    },
    {
     "name": "stdout",
     "output_type": "stream",
     "text": [
      "Epoch 70: average-batch loss: 28.7981485546345 last batch loss: 29.72254802338652\n",
      "Epoch 71: average-batch loss: 28.76734339117896 last batch loss: 29.725879648418935\n",
      "Saved a checkpoint: ./.tf_ckpts/chkpt-69\n",
      "Epoch 72: average-batch loss: 28.760984962319657 last batch loss: 29.647889559928224\n",
      "Saved a checkpoint: ./.tf_ckpts/chkpt-70\n",
      "Epoch 73: average-batch loss: 28.74292395235387 last batch loss: 29.677531158583115\n",
      "Saved a checkpoint: ./.tf_ckpts/chkpt-71\n",
      "Epoch 74: average-batch loss: 28.734536573299298 last batch loss: 29.67447191301168\n",
      "Saved a checkpoint: ./.tf_ckpts/chkpt-72\n",
      "Epoch 75: average-batch loss: 28.71181180399953 last batch loss: 29.635992070529856\n",
      "Saved a checkpoint: ./.tf_ckpts/chkpt-73\n",
      "Epoch 76: average-batch loss: 28.717179348273405 last batch loss: 29.63951667195255\n",
      "Epoch 77: average-batch loss: 28.68939701656744 last batch loss: 29.6289649250014\n",
      "Saved a checkpoint: ./.tf_ckpts/chkpt-74\n",
      "Epoch 78: average-batch loss: 28.69420189227941 last batch loss: 29.614186866163646\n",
      "Epoch 79: average-batch loss: 28.685653228653763 last batch loss: 29.603705886376044\n",
      "Saved a checkpoint: ./.tf_ckpts/chkpt-75\n",
      "Epoch 80: average-batch loss: 28.669020464034816 last batch loss: 29.626145230344818\n",
      "Saved a checkpoint: ./.tf_ckpts/chkpt-76\n",
      "Epoch 81: average-batch loss: 28.66171162347264 last batch loss: 29.57983565720044\n",
      "Saved a checkpoint: ./.tf_ckpts/chkpt-77\n",
      "Epoch 82: average-batch loss: 28.66115272671645 last batch loss: 29.61354522386648\n",
      "Saved a checkpoint: ./.tf_ckpts/chkpt-78\n",
      "Epoch 83: average-batch loss: 28.63467757775021 last batch loss: 29.583295252386126\n",
      "Saved a checkpoint: ./.tf_ckpts/chkpt-79\n",
      "Epoch 84: average-batch loss: 28.640875981414474 last batch loss: 29.550212969197787\n",
      "Epoch 85: average-batch loss: 28.646137478185448 last batch loss: 29.593890589063072\n",
      "We are in a loss plateau learning rate: 0.09000000000000001 loss: 29.207536312609477\n",
      "Restoring from a checkpoint - loss: 29.205958265370906\n",
      "Epoch 86: average-batch loss: 28.62715130450418 last batch loss: 29.56314494119972\n",
      "Saved a checkpoint: ./.tf_ckpts/chkpt-80\n",
      "Epoch 87: average-batch loss: 28.624176543299207 last batch loss: 29.542198321573633\n",
      "Saved a checkpoint: ./.tf_ckpts/chkpt-81\n",
      "Epoch 88: average-batch loss: 28.628217730432603 last batch loss: 29.541909247572644\n",
      "Epoch 89: average-batch loss: 28.61379303760682 last batch loss: 29.53818480931666\n",
      "Saved a checkpoint: ./.tf_ckpts/chkpt-82\n",
      "Epoch 90: average-batch loss: 28.60812024278374 last batch loss: 29.538950360431183\n",
      "Saved a checkpoint: ./.tf_ckpts/chkpt-83\n",
      "Epoch 91: average-batch loss: 28.603641674697855 last batch loss: 29.53967386700832\n",
      "Saved a checkpoint: ./.tf_ckpts/chkpt-84\n",
      "Epoch 92: average-batch loss: 28.60272411557848 last batch loss: 29.54338942369537\n",
      "Saved a checkpoint: ./.tf_ckpts/chkpt-85\n",
      "Epoch 93: average-batch loss: 28.609093133397703 last batch loss: 29.51395208537352\n",
      "We are in a loss plateau learning rate: 0.08100000000000002 loss: 29.16154553051668\n",
      "Restoring from a checkpoint - loss: 29.171484734089905\n",
      "Epoch 94: average-batch loss: 28.601395194244727 last batch loss: 29.559016087223224\n",
      "Saved a checkpoint: ./.tf_ckpts/chkpt-86\n",
      "Epoch 95: average-batch loss: 28.600698408103906 last batch loss: 29.52086965354841\n",
      "Saved a checkpoint: ./.tf_ckpts/chkpt-87\n",
      "Epoch 96: average-batch loss: 28.58977031035612 last batch loss: 29.529669397744144\n",
      "Saved a checkpoint: ./.tf_ckpts/chkpt-88\n",
      "Epoch 97: average-batch loss: 28.588247714327494 last batch loss: 29.52720546445451\n",
      "Saved a checkpoint: ./.tf_ckpts/chkpt-89\n",
      "Epoch 98: average-batch loss: 28.58878915469942 last batch loss: 29.52242168563912\n",
      "Epoch 99: average-batch loss: 28.581750829238842 last batch loss: 29.511932249903623\n",
      "Saved a checkpoint: ./.tf_ckpts/chkpt-90\n",
      "Terminating because we are out of iterations\n"
     ]
    }
   ],
   "source": [
    "losses = factor.calibrate_advi(\n",
    "    num_epochs=100, learning_rate=.1, max_decay_steps=100)\n",
    "\n",
    "waic = factor.waic()"
   ]
  },
  {
   "cell_type": "code",
   "execution_count": 3,
   "metadata": {},
   "outputs": [
    {
     "data": {
      "image/png": "[encoded data removed]",
      "text/plain": [
       "<Figure size 1008x576 with 3 Axes>"
      ]
     },
     "metadata": {
      "needs_background": "light"
     },
     "output_type": "display_data"
    }
   ],
   "source": [
    "surrogate_samples = factor.surrogate_distribution.sample(1000)\n",
    "#weights = surrogate_samples['s']/tf.reduce_sum(surrogate_samples['s'],-2,keepdims=True)\n",
    "\n",
    "encoding_matrix=factor.encoding_matrix().numpy()\n",
    "\n",
    "# use all genes (with makers)\n",
    "topix = range(min(len(gene_names),20))\n",
    "\n",
    "# genes with highest dispersion\n",
    "# topD = 20\n",
    "# topix=range(topD)\n",
    "\n",
    "#try to extract the topD features loaded onto each latent dimension for a plot\n",
    "# topD=5\n",
    "# topix=[]\n",
    "# for d in range(P):\n",
    "#     thisix=np.argsort(encoding_matrix[:,d])[::-1][:topD]\n",
    "#     topix+=thisix.tolist()\n",
    "\n",
    "\n",
    "fig, ax = plt.subplots(1,2, figsize=(14,8))\n",
    "pcm = ax[0].imshow(encoding_matrix[topix,:], vmin=0, cmap=\"Blues\")\n",
    "ax[0].set_yticks(np.arange(len(topix)))\n",
    "ax[0].set_yticklabels(gene_names[topix])\n",
    "ax[0].set_ylabel(\"gene\")\n",
    "ax[0].set_xlabel(\"factor dimension\")\n",
    "ax[0].set_xticks(np.arange(P))\n",
    "ax[0].set_xticklabels(np.arange(P))\n",
    "\n",
    "fig.colorbar(pcm, ax=ax[0], orientation = \"vertical\")\n",
    "ID=(tf.squeeze(surrogate_samples['w'])*factor.column_norm_factor).numpy().T #*weights[:,-1,:]\n",
    "ID=ID[topix,:]\n",
    "intercept_data = az.convert_to_inference_data({r\"$w_d$\": ID})\n",
    "az.plot_forest(intercept_data, ax=ax[1])\n",
    "ax[1].set_xlabel(\"background rate\")\n",
    "ax[1].set_ylim((-0.014,.466))\n",
    "ax[1].set_title(\"65% and 95% CI\")\n",
    "ax[1].axvline(1.0, linestyle='dashed', color=\"black\")\n",
    "plt.savefig('rnaseq_factorization.pdf', bbox_inches='tight')\n",
    "plt.show()"
   ]
  },
  {
   "cell_type": "code",
   "execution_count": 32,
   "metadata": {},
   "outputs": [
    {
     "data": {
      "image/png": "[encoded data removed]",
      "text/plain": [
       "<Figure size 720x216 with 2 Axes>"
      ]
     },
     "metadata": {
      "needs_background": "light"
     },
     "output_type": "display_data"
    }
   ],
   "source": [
    "fig, ax = plt.subplots(1,1,figsize=(10,3))\n",
    "pcm = ax.imshow(encoding_matrix.T, cmap=\"Greens\")\n",
    "plt.colorbar(pcm, orientation='horizontal', ax=ax)\n",
    "\n",
    "ax.xaxis.set_label_position('top') \n",
    "ax.set_xticks(np.arange(len(topix)))\n",
    "ax.set_xticklabels(gene_names[topix], rotation='vertical')\n",
    "ax.xaxis.tick_top()\n",
    "plt.savefig(\"rnaseq_factorization.pdf\", bbox_inches='tight')\n",
    "plt.show()"
   ]
  },
  {
   "cell_type": "code",
   "execution_count": 4,
   "metadata": {},
   "outputs": [
    {
     "data": {
      "text/plain": [
       "[<matplotlib.lines.Line2D at 0x14a74b4d0>]"
      ]
     },
     "execution_count": 4,
     "metadata": {},
     "output_type": "execute_result"
    },
    {
     "data": {
      "image/png": "[encoded data removed]",
      "text/plain": [
       "<Figure size 504x288 with 1 Axes>"
      ]
     },
     "metadata": {
      "needs_background": "light"
     },
     "output_type": "display_data"
    }
   ],
   "source": [
    "nploss = np.array(losses)\n",
    "fig = plt.figure(figsize=(7,4))\n",
    "plt.subplot(111)\n",
    "plt.plot(nploss)"
   ]
  },
  {
   "cell_type": "code",
   "execution_count": 5,
   "metadata": {},
   "outputs": [],
   "source": [
    "Z = factor.encode(tf.cast(next(iter(data))['data'], tf.float64))"
   ]
  },
  {
   "cell_type": "code",
   "execution_count": 6,
   "metadata": {},
   "outputs": [
    {
     "data": {
      "text/plain": [
       "<matplotlib.collections.PathCollection at 0x14a77d6d0>"
      ]
     },
     "execution_count": 6,
     "metadata": {},
     "output_type": "execute_result"
    },
    {
     "data": {
      "image/png": "[encoded data removed]",
      "text/plain": [
       "<Figure size 432x288 with 1 Axes>"
      ]
     },
     "metadata": {
      "needs_background": "light"
     },
     "output_type": "display_data"
    }
   ],
   "source": [
    "plt.scatter(Z[:,0], Z[:,1])"
   ]
  },
  {
   "cell_type": "code",
   "execution_count": 7,
   "metadata": {},
   "outputs": [
    {
     "data": {
      "text/plain": [
       "<seaborn.axisgrid.PairGrid at 0x1488dab10>"
      ]
     },
     "execution_count": 7,
     "metadata": {},
     "output_type": "execute_result"
    },
    {
     "data": {
      "image/png": "[encoded data removed]",
      "text/plain": [
       "<Figure size 360x360 with 6 Axes>"
      ]
     },
     "metadata": {
      "needs_background": "light"
     },
     "output_type": "display_data"
    }
   ],
   "source": [
    "sns.pairplot(pd.DataFrame(Z.numpy()))"
   ]
  },
  {
   "cell_type": "code",
   "execution_count": null,
   "metadata": {},
   "outputs": [],
   "source": []
  }
 ],
 "metadata": {
  "kernelspec": {
   "display_name": "Python 3",
   "language": "python",
   "name": "python3"
  },
  "language_info": {
   "codemirror_mode": {
    "name": "ipython",
    "version": 3
   },
   "file_extension": ".py",
   "mimetype": "text/x-python",
   "name": "python",
   "nbconvert_exporter": "python",
   "pygments_lexer": "ipython3",
   "version": "3.7.5"
  }
 },
 "nbformat": 4,
 "nbformat_minor": 2
}
